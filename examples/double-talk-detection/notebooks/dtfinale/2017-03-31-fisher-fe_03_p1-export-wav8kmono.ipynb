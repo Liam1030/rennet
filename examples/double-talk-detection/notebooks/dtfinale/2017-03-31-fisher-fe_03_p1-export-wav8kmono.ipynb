{
 "cells": [
  {
   "cell_type": "markdown",
   "metadata": {},
   "source": [
    "# Exporting fe_03_p1 to 8kHz Mono Wav files"
   ]
  },
  {
   "cell_type": "markdown",
   "metadata": {},
   "source": [
    "## Introduction\n",
    "\n",
    "The main goal is to create splits of the dataset for validation, training and testing.\n",
    "Additionally, another goal is to convert all the audio files in all the splits into a standard uniform format.\n",
    "This format is usually wav, with the same samplerate and number of channels.\n",
    "\n",
    "That will entail:\n",
    "\n",
    "- For each split, make individual pairs of audio and labels\n",
    "    - along with audio-export parameters, out-dir (upto group-number)\n",
    "    - Making of such pairs should be based on some goal, perhaps random\n",
    "- Make the necessary folders\n",
    "    - upto group-number for each split, inferred from the pairs made above.\n",
    "- For each split:\n",
    "    - copy the `calldata.tbl` to `<split>/labels/`\n",
    "    - for each pair:\n",
    "        - export the audio with parameters\n",
    "        - copy the label file\n",
    "\n"
   ]
  },
  {
   "cell_type": "markdown",
   "metadata": {},
   "source": [
    "## Imports and finding the filepaths"
   ]
  },
  {
   "cell_type": "markdown",
   "metadata": {},
   "source": [
    "### Imports"
   ]
  },
  {
   "cell_type": "code",
   "execution_count": 1,
   "metadata": {
    "ExecuteTime": {
     "end_time": "2017-03-31T17:43:43.933056",
     "start_time": "2017-03-31T17:43:43.917436"
    },
    "collapsed": true
   },
   "outputs": [],
   "source": [
    "from __future__ import print_function, division\n",
    "\n",
    "import os\n",
    "import sys\n",
    "\n",
    "rennet_root = os.environ['RENNET_ROOT']\n",
    "sys.path.append(rennet_root)\n",
    "\n",
    "%load_ext autoreload\n",
    "%autoreload 1"
   ]
  },
  {
   "cell_type": "code",
   "execution_count": 2,
   "metadata": {
    "ExecuteTime": {
     "end_time": "2017-03-31T17:43:44.758052",
     "start_time": "2017-03-31T17:43:44.591272"
    },
    "collapsed": true
   },
   "outputs": [],
   "source": [
    "import glob\n",
    "import numpy as np\n",
    "from collections import defaultdict\n",
    "import warnings\n",
    "\n",
    "import shutil as sh\n",
    "from tqdm import tqdm_notebook as tqdm\n",
    "import multiprocessing as mp"
   ]
  },
  {
   "cell_type": "code",
   "execution_count": 3,
   "metadata": {
    "ExecuteTime": {
     "end_time": "2017-03-31T17:43:45.345962",
     "start_time": "2017-03-31T17:43:45.324334"
    },
    "collapsed": true
   },
   "outputs": [],
   "source": [
    "# rennet specific imports\n",
    "# autoreload for debugging\n",
    "%aimport rennet.datasets.fisher\n",
    "import rennet.datasets.fisher as fe\n",
    "\n",
    "%aimport rennet.utils.audio_utils\n",
    "import rennet.utils.audio_utils as au"
   ]
  },
  {
   "cell_type": "markdown",
   "metadata": {},
   "source": [
    "### Gather all audio, labels and calldata filepaths\n",
    "\n",
    "> **NOTE**\n",
    ">\n",
    "> If it is not clear by now, we will be, from now on, working exclusively with the working directory we created earlier. Keep that in mind for all the instructions to come.\n",
    "\n",
    "***\n"
   ]
  },
  {
   "cell_type": "code",
   "execution_count": 4,
   "metadata": {
    "ExecuteTime": {
     "end_time": "2017-03-31T17:43:46.140628",
     "start_time": "2017-03-31T17:43:46.127471"
    },
    "collapsed": false
   },
   "outputs": [
    {
     "name": "stdout",
     "output_type": "stream",
     "text": [
      "Audio Groups Query:\n",
      " /home/aabdullah/delve/rennet/data/working/fisher/fe_03_p1/raw/audio/data/*/*\n",
      "\n",
      "Labels Groups Query:\n",
      " /home/aabdullah/delve/rennet/data/working/fisher/fe_03_p1/raw/labels/data/*/*\n",
      "\n",
      "Calldata Query:\n",
      " /home/aabdullah/delve/rennet/data/working/fisher/fe_03_p1/raw/labels/*calldata.tbl\n",
      "\n"
     ]
    }
   ],
   "source": [
    "# Making glob queries for audio, label and calldata files\n",
    "\n",
    "# UPDATE HERE - BEGIN #######################################################\n",
    "\n",
    "rennet_working_dir = os.path.join(rennet_root, 'data', 'working')\n",
    "\n",
    "provider = 'fisher'\n",
    "dataset = 'fe_03_p1'\n",
    "rennet_working_raw_dir = os.path.join(rennet_working_dir, \n",
    "                                      provider, dataset, 'raw')\n",
    "\n",
    "raw_audio_dir = os.path.join(rennet_working_raw_dir, 'audio', 'data')\n",
    "raw_audio_groups_glob_str = str(os.path.join(raw_audio_dir, \"*\", \"*\"))\n",
    "\n",
    "raw_labels_dir = os.path.join(rennet_working_raw_dir, 'labels', 'data')\n",
    "raw_labels_groups_glob_str = str(os.path.join(raw_labels_dir, \"*\", \"*\"))\n",
    "\n",
    "raw_calldata_glob_str = str(os.path.join(rennet_working_raw_dir, \n",
    "                                         'labels', \"*calldata.tbl\"))\n",
    "\n",
    "expected_audio_groups = 59\n",
    "expected_labels_groups = 59\n",
    "\n",
    "# UPDATE HERE - END #########################################################\n",
    "\n",
    "print(\"Audio Groups Query:\\n\", raw_audio_groups_glob_str)\n",
    "print()\n",
    "print(\"Labels Groups Query:\\n\", raw_labels_groups_glob_str)\n",
    "print()\n",
    "print(\"Calldata Query:\\n\", raw_calldata_glob_str)\n",
    "print()"
   ]
  },
  {
   "cell_type": "code",
   "execution_count": 5,
   "metadata": {
    "ExecuteTime": {
     "end_time": "2017-03-31T17:43:46.421956",
     "start_time": "2017-03-31T17:43:46.333305"
    },
    "collapsed": false
   },
   "outputs": [
    {
     "name": "stdout",
     "output_type": "stream",
     "text": [
      "AUDIO:###########################################################\n",
      "\n",
      " 59 Groups 5850 Total Files, as:\n",
      "\n",
      " [99, 100, 100, 100, 100, 100, 100, 100, 100, 100, 100, 100, 100, 100, 100, 100, 100, 100, 100, 100, 100, 100, 100, 100, 100, 100, 100, 100, 100, 100, 100, 100, 100, 100, 100, 100, 100, 100, 100, 100, 100, 100, 100, 100, 100, 100, 100, 100, 100, 100, 100, 100, 100, 100, 100, 100, 100, 100, 51] \n",
      "\n",
      "For Example:\n",
      "\n",
      "/home/aabdullah/delve/rennet/data/working/fisher/fe_03_p1/raw/audio/data/disc1/000/fe_03_00001.sph\n",
      "/home/aabdullah/delve/rennet/data/working/fisher/fe_03_p1/raw/audio/data/disc1/000/fe_03_00002.sph\n",
      "/home/aabdullah/delve/rennet/data/working/fisher/fe_03_p1/raw/audio/data/disc1/000/fe_03_00003.sph\n",
      "/home/aabdullah/delve/rennet/data/working/fisher/fe_03_p1/raw/audio/data/disc1/000/fe_03_00004.sph\n",
      "/home/aabdullah/delve/rennet/data/working/fisher/fe_03_p1/raw/audio/data/disc1/000/fe_03_00005.sph\n",
      "...\n",
      "\n",
      "LABEL:###########################################################\n",
      "\n",
      " 59 Groups 5850 Total Files, as:\n",
      "\n",
      " [99, 100, 100, 100, 100, 100, 100, 100, 100, 100, 100, 100, 100, 100, 100, 100, 100, 100, 100, 100, 100, 100, 100, 100, 100, 100, 100, 100, 100, 100, 100, 100, 100, 100, 100, 100, 100, 100, 100, 100, 100, 100, 100, 100, 100, 100, 100, 100, 100, 100, 100, 100, 100, 100, 100, 100, 100, 100, 51] \n",
      "\n",
      "For Example:\n",
      "\n",
      "/home/aabdullah/delve/rennet/data/working/fisher/fe_03_p1/raw/labels/data/disc1/000/fe_03_00001.txt\n",
      "/home/aabdullah/delve/rennet/data/working/fisher/fe_03_p1/raw/labels/data/disc1/000/fe_03_00002.txt\n",
      "/home/aabdullah/delve/rennet/data/working/fisher/fe_03_p1/raw/labels/data/disc1/000/fe_03_00003.txt\n",
      "/home/aabdullah/delve/rennet/data/working/fisher/fe_03_p1/raw/labels/data/disc1/000/fe_03_00004.txt\n",
      "/home/aabdullah/delve/rennet/data/working/fisher/fe_03_p1/raw/labels/data/disc1/000/fe_03_00005.txt\n",
      "...\n",
      "\n"
     ]
    }
   ],
   "source": [
    "# Finding audio and label files in each group and matching pairs\n",
    "\n",
    "audio_groups_dirs = sorted(glob.glob(raw_audio_groups_glob_str))\n",
    "audio_fps = [sorted(glob.glob(os.path.join(gd, '*.sph'))) for gd in audio_groups_dirs]\n",
    "\n",
    "label_groups_dirs = sorted(glob.glob(raw_labels_groups_glob_str))\n",
    "label_fps = [sorted(glob.glob(os.path.join(gd, '*.txt'))) for gd in label_groups_dirs]\n",
    "\n",
    "print(\"AUDIO:###########################################################\\n\\n\", \n",
    "      \"{} Groups\".format(len(audio_groups_dirs)), \n",
    "      \"{} Total Files, as:\\n\\n\".format(sum(map(len, audio_fps))), list(map(len, audio_fps)),\n",
    "      \"\\n\\nFor Example:\\n\\n{}\\n...\".format(\"\\n\".join(audio_fps[0][:5])))\n",
    "print()\n",
    "\n",
    "if len(audio_groups_dirs) != expected_audio_groups:\n",
    "    warnings.warn(\"\\nNot all audio groups were found\")\n",
    "    \n",
    "print(\"LABEL:###########################################################\\n\\n\", \n",
    "      \"{} Groups\".format(len(label_groups_dirs)), \n",
    "      \"{} Total Files, as:\\n\\n\".format(sum(map(len, label_fps))), list(map(len, label_fps)),\n",
    "      \"\\n\\nFor Example:\\n\\n{}\\n...\".format(\"\\n\".join(label_fps[0][:5])))\n",
    "print()\n",
    "\n",
    "if len(label_groups_dirs) != expected_labels_groups:\n",
    "    warnings.warn(\"\\nNot all label groups were found\")\n",
    "    \n",
    "    \n",
    "def callid_from_fp(fp):\n",
    "    return os.path.basename(fp).split('_')[-1].split('.')[0]\n",
    "\n",
    "\n",
    "# find if there are all groups\n",
    "if len(audio_groups_dirs) != len(label_groups_dirs):\n",
    "    warnings.warn(\"\\nMismatch in number of audio and label groups:\"\n",
    "                  \"\\nAudios {} v/s {} Labels\".format(\n",
    "                      len(audio_groups_dirs), \n",
    "                      len(label_groups_dirs)))\n",
    "\n",
    "# NOTE: The following checks use zip for matching and assume order\n",
    "# if the first n of the total N groups or files are available, there will be no warning\n",
    "# if the n groups or files are from somewhere in the middle, there will be mismatch\n",
    "\n",
    "# find if certain groups mismatch\n",
    "if any(lag != llg for lag, llg in zip(map(len, audio_fps), map(len, label_fps))):\n",
    "    warnings.warn(\"\\nMismatch in number of files in certain groups\")\n",
    "\n",
    "# check if each pair has the same callid\n",
    "audio_callids = [map(callid_from_fp, fps) for fps in audio_fps]\n",
    "label_callids = [map(callid_from_fp, fps) for fps in label_fps]\n",
    "\n",
    "if any(any(ac != lc for ac, lc in zip(gac, glc)) for gac, glc in zip(audio_callids, label_callids)):\n",
    "    warnings.warn(\"\\nMismatch in callids for certain files\")\n",
    "        "
   ]
  },
  {
   "cell_type": "code",
   "execution_count": 6,
   "metadata": {
    "ExecuteTime": {
     "end_time": "2017-03-31T17:43:46.676363",
     "start_time": "2017-03-31T17:43:46.671213"
    },
    "collapsed": false
   },
   "outputs": [
    {
     "name": "stdout",
     "output_type": "stream",
     "text": [
      "CALLDATA filepath:  /home/aabdullah/delve/rennet/data/working/fisher/fe_03_p1/raw/labels/fe_03_p1_calldata.tbl\n"
     ]
    }
   ],
   "source": [
    "# Finding the calldata.tbl file\n",
    "\n",
    "calldata_fp = glob.glob(raw_calldata_glob_str)\n",
    "\n",
    "if len(calldata_fp) > 1:\n",
    "    warnings.warn(\"More than one calldata file found\")\n",
    "elif len(calldata_fp) < 1:\n",
    "    warnings.warn(\"Calldata file was not found\")\n",
    "else:\n",
    "    calldata_fp = calldata_fp[0]\n",
    "    print(\"CALLDATA filepath: \", calldata_fp)"
   ]
  },
  {
   "cell_type": "code",
   "execution_count": 7,
   "metadata": {
    "ExecuteTime": {
     "end_time": "2017-03-31T17:43:47.153145",
     "start_time": "2017-03-31T17:43:47.149264"
    },
    "collapsed": false
   },
   "outputs": [
    {
     "name": "stdout",
     "output_type": "stream",
     "text": [
      "GROUP PAIRS: 59\n",
      "[[99, 99], [100, 100], [100, 100], [100, 100], [100, 100], [100, 100], [100, 100], [100, 100], [100, 100], [100, 100], [100, 100], [100, 100], [100, 100], [100, 100], [100, 100], [100, 100], [100, 100], [100, 100], [100, 100], [100, 100], [100, 100], [100, 100], [100, 100], [100, 100], [100, 100], [100, 100], [100, 100], [100, 100], [100, 100], [100, 100], [100, 100], [100, 100], [100, 100], [100, 100], [100, 100], [100, 100], [100, 100], [100, 100], [100, 100], [100, 100], [100, 100], [100, 100], [100, 100], [100, 100], [100, 100], [100, 100], [100, 100], [100, 100], [100, 100], [100, 100], [100, 100], [100, 100], [100, 100], [100, 100], [100, 100], [100, 100], [100, 100], [100, 100], [51, 51]]\n"
     ]
    }
   ],
   "source": [
    "group_pair_fps = list(zip(audio_fps, label_fps))\n",
    "\n",
    "print(\"GROUP PAIRS: {}\".format(len(group_pair_fps)), \n",
    "      list(map(lambda x: list(map(len, x)), group_pair_fps)), sep='\\n')"
   ]
  },
  {
   "cell_type": "markdown",
   "metadata": {},
   "source": [
    "#### Result\n",
    "\n",
    "- `audio_fps` and `labels_fps` have are list of lists, with grouped filepaths to audio and label files respectively\n",
    "    + the checks above also ensure that corresponding pairs are at-least at the same indices, or missing altogether\n",
    "- `calldata_fp` has the filepath to the calldata file\n",
    "- `group_pair_fps` has pairs of audio and label filepaths for which both are present\n",
    "    + for this dataset, only the first 8 audio groups are present, hence only 8 group pairs"
   ]
  },
  {
   "cell_type": "markdown",
   "metadata": {},
   "source": [
    "## Read the calldata and activespeakers\n",
    "\n",
    "Reading activespeakers internally also reads the annotations, so any errors should not go unnoticed.\n",
    "\n",
    "NOTE: the `warn=False` parameter is passed to suppress the internal warnings for duplicate annotations for a speaker for the same time segment. \n",
    "This is ignored since we are only concerned with 'who' is speaking 'when', and not 'what' is being spoken. \n",
    "\n",
    "NOTE: We also read calldata.tbl and pass the relevant instance to the activespeakers so that anything unexpected pops up."
   ]
  },
  {
   "cell_type": "code",
   "execution_count": 8,
   "metadata": {
    "ExecuteTime": {
     "end_time": "2017-03-31T17:43:47.992442",
     "start_time": "2017-03-31T17:43:47.953397"
    },
    "collapsed": false
   },
   "outputs": [
    {
     "name": "stdout",
     "output_type": "stream",
     "text": [
      "CALLDATA read for 5850 callids\n",
      "\n",
      "Example calldata:\n",
      "\n",
      "FisherCallData(callid='00434', topicid='ENG30', signalgrade=4.0, convgrade=4.0, channelspeakers=[FisherChannelSpeaker(id='2872', gender='f', dialect='a', phone_service='2'), FisherChannelSpeaker(id='5019', gender='f', dialect='a', phone_service='2')])\n"
     ]
    }
   ],
   "source": [
    "calldatas = fe.FisherAllCallData.from_file(calldata_fp)\n",
    "\n",
    "print(\"CALLDATA read for {} callids\".format(len(calldatas.allcalldata)))\n",
    "print(\"\\nExample calldata:\\n\")\n",
    "print(calldatas.calldata_for_callid('00434'), sep='\\n')"
   ]
  },
  {
   "cell_type": "code",
   "execution_count": 9,
   "metadata": {
    "ExecuteTime": {
     "end_time": "2017-03-31T17:44:08.764062",
     "start_time": "2017-03-31T17:43:48.191339"
    },
    "collapsed": false
   },
   "outputs": [
    {
     "name": "stdout",
     "output_type": "stream",
     "text": [
      "ACTIVESPEAKERS read for total 5850 label files with calldata\n"
     ]
    }
   ],
   "source": [
    "activespeakers = []\n",
    "for _, label_group_fps in group_pair_fps:\n",
    "    activespeakers.append([fe.FisherActiveSpeakers.from_file(lfp, \n",
    "                                                             warn=False, \n",
    "                                                             allcalldata=calldatas)\n",
    "                           for lfp in label_group_fps])\n",
    "    \n",
    "print(\"ACTIVESPEAKERS read for total {} label files with calldata\".format(sum(map(len, activespeakers))))"
   ]
  },
  {
   "cell_type": "markdown",
   "metadata": {
    "deletable": true,
    "editable": true
   },
   "source": [
    "## Exporting"
   ]
  },
  {
   "cell_type": "markdown",
   "metadata": {},
   "source": [
    "### Making Splits for validation, training and testing - based on groups\n",
    "\n",
    "[] TODO: explanation"
   ]
  },
  {
   "cell_type": "markdown",
   "metadata": {},
   "source": [
    "#### Checking parity of durations from audio and labels"
   ]
  },
  {
   "cell_type": "code",
   "execution_count": 10,
   "metadata": {
    "ExecuteTime": {
     "end_time": "2017-03-31T17:44:14.645376",
     "start_time": "2017-03-31T17:44:08.765353"
    },
    "collapsed": true
   },
   "outputs": [],
   "source": [
    "grouped_dur_label = []\n",
    "grouped_dur_audio = []\n",
    "\n",
    "for g, (agfps, _) in enumerate(group_pair_fps):\n",
    "    # durations from labels\n",
    "    dur_label = []\n",
    "    for act in activespeakers[g]:\n",
    "        with act.samplerate_as(100):\n",
    "            dur_label.append(int(act.ends[-1]))\n",
    "    grouped_dur_label.append(np.array(dur_label) / 100)\n",
    "    \n",
    "    # durations from audios\n",
    "    dur_audio = []\n",
    "    for fp in agfps:\n",
    "        audio_meta = au.get_audio_metadata(fp)\n",
    "        dur_audio.append(audio_meta.seconds)\n",
    "    grouped_dur_audio.append(np.array(dur_audio))\n",
    "    \n",
    "    \n",
    "files_dur_label = np.concatenate(grouped_dur_label)\n",
    "files_dur_audio = np.concatenate(grouped_dur_audio)\n",
    "\n",
    "group_dur_label = np.array(list(map(sum, grouped_dur_label)))\n",
    "group_dur_audio = np.array(list(map(sum, grouped_dur_audio)))"
   ]
  },
  {
   "cell_type": "code",
   "execution_count": 11,
   "metadata": {
    "ExecuteTime": {
     "end_time": "2017-03-31T17:44:14.654395",
     "start_time": "2017-03-31T17:44:14.647331"
    },
    "collapsed": true
   },
   "outputs": [],
   "source": [
    "def split_seconds(seconds):\n",
    "    m, s = divmod(seconds, 60)\n",
    "    h, m = divmod(m, 60)\n",
    "    return int(h), int(m), round(s, 2)\n",
    "\n",
    "def print_splitsec(duration, name):\n",
    "    print(\"{} : {:10.2f} seconds = {}\".format(\n",
    "        name, duration, \n",
    "        \"{:4} : {:2} : {:5.2f}\".format(*split_seconds(duration))\n",
    "    ))"
   ]
  },
  {
   "cell_type": "code",
   "execution_count": 12,
   "metadata": {
    "ExecuteTime": {
     "end_time": "2017-03-31T17:44:14.665626",
     "start_time": "2017-03-31T17:44:14.655716"
    },
    "collapsed": false
   },
   "outputs": [
    {
     "name": "stdout",
     "output_type": "stream",
     "text": [
      "Per File Audio Durations\n",
      "Audio Total    : 3542124.21 seconds =  983 : 55 : 24.21\n",
      "Label Total    : 3482482.03 seconds =  967 : 21 : 22.03\n",
      "Audio Minimum  :     366.79 seconds =    0 :  6 :  6.79\n",
      "Label Minimum  :     339.43 seconds =    0 :  5 : 39.43\n",
      "Audio Maximum  :     719.96 seconds =    0 : 11 : 59.96\n",
      "Label Maximum  :     719.96 seconds =    0 : 11 : 59.96\n",
      "Audio Mean     :     605.49 seconds =    0 : 10 :  5.49\n",
      "Label Mean     :     595.30 seconds =    0 :  9 : 55.30\n",
      "Audio Std      :      31.44 seconds =    0 :  0 : 31.44\n",
      "Label Std      :      32.99 seconds =    0 :  0 : 32.99\n"
     ]
    }
   ],
   "source": [
    "print(\"Per File Audio Durations\")\n",
    "print_splitsec(np.sum(files_dur_audio),   \"Audio Total   \")\n",
    "print_splitsec(np.sum(files_dur_label),   \"Label Total   \")\n",
    "print_splitsec(np.min(files_dur_audio),   \"Audio Minimum \")\n",
    "print_splitsec(np.min(files_dur_label),   \"Label Minimum \")\n",
    "print_splitsec(np.max(files_dur_audio),   \"Audio Maximum \")\n",
    "print_splitsec(np.max(files_dur_label),   \"Label Maximum \")\n",
    "print_splitsec(np.mean(files_dur_audio),  \"Audio Mean    \")\n",
    "print_splitsec(np.mean(files_dur_label),  \"Label Mean    \")\n",
    "print_splitsec(np.std(files_dur_audio),   \"Audio Std     \")\n",
    "print_splitsec(np.std(files_dur_label),   \"Label Std     \")"
   ]
  },
  {
   "cell_type": "code",
   "execution_count": 13,
   "metadata": {
    "ExecuteTime": {
     "end_time": "2017-03-31T17:44:14.674287",
     "start_time": "2017-03-31T17:44:14.666751"
    },
    "collapsed": false
   },
   "outputs": [
    {
     "name": "stdout",
     "output_type": "stream",
     "text": [
      "Per Group Audio Durations\n",
      "Audio Total    : 3542124.21 seconds =  983 : 55 : 24.21\n",
      "Label Total    : 3482482.03 seconds =  967 : 21 : 22.03\n",
      "Audio Minimum  :   30597.64 seconds =    8 : 29 : 57.64\n",
      "Label Minimum  :   30434.81 seconds =    8 : 27 : 14.81\n",
      "Audio Maximum  :   71337.89 seconds =   19 : 48 : 57.89\n",
      "Label Maximum  :   63725.15 seconds =   17 : 42 :  5.15\n",
      "Audio Mean     :   60036.00 seconds =   16 : 40 : 36.00\n",
      "Label Mean     :   59025.12 seconds =   16 : 23 : 45.12\n",
      "Audio Std      :    4605.41 seconds =    1 : 16 : 45.41\n",
      "Label Std      :    4013.30 seconds =    1 :  6 : 53.30\n"
     ]
    }
   ],
   "source": [
    "print(\"Per Group Audio Durations\")\n",
    "print_splitsec(np.sum(group_dur_audio),   \"Audio Total   \")\n",
    "print_splitsec(np.sum(group_dur_label),   \"Label Total   \")\n",
    "print_splitsec(np.min(group_dur_audio),   \"Audio Minimum \")\n",
    "print_splitsec(np.min(group_dur_label),   \"Label Minimum \")\n",
    "print_splitsec(np.max(group_dur_audio),   \"Audio Maximum \")\n",
    "print_splitsec(np.max(group_dur_label),   \"Label Maximum \")\n",
    "print_splitsec(np.mean(group_dur_audio),  \"Audio Mean    \")\n",
    "print_splitsec(np.mean(group_dur_label),  \"Label Mean    \")\n",
    "print_splitsec(np.std(group_dur_audio),   \"Audio Std     \")\n",
    "print_splitsec(np.std(group_dur_label),   \"Label Std     \")"
   ]
  },
  {
   "cell_type": "code",
   "execution_count": 14,
   "metadata": {
    "ExecuteTime": {
     "end_time": "2017-03-31T17:44:14.682519",
     "start_time": "2017-03-31T17:44:14.675805"
    },
    "collapsed": false
   },
   "outputs": [
    {
     "name": "stdout",
     "output_type": "stream",
     "text": [
      "All audio durations >= label durations? :  False\n",
      "\n",
      "Where the audio durations are <= than label durations\n",
      " [(599.952, 599.97000000000003), (599.952, 599.97000000000003), (599.952, 599.97000000000003), (599.98800000000006, 599.99000000000001), (599.98800000000006, 599.99000000000001), (599.976, 599.98000000000002), (599.98800000000006, 599.99000000000001), (599.98800000000006, 599.99000000000001), (599.94000000000005, 599.94000000000005), (599.976, 599.98000000000002), (599.98800000000006, 599.99000000000001), (599.98800000000006, 599.99000000000001), (599.94000000000005, 599.94000000000005), (599.91600000000005, 599.91999999999996), (599.91600000000005, 599.91999999999996), (599.98800000000006, 599.99000000000001), (599.94000000000005, 599.94000000000005), (600.0, 600.0), (599.976, 599.98000000000002), (599.91600000000005, 599.91999999999996), (600.0, 600.0), (599.94000000000005, 599.94000000000005), (599.98800000000006, 599.99000000000001), (599.928, 599.92999999999995), (599.98800000000006, 599.99000000000001), (599.98800000000006, 599.99000000000001), (599.98800000000006, 599.99000000000001), (599.976, 599.98000000000002), (599.98800000000006, 599.99000000000001), (599.98800000000006, 599.99000000000001), (599.976, 599.98000000000002)]\n"
     ]
    }
   ],
   "source": [
    "print(\"All audio durations >= label durations? : \", \n",
    "      all(adur >= ldur for adur, ldur in zip(files_dur_audio, files_dur_label)))\n",
    "\n",
    "print()\n",
    "print(\"Where the audio durations are <= than label durations\\n\", \n",
    "      list(filter(lambda durs: durs[0] <= durs[1], zip(files_dur_audio, files_dur_label))))\n"
   ]
  },
  {
   "cell_type": "markdown",
   "metadata": {},
   "source": [
    "##### Results\n",
    "\n",
    "As expected, the audio files are mostly longer than the labels.\n",
    "The exception cases are rare and have a mismatch of less than 20 milliseconds.\n",
    "This is not deemed to be huge issue.\n",
    "\n",
    "We also see how, with so many files, the total disparity can add up to a lot."
   ]
  },
  {
   "cell_type": "markdown",
   "metadata": {},
   "source": [
    "#### Assigning groups to splits"
   ]
  },
  {
   "cell_type": "code",
   "execution_count": 15,
   "metadata": {
    "ExecuteTime": {
     "end_time": "2017-03-31T17:44:14.686095",
     "start_time": "2017-03-31T17:44:14.683665"
    },
    "collapsed": true
   },
   "outputs": [],
   "source": [
    "takeat = lambda l, i: [l[ii] for ii in i]"
   ]
  },
  {
   "cell_type": "code",
   "execution_count": 16,
   "metadata": {
    "ExecuteTime": {
     "end_time": "2017-03-31T17:44:14.697418",
     "start_time": "2017-03-31T17:44:14.687316"
    },
    "collapsed": false
   },
   "outputs": [
    {
     "name": "stdout",
     "output_type": "stream",
     "text": [
      "    VAL with  1 groups and   99 files\n",
      "    TRN with 52 groups and 5200 files\n",
      "    TST with  6 groups and  551 files\n",
      "TRN+VAL with 53 groups and 5299 files\n"
     ]
    }
   ],
   "source": [
    "val_groups = [0]\n",
    "\n",
    "tis = 53\n",
    "tst_groups = list(range(tis, len(group_dur_audio)))\n",
    "\n",
    "trn_groups = list(filter(lambda v: ((v not in val_groups) and \n",
    "                                    (v not in tst_groups)), \n",
    "                         range(len(group_pair_fps))))\n",
    "\n",
    "trn_val_groups = np.concatenate([val_groups, trn_groups])\n",
    "\n",
    "print(\"    VAL with {:2} groups and {:4} files\".format(len(val_groups), sum(map(len, [activespeakers[i] for i in val_groups]))))\n",
    "print(\"    TRN with {:2} groups and {:4} files\".format(len(trn_groups), sum(map(len, [activespeakers[i] for i in trn_groups]))))\n",
    "print(\"    TST with {:2} groups and {:4} files\".format(len(tst_groups), sum(map(len, [activespeakers[i] for i in tst_groups]))))\n",
    "print(\"TRN+VAL with {:2} groups and {:4} files\".format(len(trn_val_groups), sum(map(len, [activespeakers[i] for i in trn_val_groups]))))"
   ]
  },
  {
   "cell_type": "code",
   "execution_count": 17,
   "metadata": {
    "ExecuteTime": {
     "end_time": "2017-03-31T17:44:14.703873",
     "start_time": "2017-03-31T17:44:14.698835"
    },
    "collapsed": false
   },
   "outputs": [
    {
     "name": "stdout",
     "output_type": "stream",
     "text": [
      "Train-Val Split - Groups Durations\n",
      "TRN    : 97.82% : 3141667.39 seconds =  872 : 41 :  7.39\n",
      "VAL    :  2.18% :   70004.44 seconds =   19 : 26 : 44.44\n"
     ]
    }
   ],
   "source": [
    "print(\"Train-Val Split - Groups Durations\")\n",
    "print_splitsec(np.sum(group_dur_audio[trn_groups]),\n",
    "               \"TRN    : {:5.2f}%\".format(100 * group_dur_audio[trn_groups].sum()/group_dur_audio[trn_val_groups].sum()))\n",
    "print_splitsec(np.sum(group_dur_audio[val_groups]),\n",
    "               \"VAL    : {:5.2f}%\".format(100 * group_dur_audio[val_groups].sum()/group_dur_audio[trn_val_groups].sum()))"
   ]
  },
  {
   "cell_type": "markdown",
   "metadata": {},
   "source": [
    "#### Making audio-label filepath pairs for each split"
   ]
  },
  {
   "cell_type": "code",
   "execution_count": 18,
   "metadata": {
    "ExecuteTime": {
     "end_time": "2017-03-31T17:44:14.709942",
     "start_time": "2017-03-31T17:44:14.705057"
    },
    "collapsed": true
   },
   "outputs": [],
   "source": [
    "def _make_pairs(grouped_pair_fps, group_ids):\n",
    "    grouped_pairs = []\n",
    "    for g in group_ids:\n",
    "        audio_fps, label_fps = grouped_pair_fps[g]\n",
    "        grouped_pairs.extend(list(zip(audio_fps, label_fps)))\n",
    "        \n",
    "    return grouped_pairs"
   ]
  },
  {
   "cell_type": "code",
   "execution_count": 19,
   "metadata": {
    "ExecuteTime": {
     "end_time": "2017-03-31T17:44:14.724950",
     "start_time": "2017-03-31T17:44:14.711284"
    },
    "collapsed": false
   },
   "outputs": [
    {
     "name": "stdout",
     "output_type": "stream",
     "text": [
      "This should match the number of files in each split, when the groups were assigned above\n",
      "99 551 5200\n",
      "\n",
      "VAL\n",
      "\n",
      "('/home/aabdullah/delve/rennet/data/working/fisher/fe_03_p1/raw/audio/data/disc1/000/fe_03_00001.sph', '/home/aabdullah/delve/rennet/data/working/fisher/fe_03_p1/raw/labels/data/disc1/000/fe_03_00001.txt')\n",
      "('/home/aabdullah/delve/rennet/data/working/fisher/fe_03_p1/raw/audio/data/disc1/000/fe_03_00002.sph', '/home/aabdullah/delve/rennet/data/working/fisher/fe_03_p1/raw/labels/data/disc1/000/fe_03_00002.txt')\n",
      "('/home/aabdullah/delve/rennet/data/working/fisher/fe_03_p1/raw/audio/data/disc1/000/fe_03_00003.sph', '/home/aabdullah/delve/rennet/data/working/fisher/fe_03_p1/raw/labels/data/disc1/000/fe_03_00003.txt')\n",
      "('/home/aabdullah/delve/rennet/data/working/fisher/fe_03_p1/raw/audio/data/disc1/000/fe_03_00004.sph', '/home/aabdullah/delve/rennet/data/working/fisher/fe_03_p1/raw/labels/data/disc1/000/fe_03_00004.txt')\n",
      "('/home/aabdullah/delve/rennet/data/working/fisher/fe_03_p1/raw/audio/data/disc1/000/fe_03_00005.sph', '/home/aabdullah/delve/rennet/data/working/fisher/fe_03_p1/raw/labels/data/disc1/000/fe_03_00005.txt')\n",
      "...\n",
      "\n",
      "TST\n",
      "\n",
      "('/home/aabdullah/delve/rennet/data/working/fisher/fe_03_p1/raw/audio/data/disc7/053/fe_03_05300.sph', '/home/aabdullah/delve/rennet/data/working/fisher/fe_03_p1/raw/labels/data/disc7/053/fe_03_05300.txt')\n",
      "('/home/aabdullah/delve/rennet/data/working/fisher/fe_03_p1/raw/audio/data/disc7/053/fe_03_05301.sph', '/home/aabdullah/delve/rennet/data/working/fisher/fe_03_p1/raw/labels/data/disc7/053/fe_03_05301.txt')\n",
      "('/home/aabdullah/delve/rennet/data/working/fisher/fe_03_p1/raw/audio/data/disc7/053/fe_03_05302.sph', '/home/aabdullah/delve/rennet/data/working/fisher/fe_03_p1/raw/labels/data/disc7/053/fe_03_05302.txt')\n",
      "('/home/aabdullah/delve/rennet/data/working/fisher/fe_03_p1/raw/audio/data/disc7/053/fe_03_05303.sph', '/home/aabdullah/delve/rennet/data/working/fisher/fe_03_p1/raw/labels/data/disc7/053/fe_03_05303.txt')\n",
      "('/home/aabdullah/delve/rennet/data/working/fisher/fe_03_p1/raw/audio/data/disc7/053/fe_03_05304.sph', '/home/aabdullah/delve/rennet/data/working/fisher/fe_03_p1/raw/labels/data/disc7/053/fe_03_05304.txt')\n",
      "...\n",
      "\n",
      "TRN\n",
      "\n",
      "('/home/aabdullah/delve/rennet/data/working/fisher/fe_03_p1/raw/audio/data/disc1/001/fe_03_00100.sph', '/home/aabdullah/delve/rennet/data/working/fisher/fe_03_p1/raw/labels/data/disc1/001/fe_03_00100.txt')\n",
      "('/home/aabdullah/delve/rennet/data/working/fisher/fe_03_p1/raw/audio/data/disc1/001/fe_03_00101.sph', '/home/aabdullah/delve/rennet/data/working/fisher/fe_03_p1/raw/labels/data/disc1/001/fe_03_00101.txt')\n",
      "('/home/aabdullah/delve/rennet/data/working/fisher/fe_03_p1/raw/audio/data/disc1/001/fe_03_00102.sph', '/home/aabdullah/delve/rennet/data/working/fisher/fe_03_p1/raw/labels/data/disc1/001/fe_03_00102.txt')\n",
      "('/home/aabdullah/delve/rennet/data/working/fisher/fe_03_p1/raw/audio/data/disc1/001/fe_03_00103.sph', '/home/aabdullah/delve/rennet/data/working/fisher/fe_03_p1/raw/labels/data/disc1/001/fe_03_00103.txt')\n",
      "('/home/aabdullah/delve/rennet/data/working/fisher/fe_03_p1/raw/audio/data/disc1/001/fe_03_00104.sph', '/home/aabdullah/delve/rennet/data/working/fisher/fe_03_p1/raw/labels/data/disc1/001/fe_03_00104.txt')\n",
      "...\n",
      "\n"
     ]
    }
   ],
   "source": [
    "val_pairs = _make_pairs(group_pair_fps, val_groups)\n",
    "tst_pairs = _make_pairs(group_pair_fps, tst_groups)\n",
    "trn_pairs = _make_pairs(group_pair_fps, trn_groups)\n",
    "\n",
    "print(\"This should match the number of files in each split, when the groups were assigned above\")\n",
    "print(*map(len, [val_pairs, tst_pairs, trn_pairs]))\n",
    "\n",
    "print()\n",
    "print(\"VAL\\n\", *val_pairs[:5], '...\\n', sep='\\n')\n",
    "print(\"TST\\n\", *tst_pairs[:5], '...\\n', sep='\\n')\n",
    "print(\"TRN\\n\", *trn_pairs[:5], '...\\n', sep='\\n')"
   ]
  },
  {
   "cell_type": "code",
   "execution_count": null,
   "metadata": {
    "collapsed": true
   },
   "outputs": [],
   "source": []
  },
  {
   "cell_type": "markdown",
   "metadata": {},
   "source": [
    "### Make the Folders\n",
    "\n",
    "The folder structure expected:\n",
    "\n",
    "```\n",
    "<rennet_data_working>/<provider>/<dataset>/<export_name>/\n",
    "    - test/\n",
    "        - audio/\n",
    "            - data/\n",
    "                - <group-number>/\n",
    "                    - <call>.wav\n",
    "                    - ...\n",
    "         - labels/\n",
    "             - data/\n",
    "                 - <group-number>/\n",
    "                     - <call>.txt\n",
    "                     - ...\n",
    "             - <calldata>.tbl\n",
    "        - pickles/\n",
    "            - <date-stamped-feature-info>/\n",
    "                - <date-stamped-part-xx>.hdf5\n",
    "                - ...\n",
    "     - train/\n",
    "         - < SAME AS TEST >\n",
    "     - val/\n",
    "         - < SAME AS TEST >\n",
    "```"
   ]
  },
  {
   "cell_type": "code",
   "execution_count": 20,
   "metadata": {
    "ExecuteTime": {
     "end_time": "2017-03-31T17:44:14.747550",
     "start_time": "2017-03-31T17:44:14.726583"
    },
    "collapsed": false
   },
   "outputs": [
    {
     "name": "stdout",
     "output_type": "stream",
     "text": [
      "VAL:\n",
      "/home/aabdullah/delve/rennet/data/working/fisher/fe_03_p1/wav-8k-mono/val\n",
      "/home/aabdullah/delve/rennet/data/working/fisher/fe_03_p1/wav-8k-mono/val/labels/data\n",
      "/home/aabdullah/delve/rennet/data/working/fisher/fe_03_p1/wav-8k-mono/val/audios/data\n",
      "/home/aabdullah/delve/rennet/data/working/fisher/fe_03_p1/wav-8k-mono/val/pickles\n",
      "\n",
      "TRN:\n",
      "/home/aabdullah/delve/rennet/data/working/fisher/fe_03_p1/wav-8k-mono/train\n",
      "/home/aabdullah/delve/rennet/data/working/fisher/fe_03_p1/wav-8k-mono/train/labels/data\n",
      "/home/aabdullah/delve/rennet/data/working/fisher/fe_03_p1/wav-8k-mono/train/audios/data\n",
      "/home/aabdullah/delve/rennet/data/working/fisher/fe_03_p1/wav-8k-mono/train/pickles\n",
      "\n",
      "TST:\n",
      "/home/aabdullah/delve/rennet/data/working/fisher/fe_03_p1/wav-8k-mono/test\n",
      "/home/aabdullah/delve/rennet/data/working/fisher/fe_03_p1/wav-8k-mono/test/labels/data\n",
      "/home/aabdullah/delve/rennet/data/working/fisher/fe_03_p1/wav-8k-mono/test/audios/data\n",
      "/home/aabdullah/delve/rennet/data/working/fisher/fe_03_p1/wav-8k-mono/test/pickles\n"
     ]
    }
   ],
   "source": [
    "# UPDATE HERE - BEGIN #######################################################\n",
    "\n",
    "export_name = 'wav-8k-mono'\n",
    "val_dirname = 'val'\n",
    "trn_dirname = 'train'\n",
    "tst_dirname = 'test'\n",
    "\n",
    "out_format = 'wav'\n",
    "out_samplerate = 8000\n",
    "out_channels = 1\n",
    "out_channels_split = False\n",
    "\n",
    "# UPDATE HERE - END #########################################################\n",
    "\n",
    "export_name_dir = os.path.join(rennet_working_dir, provider, dataset, export_name)\n",
    "val_dir = os.path.join(export_name_dir, val_dirname)\n",
    "trn_dir = os.path.join(export_name_dir, trn_dirname)\n",
    "tst_dir = os.path.join(export_name_dir, tst_dirname)\n",
    "\n",
    "val_labeldata_dir = os.path.join(val_dir, 'labels', 'data')\n",
    "trn_labeldata_dir = os.path.join(trn_dir, 'labels', 'data')\n",
    "tst_labeldata_dir = os.path.join(tst_dir, 'labels', 'data')\n",
    "\n",
    "val_audiodata_dir = os.path.join(val_dir, 'audios', 'data')\n",
    "trn_audiodata_dir = os.path.join(trn_dir, 'audios', 'data')\n",
    "tst_audiodata_dir = os.path.join(tst_dir, 'audios', 'data')\n",
    "\n",
    "val_pickledata_dir = os.path.join(val_dir, 'pickles')\n",
    "trn_pickledata_dir = os.path.join(trn_dir, 'pickles')\n",
    "tst_pickledata_dir = os.path.join(tst_dir, 'pickles')\n",
    "\n",
    "print(\"VAL:\", val_dir, val_labeldata_dir, val_audiodata_dir, val_pickledata_dir, sep='\\n')\n",
    "print()\n",
    "print(\"TRN:\", trn_dir, trn_labeldata_dir, trn_audiodata_dir, trn_pickledata_dir, sep='\\n')\n",
    "print()\n",
    "print(\"TST:\", tst_dir, tst_labeldata_dir, tst_audiodata_dir, tst_pickledata_dir, sep='\\n')"
   ]
  },
  {
   "cell_type": "code",
   "execution_count": 21,
   "metadata": {
    "ExecuteTime": {
     "end_time": "2017-03-31T17:44:14.759060",
     "start_time": "2017-03-31T17:44:14.748615"
    },
    "collapsed": false
   },
   "outputs": [],
   "source": [
    "# make the data directories for the splits\n",
    "\n",
    "# these directories shouldn't exist right now\n",
    "\n",
    "# ##### DO NOT RERUN! without changing ddeo to True ######\n",
    "ddeo = False\n",
    "\n",
    "os.makedirs(val_labeldata_dir, exist_ok=ddeo)\n",
    "os.makedirs(val_audiodata_dir, exist_ok=ddeo)\n",
    "os.makedirs(val_pickledata_dir, exist_ok=ddeo)\n",
    "os.makedirs(trn_labeldata_dir, exist_ok=ddeo)\n",
    "os.makedirs(trn_audiodata_dir, exist_ok=ddeo)\n",
    "os.makedirs(trn_pickledata_dir, exist_ok=ddeo)\n",
    "os.makedirs(tst_labeldata_dir, exist_ok=ddeo)\n",
    "os.makedirs(tst_audiodata_dir, exist_ok=ddeo)\n",
    "os.makedirs(tst_pickledata_dir, exist_ok=ddeo)"
   ]
  },
  {
   "cell_type": "code",
   "execution_count": 22,
   "metadata": {
    "ExecuteTime": {
     "end_time": "2017-03-31T17:44:30.668085",
     "start_time": "2017-03-31T17:44:30.661790"
    },
    "collapsed": true
   },
   "outputs": [],
   "source": [
    "# Create group dirs for each split\n",
    "group_dir_for_file = lambda fp: os.path.basename(os.path.dirname(fp))\n",
    "\n",
    "def groups_for_split(split_pairs):\n",
    "    # the group dirs required for labels and audios for each split are assumed to be the same\n",
    "    # But check anyway\n",
    "    \n",
    "    audio_fps = [afp for afp, _ in split_pairs]\n",
    "    label_fps = [lfp for _, lfp in split_pairs]\n",
    "    \n",
    "    audio_groups = set(map(group_dir_for_file, audio_fps))\n",
    "    label_groups = set(map(group_dir_for_file, label_fps))\n",
    "    \n",
    "    assert audio_groups == label_groups\n",
    "    return audio_groups\n"
   ]
  },
  {
   "cell_type": "code",
   "execution_count": 23,
   "metadata": {
    "ExecuteTime": {
     "end_time": "2017-03-31T17:44:33.900984",
     "start_time": "2017-03-31T17:44:33.873122"
    },
    "collapsed": false
   },
   "outputs": [
    {
     "name": "stdout",
     "output_type": "stream",
     "text": [
      "['000']\n",
      "['001', '002', '003', '004', '005', '006', '007', '008', '009', '010', '011', '012', '013', '014', '015', '016', '017', '018', '019', '020', '021', '022', '023', '024', '025', '026', '027', '028', '029', '030', '031', '032', '033', '034', '035', '036', '037', '038', '039', '040', '041', '042', '043', '044', '045', '046', '047', '048', '049', '050', '051', '052']\n",
      "['053', '054', '055', '056', '057', '058']\n"
     ]
    }
   ],
   "source": [
    "val_groupdirnames = sorted(list(groups_for_split(val_pairs)))\n",
    "trn_groupdirnames = sorted(list(groups_for_split(trn_pairs)))\n",
    "tst_groupdirnames = sorted(list(groups_for_split(tst_pairs)))\n",
    "\n",
    "print(val_groupdirnames, trn_groupdirnames, tst_groupdirnames, sep='\\n')"
   ]
  },
  {
   "cell_type": "code",
   "execution_count": 24,
   "metadata": {
    "ExecuteTime": {
     "end_time": "2017-03-31T17:44:34.750703",
     "start_time": "2017-03-31T17:44:34.732464"
    },
    "collapsed": false
   },
   "outputs": [
    {
     "name": "stdout",
     "output_type": "stream",
     "text": [
      "VAL:\n",
      "/home/aabdullah/delve/rennet/data/working/fisher/fe_03_p1/wav-8k-mono/val/audios/data/000\n",
      "\n",
      "/home/aabdullah/delve/rennet/data/working/fisher/fe_03_p1/wav-8k-mono/val/labels/data/000\n",
      "\n",
      "TRN:\n",
      "/home/aabdullah/delve/rennet/data/working/fisher/fe_03_p1/wav-8k-mono/train/audios/data/001\n",
      "/home/aabdullah/delve/rennet/data/working/fisher/fe_03_p1/wav-8k-mono/train/audios/data/002\n",
      "/home/aabdullah/delve/rennet/data/working/fisher/fe_03_p1/wav-8k-mono/train/audios/data/003\n",
      "/home/aabdullah/delve/rennet/data/working/fisher/fe_03_p1/wav-8k-mono/train/audios/data/004\n",
      "/home/aabdullah/delve/rennet/data/working/fisher/fe_03_p1/wav-8k-mono/train/audios/data/005\n",
      "/home/aabdullah/delve/rennet/data/working/fisher/fe_03_p1/wav-8k-mono/train/audios/data/006\n",
      "/home/aabdullah/delve/rennet/data/working/fisher/fe_03_p1/wav-8k-mono/train/audios/data/007\n",
      "/home/aabdullah/delve/rennet/data/working/fisher/fe_03_p1/wav-8k-mono/train/audios/data/008\n",
      "/home/aabdullah/delve/rennet/data/working/fisher/fe_03_p1/wav-8k-mono/train/audios/data/009\n",
      "/home/aabdullah/delve/rennet/data/working/fisher/fe_03_p1/wav-8k-mono/train/audios/data/010\n",
      "/home/aabdullah/delve/rennet/data/working/fisher/fe_03_p1/wav-8k-mono/train/audios/data/011\n",
      "/home/aabdullah/delve/rennet/data/working/fisher/fe_03_p1/wav-8k-mono/train/audios/data/012\n",
      "/home/aabdullah/delve/rennet/data/working/fisher/fe_03_p1/wav-8k-mono/train/audios/data/013\n",
      "/home/aabdullah/delve/rennet/data/working/fisher/fe_03_p1/wav-8k-mono/train/audios/data/014\n",
      "/home/aabdullah/delve/rennet/data/working/fisher/fe_03_p1/wav-8k-mono/train/audios/data/015\n",
      "/home/aabdullah/delve/rennet/data/working/fisher/fe_03_p1/wav-8k-mono/train/audios/data/016\n",
      "/home/aabdullah/delve/rennet/data/working/fisher/fe_03_p1/wav-8k-mono/train/audios/data/017\n",
      "/home/aabdullah/delve/rennet/data/working/fisher/fe_03_p1/wav-8k-mono/train/audios/data/018\n",
      "/home/aabdullah/delve/rennet/data/working/fisher/fe_03_p1/wav-8k-mono/train/audios/data/019\n",
      "/home/aabdullah/delve/rennet/data/working/fisher/fe_03_p1/wav-8k-mono/train/audios/data/020\n",
      "/home/aabdullah/delve/rennet/data/working/fisher/fe_03_p1/wav-8k-mono/train/audios/data/021\n",
      "/home/aabdullah/delve/rennet/data/working/fisher/fe_03_p1/wav-8k-mono/train/audios/data/022\n",
      "/home/aabdullah/delve/rennet/data/working/fisher/fe_03_p1/wav-8k-mono/train/audios/data/023\n",
      "/home/aabdullah/delve/rennet/data/working/fisher/fe_03_p1/wav-8k-mono/train/audios/data/024\n",
      "/home/aabdullah/delve/rennet/data/working/fisher/fe_03_p1/wav-8k-mono/train/audios/data/025\n",
      "/home/aabdullah/delve/rennet/data/working/fisher/fe_03_p1/wav-8k-mono/train/audios/data/026\n",
      "/home/aabdullah/delve/rennet/data/working/fisher/fe_03_p1/wav-8k-mono/train/audios/data/027\n",
      "/home/aabdullah/delve/rennet/data/working/fisher/fe_03_p1/wav-8k-mono/train/audios/data/028\n",
      "/home/aabdullah/delve/rennet/data/working/fisher/fe_03_p1/wav-8k-mono/train/audios/data/029\n",
      "/home/aabdullah/delve/rennet/data/working/fisher/fe_03_p1/wav-8k-mono/train/audios/data/030\n",
      "/home/aabdullah/delve/rennet/data/working/fisher/fe_03_p1/wav-8k-mono/train/audios/data/031\n",
      "/home/aabdullah/delve/rennet/data/working/fisher/fe_03_p1/wav-8k-mono/train/audios/data/032\n",
      "/home/aabdullah/delve/rennet/data/working/fisher/fe_03_p1/wav-8k-mono/train/audios/data/033\n",
      "/home/aabdullah/delve/rennet/data/working/fisher/fe_03_p1/wav-8k-mono/train/audios/data/034\n",
      "/home/aabdullah/delve/rennet/data/working/fisher/fe_03_p1/wav-8k-mono/train/audios/data/035\n",
      "/home/aabdullah/delve/rennet/data/working/fisher/fe_03_p1/wav-8k-mono/train/audios/data/036\n",
      "/home/aabdullah/delve/rennet/data/working/fisher/fe_03_p1/wav-8k-mono/train/audios/data/037\n",
      "/home/aabdullah/delve/rennet/data/working/fisher/fe_03_p1/wav-8k-mono/train/audios/data/038\n",
      "/home/aabdullah/delve/rennet/data/working/fisher/fe_03_p1/wav-8k-mono/train/audios/data/039\n",
      "/home/aabdullah/delve/rennet/data/working/fisher/fe_03_p1/wav-8k-mono/train/audios/data/040\n",
      "/home/aabdullah/delve/rennet/data/working/fisher/fe_03_p1/wav-8k-mono/train/audios/data/041\n",
      "/home/aabdullah/delve/rennet/data/working/fisher/fe_03_p1/wav-8k-mono/train/audios/data/042\n",
      "/home/aabdullah/delve/rennet/data/working/fisher/fe_03_p1/wav-8k-mono/train/audios/data/043\n",
      "/home/aabdullah/delve/rennet/data/working/fisher/fe_03_p1/wav-8k-mono/train/audios/data/044\n",
      "/home/aabdullah/delve/rennet/data/working/fisher/fe_03_p1/wav-8k-mono/train/audios/data/045\n",
      "/home/aabdullah/delve/rennet/data/working/fisher/fe_03_p1/wav-8k-mono/train/audios/data/046\n",
      "/home/aabdullah/delve/rennet/data/working/fisher/fe_03_p1/wav-8k-mono/train/audios/data/047\n",
      "/home/aabdullah/delve/rennet/data/working/fisher/fe_03_p1/wav-8k-mono/train/audios/data/048\n",
      "/home/aabdullah/delve/rennet/data/working/fisher/fe_03_p1/wav-8k-mono/train/audios/data/049\n",
      "/home/aabdullah/delve/rennet/data/working/fisher/fe_03_p1/wav-8k-mono/train/audios/data/050\n",
      "/home/aabdullah/delve/rennet/data/working/fisher/fe_03_p1/wav-8k-mono/train/audios/data/051\n",
      "/home/aabdullah/delve/rennet/data/working/fisher/fe_03_p1/wav-8k-mono/train/audios/data/052\n",
      "\n",
      "/home/aabdullah/delve/rennet/data/working/fisher/fe_03_p1/wav-8k-mono/train/labels/data/001\n",
      "/home/aabdullah/delve/rennet/data/working/fisher/fe_03_p1/wav-8k-mono/train/labels/data/002\n",
      "/home/aabdullah/delve/rennet/data/working/fisher/fe_03_p1/wav-8k-mono/train/labels/data/003\n",
      "/home/aabdullah/delve/rennet/data/working/fisher/fe_03_p1/wav-8k-mono/train/labels/data/004\n",
      "/home/aabdullah/delve/rennet/data/working/fisher/fe_03_p1/wav-8k-mono/train/labels/data/005\n",
      "/home/aabdullah/delve/rennet/data/working/fisher/fe_03_p1/wav-8k-mono/train/labels/data/006\n",
      "/home/aabdullah/delve/rennet/data/working/fisher/fe_03_p1/wav-8k-mono/train/labels/data/007\n",
      "/home/aabdullah/delve/rennet/data/working/fisher/fe_03_p1/wav-8k-mono/train/labels/data/008\n",
      "/home/aabdullah/delve/rennet/data/working/fisher/fe_03_p1/wav-8k-mono/train/labels/data/009\n",
      "/home/aabdullah/delve/rennet/data/working/fisher/fe_03_p1/wav-8k-mono/train/labels/data/010\n",
      "/home/aabdullah/delve/rennet/data/working/fisher/fe_03_p1/wav-8k-mono/train/labels/data/011\n",
      "/home/aabdullah/delve/rennet/data/working/fisher/fe_03_p1/wav-8k-mono/train/labels/data/012\n",
      "/home/aabdullah/delve/rennet/data/working/fisher/fe_03_p1/wav-8k-mono/train/labels/data/013\n",
      "/home/aabdullah/delve/rennet/data/working/fisher/fe_03_p1/wav-8k-mono/train/labels/data/014\n",
      "/home/aabdullah/delve/rennet/data/working/fisher/fe_03_p1/wav-8k-mono/train/labels/data/015\n",
      "/home/aabdullah/delve/rennet/data/working/fisher/fe_03_p1/wav-8k-mono/train/labels/data/016\n",
      "/home/aabdullah/delve/rennet/data/working/fisher/fe_03_p1/wav-8k-mono/train/labels/data/017\n",
      "/home/aabdullah/delve/rennet/data/working/fisher/fe_03_p1/wav-8k-mono/train/labels/data/018\n",
      "/home/aabdullah/delve/rennet/data/working/fisher/fe_03_p1/wav-8k-mono/train/labels/data/019\n",
      "/home/aabdullah/delve/rennet/data/working/fisher/fe_03_p1/wav-8k-mono/train/labels/data/020\n",
      "/home/aabdullah/delve/rennet/data/working/fisher/fe_03_p1/wav-8k-mono/train/labels/data/021\n",
      "/home/aabdullah/delve/rennet/data/working/fisher/fe_03_p1/wav-8k-mono/train/labels/data/022\n",
      "/home/aabdullah/delve/rennet/data/working/fisher/fe_03_p1/wav-8k-mono/train/labels/data/023\n",
      "/home/aabdullah/delve/rennet/data/working/fisher/fe_03_p1/wav-8k-mono/train/labels/data/024\n",
      "/home/aabdullah/delve/rennet/data/working/fisher/fe_03_p1/wav-8k-mono/train/labels/data/025\n",
      "/home/aabdullah/delve/rennet/data/working/fisher/fe_03_p1/wav-8k-mono/train/labels/data/026\n",
      "/home/aabdullah/delve/rennet/data/working/fisher/fe_03_p1/wav-8k-mono/train/labels/data/027\n",
      "/home/aabdullah/delve/rennet/data/working/fisher/fe_03_p1/wav-8k-mono/train/labels/data/028\n",
      "/home/aabdullah/delve/rennet/data/working/fisher/fe_03_p1/wav-8k-mono/train/labels/data/029\n",
      "/home/aabdullah/delve/rennet/data/working/fisher/fe_03_p1/wav-8k-mono/train/labels/data/030\n",
      "/home/aabdullah/delve/rennet/data/working/fisher/fe_03_p1/wav-8k-mono/train/labels/data/031\n",
      "/home/aabdullah/delve/rennet/data/working/fisher/fe_03_p1/wav-8k-mono/train/labels/data/032\n",
      "/home/aabdullah/delve/rennet/data/working/fisher/fe_03_p1/wav-8k-mono/train/labels/data/033\n",
      "/home/aabdullah/delve/rennet/data/working/fisher/fe_03_p1/wav-8k-mono/train/labels/data/034\n",
      "/home/aabdullah/delve/rennet/data/working/fisher/fe_03_p1/wav-8k-mono/train/labels/data/035\n",
      "/home/aabdullah/delve/rennet/data/working/fisher/fe_03_p1/wav-8k-mono/train/labels/data/036\n",
      "/home/aabdullah/delve/rennet/data/working/fisher/fe_03_p1/wav-8k-mono/train/labels/data/037\n",
      "/home/aabdullah/delve/rennet/data/working/fisher/fe_03_p1/wav-8k-mono/train/labels/data/038\n",
      "/home/aabdullah/delve/rennet/data/working/fisher/fe_03_p1/wav-8k-mono/train/labels/data/039\n",
      "/home/aabdullah/delve/rennet/data/working/fisher/fe_03_p1/wav-8k-mono/train/labels/data/040\n",
      "/home/aabdullah/delve/rennet/data/working/fisher/fe_03_p1/wav-8k-mono/train/labels/data/041\n",
      "/home/aabdullah/delve/rennet/data/working/fisher/fe_03_p1/wav-8k-mono/train/labels/data/042\n",
      "/home/aabdullah/delve/rennet/data/working/fisher/fe_03_p1/wav-8k-mono/train/labels/data/043\n",
      "/home/aabdullah/delve/rennet/data/working/fisher/fe_03_p1/wav-8k-mono/train/labels/data/044\n",
      "/home/aabdullah/delve/rennet/data/working/fisher/fe_03_p1/wav-8k-mono/train/labels/data/045\n",
      "/home/aabdullah/delve/rennet/data/working/fisher/fe_03_p1/wav-8k-mono/train/labels/data/046\n",
      "/home/aabdullah/delve/rennet/data/working/fisher/fe_03_p1/wav-8k-mono/train/labels/data/047\n",
      "/home/aabdullah/delve/rennet/data/working/fisher/fe_03_p1/wav-8k-mono/train/labels/data/048\n",
      "/home/aabdullah/delve/rennet/data/working/fisher/fe_03_p1/wav-8k-mono/train/labels/data/049\n",
      "/home/aabdullah/delve/rennet/data/working/fisher/fe_03_p1/wav-8k-mono/train/labels/data/050\n",
      "/home/aabdullah/delve/rennet/data/working/fisher/fe_03_p1/wav-8k-mono/train/labels/data/051\n",
      "/home/aabdullah/delve/rennet/data/working/fisher/fe_03_p1/wav-8k-mono/train/labels/data/052\n",
      "\n",
      "TST:\n",
      "/home/aabdullah/delve/rennet/data/working/fisher/fe_03_p1/wav-8k-mono/test/audios/data/053\n",
      "/home/aabdullah/delve/rennet/data/working/fisher/fe_03_p1/wav-8k-mono/test/audios/data/054\n",
      "/home/aabdullah/delve/rennet/data/working/fisher/fe_03_p1/wav-8k-mono/test/audios/data/055\n",
      "/home/aabdullah/delve/rennet/data/working/fisher/fe_03_p1/wav-8k-mono/test/audios/data/056\n",
      "/home/aabdullah/delve/rennet/data/working/fisher/fe_03_p1/wav-8k-mono/test/audios/data/057\n",
      "/home/aabdullah/delve/rennet/data/working/fisher/fe_03_p1/wav-8k-mono/test/audios/data/058\n",
      "\n",
      "/home/aabdullah/delve/rennet/data/working/fisher/fe_03_p1/wav-8k-mono/test/labels/data/053\n",
      "/home/aabdullah/delve/rennet/data/working/fisher/fe_03_p1/wav-8k-mono/test/labels/data/054\n",
      "/home/aabdullah/delve/rennet/data/working/fisher/fe_03_p1/wav-8k-mono/test/labels/data/055\n",
      "/home/aabdullah/delve/rennet/data/working/fisher/fe_03_p1/wav-8k-mono/test/labels/data/056\n",
      "/home/aabdullah/delve/rennet/data/working/fisher/fe_03_p1/wav-8k-mono/test/labels/data/057\n",
      "/home/aabdullah/delve/rennet/data/working/fisher/fe_03_p1/wav-8k-mono/test/labels/data/058\n"
     ]
    }
   ],
   "source": [
    "val_audiogroup_dirs = [os.path.join(val_audiodata_dir, g) for g in val_groupdirnames]\n",
    "val_labelgroup_dirs = [os.path.join(val_labeldata_dir, g) for g in val_groupdirnames]\n",
    "trn_audiogroup_dirs = [os.path.join(trn_audiodata_dir, g) for g in trn_groupdirnames]\n",
    "trn_labelgroup_dirs = [os.path.join(trn_labeldata_dir, g) for g in trn_groupdirnames]\n",
    "tst_audiogroup_dirs = [os.path.join(tst_audiodata_dir, g) for g in tst_groupdirnames]\n",
    "tst_labelgroup_dirs = [os.path.join(tst_labeldata_dir, g) for g in tst_groupdirnames]\n",
    "\n",
    "print(\"VAL:\", *val_audiogroup_dirs, '', *val_labelgroup_dirs, sep='\\n')\n",
    "print()\n",
    "print(\"TRN:\", *trn_audiogroup_dirs, '', *trn_labelgroup_dirs, sep='\\n')\n",
    "print()\n",
    "print(\"TST:\", *tst_audiogroup_dirs, '', *tst_labelgroup_dirs, sep='\\n')"
   ]
  },
  {
   "cell_type": "code",
   "execution_count": 25,
   "metadata": {
    "ExecuteTime": {
     "end_time": "2017-03-31T17:44:35.708257",
     "start_time": "2017-03-31T17:44:35.697730"
    },
    "collapsed": true
   },
   "outputs": [],
   "source": [
    "exist_ok = False\n",
    "for agd, lgd in zip(val_audiogroup_dirs, val_labelgroup_dirs):\n",
    "    os.makedirs(agd, exist_ok=exist_ok)\n",
    "    os.makedirs(lgd, exist_ok=exist_ok)\n",
    "    \n",
    "for agd, lgd in zip(trn_audiogroup_dirs, trn_labelgroup_dirs):\n",
    "    os.makedirs(agd, exist_ok=exist_ok)\n",
    "    os.makedirs(lgd, exist_ok=exist_ok)\n",
    "    \n",
    "for agd, lgd in zip(tst_audiogroup_dirs, tst_labelgroup_dirs):\n",
    "    os.makedirs(agd, exist_ok=exist_ok)\n",
    "    os.makedirs(lgd, exist_ok=exist_ok)"
   ]
  },
  {
   "cell_type": "markdown",
   "metadata": {},
   "source": [
    "### Copy the calldata.tbl files to the labels dirs of each split"
   ]
  },
  {
   "cell_type": "code",
   "execution_count": 26,
   "metadata": {
    "ExecuteTime": {
     "end_time": "2017-03-31T17:44:37.169197",
     "start_time": "2017-03-31T17:44:37.165431"
    },
    "collapsed": false
   },
   "outputs": [
    {
     "name": "stdout",
     "output_type": "stream",
     "text": [
      "labels dirs where calldata will be copied\n",
      "/home/aabdullah/delve/rennet/data/working/fisher/fe_03_p1/wav-8k-mono/val/labels\n",
      "/home/aabdullah/delve/rennet/data/working/fisher/fe_03_p1/wav-8k-mono/train/labels\n",
      "/home/aabdullah/delve/rennet/data/working/fisher/fe_03_p1/wav-8k-mono/test/labels\n"
     ]
    }
   ],
   "source": [
    "val_labeldir = os.path.dirname(val_labeldata_dir)\n",
    "trn_labeldir = os.path.dirname(trn_labeldata_dir)\n",
    "tst_labeldir = os.path.dirname(tst_labeldata_dir)\n",
    "\n",
    "print(\"labels dirs where calldata will be copied\", val_labeldir, trn_labeldir, tst_labeldir, sep='\\n')"
   ]
  },
  {
   "cell_type": "code",
   "execution_count": 27,
   "metadata": {
    "ExecuteTime": {
     "end_time": "2017-03-31T17:44:38.348404",
     "start_time": "2017-03-31T17:44:38.339113"
    },
    "collapsed": false
   },
   "outputs": [
    {
     "name": "stdout",
     "output_type": "stream",
     "text": [
      "/home/aabdullah/delve/rennet/data/working/fisher/fe_03_p1/wav-8k-mono/val/labels/fe_03_p1_calldata.tbl\n",
      "/home/aabdullah/delve/rennet/data/working/fisher/fe_03_p1/wav-8k-mono/train/labels/fe_03_p1_calldata.tbl\n",
      "/home/aabdullah/delve/rennet/data/working/fisher/fe_03_p1/wav-8k-mono/test/labels/fe_03_p1_calldata.tbl\n"
     ]
    }
   ],
   "source": [
    "print(sh.copy(calldata_fp, val_labeldir, follow_symlinks=True))\n",
    "print(sh.copy(calldata_fp, trn_labeldir, follow_symlinks=True))\n",
    "print(sh.copy(calldata_fp, tst_labeldir, follow_symlinks=True))"
   ]
  },
  {
   "cell_type": "markdown",
   "metadata": {},
   "source": [
    "### Copy all the label files to appropriate groups"
   ]
  },
  {
   "cell_type": "code",
   "execution_count": 28,
   "metadata": {
    "ExecuteTime": {
     "end_time": "2017-03-31T17:44:40.260571",
     "start_time": "2017-03-31T17:44:40.254632"
    },
    "collapsed": true
   },
   "outputs": [],
   "source": [
    "def copy_labelfile_split(labelfile_splitlabeldatadir):\n",
    "    labelfile, split_labeldatadir = labelfile_splitlabeldatadir\n",
    "    groupname = group_dir_for_file(labelfile)\n",
    "    todir = os.path.join(split_labeldatadir, groupname)\n",
    "    return os.path.basename(sh.copy(labelfile, todir, follow_symlinks=True))"
   ]
  },
  {
   "cell_type": "code",
   "execution_count": 36,
   "metadata": {
    "ExecuteTime": {
     "end_time": "2017-03-31T17:49:23.304221",
     "start_time": "2017-03-31T17:49:23.265230"
    },
    "collapsed": true
   },
   "outputs": [],
   "source": [
    "p = mp.Pool(mp.cpu_count())"
   ]
  },
  {
   "cell_type": "code",
   "execution_count": 30,
   "metadata": {
    "ExecuteTime": {
     "end_time": "2017-03-31T17:44:44.078229",
     "start_time": "2017-03-31T17:44:42.146643"
    },
    "collapsed": false
   },
   "outputs": [
    {
     "name": "stdout",
     "output_type": "stream",
     "text": [
      "\n"
     ]
    }
   ],
   "source": [
    "splits_pbar = tqdm(zip([val_pairs, trn_pairs, tst_pairs],\n",
    "                       [val_labeldata_dir, trn_labeldata_dir, tst_labeldata_dir],\n",
    "                       ['val', 'trn', 'tst']))\n",
    "\n",
    "for splitpairs, splitlabeldatadir, name in splits_pbar:\n",
    "    params = [(lfp, splitlabeldatadir) for _, lfp in splitpairs]\n",
    "    files_pbar = tqdm(total=len(params))\n",
    "    for fn in p.imap_unordered(copy_labelfile_split, params):\n",
    "        files_pbar.update()\n",
    "        files_pbar.set_description(fn)\n",
    "    splits_pbar.set_description(name)"
   ]
  },
  {
   "cell_type": "code",
   "execution_count": 31,
   "metadata": {
    "ExecuteTime": {
     "end_time": "2017-03-31T17:44:44.754184",
     "start_time": "2017-03-31T17:44:44.750609"
    },
    "collapsed": false
   },
   "outputs": [
    {
     "name": "stdout",
     "output_type": "stream",
     "text": [
      "\n"
     ]
    }
   ],
   "source": [
    "splits_pbar.close()\n",
    "files_pbar.close()"
   ]
  },
  {
   "cell_type": "markdown",
   "metadata": {},
   "source": [
    "### Export audio files"
   ]
  },
  {
   "cell_type": "code",
   "execution_count": 32,
   "metadata": {
    "ExecuteTime": {
     "end_time": "2017-03-31T17:44:47.906926",
     "start_time": "2017-03-31T17:44:47.900304"
    },
    "collapsed": true
   },
   "outputs": [],
   "source": [
    "def export_audiofile_split(audiofile_splitaudiodatadir_tofmt_tosr_tonchannels_issplit):\n",
    "    audiofile, splitaudiodatadir = audiofile_splitaudiodatadir_tofmt_tosr_tonchannels_issplit[:2]\n",
    "    tofmt, tosr, tonchannels, issplit = audiofile_splitaudiodatadir_tofmt_tosr_tonchannels_issplit[2:]\n",
    "    \n",
    "    groupname = os.path.basename(os.path.dirname(audiofile))\n",
    "    todir = os.path.join(splitaudiodatadir, groupname)\n",
    "    \n",
    "    if issplit:\n",
    "        tofns = au.convert_to_standard_split(audiofile, todir, tofmt, tosr)\n",
    "    else:\n",
    "        tofns = au.convert_to_standard(audiofile, todir, tofmt, tosr, tonchannels)\n",
    "        \n",
    "    return os.path.basename(tofns[0])"
   ]
  },
  {
   "cell_type": "code",
   "execution_count": 38,
   "metadata": {
    "ExecuteTime": {
     "end_time": "2017-03-31T18:27:49.351589",
     "start_time": "2017-03-31T17:50:18.348363"
    },
    "collapsed": false
   },
   "outputs": [
    {
     "name": "stdout",
     "output_type": "stream",
     "text": [
      "\n",
      "\n"
     ]
    }
   ],
   "source": [
    "splits_pbar = tqdm(zip([val_pairs, trn_pairs, tst_pairs],\n",
    "                       [val_audiodata_dir, trn_audiodata_dir, tst_audiodata_dir],\n",
    "                       ['val', 'trn', 'tst']))\n",
    "\n",
    "for splitpairs, splitaudiodatadir, name in splits_pbar:\n",
    "    params = [(afp, splitaudiodatadir, \n",
    "               out_format, out_samplerate, \n",
    "               out_channels, out_channels_split) \n",
    "              for afp, _ in splitpairs]\n",
    "    files_pbar = tqdm(total=len(params))\n",
    "    for fn in p.imap_unordered(export_audiofile_split, params):\n",
    "        files_pbar.update()\n",
    "        files_pbar.set_description(fn)\n",
    "    files_pbar.close()\n",
    "    splits_pbar.set_description(name)\n",
    "    \n",
    "splits_pbar.close()"
   ]
  },
  {
   "cell_type": "code",
   "execution_count": 39,
   "metadata": {
    "ExecuteTime": {
     "end_time": "2017-04-04T14:17:09.077494",
     "start_time": "2017-04-04T14:17:09.069451"
    },
    "collapsed": true
   },
   "outputs": [],
   "source": [
    "p = None"
   ]
  },
  {
   "cell_type": "markdown",
   "metadata": {},
   "source": [
    "## Confirm all files in the splits are as expected"
   ]
  },
  {
   "cell_type": "code",
   "execution_count": 40,
   "metadata": {
    "ExecuteTime": {
     "end_time": "2017-04-04T14:17:15.572595",
     "start_time": "2017-04-04T14:17:13.546450"
    },
    "collapsed": false
   },
   "outputs": [],
   "source": [
    "# val split\n",
    "\n",
    "val_afns = sorted([os.path.basename(afp).split('.')[0] for afp, _ in val_pairs])\n",
    "val_lfns = sorted([os.path.basename(lfp).split('.')[0] for _, lfp in val_pairs])\n",
    "\n",
    "val_xafps = glob.glob(os.path.join(val_audiodata_dir, \"**\", \"*.{}\".format(out_format)))\n",
    "val_xlfps = glob.glob(os.path.join(val_labeldata_dir, \"**\", \"*.txt\"))\n",
    "\n",
    "val_xafns = sorted([os.path.basename(xafp).split('.')[0] for xafp in val_xafps])\n",
    "val_xlfns = sorted([os.path.basename(xlfp).split('.')[0] for xlfp in val_xlfps])\n",
    "\n",
    "# check all calls were exported / copied\n",
    "assert len(val_afns) == len(val_xafns), \"Mismatched number of audio files\"\n",
    "assert len(val_lfns) == len(val_xlfns), \"Mismatched number of label files\"\n",
    "\n",
    "assert set(val_afns) == set(val_xafns), \"Mismatched in sets of audio files\"\n",
    "assert set(val_lfns) == set(val_xlfns), \"Mismatched in sets of label files\"\n",
    "\n",
    "# check all exported audios have the correct formatting\n",
    "\n",
    "val_audiometa = list(map(au.get_audio_metadata, val_xafps))\n",
    "\n",
    "assert all(map(lambda m: m.format == out_format, \n",
    "               val_audiometa)), \"exported audio format is not {} for all\".format(out_format)\n",
    "assert all(map(lambda m: m.samplerate == out_samplerate, \n",
    "               val_audiometa)), \"exported audio samplerate is not {} for all\".format(out_samplerate)\n",
    "assert all(map(lambda m: m.nchannels == out_channels, \n",
    "               val_audiometa)), \"exported audio nchannels is not {} for all\".format(out_channels)\n",
    "\n",
    "# ALL OKAY IF NO ASSERTION ERRORS"
   ]
  },
  {
   "cell_type": "code",
   "execution_count": 41,
   "metadata": {
    "ExecuteTime": {
     "end_time": "2017-04-04T14:17:28.760021",
     "start_time": "2017-04-04T14:17:17.064078"
    },
    "collapsed": true
   },
   "outputs": [],
   "source": [
    "# trn split\n",
    "\n",
    "trn_afns = sorted([os.path.basename(afp).split('.')[0] for afp, _ in trn_pairs])\n",
    "trn_lfns = sorted([os.path.basename(lfp).split('.')[0] for _, lfp in trn_pairs])\n",
    "\n",
    "trn_xafps = glob.glob(os.path.join(trn_audiodata_dir, \"**\", \"*.{}\".format(out_format)))\n",
    "trn_xlfps = glob.glob(os.path.join(trn_labeldata_dir, \"**\", \"*.txt\"))\n",
    "\n",
    "trn_xafns = sorted([os.path.basename(xafp).split('.')[0] for xafp in trn_xafps])\n",
    "trn_xlfns = sorted([os.path.basename(xlfp).split('.')[0] for xlfp in trn_xlfps])\n",
    "\n",
    "# check all calls were exported / copied\n",
    "assert len(trn_afns) == len(trn_xafns), \"Mismatched number of audio files\"\n",
    "assert len(trn_lfns) == len(trn_xlfns), \"Mismatched number of label files\"\n",
    "\n",
    "assert set(trn_afns) == set(trn_xafns), \"Mismatched in sets of audio files\"\n",
    "assert set(trn_lfns) == set(trn_xlfns), \"Mismatched in sets of label files\"\n",
    "\n",
    "# check all exported audios have the correct formatting\n",
    "\n",
    "trn_audiometa = list(map(au.get_audio_metadata, trn_xafps))\n",
    "\n",
    "assert all(map(lambda m: m.format == out_format, \n",
    "               trn_audiometa)), \"exported audio format is not {} for all\".format(out_format)\n",
    "assert all(map(lambda m: m.samplerate == out_samplerate, \n",
    "               trn_audiometa)), \"exported audio samplerate is not {} for all\".format(out_samplerate)\n",
    "assert all(map(lambda m: m.nchannels == out_channels, \n",
    "               trn_audiometa)), \"exported audio nchannels is not {} for all\".format(out_channels)\n",
    "\n",
    "# ALL OKAY IF NO ASSERTION ERRORS\n"
   ]
  },
  {
   "cell_type": "code",
   "execution_count": 42,
   "metadata": {
    "ExecuteTime": {
     "end_time": "2017-04-04T14:17:29.926186",
     "start_time": "2017-04-04T14:17:28.762157"
    },
    "collapsed": true
   },
   "outputs": [],
   "source": [
    "# tst split\n",
    "\n",
    "tst_afns = sorted([os.path.basename(afp).split('.')[0] for afp, _ in tst_pairs])\n",
    "tst_lfns = sorted([os.path.basename(lfp).split('.')[0] for _, lfp in tst_pairs])\n",
    "\n",
    "tst_xafps = glob.glob(os.path.join(tst_audiodata_dir, \"**\", \"*.{}\".format(out_format)))\n",
    "tst_xlfps = glob.glob(os.path.join(tst_labeldata_dir, \"**\", \"*.txt\"))\n",
    "\n",
    "tst_xafns = sorted([os.path.basename(xafp).split('.')[0] for xafp in tst_xafps])\n",
    "tst_xlfns = sorted([os.path.basename(xlfp).split('.')[0] for xlfp in tst_xlfps])\n",
    "\n",
    "# check all calls were exported / copied\n",
    "assert len(tst_afns) == len(tst_xafns), \"Mismatched number of audio files\"\n",
    "assert len(tst_lfns) == len(tst_xlfns), \"Mismatched number of label files\"\n",
    "\n",
    "assert set(tst_afns) == set(tst_xafns), \"Mismatched in sets of audio files\"\n",
    "assert set(tst_lfns) == set(tst_xlfns), \"Mismatched in sets of label files\"\n",
    "\n",
    "# check all exported audios have the correct formatting\n",
    "\n",
    "tst_audiometa = list(map(au.get_audio_metadata, tst_xafps))\n",
    "\n",
    "assert all(map(lambda m: m.format == out_format, \n",
    "               tst_audiometa)), \"exported audio format is not {} for all\".format(out_format)\n",
    "assert all(map(lambda m: m.samplerate == out_samplerate, \n",
    "               tst_audiometa)), \"exported audio samplerate is not {} for all\".format(out_samplerate)\n",
    "assert all(map(lambda m: m.nchannels == out_channels, \n",
    "               tst_audiometa)), \"exported audio nchannels is not {} for all\".format(out_channels)\n",
    "\n",
    "# ALL OKAY IF NO ASSERTION ERRORS\n"
   ]
  },
  {
   "cell_type": "markdown",
   "metadata": {},
   "source": [
    "### Results\n",
    "\n",
    "- All labels were copied\n",
    "- All audio files were converted to 8kHz wav files with 1 channel formed on merging the two channels in original"
   ]
  },
  {
   "cell_type": "code",
   "execution_count": null,
   "metadata": {
    "collapsed": true
   },
   "outputs": [],
   "source": []
  }
 ],
 "metadata": {
  "hide_input": false,
  "kernelspec": {
   "display_name": "Python [conda root]",
   "language": "python",
   "name": "conda-root-py"
  },
  "language_info": {
   "codemirror_mode": {
    "name": "ipython",
    "version": 3
   },
   "file_extension": ".py",
   "mimetype": "text/x-python",
   "name": "python",
   "nbconvert_exporter": "python",
   "pygments_lexer": "ipython3",
   "version": "3.5.2"
  },
  "latex_envs": {
   "bibliofile": "biblio.bib",
   "cite_by": "apalike",
   "current_citInitial": 1,
   "eqLabelWithNumbers": true,
   "eqNumInitial": 0
  },
  "nav_menu": {},
  "toc": {
   "navigate_menu": true,
   "number_sections": true,
   "sideBar": true,
   "threshold": 4,
   "toc_cell": false,
   "toc_section_display": "block",
   "toc_window_display": false
  },
  "widgets": {
   "state": {
    "000e95659cf24881937f2a37b1dc07c4": {
     "views": [
      {
       "cell_index": 46
      }
     ]
    },
    "148f4eca0a2940b1ae6dc32fc1ab2007": {
     "views": [
      {
       "cell_index": 50
      }
     ]
    },
    "1fe951196b224badbc8cb8bf905da448": {
     "views": [
      {
       "cell_index": 46
      }
     ]
    },
    "21c39489ee734592a26949ca4e6656c1": {
     "views": [
      {
       "cell_index": 50
      }
     ]
    },
    "57d475a5af464ad8a7da2de22df70e63": {
     "views": [
      {
       "cell_index": 50
      }
     ]
    },
    "8bf2fd5729fb454b97660f89e8756f63": {
     "views": [
      {
       "cell_index": 50
      }
     ]
    },
    "8cfab6c70b694e55857d4a197315d09b": {
     "views": [
      {
       "cell_index": 46
      }
     ]
    },
    "95972e5a7353428eb349e1a3bc992b1b": {
     "views": [
      {
       "cell_index": 46
      }
     ]
    },
    "9b3d584825534b6dac6609f03f498629": {
     "views": [
      {
       "cell_index": 50
      }
     ]
    },
    "b49068cca1b4441985a7ef8d2288af88": {
     "views": [
      {
       "cell_index": 50
      }
     ]
    },
    "c8bba6aebb7444e8bf8b1b8ef05c9492": {
     "views": [
      {
       "cell_index": 50
      }
     ]
    }
   },
   "version": "1.2.0"
  }
 },
 "nbformat": 4,
 "nbformat_minor": 2
}

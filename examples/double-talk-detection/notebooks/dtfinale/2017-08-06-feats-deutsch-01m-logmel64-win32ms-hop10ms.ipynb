{
 "cells": [
  {
   "cell_type": "markdown",
   "metadata": {},
   "source": [
    "# Extract `logmelspectrogram_64` features for `fe_03_p1m`"
   ]
  },
  {
   "cell_type": "markdown",
   "metadata": {},
   "source": [
    "## Setup\n",
    "\n",
    "Requires some manual inputs"
   ]
  },
  {
   "cell_type": "markdown",
   "metadata": {},
   "source": [
    "## Imports"
   ]
  },
  {
   "cell_type": "code",
   "execution_count": 1,
   "metadata": {
    "ExecuteTime": {
     "end_time": "2017-08-06T20:46:32.450747Z",
     "start_time": "2017-08-06T20:46:32.425519Z"
    }
   },
   "outputs": [],
   "source": [
    "# from __future__ import division, print_function  # not running this on py27\n",
    "import os\n",
    "import sys\n",
    "\n",
    "sys.path.append(os.environ['RENNET_ROOT'])  # the supporting library\n",
    "\n",
    "%load_ext autoreload\n",
    "%autoreload 1  # reload only what has been marked for it"
   ]
  },
  {
   "cell_type": "code",
   "execution_count": 2,
   "metadata": {
    "ExecuteTime": {
     "end_time": "2017-08-06T20:46:35.991564Z",
     "start_time": "2017-08-06T20:46:33.097103Z"
    }
   },
   "outputs": [],
   "source": [
    "import glob\n",
    "import warnings\n",
    "from collections import namedtuple\n",
    "from itertools import starmap\n",
    "\n",
    "import librosa as lr\n",
    "import numpy as np\n",
    "import dask as d\n",
    "import dask.array as da\n",
    "from distributed import Client\n",
    "import h5py as h\n",
    "\n",
    "import dask.diagnostics as dg\n",
    "import time\n",
    "from bokeh.io import output_notebook"
   ]
  },
  {
   "cell_type": "code",
   "execution_count": 3,
   "metadata": {
    "ExecuteTime": {
     "end_time": "2017-08-06T20:46:46.094284Z",
     "start_time": "2017-08-06T20:46:46.060192Z"
    }
   },
   "outputs": [],
   "source": [
    "%aimport rennet.datasets.fisher\n",
    "import rennet.datasets.ka3 as fe\n",
    "\n",
    "%aimport rennet.utils.audio_utils\n",
    "import rennet.utils.audio_utils as au\n",
    "\n",
    "%aimport rennet.utils.np_utils\n",
    "import rennet.utils.np_utils as nu"
   ]
  },
  {
   "cell_type": "code",
   "execution_count": 4,
   "metadata": {
    "ExecuteTime": {
     "end_time": "2017-08-06T20:46:47.828625Z",
     "start_time": "2017-08-06T20:46:47.795601Z"
    }
   },
   "outputs": [
    {
     "data": {
      "text/html": [
       "\n",
       "    <div class=\"bk-root\">\n",
       "        <a href=\"http://bokeh.pydata.org\" target=\"_blank\" class=\"bk-logo bk-logo-small bk-logo-notebook\"></a>\n",
       "        <span id=\"1c0e799e-1992-4586-b458-044461c44b6c\">Loading BokehJS ...</span>\n",
       "    </div>"
      ]
     },
     "metadata": {},
     "output_type": "display_data"
    },
    {
     "data": {
      "application/javascript": [
       "\n",
       "(function(global) {\n",
       "  function now() {\n",
       "    return new Date();\n",
       "  }\n",
       "\n",
       "  var force = true;\n",
       "\n",
       "  if (typeof (window._bokeh_onload_callbacks) === \"undefined\" || force === true) {\n",
       "    window._bokeh_onload_callbacks = [];\n",
       "    window._bokeh_is_loading = undefined;\n",
       "  }\n",
       "\n",
       "\n",
       "  \n",
       "  if (typeof (window._bokeh_timeout) === \"undefined\" || force === true) {\n",
       "    window._bokeh_timeout = Date.now() + 5000;\n",
       "    window._bokeh_failed_load = false;\n",
       "  }\n",
       "\n",
       "  var NB_LOAD_WARNING = {'data': {'text/html':\n",
       "     \"<div style='background-color: #fdd'>\\n\"+\n",
       "     \"<p>\\n\"+\n",
       "     \"BokehJS does not appear to have successfully loaded. If loading BokehJS from CDN, this \\n\"+\n",
       "     \"may be due to a slow or bad network connection. Possible fixes:\\n\"+\n",
       "     \"</p>\\n\"+\n",
       "     \"<ul>\\n\"+\n",
       "     \"<li>re-rerun `output_notebook()` to attempt to load from CDN again, or</li>\\n\"+\n",
       "     \"<li>use INLINE resources instead, as so:</li>\\n\"+\n",
       "     \"</ul>\\n\"+\n",
       "     \"<code>\\n\"+\n",
       "     \"from bokeh.resources import INLINE\\n\"+\n",
       "     \"output_notebook(resources=INLINE)\\n\"+\n",
       "     \"</code>\\n\"+\n",
       "     \"</div>\"}};\n",
       "\n",
       "  function display_loaded() {\n",
       "    if (window.Bokeh !== undefined) {\n",
       "      var el = document.getElementById(\"1c0e799e-1992-4586-b458-044461c44b6c\");\n",
       "      el.textContent = \"BokehJS \" + Bokeh.version + \" successfully loaded.\";\n",
       "    } else if (Date.now() < window._bokeh_timeout) {\n",
       "      setTimeout(display_loaded, 100)\n",
       "    }\n",
       "  }\n",
       "\n",
       "  function run_callbacks() {\n",
       "    window._bokeh_onload_callbacks.forEach(function(callback) { callback() });\n",
       "    delete window._bokeh_onload_callbacks\n",
       "    console.info(\"Bokeh: all callbacks have finished\");\n",
       "  }\n",
       "\n",
       "  function load_libs(js_urls, callback) {\n",
       "    window._bokeh_onload_callbacks.push(callback);\n",
       "    if (window._bokeh_is_loading > 0) {\n",
       "      console.log(\"Bokeh: BokehJS is being loaded, scheduling callback at\", now());\n",
       "      return null;\n",
       "    }\n",
       "    if (js_urls == null || js_urls.length === 0) {\n",
       "      run_callbacks();\n",
       "      return null;\n",
       "    }\n",
       "    console.log(\"Bokeh: BokehJS not loaded, scheduling load and callback at\", now());\n",
       "    window._bokeh_is_loading = js_urls.length;\n",
       "    for (var i = 0; i < js_urls.length; i++) {\n",
       "      var url = js_urls[i];\n",
       "      var s = document.createElement('script');\n",
       "      s.src = url;\n",
       "      s.async = false;\n",
       "      s.onreadystatechange = s.onload = function() {\n",
       "        window._bokeh_is_loading--;\n",
       "        if (window._bokeh_is_loading === 0) {\n",
       "          console.log(\"Bokeh: all BokehJS libraries loaded\");\n",
       "          run_callbacks()\n",
       "        }\n",
       "      };\n",
       "      s.onerror = function() {\n",
       "        console.warn(\"failed to load library \" + url);\n",
       "      };\n",
       "      console.log(\"Bokeh: injecting script tag for BokehJS library: \", url);\n",
       "      document.getElementsByTagName(\"head\")[0].appendChild(s);\n",
       "    }\n",
       "  };var element = document.getElementById(\"1c0e799e-1992-4586-b458-044461c44b6c\");\n",
       "  if (element == null) {\n",
       "    console.log(\"Bokeh: ERROR: autoload.js configured with elementid '1c0e799e-1992-4586-b458-044461c44b6c' but no matching script tag was found. \")\n",
       "    return false;\n",
       "  }\n",
       "\n",
       "  var js_urls = [\"https://cdn.pydata.org/bokeh/release/bokeh-0.12.5.min.js\", \"https://cdn.pydata.org/bokeh/release/bokeh-widgets-0.12.5.min.js\"];\n",
       "\n",
       "  var inline_js = [\n",
       "    function(Bokeh) {\n",
       "      Bokeh.set_log_level(\"info\");\n",
       "    },\n",
       "    \n",
       "    function(Bokeh) {\n",
       "      \n",
       "    },\n",
       "    \n",
       "    function(Bokeh) {\n",
       "      \n",
       "      document.getElementById(\"1c0e799e-1992-4586-b458-044461c44b6c\").textContent = \"BokehJS is loading...\";\n",
       "    },\n",
       "    function(Bokeh) {\n",
       "      console.log(\"Bokeh: injecting CSS: https://cdn.pydata.org/bokeh/release/bokeh-0.12.5.min.css\");\n",
       "      Bokeh.embed.inject_css(\"https://cdn.pydata.org/bokeh/release/bokeh-0.12.5.min.css\");\n",
       "      console.log(\"Bokeh: injecting CSS: https://cdn.pydata.org/bokeh/release/bokeh-widgets-0.12.5.min.css\");\n",
       "      Bokeh.embed.inject_css(\"https://cdn.pydata.org/bokeh/release/bokeh-widgets-0.12.5.min.css\");\n",
       "    }\n",
       "  ];\n",
       "\n",
       "  function run_inline_js() {\n",
       "    \n",
       "    if ((window.Bokeh !== undefined) || (force === true)) {\n",
       "      for (var i = 0; i < inline_js.length; i++) {\n",
       "        inline_js[i](window.Bokeh);\n",
       "      }if (force === true) {\n",
       "        display_loaded();\n",
       "      }} else if (Date.now() < window._bokeh_timeout) {\n",
       "      setTimeout(run_inline_js, 100);\n",
       "    } else if (!window._bokeh_failed_load) {\n",
       "      console.log(\"Bokeh: BokehJS failed to load within specified timeout.\");\n",
       "      window._bokeh_failed_load = true;\n",
       "    } else if (force !== true) {\n",
       "      var cell = $(document.getElementById(\"1c0e799e-1992-4586-b458-044461c44b6c\")).parents('.cell').data().cell;\n",
       "      cell.output_area.append_execute_result(NB_LOAD_WARNING)\n",
       "    }\n",
       "\n",
       "  }\n",
       "\n",
       "  if (window._bokeh_is_loading === 0) {\n",
       "    console.log(\"Bokeh: BokehJS loaded, going straight to plotting\");\n",
       "    run_inline_js();\n",
       "  } else {\n",
       "    load_libs(js_urls, function() {\n",
       "      console.log(\"Bokeh: BokehJS plotting callback run at\", now());\n",
       "      run_inline_js();\n",
       "    });\n",
       "  }\n",
       "}(this));"
      ]
     },
     "metadata": {},
     "output_type": "display_data"
    }
   ],
   "source": [
    "# dask progress bars and other diagnostics\n",
    "pb = dg.ProgressBar()\n",
    "pb.register()\n",
    "\n",
    "output_notebook()\n",
    "\n",
    "pr = dg.Profiler()\n",
    "pr.register()\n",
    "\n",
    "rpr = dg.ResourceProfiler(dt=0.1)\n",
    "rpr.register()"
   ]
  },
  {
   "cell_type": "markdown",
   "metadata": {},
   "source": [
    "## Params \n",
    "\n",
    "For feature extraction and related tasks like, output file naming, etc."
   ]
  },
  {
   "cell_type": "code",
   "execution_count": 59,
   "metadata": {
    "ExecuteTime": {
     "end_time": "2017-08-06T20:57:29.800446Z",
     "start_time": "2017-08-06T20:57:29.780200Z"
    }
   },
   "outputs": [
    {
     "name": "stdout",
     "output_type": "stream",
     "text": [
      "win-len 256\n",
      "hop-len 80\n",
      "\n",
      "chunking 8192\n",
      "chunkovl 512\n",
      "chunkstep 7680\n",
      "\n",
      "mel-frequencies (64)\n",
      " [    0.            37.21032838    74.42065675   111.63098513   148.8413135\n",
      "   186.05164188   223.26197025   260.47229863   297.682627     334.89295538\n",
      "   372.10328375   409.31361213   446.5239405    483.73426888   520.94459725\n",
      "   558.15492563   595.365254     632.57558238   669.78591075   706.99623913\n",
      "   744.20656751   781.41689588   818.62722426   855.83755263   893.04788101\n",
      "   930.25820938   967.46853776  1004.83686549  1044.14602321  1084.99295281\n",
      "  1127.43781185  1171.54311121  1217.37380723  1264.99739732  1314.48401939\n",
      "  1365.90655514  1419.34073739  1474.86526164  1532.56190193  1592.51563132\n",
      "  1654.814747    1719.55100033  1786.819732    1856.72001241  1929.35478758\n",
      "  2004.83103078  2083.25990007  2164.75690202  2249.44206177  2337.44009988\n",
      "  2428.88061595  2523.8982795   2622.63302834  2725.23027461  2831.84111897\n",
      "  2942.62257316  3057.73779117  3177.35630958  3301.65429723  3430.81481468\n",
      "  3565.0280838   3704.49176794  3849.41126301  4000.        ]\n"
     ]
    }
   ],
   "source": [
    "# The parameters that will be used for extracting logmelspectrogram\n",
    "win_sec = 0.032\n",
    "hop_sec = 0.010\n",
    "nmels = 64\n",
    "window = 'hann'\n",
    "sr = samplerate = 8000\n",
    "nchannels = 1\n",
    "chunking = 2**13\n",
    "chunkovl = 2**9\n",
    "\n",
    "n_fft = win_len = int(win_sec * sr)\n",
    "hop_len = int(hop_sec * sr)\n",
    "chunkstep = chunking - chunkovl\n",
    "melfreq = lr.mel_frequencies(n_mels=nmels, fmax=sr//2)\n",
    "\n",
    "print('win-len', win_len)\n",
    "print('hop-len', hop_len)\n",
    "print()\n",
    "print('chunking', chunking)\n",
    "print('chunkovl', chunkovl)\n",
    "print('chunkstep', chunkstep)\n",
    "print()\n",
    "print('mel-frequencies ({})\\n'.format(len(melfreq)), melfreq)"
   ]
  },
  {
   "cell_type": "markdown",
   "metadata": {},
   "source": [
    "## Roots & Paths"
   ]
  },
  {
   "cell_type": "markdown",
   "metadata": {},
   "source": [
    "### Sources \n",
    "\n",
    "Where the pre-split wav and label exports are"
   ]
  },
  {
   "cell_type": "code",
   "execution_count": 60,
   "metadata": {
    "ExecuteTime": {
     "end_time": "2017-08-06T20:57:31.380397Z",
     "start_time": "2017-08-06T20:57:31.364788Z"
    }
   },
   "outputs": [
    {
     "name": "stdout",
     "output_type": "stream",
     "text": [
      "RENNET_X\n",
      "/Users/abdullah/Delve/iais/rennet-x\n",
      "\n",
      "SPLITS_ROOT\n",
      "/Users/abdullah/Delve/iais/rennet-x/data/working/ka3/deutsch-01m/wav-8k-mono\n",
      "\n"
     ]
    }
   ],
   "source": [
    "# Setting up roots for sources\n",
    "\n",
    "rennet_x_root = os.environ['RENNET_X_ROOT']\n",
    "print('RENNET_X', rennet_x_root, '', sep='\\n')\n",
    "\n",
    "working_data_dir = os.path.join(rennet_x_root, 'data', 'working')\n",
    "\n",
    "provider = 'ka3'\n",
    "dataset = 'deutsch-01m'\n",
    "export_name = 'wav-8k-mono'\n",
    "\n",
    "\n",
    "# Root path to where the splits are\n",
    "\n",
    "splits_root = os.path.join(working_data_dir, provider, dataset, export_name)\n",
    "# check if it exists\n",
    "if not os.path.exists(splits_root):\n",
    "    raise RuntimeError(\"SPLITS_ROOT not found at: \\n {}\".format(splits_root))\n",
    "    \n",
    "print('SPLITS_ROOT', splits_root, '', sep='\\n')\n",
    "\n",
    "# No errors means all okay"
   ]
  },
  {
   "cell_type": "code",
   "execution_count": 18,
   "metadata": {
    "ExecuteTime": {
     "end_time": "2017-08-06T20:50:47.914550Z",
     "start_time": "2017-08-06T20:50:47.877641Z"
    }
   },
   "outputs": [
    {
     "name": "stdout",
     "output_type": "stream",
     "text": [
      "\n",
      "CHECK IF THE QUERIES MAKE SENSE\n",
      "\n",
      "Calldata Query:\n",
      " /Users/abdullah/Delve/iais/rennet-x/data/working/ka3/deutsch-01m/wav-8k-mono/val/labels/*calldata.tbl\n",
      "\n",
      "\n",
      "Validation Audios Query:\n",
      " /Users/abdullah/Delve/iais/rennet-x/data/working/ka3/deutsch-01m/wav-8k-mono/val/audios/data/*.wav\n",
      "\n",
      "Validation Labels Query:\n",
      " /Users/abdullah/Delve/iais/rennet-x/data/working/ka3/deutsch-01m/wav-8k-mono/val/labels/data/*.xml\n",
      "\n",
      "\n",
      "Train Audios Query:\n",
      " /Users/abdullah/Delve/iais/rennet-x/data/working/ka3/deutsch-01m/wav-8k-mono/train/audios/data/*.wav\n",
      "\n",
      "Train Labels Query:\n",
      " /Users/abdullah/Delve/iais/rennet-x/data/working/ka3/deutsch-01m/wav-8k-mono/train/labels/data/*.xml\n",
      "\n",
      "\n",
      "Test Audios Query:\n",
      " /Users/abdullah/Delve/iais/rennet-x/data/working/ka3/deutsch-01m/wav-8k-mono/test/audios/data/*.wav\n",
      "\n",
      "Test Labels Query:\n",
      " /Users/abdullah/Delve/iais/rennet-x/data/working/ka3/deutsch-01m/wav-8k-mono/test/labels/data/*.xml\n"
     ]
    }
   ],
   "source": [
    "# Making glob queries for audio, label and calldata files\n",
    "\n",
    "export_val_dir = os.path.join(splits_root, 'val')\n",
    "val_audios_dir = os.path.join(export_val_dir, 'audios', 'data')\n",
    "val_audios_glob_str = str(os.path.join(val_audios_dir, \"*.wav\"))\n",
    "val_labels_dir = os.path.join(export_val_dir, 'labels', 'data')\n",
    "val_labels_glob_str = str(os.path.join(val_labels_dir, \"*.xml\"))\n",
    "\n",
    "export_trn_dir = os.path.join(splits_root, 'train')\n",
    "trn_audios_dir = os.path.join(export_trn_dir, 'audios', 'data')\n",
    "trn_audios_glob_str = str(os.path.join(trn_audios_dir, \"*.wav\"))\n",
    "trn_labels_dir = os.path.join(export_trn_dir, 'labels', 'data')\n",
    "trn_labels_glob_str = str(os.path.join(trn_labels_dir, \"*.xml\"))\n",
    "\n",
    "export_tst_dir = os.path.join(splits_root, 'test')\n",
    "tst_audios_dir = os.path.join(export_tst_dir, 'audios', 'data')\n",
    "tst_audios_glob_str = str(os.path.join(tst_audios_dir, \"*.wav\"))\n",
    "tst_labels_dir = os.path.join(export_tst_dir, 'labels', 'data')\n",
    "tst_labels_glob_str = str(os.path.join(tst_labels_dir, \"*.xml\"))\n",
    "\n",
    "print(\"\\nCHECK IF THE QUERIES MAKE SENSE\\n\")\n",
    "print(\"Calldata Query:\\n\", calldata_glob_str)\n",
    "print(\"\\n\")\n",
    "print(\"Validation Audios Query:\\n\", val_audios_glob_str)\n",
    "print()\n",
    "print(\"Validation Labels Query:\\n\", val_labels_glob_str)\n",
    "print(\"\\n\")\n",
    "print(\"Train Audios Query:\\n\", trn_audios_glob_str)\n",
    "print()\n",
    "print(\"Train Labels Query:\\n\", trn_labels_glob_str)\n",
    "print(\"\\n\")\n",
    "print(\"Test Audios Query:\\n\", tst_audios_glob_str)\n",
    "print()\n",
    "print(\"Test Labels Query:\\n\", tst_labels_glob_str)\n",
    "\n",
    "# You should look at the queries"
   ]
  },
  {
   "cell_type": "code",
   "execution_count": 19,
   "metadata": {
    "ExecuteTime": {
     "end_time": "2017-08-06T20:50:49.107345Z",
     "start_time": "2017-08-06T20:50:49.077366Z"
    }
   },
   "outputs": [],
   "source": [
    "# helpers\n",
    "\n",
    "AudioLabelPair = namedtuple('AudioLabelPair', 'audio,label')\n",
    "\n",
    "def fn_for_fp(fp):\n",
    "    return os.path.basename(fp).split(\".\")[0]\n",
    "\n",
    "audio_metas = au.get_audio_metadata\n",
    "parse_label = lambda fp: fe.ActiveSpeakers.from_file(fp, warn_duplicates=False)\n",
    "\n",
    "def find_validate_pair_split(audios_glob_str, labels_glob_str, split_name, n_expected_pairs=None):\n",
    "    audio_fps = sorted(glob.glob(audios_glob_str))\n",
    "    label_fps = sorted(glob.glob(labels_glob_str))\n",
    "    \n",
    "    if n_expected_pairs is not None:\n",
    "        assert len(audio_fps) == n_expected_pairs,\\\n",
    "            \"{} audio files found, expected {}, check your query\".format(len(audio_fps), n_expected_pairs)\n",
    "        assert len(label_fps) == n_expected_pairs,\\\n",
    "            \"{} label files found, expected {}, check your query\".format(len(label_fps), n_expected_pairs)\n",
    "    else:\n",
    "        assert len(audio_fps) > 0, \"No audio files found, check your query\"\n",
    "        assert len(label_fps) > 0, \"No label files found, check your query\"\n",
    "\n",
    "    assert len(audio_fps) == len(label_fps),\\\n",
    "        \"\\nMISMATCH: audios : {} v/s {} labels\".format(len(audio_fps), len(label_fps))\n",
    "\n",
    "    # make pairs with zip\n",
    "    pairs = list(starmap(\n",
    "        AudioLabelPair,\n",
    "        zip(\n",
    "            map(audio_metas, audio_fps), \n",
    "            map(parse_label, label_fps))))\n",
    "\n",
    "    # Assert that all pairs have same callid\n",
    "    # NOTE: here, we check the filename, which has the callid\n",
    "    assert all(fn_for_fp(a.filepath) == fn_for_fp(l.sourcefile) for a, l in pairs),\\\n",
    "        \"\\nMISMATCH: callids between audio and label, check filenames, ordering, or missing/substitutions\"\n",
    "\n",
    "    # print some stats for feedback\n",
    "    print(\"{}:#############################################################\\n\\n\".format(split_name.upper()),\n",
    "          \"Total Pairs: {}\\n\\n\".format(len(pairs)),\n",
    "          \"For Example:\\n\\n{}\\n\\n...\".format(\n",
    "              \"\\n...\\n\\n\".join(\"{}\\n{}\".format(a, l[:3]) \n",
    "                        for a, l in pairs[:2])))\n",
    "    return pairs"
   ]
  },
  {
   "cell_type": "code",
   "execution_count": 20,
   "metadata": {
    "ExecuteTime": {
     "end_time": "2017-08-06T20:50:50.142656Z",
     "start_time": "2017-08-06T20:50:49.800630Z"
    }
   },
   "outputs": [
    {
     "name": "stdout",
     "output_type": "stream",
     "text": [
      "VAL:#############################################################\n",
      "\n",
      " Total Pairs: 1\n",
      "\n",
      " For Example:\n",
      "\n",
      "AudioMetadata(filepath='/Users/abdullah/Delve/iais/rennet-x/data/working/ka3/deutsch-01m/wav-8k-mono/val/audios/data/Lisa_David.wav', format='wav', samplerate=8000, nchannels=1, seconds=2412.838375, nsamples=19302707)\n",
      "Source filepath: /Users/abdullah/Delve/iais/rennet-x/data/working/ka3/deutsch-01m/wav-8k-mono/val/labels/data/Lisa_David.xml\n",
      "Speakers: 2\n",
      "ka3.Speaker(speakerid='1', gender='female', givenname='Lisa')\n",
      "ka3.Speaker(speakerid='2', gender='male', givenname='David')\n",
      "ka3.ActiveSpeakers with sample rate 100\n",
      "Start    - End      : Label\n",
      "0.0000   - 118.0000 : [1 0]\n",
      "118.0000 - 256.0000 : [1 0]\n",
      "256.0000 - 522.0000 : [1 0]\n",
      "\n",
      "...\n"
     ]
    },
    {
     "name": "stderr",
     "output_type": "stream",
     "text": [
      "/Users/abdullah/Delve/iais/rennet/rennet/datasets/ka3.py:185: UserWarning: (end - start) <= 0 ignored for annotation at 600 with values (157484, 157484, 100) in file /Users/abdullah/Delve/iais/rennet-x/data/working/ka3/deutsch-01m/wav-8k-mono/val/labels/data/Lisa_David.xml\n",
      "  format(i, start_end_persec, filepath))\n"
     ]
    }
   ],
   "source": [
    "# VAL: Find all audio and label files, single list per split\n",
    "val_pairs = find_validate_pair_split(val_audios_glob_str, val_labels_glob_str, 'val', 1)\n",
    "\n",
    "# No errors means all okay for VAL"
   ]
  },
  {
   "cell_type": "code",
   "execution_count": 21,
   "metadata": {
    "ExecuteTime": {
     "end_time": "2017-08-06T20:50:56.023448Z",
     "start_time": "2017-08-06T20:50:55.600291Z"
    },
    "collapsed": true
   },
   "outputs": [
    {
     "name": "stdout",
     "output_type": "stream",
     "text": [
      "TRN:#############################################################\n",
      "\n",
      " Total Pairs: 15\n",
      "\n",
      " For Example:\n",
      "\n",
      "AudioMetadata(filepath='/Users/abdullah/Delve/iais/rennet-x/data/working/ka3/deutsch-01m/wav-8k-mono/train/audios/data/DEU_pear_Alex.wav', format='wav', samplerate=8000, nchannels=1, seconds=238.64, nsamples=1909120)\n",
      "Source filepath: /Users/abdullah/Delve/iais/rennet-x/data/working/ka3/deutsch-01m/wav-8k-mono/train/labels/data/DEU_pear_Alex.xml\n",
      "Speakers: 2\n",
      "ka3.Speaker(speakerid='1', gender='female', givenname='Alex')\n",
      "ka3.Speaker(speakerid='2', gender='female', givenname='Carola')\n",
      "ka3.ActiveSpeakers with sample rate 100\n",
      "Start    - End      : Label\n",
      "0.0000   - 32.0000  : [1 1]\n",
      "32.0000  - 34.0000  : [1 0]\n",
      "34.0000  - 107.0000 : [0 0]\n",
      "...\n",
      "\n",
      "AudioMetadata(filepath='/Users/abdullah/Delve/iais/rennet-x/data/working/ka3/deutsch-01m/wav-8k-mono/train/audios/data/DEU_pear_Brun.wav', format='wav', samplerate=8000, nchannels=1, seconds=192.76, nsamples=1542080)\n",
      "Source filepath: /Users/abdullah/Delve/iais/rennet-x/data/working/ka3/deutsch-01m/wav-8k-mono/train/labels/data/DEU_pear_Brun.xml\n",
      "Speakers: 3\n",
      "ka3.Speaker(speakerid='1', gender='female', givenname='B1')\n",
      "ka3.Speaker(speakerid='2', gender='female', givenname='B2')\n",
      "ka3.Speaker(speakerid='3', gender='male', givenname='NH')\n",
      "ka3.ActiveSpeakers with sample rate 100\n",
      "Start    - End      : Label\n",
      "0.0000   - 77.0000  : [1 0 0]\n",
      "77.0000  - 126.0000 : [1 0 1]\n",
      "126.0000 - 131.0000 : [1 0 0]\n",
      "\n",
      "...\n"
     ]
    }
   ],
   "source": [
    "# TRN: Find all audio and label files, single list per split\n",
    "trn_pairs = find_validate_pair_split(trn_audios_glob_str, trn_labels_glob_str, 'trn', 15)\n",
    "\n",
    "# No errors means all okay for TRN"
   ]
  },
  {
   "cell_type": "code",
   "execution_count": 22,
   "metadata": {
    "ExecuteTime": {
     "end_time": "2017-08-06T20:51:02.262366Z",
     "start_time": "2017-08-06T20:51:02.256026Z"
    }
   },
   "outputs": [
    {
     "name": "stdout",
     "output_type": "stream",
     "text": [
      "TST:#############################################################\n",
      "\n",
      " Total Pairs: 0\n",
      "\n",
      " For Example:\n",
      "\n",
      "\n",
      "\n",
      "...\n"
     ]
    }
   ],
   "source": [
    "# TST: Find all audio and label files, single list per split\n",
    "tst_pairs = find_validate_pair_split(tst_audios_glob_str, tst_labels_glob_str, 'tst', 0)\n",
    "\n",
    "# No errors means all okay for TST"
   ]
  },
  {
   "cell_type": "markdown",
   "metadata": {},
   "source": [
    "### Sinks\n",
    "\n",
    "Where the exported features will be saved"
   ]
  },
  {
   "cell_type": "code",
   "execution_count": 24,
   "metadata": {
    "ExecuteTime": {
     "end_time": "2017-08-06T20:51:21.898014Z",
     "start_time": "2017-08-06T20:51:21.880103Z"
    }
   },
   "outputs": [
    {
     "name": "stdout",
     "output_type": "stream",
     "text": [
      "Export Directory (was created)\n",
      "\n",
      "/Users/abdullah/Delve/iais/rennet-x/data/working/ka3/deutsch-01m/wav-8k-mono/pickles/20170806-logmel64-win32ms-hop10ms\n",
      "\n",
      "\n",
      "\n",
      "Export Filepaths\n",
      "\n",
      "/Users/abdullah/Delve/iais/rennet-x/data/working/ka3/deutsch-01m/wav-8k-mono/pickles/20170806-logmel64-win32ms-hop10ms/val.h5\n",
      "\n",
      "/Users/abdullah/Delve/iais/rennet-x/data/working/ka3/deutsch-01m/wav-8k-mono/pickles/20170806-logmel64-win32ms-hop10ms/trn.h5\n",
      "\n",
      "/Users/abdullah/Delve/iais/rennet-x/data/working/ka3/deutsch-01m/wav-8k-mono/pickles/20170806-logmel64-win32ms-hop10ms/tst.h5\n",
      "\n"
     ]
    }
   ],
   "source": [
    "pickles_root = os.path.join(splits_root, 'pickles')  # Root where the directory with h5 will go\n",
    "os.makedirs(pickles_root, exist_ok=True)\n",
    "\n",
    "# Pattern for naming the dir inside the pickles root\n",
    "datestamp = \"20170806\"  # time.strftime(\"%Y%m%d\")\n",
    "pattern = \"{}-logmel{}-win{}ms-hop{}ms\".format(datestamp, nmels, \n",
    "                                                        int(win_sec*1000), \n",
    "                                                        int(hop_sec*1000))\n",
    "\n",
    "pickles_dir = os.path.join(pickles_root, pattern)\n",
    "\n",
    "print(\"Export Directory (was created)\\n\", pickles_dir, sep='\\n')\n",
    "print('\\n\\n')\n",
    "\n",
    "fn_h5 = lambda splitname: \"{}.h5\".format(splitname)\n",
    "val_h5 = os.path.join(pickles_dir, fn_h5(\"val\"))\n",
    "trn_h5 = os.path.join(pickles_dir, fn_h5(\"trn\"))\n",
    "tst_h5 = os.path.join(pickles_dir, fn_h5(\"tst\"))\n",
    "\n",
    "print(\"Export Filepaths\\n\", \n",
    "      val_h5, '',\n",
    "      trn_h5, '',\n",
    "      tst_h5, '',\n",
    "      sep='\\n')\n",
    "\n",
    "os.makedirs(pickles_dir, exist_ok=False)"
   ]
  },
  {
   "cell_type": "markdown",
   "metadata": {},
   "source": [
    "## Main Functions\n",
    "\n",
    "These are the main functions that will be used in loading audio, extracting features, and inferring labels.\n",
    "\n",
    "These will be used in pre-flight checks, and later `dask.delayed`."
   ]
  },
  {
   "cell_type": "code",
   "execution_count": 61,
   "metadata": {
    "ExecuteTime": {
     "end_time": "2017-08-06T20:57:38.146845Z",
     "start_time": "2017-08-06T20:57:38.092198Z"
    }
   },
   "outputs": [],
   "source": [
    "# main Python / numpy functions\n",
    "\n",
    "def readaudiodata(pair):\n",
    "    # NOTE: In the pre-flight checks below, we will be testing the method below in \n",
    "    # more detail ... make any changes here if there's something wrong\n",
    "    \n",
    "    a, l = pair.audio, pair.label\n",
    "    \n",
    "    with l.samplerate_as(a.samplerate):\n",
    "        s = int(max(0, l.min_start))\n",
    "        e = int(min(a.nsamples, l.max_end))\n",
    "                \n",
    "    return lr.load(a.filepath, sr=None)[0][s:e]\n",
    "\n",
    "\n",
    "def extractfeat(audiodata):\n",
    "    return au.logmelspectrogram(y=audiodata, sr=sr, n_fft=n_fft, hop_len=hop_len, \n",
    "                                window=window, n_mels=nmels,\n",
    "                                # win_len=win_len,  # not necessary\n",
    "                               )\n",
    "\n",
    "def readlabelsdata(pair):\n",
    "    a, l = pair.audio, pair.label\n",
    "    \n",
    "    with l.samplerate_as(a.samplerate):\n",
    "        nsamples = min(a.nsamples, l.max_end) - l.min_start\n",
    "        \n",
    "    endings = fe.samples_for_labelsat(nsamples=nsamples, hop_len=hop_len, win_len=win_len)\n",
    "    \n",
    "    with l.min_start_as(0, samplerate=a.samplerate):\n",
    "        labels = l.labels_at(endings, samplerate=a.samplerate)\n",
    "        \n",
    "    return labels\n",
    "\n",
    "def strided_feat(feat):\n",
    "    return nu.strided_view(feat, win_shape=chunking, step_shape=chunkstep)\n",
    "\n",
    "strided_label = strided_feat\n",
    "    \n",
    "def expected_featlen(pair):\n",
    "    a, l = pair.audio, pair.label\n",
    "    \n",
    "    with l.samplerate_as(a.samplerate):\n",
    "        nsamples = min(a.nsamples, l.max_end) - l.min_start\n",
    "        \n",
    "    return 1 + (nsamples - win_len) // hop_len\n",
    "\n",
    "def expected_stridedfeat_shape(pair):\n",
    "    featlen = expected_featlen(pair)\n",
    "    nstrides = (featlen - chunkovl) // chunkstep\n",
    "    return (nstrides, chunking, nmels)\n",
    "\n",
    "def expected_stridedlabel_shape(pair):\n",
    "    return (*expected_stridedfeat_shape(pair)[:-1], len(pair.label.speakers))"
   ]
  },
  {
   "cell_type": "code",
   "execution_count": 62,
   "metadata": {
    "ExecuteTime": {
     "end_time": "2017-08-06T20:57:38.688978Z",
     "start_time": "2017-08-06T20:57:38.681284Z"
    }
   },
   "outputs": [],
   "source": [
    "# dast.delayed versions of the above ... notice minimum number of args for each\n",
    "\n",
    "d_readaudiodata = d.delayed(readaudiodata, name='audio')  # args=(pair,)\n",
    "\n",
    "d_extractfeat = d.delayed(extractfeat, name='feat')  # args=(audiodata,)\n",
    "# NOTE: Yes, we can split the multiple steps involved extractfeat\n",
    "# and delay each of them ... but ... let's not\n",
    "# Most amount of time is going to be spent in stft, so then\n",
    "# it will make a lot more sense to do that dasky way ... \n",
    "# and that needs another round of making decisions after checks.\n",
    "# Some other day ...\n",
    "\n",
    "d_stridefeat = d.delayed(strided_feat, name='stridef')  # args=(feat,)\n",
    "\n",
    "d_readlabelsdata = d.delayed(readlabelsdata, name='label')  # args=(pair,)\n",
    "\n",
    "d_stridelabel = d.delayed(strided_label, name='stridel')"
   ]
  },
  {
   "cell_type": "code",
   "execution_count": 77,
   "metadata": {
    "ExecuteTime": {
     "end_time": "2017-08-06T20:59:57.314094Z",
     "start_time": "2017-08-06T20:59:57.297514Z"
    }
   },
   "outputs": [],
   "source": [
    "def steps(pair):\n",
    "    # extract and stride features\n",
    "    audiodata = d_readaudiodata(pair)\n",
    "    feat = d_extractfeat(audiodata)\n",
    "    feat = d_stridefeat(feat)\n",
    "    \n",
    "    # extract and stride labels\n",
    "    label = d_readlabelsdata(pair)\n",
    "    label = d_stridelabel(label)\n",
    "    \n",
    "    # for feat\n",
    "    xfeatshape = expected_stridedfeat_shape(pair)\n",
    "    feat = da.from_delayed(feat, xfeatshape, np.float64)\n",
    "    feat = da.concatenate(feat)\n",
    "    \n",
    "    # for labels\n",
    "    xlabelshape = expected_stridedlabel_shape(pair)\n",
    "    label = da.from_delayed(label, xlabelshape, np.int)\n",
    "    label = da.concatenate(label)\n",
    "    \n",
    "    # dset paths in hdf5\n",
    "    topath = \"{}\".format(os.path.basename(pair.label.sourcefile).split('.')[0])\n",
    "    \n",
    "    apath = \"audios/{}\".format(topath)\n",
    "    lpath = \"labels/{}\".format(topath)\n",
    "    \n",
    "    return (apath, feat), (lpath, label)"
   ]
  },
  {
   "cell_type": "code",
   "execution_count": 78,
   "metadata": {
    "ExecuteTime": {
     "end_time": "2017-08-06T20:59:58.239251Z",
     "start_time": "2017-08-06T20:59:58.232310Z"
    }
   },
   "outputs": [],
   "source": [
    "def do_job_for_split(pairs, tofile):\n",
    "    dsets = dict()\n",
    "    \n",
    "    for pair in pairs:\n",
    "        (ap, a), (lp, l) = steps(pair)\n",
    "        \n",
    "        dsets[ap] = a\n",
    "        dsets[lp] = l\n",
    "        \n",
    "    da.to_hdf5(tofile, dsets, compression='lzf', fletcher32=True)"
   ]
  },
  {
   "cell_type": "markdown",
   "metadata": {},
   "source": [
    "## Pre-Flight Checks"
   ]
  },
  {
   "cell_type": "markdown",
   "metadata": {},
   "source": [
    "### Audios"
   ]
  },
  {
   "cell_type": "code",
   "execution_count": 29,
   "metadata": {
    "ExecuteTime": {
     "end_time": "2017-08-06T20:51:28.727507Z",
     "start_time": "2017-08-06T20:51:28.695682Z"
    }
   },
   "outputs": [],
   "source": [
    "# Detailed analysis : Do it for a few files, because it might take a lot of time\n",
    "\n",
    "\n",
    "# First, the helpers\n",
    "def validate_audio_detailed(pair):\n",
    "    assert nchannels <= 2, \"nchannels set by you is > 2, and librosa may do something weird\"\n",
    "    \n",
    "    a, asr = lr.load(pair.audio.filepath, sr=None)\n",
    "    ashape = a.shape\n",
    "    amin, amax = a.min(axis=-1), a.max(axis=-1)\n",
    "    amean = a.mean(axis=-1)\n",
    "    del a\n",
    "    \n",
    "    # check if the samplerates match\n",
    "    assert asr == samplerate, \"samplerate mismatch {} v/s {}\".format(asr, samplerate)\n",
    "    assert asr == pair.audio.samplerate, \"samplerate mismatch {} v/s {}\".format(asr, pair.audio.samplerate)\n",
    "    \n",
    "    # check if nchannels match\n",
    "    # HACK: don't rely on this, cuz librosa, I think, forces things to be at most stereo\n",
    "    assert len(ashape) == nchannels, \"nchannels mismatch {} v/s {}\".format(a.shape, nchannels)\n",
    "    assert len(ashape) == pair.audio.nchannels, \"nchannels mismatch {} v/s {}\".format(ashape, pair.audio.nchannels)\n",
    "    \n",
    "    # check if the nsamples <= labels.max_end\n",
    "    with pair.label.samplerate_as(asr):\n",
    "        me = pair.label.max_end\n",
    "        \n",
    "    assert ashape[-1] >= me, \"nsamples mismatch {} v/s {}\".format(ashape, me)\n",
    "    \n",
    "    # assert that the read audio was normalized\n",
    "    assert np.all(amin >= -1), \"amin not >= -1 at {}\".format(amin)\n",
    "    assert np.all(amax <=  1), \"amax not <= +1 at {}\".format(amax)\n",
    "    assert np.allclose(amean, 0, atol=1e-3), \"amean not close to zero at {}\".format(amean)\n",
    "    \n",
    "    \n",
    "def validate_audio_detailed_pairs(pairs):\n",
    "    for i, pair in enumerate(pairs):\n",
    "        try:\n",
    "            validate_audio_detailed(pair)\n",
    "        except AssertionError as e:\n",
    "            print('AssertionErrors with pair at {}'.format(i))\n",
    "            print(fn_for_fp(pair.audio.filepath))\n",
    "            print(e)\n",
    "            print()"
   ]
  },
  {
   "cell_type": "code",
   "execution_count": 30,
   "metadata": {
    "ExecuteTime": {
     "end_time": "2017-08-06T20:51:31.366089Z",
     "start_time": "2017-08-06T20:51:30.345638Z"
    }
   },
   "outputs": [],
   "source": [
    "validate_audio_detailed_pairs(val_pairs)\n",
    "\n",
    "# No errors means all okay with the audio files ... hopefully"
   ]
  },
  {
   "cell_type": "code",
   "execution_count": 31,
   "metadata": {
    "ExecuteTime": {
     "end_time": "2017-08-06T20:51:32.909926Z",
     "start_time": "2017-08-06T20:51:32.879392Z"
    }
   },
   "outputs": [],
   "source": [
    "# The quick analysis basically assumes that our impl of the audio_metadata reader is reliable\n",
    "# Yes, we should validate everything, and ... hopefully ... it will be all quick!\n",
    "\n",
    "def validate_audio_quick(pair):\n",
    "    a = pair.audio\n",
    "    asr = a.samplerate\n",
    "    ashape = (a.nchannels, a.nsamples) if a.nchannels > 1 else (a.nsamples,)\n",
    "    \n",
    "    # check if the samplerates match\n",
    "    assert asr == samplerate, \"samplerate mismatch {} v/s {}\".format(asr, samplerate)\n",
    "    \n",
    "    # check if nchannels match\n",
    "    # HACK: don't rely on this, cuz librosa, I think, forces things to be at most stereo\n",
    "    assert len(ashape) == nchannels, \"nchannels mismatch {} v/s {}\".format(ashape, nchannels)\n",
    "    \n",
    "    # check if the nsamples <= labels.max_end\n",
    "    with pair.label.samplerate_as(asr):\n",
    "        me = pair.label.max_end\n",
    "        \n",
    "    assert ashape[-1] >= me, \"nsamples mismatch {} v/s {}\".format(ashape, me)\n",
    "    \n",
    "    \n",
    "def validate_audio_quick_pairs(pairs):\n",
    "    with_err = []\n",
    "    for i, pair in enumerate(pairs):\n",
    "        try:\n",
    "            validate_audio_quick(pair)\n",
    "        except AssertionError as e:\n",
    "            print('AssertionErrors with pair at {}'.format(i))\n",
    "            print(fn_for_fp(pair.audio.filepath))\n",
    "            print(e)\n",
    "            print()\n",
    "            with_err.append(i)\n",
    "            \n",
    "    return with_err\n",
    "    "
   ]
  },
  {
   "cell_type": "code",
   "execution_count": 32,
   "metadata": {
    "ExecuteTime": {
     "end_time": "2017-08-06T20:51:34.158901Z",
     "start_time": "2017-08-06T20:51:34.144580Z"
    }
   },
   "outputs": [
    {
     "data": {
      "text/plain": [
       "[]"
      ]
     },
     "execution_count": 32,
     "metadata": {},
     "output_type": "execute_result"
    }
   ],
   "source": [
    "validate_audio_quick_pairs(val_pairs)\n",
    "\n",
    "# No errors means all okay with the audio files ... hopefully"
   ]
  },
  {
   "cell_type": "code",
   "execution_count": 33,
   "metadata": {
    "ExecuteTime": {
     "end_time": "2017-08-06T20:51:35.415046Z",
     "start_time": "2017-08-06T20:51:35.408132Z"
    }
   },
   "outputs": [
    {
     "name": "stdout",
     "output_type": "stream",
     "text": [
      "[]\n"
     ]
    }
   ],
   "source": [
    "trn_with_err = validate_audio_quick_pairs(trn_pairs)\n",
    "print(trn_with_err)\n",
    "# No errors means all okay with the audio files ... hopefully"
   ]
  },
  {
   "cell_type": "code",
   "execution_count": 34,
   "metadata": {
    "ExecuteTime": {
     "end_time": "2017-08-06T20:51:36.176101Z",
     "start_time": "2017-08-06T20:51:36.170140Z"
    }
   },
   "outputs": [
    {
     "data": {
      "text/plain": [
       "[]"
      ]
     },
     "execution_count": 34,
     "metadata": {},
     "output_type": "execute_result"
    }
   ],
   "source": [
    "validate_audio_quick_pairs(tst_pairs)\n",
    "\n",
    "# No errors means all okay with the audio files ... hopefully"
   ]
  },
  {
   "cell_type": "markdown",
   "metadata": {},
   "source": [
    "### Features\n",
    "\n",
    "We want to make sure that the features we will be calculating have the right shape.\n",
    "\n",
    "The values ... well ... I hope you are using reliable ones, because we can't do that deterministically.\n",
    "\n",
    "Finally, the validations will have to extract the features, and hence, will be slow.\n",
    "You will have to settle for smaller set of pairs.\n",
    "\n",
    "Do check for the pairs that caused issues earlier though!"
   ]
  },
  {
   "cell_type": "code",
   "execution_count": 65,
   "metadata": {
    "ExecuteTime": {
     "end_time": "2017-08-06T20:57:44.737069Z",
     "start_time": "2017-08-06T20:57:44.717538Z"
    }
   },
   "outputs": [],
   "source": [
    "def validate_featshape_detailed(pair):\n",
    "    am, lb = pair.audio, pair.label\n",
    "    \n",
    "    ad = readaudiodata(pair)\n",
    "    feat = extractfeat(ad)\n",
    "    featshape = feat.shape\n",
    "    \n",
    "    strfeat = strided_feat(feat)\n",
    "    strfeatshape = strfeat.shape\n",
    "    \n",
    "    del feat\n",
    "    del strfeat\n",
    "    \n",
    "    # expectations\n",
    "    xfeatshape = (expected_featlen(pair), nmels)\n",
    "    xstrfeatshape = expected_stridedfeat_shape(pair)\n",
    "    \n",
    "    # assert that they are the expected shapes\n",
    "    assert featshape == xfeatshape, \"Mismatch in featshape: {} v/s {}\".format(featshape, xfeatshape)\n",
    "    assert strfeatshape == xstrfeatshape, \"Mismatch in strfeatshape: {} v/s {}\".format(strfeatshape, xstrfeatshape)\n",
    "    \n",
    "    \n",
    "def validate_featshape_detailed_pairs(pairs):\n",
    "    for i, pair in enumerate(pairs):\n",
    "        try:\n",
    "            validate_featshape_detailed(pair)\n",
    "        except AssertionError as e:\n",
    "            print('AssertionErrors with pair at {}'.format(i))\n",
    "            print(fn_for_fp(pair.audio.filepath))\n",
    "            print(e)\n",
    "            print()"
   ]
  },
  {
   "cell_type": "code",
   "execution_count": 66,
   "metadata": {
    "ExecuteTime": {
     "end_time": "2017-08-06T20:57:47.883915Z",
     "start_time": "2017-08-06T20:57:45.614957Z"
    }
   },
   "outputs": [],
   "source": [
    "# This might be a long running one ... choose few\n",
    "\n",
    "validate_featshape_detailed_pairs(val_pairs)#[:5])\n",
    "\n",
    "# No errors or printouts means all okay with the shape of the features ... hopefully"
   ]
  },
  {
   "cell_type": "code",
   "execution_count": 67,
   "metadata": {
    "ExecuteTime": {
     "end_time": "2017-08-06T20:57:48.353242Z",
     "start_time": "2017-08-06T20:57:48.347927Z"
    }
   },
   "outputs": [],
   "source": [
    "# Do check for the earlier problem ones!\n",
    "\n",
    "validate_featshape_detailed_pairs([trn_pairs[i] for i in trn_with_err])\n",
    "\n",
    "# No errors or printouts means all okay with the shape of the features ... hopefully"
   ]
  },
  {
   "cell_type": "markdown",
   "metadata": {},
   "source": [
    "### Labels\n",
    "\n",
    "Validate the label shapes."
   ]
  },
  {
   "cell_type": "code",
   "execution_count": 68,
   "metadata": {
    "ExecuteTime": {
     "end_time": "2017-08-06T20:57:50.432166Z",
     "start_time": "2017-08-06T20:57:50.406798Z"
    }
   },
   "outputs": [],
   "source": [
    "def validate_labelshape(pair):\n",
    "    labels = readlabelsdata(pair)\n",
    "    labelshape = labels.shape\n",
    "    \n",
    "    strlabels = strided_label(labels)\n",
    "    strlabelshape = strlabels.shape\n",
    "    \n",
    "    xlabelshape = (expected_featlen(pair), len(pair.label.speakers))\n",
    "    xstrlabelshape = expected_stridedlabel_shape(pair)\n",
    "    \n",
    "    assert labelshape == xlabelshape, \"Mismatch in labelshape: {} v/s {}\".format(labelshape, xlabelshape)\n",
    "    assert strlabelshape == xstrlabelshape, \"Mismatch in strlabelshape: {} v/s {}\".format(strlabelshape, xstrlabelshape)\n",
    "    \n",
    "def validate_labelshape_pairs(pairs):\n",
    "    for i, pair in enumerate(pairs):\n",
    "        try:\n",
    "            validate_labelshape(pair)\n",
    "        except AssertionError as e:\n",
    "            print('AssertionErrors with pair at {}'.format(i))\n",
    "            print(fn_for_fp(pair.audio.filepath))\n",
    "            print(e)\n",
    "            print()"
   ]
  },
  {
   "cell_type": "code",
   "execution_count": 69,
   "metadata": {
    "ExecuteTime": {
     "end_time": "2017-08-06T20:57:50.992634Z",
     "start_time": "2017-08-06T20:57:50.969621Z"
    }
   },
   "outputs": [],
   "source": [
    "# This should be quick\n",
    "validate_labelshape_pairs(val_pairs)\n",
    "\n",
    "# No errors or printouts means all okay with the shape of the features ... hopefully"
   ]
  },
  {
   "cell_type": "code",
   "execution_count": 70,
   "metadata": {
    "ExecuteTime": {
     "end_time": "2017-08-06T20:57:51.801067Z",
     "start_time": "2017-08-06T20:57:51.746270Z"
    }
   },
   "outputs": [],
   "source": [
    "# This should be quick\n",
    "validate_labelshape_pairs(trn_pairs)\n",
    "\n",
    "# No errors or printouts means all okay with the shape of the features ... hopefully"
   ]
  },
  {
   "cell_type": "code",
   "execution_count": 71,
   "metadata": {
    "ExecuteTime": {
     "end_time": "2017-08-06T20:57:53.452052Z",
     "start_time": "2017-08-06T20:57:53.448368Z"
    }
   },
   "outputs": [],
   "source": [
    "# This should be quick\n",
    "validate_labelshape_pairs(tst_pairs)\n",
    "\n",
    "# No errors or printouts means all okay with the shape of the features ... hopefully"
   ]
  },
  {
   "cell_type": "markdown",
   "metadata": {},
   "source": [
    "### Dask Steps"
   ]
  },
  {
   "cell_type": "code",
   "execution_count": 72,
   "metadata": {
    "ExecuteTime": {
     "end_time": "2017-08-06T20:57:56.390689Z",
     "start_time": "2017-08-06T20:57:56.337946Z"
    }
   },
   "outputs": [],
   "source": [
    "def validate_dasksteps_detailed(pair):\n",
    "    xsfs = expected_stridedfeat_shape(pair)\n",
    "    xsls = expected_stridedlabel_shape(pair)\n",
    "    \n",
    "    xdatachunks = ((xsfs[1], ) * xsfs[0], xsfs[2:])\n",
    "    xlabelchunks = ((xsls[1], ) * xsls[0], xsls[2:])\n",
    "    \n",
    "    xdatashape = (xsfs[0] * xsfs[1], ) + xsfs[2:]\n",
    "    xlabelshape = (xsls[0] * xsls[1], ) + xsls[2:]\n",
    "    \n",
    "    callid = pair.label.callid\n",
    "    groupid = fe.groupid_for_callid(callid)\n",
    "    xap = \"{}/{}/{}\".format('audios', groupid, callid)\n",
    "    xlp = \"{}/{}/{}\".format('labels', groupid, callid)\n",
    "    \n",
    "    (ap, a), (lp, l) = steps(pair)\n",
    "    \n",
    "    # assert paths in h5\n",
    "    assert ap == xap, \"Mismatch in audios path: {} v/s {}\".format(ap, xap)\n",
    "    assert lp == xlp, \"Mismatch in labels path: {} v/s {}\".format(lp, xlp)\n",
    "    \n",
    "    # assert chunking\n",
    "    assert a.chunks == xdatachunks, \"Mismatch in audio chunks:\\n{} v/s\\n{}\".format(a.chunks, xdatachunks)\n",
    "    assert l.chunks == xlabelchunks, \"Mismatch in label chunks:\\n{} v/s\\n{}\".format(l.chunks, xlabelchunks)\n",
    "    \n",
    "    # assert shape\n",
    "    assert a.shape == xdatashape, \"Mismatch in audio shape: {} v/s {}\".format(a.shape, xdatashape)\n",
    "    assert l.shape == xlabelshape, \"Mismatch in label shape: {} v/s {}\".format(l.shape, xlabelshape)\n",
    "    \n",
    "    # assert label values\n",
    "    xlabels = np.concatenate(strided_label(readlabelsdata(pair)))\n",
    "    labels = l.compute()\n",
    "    assert np.all(labels == xlabels), \"Mismatch in labels data\"\n",
    "    del xlabels\n",
    "    del labels\n",
    "    \n",
    "    # assert audio values\n",
    "    xdata = np.concatenate(strided_feat(extractfeat(readaudiodata(pair))))\n",
    "    data = a.compute()\n",
    "    assert np.allclose(data, xdata), \"Mismatch in audio data\"\n",
    "    del xdata\n",
    "    del data\n",
    "    \n",
    "def validate_dasksteps_detailed_pairs(pairs):\n",
    "    for i, pair in enumerate(pairs):\n",
    "        try:\n",
    "            validate_dasksteps_detailed(pair)\n",
    "        except AssertionError as e:\n",
    "            print('AssertionErrors with pair at {}'.format(i))\n",
    "            print(fn_for_fp(pair.audio.filepath))\n",
    "            print(e)\n",
    "            print()"
   ]
  },
  {
   "cell_type": "code",
   "execution_count": 188,
   "metadata": {
    "ExecuteTime": {
     "end_time": "2017-08-04T09:41:23.606680Z",
     "start_time": "2017-08-04T09:41:14.750518Z"
    }
   },
   "outputs": [
    {
     "name": "stdout",
     "output_type": "stream",
     "text": [
      "[########################################] | 100% Completed |  0.1s\n",
      "[########################################] | 100% Completed |  0.5s\n",
      "[########################################] | 100% Completed |  0.1s\n",
      "[########################################] | 100% Completed |  0.7s\n",
      "[########################################] | 100% Completed |  0.1s\n",
      "[########################################] | 100% Completed |  0.7s\n",
      "[########################################] | 100% Completed |  0.1s\n",
      "[########################################] | 100% Completed |  1.0s\n",
      "[########################################] | 100% Completed |  0.1s\n",
      "[########################################] | 100% Completed |  0.6s\n"
     ]
    }
   ],
   "source": [
    "# This might be a long running one ... choose few\n",
    "validate_dasksteps_detailed_pairs(val_pairs[:5])\n",
    "\n",
    "# No errors means all okay with the dask steps results"
   ]
  },
  {
   "cell_type": "code",
   "execution_count": 187,
   "metadata": {
    "ExecuteTime": {
     "end_time": "2017-08-04T09:41:13.162486Z",
     "start_time": "2017-08-04T09:41:08.582320Z"
    }
   },
   "outputs": [
    {
     "name": "stdout",
     "output_type": "stream",
     "text": [
      "[########################################] | 100% Completed |  0.1s\n",
      "[########################################] | 100% Completed |  0.6s\n",
      "[########################################] | 100% Completed |  0.1s\n",
      "[########################################] | 100% Completed |  0.6s\n",
      "[########################################] | 100% Completed |  0.1s\n",
      "[########################################] | 100% Completed |  0.6s\n"
     ]
    }
   ],
   "source": [
    "# This might be a long running one ... choose few\n",
    "validate_dasksteps_detailed_pairs([trn_pairs[i] for i in trn_with_err])\n",
    "\n",
    "# No errors means all okay with the dask steps results"
   ]
  },
  {
   "cell_type": "markdown",
   "metadata": {},
   "source": [
    "## HDF5 Export\n",
    "\n",
    "If all the pre-flight checks passed, it's time we finally export the HDF5 files.\n",
    "\n",
    "We may later check on the results ... however ... taking too long may be a bad sign already."
   ]
  },
  {
   "cell_type": "code",
   "execution_count": 192,
   "metadata": {
    "ExecuteTime": {
     "end_time": "2017-08-04T09:50:20.113416Z",
     "start_time": "2017-08-04T09:50:20.109290Z"
    }
   },
   "outputs": [],
   "source": [
    "# pr.clear()\n",
    "# rpr.clear()"
   ]
  },
  {
   "cell_type": "code",
   "execution_count": 79,
   "metadata": {
    "ExecuteTime": {
     "end_time": "2017-08-06T21:00:07.437597Z",
     "start_time": "2017-08-06T21:00:02.944810Z"
    }
   },
   "outputs": [
    {
     "name": "stdout",
     "output_type": "stream",
     "text": [
      "/Users/abdullah/Delve/iais/rennet-x/data/working/ka3/deutsch-01m/wav-8k-mono/pickles/20170806-logmel64-win32ms-hop10ms/val.h5\n",
      "[########################################] | 100% Completed |  4.1s\n"
     ]
    },
    {
     "data": {
      "text/html": [
       "\n",
       "\n",
       "    <div class=\"bk-root\">\n",
       "        <div class=\"bk-plotdiv\" id=\"cb7540a0-fa57-4d92-83f4-fbf111a1bcbb\"></div>\n",
       "    </div>\n",
       "<script type=\"text/javascript\">\n",
       "  \n",
       "  (function(global) {\n",
       "    function now() {\n",
       "      return new Date();\n",
       "    }\n",
       "  \n",
       "    var force = false;\n",
       "  \n",
       "    if (typeof (window._bokeh_onload_callbacks) === \"undefined\" || force === true) {\n",
       "      window._bokeh_onload_callbacks = [];\n",
       "      window._bokeh_is_loading = undefined;\n",
       "    }\n",
       "  \n",
       "  \n",
       "    \n",
       "    if (typeof (window._bokeh_timeout) === \"undefined\" || force === true) {\n",
       "      window._bokeh_timeout = Date.now() + 0;\n",
       "      window._bokeh_failed_load = false;\n",
       "    }\n",
       "  \n",
       "    var NB_LOAD_WARNING = {'data': {'text/html':\n",
       "       \"<div style='background-color: #fdd'>\\n\"+\n",
       "       \"<p>\\n\"+\n",
       "       \"BokehJS does not appear to have successfully loaded. If loading BokehJS from CDN, this \\n\"+\n",
       "       \"may be due to a slow or bad network connection. Possible fixes:\\n\"+\n",
       "       \"</p>\\n\"+\n",
       "       \"<ul>\\n\"+\n",
       "       \"<li>re-rerun `output_notebook()` to attempt to load from CDN again, or</li>\\n\"+\n",
       "       \"<li>use INLINE resources instead, as so:</li>\\n\"+\n",
       "       \"</ul>\\n\"+\n",
       "       \"<code>\\n\"+\n",
       "       \"from bokeh.resources import INLINE\\n\"+\n",
       "       \"output_notebook(resources=INLINE)\\n\"+\n",
       "       \"</code>\\n\"+\n",
       "       \"</div>\"}};\n",
       "  \n",
       "    function display_loaded() {\n",
       "      if (window.Bokeh !== undefined) {\n",
       "        var el = document.getElementById(\"cb7540a0-fa57-4d92-83f4-fbf111a1bcbb\");\n",
       "        el.textContent = \"BokehJS \" + Bokeh.version + \" successfully loaded.\";\n",
       "      } else if (Date.now() < window._bokeh_timeout) {\n",
       "        setTimeout(display_loaded, 100)\n",
       "      }\n",
       "    }\n",
       "  \n",
       "    function run_callbacks() {\n",
       "      window._bokeh_onload_callbacks.forEach(function(callback) { callback() });\n",
       "      delete window._bokeh_onload_callbacks\n",
       "      console.info(\"Bokeh: all callbacks have finished\");\n",
       "    }\n",
       "  \n",
       "    function load_libs(js_urls, callback) {\n",
       "      window._bokeh_onload_callbacks.push(callback);\n",
       "      if (window._bokeh_is_loading > 0) {\n",
       "        console.log(\"Bokeh: BokehJS is being loaded, scheduling callback at\", now());\n",
       "        return null;\n",
       "      }\n",
       "      if (js_urls == null || js_urls.length === 0) {\n",
       "        run_callbacks();\n",
       "        return null;\n",
       "      }\n",
       "      console.log(\"Bokeh: BokehJS not loaded, scheduling load and callback at\", now());\n",
       "      window._bokeh_is_loading = js_urls.length;\n",
       "      for (var i = 0; i < js_urls.length; i++) {\n",
       "        var url = js_urls[i];\n",
       "        var s = document.createElement('script');\n",
       "        s.src = url;\n",
       "        s.async = false;\n",
       "        s.onreadystatechange = s.onload = function() {\n",
       "          window._bokeh_is_loading--;\n",
       "          if (window._bokeh_is_loading === 0) {\n",
       "            console.log(\"Bokeh: all BokehJS libraries loaded\");\n",
       "            run_callbacks()\n",
       "          }\n",
       "        };\n",
       "        s.onerror = function() {\n",
       "          console.warn(\"failed to load library \" + url);\n",
       "        };\n",
       "        console.log(\"Bokeh: injecting script tag for BokehJS library: \", url);\n",
       "        document.getElementsByTagName(\"head\")[0].appendChild(s);\n",
       "      }\n",
       "    };var element = document.getElementById(\"cb7540a0-fa57-4d92-83f4-fbf111a1bcbb\");\n",
       "    if (element == null) {\n",
       "      console.log(\"Bokeh: ERROR: autoload.js configured with elementid 'cb7540a0-fa57-4d92-83f4-fbf111a1bcbb' but no matching script tag was found. \")\n",
       "      return false;\n",
       "    }\n",
       "  \n",
       "    var js_urls = [];\n",
       "  \n",
       "    var inline_js = [\n",
       "      function(Bokeh) {\n",
       "        (function() {\n",
       "          var fn = function() {\n",
       "            var docs_json = {\"0d310a4a-6af8-437f-8de0-f59350065d02\":{\"roots\":{\"references\":[{\"attributes\":{\"children\":[{\"id\":\"3d4af3d6-f7e6-4b20-89b6-55b9cdbb315a\",\"subtype\":\"Figure\",\"type\":\"Plot\"}]},\"id\":\"56fd810a-23ef-4e61-94c3-dffae941d127\",\"type\":\"Row\"},{\"attributes\":{\"children\":[{\"id\":\"431265eb-4066-49de-9773-150a8e3bb7c0\",\"subtype\":\"Figure\",\"type\":\"Plot\"}]},\"id\":\"67a9cc52-4d70-4565-8187-062cd0f27d10\",\"type\":\"Row\"},{\"attributes\":{\"active_drag\":\"auto\",\"active_scroll\":\"auto\",\"active_tap\":\"auto\",\"tools\":[{\"id\":\"e55f323a-f1b0-46b3-8f27-7aaa23d6024f\",\"type\":\"SaveTool\"},{\"id\":\"fd987e76-a734-41f9-a169-971677369666\",\"type\":\"ResetTool\"},{\"id\":\"13f2b247-0574-4823-98c5-ccc9e57ac44e\",\"type\":\"ResizeTool\"},{\"id\":\"cc737408-ba89-4a6a-96db-be295508a406\",\"type\":\"WheelZoomTool\"},{\"id\":\"6d281907-c428-45de-a5fe-b8d80171ab40\",\"type\":\"PanTool\"}]},\"id\":\"94b0e822-2126-4e75-95ff-a5a69d8d5780\",\"type\":\"Toolbar\"},{\"attributes\":{},\"id\":\"249a1a6e-11bb-4a6b-aac8-68e5ba2f3e44\",\"type\":\"BasicTicker\"},{\"attributes\":{\"callback\":null,\"column_names\":[\"y\",\"x\"],\"data\":{\"x\":[0.0,0.10306366800068645,0.20401515100093093,0.3052913619976607,0.4065300899965223,0.5077296119998209,0.6085978979972424,0.7099116449971916,0.810706862997904,0.9119138899986865,1.013118017996021,1.114313714999298,1.2149832479990437,1.316241276996152,1.4165870969954995,1.5173553729982814,1.6185987579956418,1.7194798970012926,1.8207139349979116,1.9212441310010036,2.02198913799657,2.1229563349988894,2.2241808749968186,2.3252873399978853,2.427491566995741,2.5282047239961685,2.6288492909952765,2.729260191001231,2.829589554996346,2.929972881996946,3.030593723997299,3.131121512997197,3.23138452800049,3.3323431809985777,3.433381091999763,3.5338238879994606,3.6344992559970706,3.7347296590014594,3.8351102820015512,3.936176802999398],\"y\":[0.0,122.60000000000001,112.60000000000001,96.8,100.0,98.9,100.1,100.1,100.0,100.7,100.4,101.2,100.4,100.3,100.6,100.2,100.7,101.1,101.2,101.6,99.5,134.8,202.20000000000002,187.5,154.5,97.39999999999999,99.5,97.89999999999999,88.1,92.3,62.2,89.7,91.1,92.7,88.7,88.6,92.0,88.60000000000001,86.7,84.1]}},\"id\":\"d9bac419-af98-4195-bf27-1e6a92d0b943\",\"type\":\"ColumnDataSource\"},{\"attributes\":{\"children\":[{\"id\":\"67a9cc52-4d70-4565-8187-062cd0f27d10\",\"type\":\"Row\"},{\"id\":\"56fd810a-23ef-4e61-94c3-dffae941d127\",\"type\":\"Row\"}]},\"id\":\"7f0d2936-991c-4810-a86f-a7e4c34e063f\",\"type\":\"Column\"},{\"attributes\":{\"callback\":null,\"column_names\":[\"color\",\"key\",\"y\",\"width\",\"x\",\"function\"],\"data\":{\"color\":[\"#440154\",\"#30678D\",\"#440154\",\"#440154\",\"#30678D\",\"#30678D\",\"#440154\",\"#440154\",\"#440154\",\"#30678D\",\"#440154\",\"#440154\",\"#30678D\",\"#30678D\",\"#440154\",\"#30678D\",\"#30678D\",\"#30678D\",\"#440154\",\"#30678D\",\"#440154\",\"#440154\",\"#30678D\",\"#30678D\",\"#30678D\",\"#440154\",\"#30678D\",\"#440154\",\"#30678D\",\"#30678D\",\"#35B778\",\"#30678D\",\"#30678D\",\"#440154\",\"#440154\",\"#30678D\",\"#30678D\",\"#30678D\",\"#30678D\",\"#440154\",\"#440154\",\"#440154\",\"#30678D\",\"#30678D\",\"#440154\",\"#30678D\",\"#440154\",\"#30678D\",\"#440154\",\"#440154\",\"#30678D\",\"#30678D\",\"#440154\",\"#440154\",\"#30678D\",\"#440154\",\"#440154\",\"#30678D\",\"#440154\",\"#30678D\",\"#440154\",\"#30678D\",\"#30678D\",\"#440154\",\"#440154\",\"#30678D\",\"#30678D\",\"#30678D\",\"#440154\",\"#440154\",\"#30678D\",\"#440154\",\"#440154\",\"#440154\",\"#440154\",\"#440154\",\"#30678D\",\"#440154\",\"#440154\",\"#440154\",\"#30678D\",\"#30678D\",\"#30678D\",\"#440154\",\"#440154\",\"#440154\",\"#440154\",\"#440154\",\"#30678D\",\"#440154\",\"#440154\",\"#440154\",\"#440154\",\"#440154\",\"#30678D\",\"#440154\",\"#30678D\",\"#440154\",\"#30678D\",\"#30678D\",\"#30678D\",\"#440154\",\"#440154\",\"#440154\",\"#440154\",\"#30678D\",\"#30678D\",\"#30678D\",\"#440154\",\"#30678D\",\"#30678D\",\"#440154\",\"#30678D\",\"#FDE724\",\"#30678D\",\"#30678D\",\"#440154\",\"#30678D\",\"#30678D\",\"#30678D\",\"#30678D\",\"#440154\",\"#30678D\",\"#440154\",\"#30678D\",\"#440154\",\"#440154\",\"#30678D\"],\"function\":[\"_\",\"store(*, getitem(...), *, *, *)\",\"_\",\"_\",\"store(*, getitem(...), *, *, *)\",\"store(*, getitem(...), *, *, *)\",\"_\",\"_\",\"_\",\"store(*, getitem(...), *, *, *)\",\"_\",\"_\",\"store(*, getitem(...), *, *, *)\",\"store(*, getitem(...), *, *, *)\",\"_\",\"store(*, getitem(...), *, *, *)\",\"store(*, getitem(...), *, *, *)\",\"store(*, getitem(...), *, *, *)\",\"_\",\"store(*, getitem(...), *, *, *)\",\"_\",\"_\",\"store(*, getitem(...), *, *, *)\",\"store(*, getitem(...), *, *, *)\",\"store(*, getitem(...), *, *, *)\",\"_\",\"store(*, getitem(...), *, *, *)\",\"_\",\"store(*, getitem(...), *, *, *)\",\"store(*, getitem(...), *, *, *)\",\"strided_feat(extractfeat(readaudiodata(*)))\",\"store(*, getitem(...), *, *, *)\",\"store(*, getitem(...), *, *, *)\",\"_\",\"_\",\"store(*, getitem(...), *, *, *)\",\"store(*, getitem(...), *, *, *)\",\"store(*, getitem(...), *, *, *)\",\"store(*, getitem(...), *, *, *)\",\"_\",\"_\",\"_\",\"store(*, getitem(...), *, *, *)\",\"store(*, getitem(...), *, *, *)\",\"_\",\"store(*, getitem(...), *, *, *)\",\"_\",\"store(*, getitem(...), *, *, *)\",\"_\",\"_\",\"store(*, getitem(...), *, *, *)\",\"store(*, getitem(...), *, *, *)\",\"_\",\"_\",\"store(*, getitem(...), *, *, *)\",\"_\",\"_\",\"store(*, getitem(...), *, *, *)\",\"_\",\"store(*, getitem(...), *, *, *)\",\"_\",\"store(*, getitem(...), *, *, *)\",\"store(*, getitem(...), *, *, *)\",\"_\",\"_\",\"store(*, getitem(...), *, *, *)\",\"store(*, getitem(...), *, *, *)\",\"store(*, getitem(...), *, *, *)\",\"_\",\"_\",\"store(*, getitem(...), *, *, *)\",\"_\",\"_\",\"_\",\"_\",\"_\",\"store(*, getitem(...), *, *, *)\",\"_\",\"_\",\"_\",\"store(*, getitem(...), *, *, *)\",\"store(*, getitem(...), *, *, *)\",\"store(*, getitem(...), *, *, *)\",\"_\",\"_\",\"_\",\"_\",\"_\",\"store(*, getitem(...), *, *, *)\",\"_\",\"_\",\"_\",\"_\",\"_\",\"store(*, getitem(...), *, *, *)\",\"_\",\"store(*, getitem(...), *, *, *)\",\"_\",\"store(*, getitem(...), *, *, *)\",\"store(*, getitem(...), *, *, *)\",\"store(*, getitem(...), *, *, *)\",\"_\",\"_\",\"_\",\"_\",\"store(*, getitem(...), *, *, *)\",\"store(*, getitem(...), *, *, *)\",\"store(*, getitem(...), *, *, *)\",\"_\",\"store(*, getitem(...), *, *, *)\",\"store(*, getitem(...), *, *, *)\",\"_\",\"store(*, getitem(...), *, *, *)\",\"strided_feat(readlabelsdata(*))\",\"store(*, getitem(...), *, *, *)\",\"store(*, getitem(...), *, *, *)\",\"_\",\"store(*, getitem(...), *, *, *)\",\"store(*, getitem(...), *, *, *)\",\"store(*, getitem(...), *, *, *)\",\"store(*, getitem(...), *, *, *)\",\"_\",\"store(*, getitem(...), *, *, *)\",\"_\",\"store(*, getitem(...), *, *, *)\",\"_\",\"_\",\"store(*, getitem(...), *, *, *)\"],\"key\":[\"('store-concatenate-bc1f08fa08d325a137a668091d2415f8', 28, 0)\",\"('concatenate-getitem-store-concatenate-bc1f08fa08d325a137a668091d2415f8', 5, 0)\",\"('store-concatenate-9b6caf32f998db98f74965e11414aad0', 13, 0)\",\"('store-concatenate-9b6caf32f998db98f74965e11414aad0', 27, 0)\",\"('concatenate-getitem-store-concatenate-9b6caf32f998db98f74965e11414aad0', 13, 0)\",\"('concatenate-getitem-store-concatenate-9b6caf32f998db98f74965e11414aad0', 22, 0)\",\"('store-concatenate-9b6caf32f998db98f74965e11414aad0', 23, 0)\",\"('store-concatenate-9b6caf32f998db98f74965e11414aad0', 3, 0)\",\"('store-concatenate-9b6caf32f998db98f74965e11414aad0', 14, 0)\",\"('concatenate-getitem-store-concatenate-9b6caf32f998db98f74965e11414aad0', 25, 0)\",\"('store-concatenate-9b6caf32f998db98f74965e11414aad0', 4, 0)\",\"('store-concatenate-9b6caf32f998db98f74965e11414aad0', 26, 0)\",\"('concatenate-getitem-store-concatenate-9b6caf32f998db98f74965e11414aad0', 28, 0)\",\"('concatenate-getitem-store-concatenate-bc1f08fa08d325a137a668091d2415f8', 29, 0)\",\"('store-concatenate-9b6caf32f998db98f74965e11414aad0', 25, 0)\",\"('concatenate-getitem-store-concatenate-bc1f08fa08d325a137a668091d2415f8', 24, 0)\",\"('concatenate-getitem-store-concatenate-bc1f08fa08d325a137a668091d2415f8', 10, 0)\",\"('concatenate-getitem-store-concatenate-bc1f08fa08d325a137a668091d2415f8', 15, 0)\",\"('store-concatenate-bc1f08fa08d325a137a668091d2415f8', 8, 0)\",\"('concatenate-getitem-store-concatenate-bc1f08fa08d325a137a668091d2415f8', 17, 0)\",\"('store-concatenate-bc1f08fa08d325a137a668091d2415f8', 3, 0)\",\"('store-concatenate-bc1f08fa08d325a137a668091d2415f8', 22, 0)\",\"('concatenate-getitem-store-concatenate-9b6caf32f998db98f74965e11414aad0', 2, 0)\",\"('concatenate-getitem-store-concatenate-bc1f08fa08d325a137a668091d2415f8', 19, 0)\",\"('concatenate-getitem-store-concatenate-bc1f08fa08d325a137a668091d2415f8', 20, 0)\",\"('store-concatenate-9b6caf32f998db98f74965e11414aad0', 0, 0)\",\"('concatenate-getitem-store-concatenate-9b6caf32f998db98f74965e11414aad0', 5, 0)\",\"('store-concatenate-9b6caf32f998db98f74965e11414aad0', 16, 0)\",\"('concatenate-getitem-store-concatenate-bc1f08fa08d325a137a668091d2415f8', 0, 0)\",\"('concatenate-getitem-store-concatenate-bc1f08fa08d325a137a668091d2415f8', 23, 0)\",\"('extractfeat-readaudiodata-strided_feat-from-value-e41a060f7fbd8b709b242fc2acadb11f', 0, 0, 0)\",\"('concatenate-getitem-store-concatenate-9b6caf32f998db98f74965e11414aad0', 8, 0)\",\"('concatenate-getitem-store-concatenate-9b6caf32f998db98f74965e11414aad0', 17, 0)\",\"('store-concatenate-9b6caf32f998db98f74965e11414aad0', 8, 0)\",\"('store-concatenate-bc1f08fa08d325a137a668091d2415f8', 30, 0)\",\"('concatenate-getitem-store-concatenate-bc1f08fa08d325a137a668091d2415f8', 7, 0)\",\"('concatenate-getitem-store-concatenate-bc1f08fa08d325a137a668091d2415f8', 8, 0)\",\"('concatenate-getitem-store-concatenate-9b6caf32f998db98f74965e11414aad0', 11, 0)\",\"('concatenate-getitem-store-concatenate-9b6caf32f998db98f74965e11414aad0', 20, 0)\",\"('store-concatenate-9b6caf32f998db98f74965e11414aad0', 22, 0)\",\"('store-concatenate-bc1f08fa08d325a137a668091d2415f8', 10, 0)\",\"('store-concatenate-bc1f08fa08d325a137a668091d2415f8', 20, 0)\",\"('concatenate-getitem-store-concatenate-9b6caf32f998db98f74965e11414aad0', 14, 0)\",\"('concatenate-getitem-store-concatenate-9b6caf32f998db98f74965e11414aad0', 23, 0)\",\"('store-concatenate-9b6caf32f998db98f74965e11414aad0', 2, 0)\",\"('concatenate-getitem-store-concatenate-bc1f08fa08d325a137a668091d2415f8', 9, 0)\",\"('store-concatenate-bc1f08fa08d325a137a668091d2415f8', 21, 0)\",\"('concatenate-getitem-store-concatenate-9b6caf32f998db98f74965e11414aad0', 26, 0)\",\"('store-concatenate-bc1f08fa08d325a137a668091d2415f8', 12, 0)\",\"('store-concatenate-9b6caf32f998db98f74965e11414aad0', 30, 0)\",\"('concatenate-getitem-store-concatenate-bc1f08fa08d325a137a668091d2415f8', 30, 0)\",\"('concatenate-getitem-store-concatenate-9b6caf32f998db98f74965e11414aad0', 29, 0)\",\"('store-concatenate-9b6caf32f998db98f74965e11414aad0', 1, 0)\",\"('store-concatenate-9b6caf32f998db98f74965e11414aad0', 24, 0)\",\"('concatenate-getitem-store-concatenate-bc1f08fa08d325a137a668091d2415f8', 27, 0)\",\"('from-value-05126a66df7234a63f00422dd153990c', 0, 0, 0)\",\"('store-concatenate-bc1f08fa08d325a137a668091d2415f8', 23, 0)\",\"('concatenate-getitem-store-concatenate-bc1f08fa08d325a137a668091d2415f8', 14, 0)\",\"('store-concatenate-bc1f08fa08d325a137a668091d2415f8', 9, 0)\",\"('concatenate-getitem-store-concatenate-9b6caf32f998db98f74965e11414aad0', 0, 0)\",\"('store-concatenate-bc1f08fa08d325a137a668091d2415f8', 5, 0)\",\"('concatenate-getitem-store-concatenate-9b6caf32f998db98f74965e11414aad0', 15, 0)\",\"('concatenate-getitem-store-concatenate-bc1f08fa08d325a137a668091d2415f8', 22, 0)\",\"('store-concatenate-9b6caf32f998db98f74965e11414aad0', 17, 0)\",\"('store-concatenate-bc1f08fa08d325a137a668091d2415f8', 7, 0)\",\"('concatenate-getitem-store-concatenate-9b6caf32f998db98f74965e11414aad0', 3, 0)\",\"('concatenate-getitem-store-concatenate-bc1f08fa08d325a137a668091d2415f8', 4, 0)\",\"('concatenate-getitem-store-concatenate-bc1f08fa08d325a137a668091d2415f8', 21, 0)\",\"('store-concatenate-bc1f08fa08d325a137a668091d2415f8', 2, 0)\",\"('store-concatenate-bc1f08fa08d325a137a668091d2415f8', 15, 0)\",\"('concatenate-getitem-store-concatenate-9b6caf32f998db98f74965e11414aad0', 6, 0)\",\"('store-concatenate-bc1f08fa08d325a137a668091d2415f8', 11, 0)\",\"('store-concatenate-bc1f08fa08d325a137a668091d2415f8', 24, 0)\",\"('store-concatenate-bc1f08fa08d325a137a668091d2415f8', 1, 0)\",\"('from-value-e41a060f7fbd8b709b242fc2acadb11f', 0, 0, 0)\",\"('store-concatenate-9b6caf32f998db98f74965e11414aad0', 11, 0)\",\"('concatenate-getitem-store-concatenate-9b6caf32f998db98f74965e11414aad0', 18, 0)\",\"('store-concatenate-9b6caf32f998db98f74965e11414aad0', 18, 0)\",\"('store-concatenate-9b6caf32f998db98f74965e11414aad0', 20, 0)\",\"('store-concatenate-bc1f08fa08d325a137a668091d2415f8', 4, 0)\",\"('concatenate-getitem-store-concatenate-bc1f08fa08d325a137a668091d2415f8', 12, 0)\",\"('concatenate-getitem-store-concatenate-9b6caf32f998db98f74965e11414aad0', 12, 0)\",\"('concatenate-getitem-store-concatenate-9b6caf32f998db98f74965e11414aad0', 21, 0)\",\"('store-concatenate-bc1f08fa08d325a137a668091d2415f8', 29, 0)\",\"('store-concatenate-9b6caf32f998db98f74965e11414aad0', 28, 0)\",\"('store-concatenate-9b6caf32f998db98f74965e11414aad0', 19, 0)\",\"('store-concatenate-9b6caf32f998db98f74965e11414aad0', 7, 0)\",\"('store-concatenate-9b6caf32f998db98f74965e11414aad0', 10, 0)\",\"('concatenate-getitem-store-concatenate-9b6caf32f998db98f74965e11414aad0', 24, 0)\",\"('store-concatenate-bc1f08fa08d325a137a668091d2415f8', 27, 0)\",\"('store-concatenate-bc1f08fa08d325a137a668091d2415f8', 0, 0)\",\"('store-concatenate-bc1f08fa08d325a137a668091d2415f8', 14, 0)\",\"('store-concatenate-9b6caf32f998db98f74965e11414aad0', 6, 0)\",\"('store-concatenate-9b6caf32f998db98f74965e11414aad0', 5, 0)\",\"('concatenate-getitem-store-concatenate-9b6caf32f998db98f74965e11414aad0', 27, 0)\",\"('store-concatenate-bc1f08fa08d325a137a668091d2415f8', 17, 0)\",\"('concatenate-getitem-store-concatenate-bc1f08fa08d325a137a668091d2415f8', 28, 0)\",\"('store-concatenate-bc1f08fa08d325a137a668091d2415f8', 13, 0)\",\"('concatenate-getitem-store-concatenate-bc1f08fa08d325a137a668091d2415f8', 25, 0)\",\"('concatenate-getitem-store-concatenate-bc1f08fa08d325a137a668091d2415f8', 6, 0)\",\"('concatenate-getitem-store-concatenate-9b6caf32f998db98f74965e11414aad0', 30, 0)\",\"('store-concatenate-bc1f08fa08d325a137a668091d2415f8', 16, 0)\",\"('store-concatenate-bc1f08fa08d325a137a668091d2415f8', 6, 0)\",\"('store-concatenate-bc1f08fa08d325a137a668091d2415f8', 18, 0)\",\"('store-concatenate-9b6caf32f998db98f74965e11414aad0', 9, 0)\",\"('concatenate-getitem-store-concatenate-9b6caf32f998db98f74965e11414aad0', 1, 0)\",\"('concatenate-getitem-store-concatenate-9b6caf32f998db98f74965e11414aad0', 9, 0)\",\"('concatenate-getitem-store-concatenate-bc1f08fa08d325a137a668091d2415f8', 16, 0)\",\"('store-concatenate-9b6caf32f998db98f74965e11414aad0', 21, 0)\",\"('concatenate-getitem-store-concatenate-bc1f08fa08d325a137a668091d2415f8', 18, 0)\",\"('concatenate-getitem-store-concatenate-bc1f08fa08d325a137a668091d2415f8', 13, 0)\",\"('store-concatenate-9b6caf32f998db98f74965e11414aad0', 12, 0)\",\"('concatenate-getitem-store-concatenate-9b6caf32f998db98f74965e11414aad0', 4, 0)\",\"('readlabelsdata-strided_feat-from-value-05126a66df7234a63f00422dd153990c', 0, 0, 0)\",\"('concatenate-getitem-store-concatenate-bc1f08fa08d325a137a668091d2415f8', 26, 0)\",\"('concatenate-getitem-store-concatenate-bc1f08fa08d325a137a668091d2415f8', 3, 0)\",\"('store-concatenate-bc1f08fa08d325a137a668091d2415f8', 19, 0)\",\"('concatenate-getitem-store-concatenate-bc1f08fa08d325a137a668091d2415f8', 11, 0)\",\"('concatenate-getitem-store-concatenate-9b6caf32f998db98f74965e11414aad0', 7, 0)\",\"('concatenate-getitem-store-concatenate-9b6caf32f998db98f74965e11414aad0', 16, 0)\",\"('concatenate-getitem-store-concatenate-9b6caf32f998db98f74965e11414aad0', 10, 0)\",\"('store-concatenate-bc1f08fa08d325a137a668091d2415f8', 25, 0)\",\"('concatenate-getitem-store-concatenate-bc1f08fa08d325a137a668091d2415f8', 2, 0)\",\"('store-concatenate-9b6caf32f998db98f74965e11414aad0', 29, 0)\",\"('concatenate-getitem-store-concatenate-bc1f08fa08d325a137a668091d2415f8', 1, 0)\",\"('store-concatenate-9b6caf32f998db98f74965e11414aad0', 15, 0)\",\"('store-concatenate-bc1f08fa08d325a137a668091d2415f8', 26, 0)\",\"('concatenate-getitem-store-concatenate-9b6caf32f998db98f74965e11414aad0', 19, 0)\"],\"width\":[0.0017213920000358485,0.08916704500006745,0.004063255000801291,0.0154682540014619,0.014753048002603464,0.0051471289989422075,0.003269175002060365,0.011799626998254098,0.01071081400004914,0.007975328000611626,0.008528579004632775,0.014931182995496783,0.0199385359956068,0.12218010499782395,0.0068046379965380765,0.09235109599831048,0.0780075040020165,0.1580375150006148,0.000513387996761594,0.20352154099964537,0.07778995900298469,0.0021231709979474545,0.007655872999748681,0.08720777300186455,0.16162231500493363,0.004175622001639567,0.006816930996137671,0.0075811060014530085,0.12459826199483359,0.13544814200577093,2.617376932998013,0.005539166995731648,0.009201517001201864,0.007033804002276156,0.0021545429990510456,0.12681186699774116,0.08680346899927827,0.005959437999990769,0.00966152399632847,0.0038443820012616925,0.08130848900327692,0.04470933000266086,0.007178061998274643,0.005885580998437945,0.004927360998408403,0.08544688999973005,0.0898254830026417,0.00855668299482204,0.04478731400013203,0.010116781006217934,0.166884188001859,0.02050953199795913,0.0031497759991907515,0.004050545998325106,0.08390423899982125,0.0015627680040779524,0.04157901200233027,0.19908905000193045,0.00041385199438082054,0.008067203001701273,0.08150539000052959,0.01314560099854134,0.18237912000040524,0.004677097000239883,0.0008737270036363043,0.02074984900536947,0.12414659700152697,0.10182106700085569,0.0019851829929393716,0.04421170100249583,0.014615846004744526,0.0027903209993382916,0.08018730299954768,0.04114315300103044,0.0011455909989308566,0.012764501996571198,0.008580982001149096,0.004215166001813486,0.0030627989981439896,0.04143842800112907,0.12208433000341756,0.012966328002221417,0.00640818400279386,0.03645343899552245,0.01369535500271013,0.007588382999529131,0.008012184000108391,0.003909655999450479,0.005065889003162738,0.07956511499651242,0.0027902779984287918,0.0026899950025836006,0.0055841620051069185,0.016321896997396834,0.008348129005753435,0.003459492996626068,0.1665321100008441,0.0835574539960362,0.17048189000342973,0.17373723600030644,0.012789601998520084,0.0850656069960678,0.0016989509967970662,0.061305058996367734,0.002282536996062845,0.007253887997649144,0.005243405998044182,0.11516153300181031,0.0040554680017521605,0.12980891899496783,0.08325452999997651,0.006249246005609166,0.008995745003630873,0.03186420400015777,0.12404877800145186,0.08487545300158672,0.11513527300121496,0.16461013000662206,0.013552794996940065,0.012758450000546873,0.005847412001457997,0.001557118994242046,0.2069040690039401,0.01089633200172102,0.12524108400248224,0.005273282004054636,0.038597979000769556,0.006210838000697549],\"x\":[3.706193580001127,3.787149084499106,0.06510661450738553,0.13699245700263418,0.055690973000309896,0.11139746550179552,0.11733621949679218,0.17138548550428823,0.07697830800316297,0.12181478300044546,0.18716240749927238,0.1350063264981145,0.14258767300634645,3.6450089025020134,0.12920934200519696,3.4124224980041618,2.7069572909967974,2.94894887850387,3.959723688007216,3.0546672275013407,3.7454934315028368,3.4579951635023463,0.10005507050664164,3.115797468504752,3.240711469501548,0.043605721002677456,0.18070018350408645,0.08369553899683524,2.681405948998872,3.390309984999476,1.3092603005061392,0.20321052950748708,0.08693814250000287,0.209500990997185,3.8310809495014837,3.895567724503053,3.9160614985012216,0.048680042003979906,0.10190261600655504,0.11590024500037543,2.7866231035004603,3.3438833030013484,0.0680296369973803,0.1127522085007513,0.1063535224966472,3.9559723410056904,3.3669486215076176,0.12325539150333498,2.890990508996765,0.18411531150195515,3.7465549670014298,0.15273311600321904,0.045029066008282825,0.11887269500584807,3.5415771925036097,0.032655301998602226,3.478828824001539,2.9268277310038684,3.998909639005433,0.03747690450109076,3.872489304005285,0.0724097905040253,3.365738054002577,0.09388217450759839,3.9594148415053496,0.1551068335029413,3.7691323875042144,3.2711216985044302,3.3215883314987877,3.05008099549741,0.19648842699825764,2.8685283375016297,3.498696378504974,2.765502000504057,2.6185280455028987,0.05805020900152158,0.08855721400323091,0.09495928200340131,0.10827164950023871,3.8519312550051836,2.8075486599991564,0.053092153000761755,0.10450430000491906,3.724329985503573,0.15941111149732023,0.09750101149984403,0.20899472900055116,0.04635037400294095,0.11430898250546306,3.6233152825006982,2.7451050890012993,3.0277232415028266,0.20659361300204182,0.19227377350034658,0.12507911150169093,3.158165596498293,3.622061179004959,2.911121233002632,3.4971108210011153,3.871263724999153,0.17265818300074898,3.07109223450243,3.958988689497346,3.1895421674998943,0.21578028650401393,0.039820250996854156,0.21201148499676492,2.9709744565043366,0.10974196500319522,3.0939771295015817,2.8277092369971797,0.06270569200569298,0.17839527750038542,0.015932102003716864,3.5210862470048596,3.664156360500783,3.2169733335031196,2.7848222150059883,0.19820817549771164,0.0735211600040202,0.04146695600502426,3.5831370814994443,3.2171304035000503,0.16844284899707418,2.6823062589974143,0.08162669800367439,3.602413503504067,0.09059689100831747],\"y\":[4,1,3,3,3,2,4,3,2,2,4,4,2,1,2,4,1,3,4,4,3,3,2,3,4,2,3,3,2,2,1,3,2,3,2,2,4,2,4,2,1,4,2,4,2,1,1,4,2,2,2,4,4,3,2,3,2,1,3,2,1,4,3,2,2,3,4,1,2,3,2,3,4,4,3,2,4,4,4,4,2,4,3,1,2,3,4,3,3,2,2,1,2,3,3,4,4,4,1,3,2,2,3,1,4,4,2,2,3,1,4,4,4,4,3,3,3,3,4,3,3,1,2,4,4,4,3,3]}},\"id\":\"7914162e-11ff-4f1c-af99-8a6c5e463baa\",\"type\":\"ColumnDataSource\"},{\"attributes\":{\"plot\":{\"id\":\"431265eb-4066-49de-9773-150a8e3bb7c0\",\"subtype\":\"Figure\",\"type\":\"Plot\"}},\"id\":\"fb374830-b92d-4200-b26c-07a9c23917c0\",\"type\":\"ResetTool\"},{\"attributes\":{\"fill_color\":{\"field\":\"color\"},\"height\":{\"units\":\"data\",\"value\":1},\"line_color\":{\"value\":\"gray\"},\"width\":{\"field\":\"width\",\"units\":\"data\"},\"x\":{\"field\":\"x\"},\"y\":{\"field\":\"y\"}},\"id\":\"59117cfb-c7bf-43dc-abe3-00e1eb24bdfa\",\"type\":\"Rect\"},{\"attributes\":{\"sizing_mode\":\"scale_width\",\"toolbar_location\":\"above\",\"tools\":[{\"id\":\"ad870512-8ad1-4c86-b26d-7154a2615328\",\"type\":\"HoverTool\"},{\"id\":\"b11f4996-4604-4d7d-b27c-304bd9942d8d\",\"type\":\"SaveTool\"},{\"id\":\"fb374830-b92d-4200-b26c-07a9c23917c0\",\"type\":\"ResetTool\"},{\"id\":\"2899e3ce-7588-493e-8ded-dba6ab39f3f1\",\"type\":\"ResizeTool\"},{\"id\":\"1a521ff6-eaf6-492f-80e0-54054eef84bc\",\"type\":\"WheelZoomTool\"},{\"id\":\"306ad3df-c8bf-47fc-aba1-ef787f243362\",\"type\":\"PanTool\"},{\"id\":\"e55f323a-f1b0-46b3-8f27-7aaa23d6024f\",\"type\":\"SaveTool\"},{\"id\":\"fd987e76-a734-41f9-a169-971677369666\",\"type\":\"ResetTool\"},{\"id\":\"13f2b247-0574-4823-98c5-ccc9e57ac44e\",\"type\":\"ResizeTool\"},{\"id\":\"cc737408-ba89-4a6a-96db-be295508a406\",\"type\":\"WheelZoomTool\"},{\"id\":\"6d281907-c428-45de-a5fe-b8d80171ab40\",\"type\":\"PanTool\"}]},\"id\":\"e0b8159d-f19f-4a3f-b758-d45c118d8394\",\"type\":\"ToolbarBox\"},{\"attributes\":{\"callback\":null,\"column_names\":[\"y\",\"x\"],\"data\":{\"x\":[0.0,0.10306366800068645,0.20401515100093093,0.3052913619976607,0.4065300899965223,0.5077296119998209,0.6085978979972424,0.7099116449971916,0.810706862997904,0.9119138899986865,1.013118017996021,1.114313714999298,1.2149832479990437,1.316241276996152,1.4165870969954995,1.5173553729982814,1.6185987579956418,1.7194798970012926,1.8207139349979116,1.9212441310010036,2.02198913799657,2.1229563349988894,2.2241808749968186,2.3252873399978853,2.427491566995741,2.5282047239961685,2.6288492909952765,2.729260191001231,2.829589554996346,2.929972881996946,3.030593723997299,3.131121512997197,3.23138452800049,3.3323431809985777,3.433381091999763,3.5338238879994606,3.6344992559970706,3.7347296590014594,3.8351102820015512,3.936176802999398],\"y\":[273.8176,274.628608,274.767872,274.776064,274.78016,274.78016,274.784256,367.583232,396.713984,423.97696,449.400832,478.236672,507.854848,536.690688,564.215808,592.785408,623.398912,683.180032,610.287616,624.570368,797.536256,879.476736,745.259008,642.920448,686.53056,734.035968,768.135168,771.305472,772.247552,772.247552,772.247552,772.247552,772.247552,772.247552,772.247552,772.247552,772.247552,772.247552,772.247552,772.247552]}},\"id\":\"e64a58cc-c934-4626-a40e-cff8781b878e\",\"type\":\"ColumnDataSource\"},{\"attributes\":{\"grid_line_color\":{\"value\":null},\"plot\":{\"id\":\"431265eb-4066-49de-9773-150a8e3bb7c0\",\"subtype\":\"Figure\",\"type\":\"Plot\"},\"ticker\":{\"id\":\"249a1a6e-11bb-4a6b-aac8-68e5ba2f3e44\",\"type\":\"BasicTicker\"}},\"id\":\"64db9f0d-8ee9-4051-9081-b74e9e6557e1\",\"type\":\"Grid\"},{\"attributes\":{\"line_color\":{\"value\":\"#440154\"},\"line_width\":{\"value\":4},\"x\":{\"field\":\"x\"},\"y\":{\"field\":\"y\"}},\"id\":\"4b19a3ff-a155-49e3-bf83-dffba87caa2e\",\"type\":\"Line\"},{\"attributes\":{\"axis_label\":\"Worker ID\",\"axis_line_color\":{\"value\":null},\"formatter\":{\"id\":\"701e3e62-e188-4c5a-ad85-595f247bcb01\",\"type\":\"CategoricalTickFormatter\"},\"major_tick_line_color\":{\"value\":null},\"plot\":{\"id\":\"431265eb-4066-49de-9773-150a8e3bb7c0\",\"subtype\":\"Figure\",\"type\":\"Plot\"},\"ticker\":{\"id\":\"3af7468a-feff-4a51-877e-5bc2586ab22c\",\"type\":\"CategoricalTicker\"}},\"id\":\"262ae223-f24b-4bae-8ce2-64679afc0355\",\"type\":\"CategoricalAxis\"},{\"attributes\":{\"dimensions\":\"width\",\"plot\":{\"id\":\"431265eb-4066-49de-9773-150a8e3bb7c0\",\"subtype\":\"Figure\",\"type\":\"Plot\"}},\"id\":\"1a521ff6-eaf6-492f-80e0-54054eef84bc\",\"type\":\"WheelZoomTool\"},{\"attributes\":{\"plot\":{\"id\":\"431265eb-4066-49de-9773-150a8e3bb7c0\",\"subtype\":\"Figure\",\"type\":\"Plot\"}},\"id\":\"b11f4996-4604-4d7d-b27c-304bd9942d8d\",\"type\":\"SaveTool\"},{\"attributes\":{},\"id\":\"f1f818bb-1f9d-480e-a6b0-6288c379104a\",\"type\":\"BasicTicker\"},{\"attributes\":{\"plot\":{\"id\":\"3d4af3d6-f7e6-4b20-89b6-55b9cdbb315a\",\"subtype\":\"Figure\",\"type\":\"Plot\"}},\"id\":\"fd987e76-a734-41f9-a169-971677369666\",\"type\":\"ResetTool\"},{\"attributes\":{\"callback\":null,\"end\":879.476736,\"start\":273.8176},\"id\":\"c1b40366-209f-4b8f-99a8-594202009d9b\",\"type\":\"Range1d\"},{\"attributes\":{},\"id\":\"ba7bdb85-79d3-41fc-a41b-8b06f88c0c07\",\"type\":\"BasicTickFormatter\"},{\"attributes\":{\"dimension\":1,\"plot\":{\"id\":\"3d4af3d6-f7e6-4b20-89b6-55b9cdbb315a\",\"subtype\":\"Figure\",\"type\":\"Plot\"},\"ticker\":{\"id\":\"f1f818bb-1f9d-480e-a6b0-6288c379104a\",\"type\":\"BasicTicker\"}},\"id\":\"eb595151-8182-41a2-aaf7-3e7faf35a819\",\"type\":\"Grid\"},{\"attributes\":{\"data_source\":{\"id\":\"7914162e-11ff-4f1c-af99-8a6c5e463baa\",\"type\":\"ColumnDataSource\"},\"glyph\":{\"id\":\"59117cfb-c7bf-43dc-abe3-00e1eb24bdfa\",\"type\":\"Rect\"},\"hover_glyph\":null,\"muted_glyph\":null,\"nonselection_glyph\":{\"id\":\"716ecc69-d270-4942-9af4-85f339b6b362\",\"type\":\"Rect\"},\"selection_glyph\":null},\"id\":\"3be91cf5-00dc-4151-a081-efa5c5f45bcc\",\"type\":\"GlyphRenderer\"},{\"attributes\":{\"axis_label\":\"% CPU\",\"formatter\":{\"id\":\"ba7bdb85-79d3-41fc-a41b-8b06f88c0c07\",\"type\":\"BasicTickFormatter\"},\"plot\":{\"id\":\"3d4af3d6-f7e6-4b20-89b6-55b9cdbb315a\",\"subtype\":\"Figure\",\"type\":\"Plot\"},\"ticker\":{\"id\":\"f1f818bb-1f9d-480e-a6b0-6288c379104a\",\"type\":\"BasicTicker\"}},\"id\":\"e3287c5d-f022-4f98-85ec-25d713059f4d\",\"type\":\"LinearAxis\"},{\"attributes\":{\"axis_label\":\"Memory (MB)\",\"formatter\":{\"id\":\"be999fde-7a0d-4a29-98d1-e9c154401e9f\",\"type\":\"BasicTickFormatter\"},\"plot\":{\"id\":\"3d4af3d6-f7e6-4b20-89b6-55b9cdbb315a\",\"subtype\":\"Figure\",\"type\":\"Plot\"},\"ticker\":{\"id\":\"1458e706-214a-4e1a-aed1-4500ef1d7bc2\",\"type\":\"BasicTicker\"},\"y_range_name\":\"memory\"},\"id\":\"5a6d21c6-51a5-41f4-8e83-47508b3558ac\",\"type\":\"LinearAxis\"},{\"attributes\":{},\"id\":\"93aa4ee1-e780-4e12-ba5e-a3675ea889e9\",\"type\":\"ToolEvents\"},{\"attributes\":{},\"id\":\"0b3454e6-ced2-44de-b9a0-17e299a432d2\",\"type\":\"BasicTicker\"},{\"attributes\":{\"callback\":null,\"end\":202.20000000000002},\"id\":\"ede90861-7502-4293-9cca-90cb89efb7a1\",\"type\":\"Range1d\"},{\"attributes\":{},\"id\":\"077dfe46-b3dd-4f95-be00-687f9ad6c3ed\",\"type\":\"ToolEvents\"},{\"attributes\":{\"plot\":{\"id\":\"3d4af3d6-f7e6-4b20-89b6-55b9cdbb315a\",\"subtype\":\"Figure\",\"type\":\"Plot\"}},\"id\":\"e55f323a-f1b0-46b3-8f27-7aaa23d6024f\",\"type\":\"SaveTool\"},{\"attributes\":{\"data_source\":{\"id\":\"e64a58cc-c934-4626-a40e-cff8781b878e\",\"type\":\"ColumnDataSource\"},\"glyph\":{\"id\":\"9436a1a2-98e0-4bbf-899a-bba0d2047502\",\"type\":\"Line\"},\"hover_glyph\":null,\"muted_glyph\":null,\"nonselection_glyph\":{\"id\":\"e1f478db-e702-43a1-8fda-06f1bf980903\",\"type\":\"Line\"},\"selection_glyph\":null,\"y_range_name\":\"memory\"},\"id\":\"65b33e33-ce26-47d6-b837-fd09a464211a\",\"type\":\"GlyphRenderer\"},{\"attributes\":{\"data_source\":{\"id\":\"d9bac419-af98-4195-bf27-1e6a92d0b943\",\"type\":\"ColumnDataSource\"},\"glyph\":{\"id\":\"4b19a3ff-a155-49e3-bf83-dffba87caa2e\",\"type\":\"Line\"},\"hover_glyph\":null,\"muted_glyph\":null,\"nonselection_glyph\":{\"id\":\"14bea55d-3dd5-4486-be5d-28d872f9cd12\",\"type\":\"Line\"},\"selection_glyph\":null},\"id\":\"64a01f33-4618-48cd-a118-f50a7307e6d6\",\"type\":\"GlyphRenderer\"},{\"attributes\":{},\"id\":\"3af7468a-feff-4a51-877e-5bc2586ab22c\",\"type\":\"CategoricalTicker\"},{\"attributes\":{\"dimensions\":\"width\",\"plot\":{\"id\":\"3d4af3d6-f7e6-4b20-89b6-55b9cdbb315a\",\"subtype\":\"Figure\",\"type\":\"Plot\"}},\"id\":\"cc737408-ba89-4a6a-96db-be295508a406\",\"type\":\"WheelZoomTool\"},{\"attributes\":{},\"id\":\"4dfd275a-9a06-4a6d-99bb-70b0ae641221\",\"type\":\"BasicTickFormatter\"},{\"attributes\":{},\"id\":\"9ccb421b-1cc9-4e7a-947e-4afc902900b4\",\"type\":\"BasicTickFormatter\"},{\"attributes\":{\"axis_label\":null,\"axis_line_color\":{\"value\":null},\"formatter\":{\"id\":\"9ccb421b-1cc9-4e7a-947e-4afc902900b4\",\"type\":\"BasicTickFormatter\"},\"major_tick_line_color\":{\"value\":null},\"plot\":{\"id\":\"431265eb-4066-49de-9773-150a8e3bb7c0\",\"subtype\":\"Figure\",\"type\":\"Plot\"},\"ticker\":{\"id\":\"249a1a6e-11bb-4a6b-aac8-68e5ba2f3e44\",\"type\":\"BasicTicker\"}},\"id\":\"635e19dd-17aa-4e96-9ecb-35876beccace\",\"type\":\"LinearAxis\"},{\"attributes\":{\"below\":[{\"id\":\"98d1ba0e-bd57-42d6-b50e-bc317d4bac9c\",\"type\":\"LinearAxis\"}],\"extra_y_ranges\":{\"memory\":{\"id\":\"c1b40366-209f-4b8f-99a8-594202009d9b\",\"type\":\"Range1d\"}},\"left\":[{\"id\":\"e3287c5d-f022-4f98-85ec-25d713059f4d\",\"type\":\"LinearAxis\"}],\"min_border_left\":75,\"min_border_right\":75,\"min_border_top\":20,\"plot_height\":270,\"plot_width\":800,\"renderers\":[{\"id\":\"98d1ba0e-bd57-42d6-b50e-bc317d4bac9c\",\"type\":\"LinearAxis\"},{\"id\":\"6f0ea0cb-87a3-4bfa-b621-437a4cea028d\",\"type\":\"Grid\"},{\"id\":\"e3287c5d-f022-4f98-85ec-25d713059f4d\",\"type\":\"LinearAxis\"},{\"id\":\"eb595151-8182-41a2-aaf7-3e7faf35a819\",\"type\":\"Grid\"},{\"id\":\"0b6d62ce-642f-47dd-b736-bb45ef3f21d6\",\"type\":\"Legend\"},{\"id\":\"64a01f33-4618-48cd-a118-f50a7307e6d6\",\"type\":\"GlyphRenderer\"},{\"id\":\"65b33e33-ce26-47d6-b837-fd09a464211a\",\"type\":\"GlyphRenderer\"},{\"id\":\"5a6d21c6-51a5-41f4-8e83-47508b3558ac\",\"type\":\"LinearAxis\"}],\"right\":[{\"id\":\"5a6d21c6-51a5-41f4-8e83-47508b3558ac\",\"type\":\"LinearAxis\"}],\"title\":null,\"tool_events\":{\"id\":\"077dfe46-b3dd-4f95-be00-687f9ad6c3ed\",\"type\":\"ToolEvents\"},\"toolbar\":{\"id\":\"94b0e822-2126-4e75-95ff-a5a69d8d5780\",\"type\":\"Toolbar\"},\"toolbar_location\":null,\"x_range\":{\"id\":\"f63ff149-9c91-476a-8656-1626f6e06327\",\"type\":\"Range1d\"},\"y_range\":{\"id\":\"ede90861-7502-4293-9cca-90cb89efb7a1\",\"type\":\"Range1d\"}},\"id\":\"3d4af3d6-f7e6-4b20-89b6-55b9cdbb315a\",\"subtype\":\"Figure\",\"type\":\"Plot\"},{\"attributes\":{\"callback\":null,\"plot\":{\"id\":\"431265eb-4066-49de-9773-150a8e3bb7c0\",\"subtype\":\"Figure\",\"type\":\"Plot\"},\"point_policy\":\"follow_mouse\",\"tooltips\":\"\\n    <div>\\n        <span style=\\\"font-size: 14px; font-weight: bold;\\\">Key:</span>&nbsp;\\n        <span style=\\\"font-size: 10px; font-family: Monaco, monospace;\\\">@key</span>\\n    </div>\\n    <div>\\n        <span style=\\\"font-size: 14px; font-weight: bold;\\\">Task:</span>&nbsp;\\n        <span style=\\\"font-size: 10px; font-family: Monaco, monospace;\\\">@function</span>\\n    </div>\\n    \"},\"id\":\"ad870512-8ad1-4c86-b26d-7154a2615328\",\"type\":\"HoverTool\"},{\"attributes\":{\"callback\":null,\"end\":3.9991165649989853},\"id\":\"f63ff149-9c91-476a-8656-1626f6e06327\",\"type\":\"Range1d\"},{\"attributes\":{\"items\":[{\"id\":\"70e6caa8-3afa-4b2d-afe6-0e393ccb02af\",\"type\":\"LegendItem\"},{\"id\":\"95b5c1e1-c030-4291-92fe-fbfddcbfb215\",\"type\":\"LegendItem\"}],\"plot\":{\"id\":\"3d4af3d6-f7e6-4b20-89b6-55b9cdbb315a\",\"subtype\":\"Figure\",\"type\":\"Plot\"}},\"id\":\"0b6d62ce-642f-47dd-b736-bb45ef3f21d6\",\"type\":\"Legend\"},{\"attributes\":{\"axis_label\":\"Time (s)\",\"formatter\":{\"id\":\"4dfd275a-9a06-4a6d-99bb-70b0ae641221\",\"type\":\"BasicTickFormatter\"},\"plot\":{\"id\":\"3d4af3d6-f7e6-4b20-89b6-55b9cdbb315a\",\"subtype\":\"Figure\",\"type\":\"Plot\"},\"ticker\":{\"id\":\"0b3454e6-ced2-44de-b9a0-17e299a432d2\",\"type\":\"BasicTicker\"}},\"id\":\"98d1ba0e-bd57-42d6-b50e-bc317d4bac9c\",\"type\":\"LinearAxis\"},{\"attributes\":{\"children\":[{\"id\":\"e0b8159d-f19f-4a3f-b758-d45c118d8394\",\"type\":\"ToolbarBox\"},{\"id\":\"7f0d2936-991c-4810-a86f-a7e4c34e063f\",\"type\":\"Column\"}]},\"id\":\"5a81938b-a0a1-4dd2-b6b1-80e307308ea4\",\"type\":\"Column\"},{\"attributes\":{\"callback\":null,\"factors\":[\"0\",\"1\",\"2\",\"3\"]},\"id\":\"5407868e-4053-4c47-9ef0-aa1bb3e2bc81\",\"type\":\"FactorRange\"},{\"attributes\":{\"fill_alpha\":{\"value\":0.1},\"fill_color\":{\"value\":\"#1f77b4\"},\"height\":{\"units\":\"data\",\"value\":1},\"line_alpha\":{\"value\":0.1},\"line_color\":{\"value\":\"#1f77b4\"},\"width\":{\"field\":\"width\",\"units\":\"data\"},\"x\":{\"field\":\"x\"},\"y\":{\"field\":\"y\"}},\"id\":\"716ecc69-d270-4942-9af4-85f339b6b362\",\"type\":\"Rect\"},{\"attributes\":{\"line_alpha\":{\"value\":0.1},\"line_color\":{\"value\":\"#1f77b4\"},\"line_width\":{\"value\":4},\"x\":{\"field\":\"x\"},\"y\":{\"field\":\"y\"}},\"id\":\"14bea55d-3dd5-4486-be5d-28d872f9cd12\",\"type\":\"Line\"},{\"attributes\":{\"plot\":{\"id\":\"3d4af3d6-f7e6-4b20-89b6-55b9cdbb315a\",\"subtype\":\"Figure\",\"type\":\"Plot\"}},\"id\":\"13f2b247-0574-4823-98c5-ccc9e57ac44e\",\"type\":\"ResizeTool\"},{\"attributes\":{},\"id\":\"be999fde-7a0d-4a29-98d1-e9c154401e9f\",\"type\":\"BasicTickFormatter\"},{\"attributes\":{\"plot\":{\"id\":\"431265eb-4066-49de-9773-150a8e3bb7c0\",\"subtype\":\"Figure\",\"type\":\"Plot\"}},\"id\":\"2899e3ce-7588-493e-8ded-dba6ab39f3f1\",\"type\":\"ResizeTool\"},{\"attributes\":{\"line_color\":{\"value\":\"#29788E\"},\"line_width\":{\"value\":4},\"x\":{\"field\":\"x\"},\"y\":{\"field\":\"y\"}},\"id\":\"9436a1a2-98e0-4bbf-899a-bba0d2047502\",\"type\":\"Line\"},{\"attributes\":{\"dimensions\":\"width\",\"plot\":{\"id\":\"431265eb-4066-49de-9773-150a8e3bb7c0\",\"subtype\":\"Figure\",\"type\":\"Plot\"}},\"id\":\"306ad3df-c8bf-47fc-aba1-ef787f243362\",\"type\":\"PanTool\"},{\"attributes\":{\"dimensions\":\"width\",\"plot\":{\"id\":\"3d4af3d6-f7e6-4b20-89b6-55b9cdbb315a\",\"subtype\":\"Figure\",\"type\":\"Plot\"}},\"id\":\"6d281907-c428-45de-a5fe-b8d80171ab40\",\"type\":\"PanTool\"},{\"attributes\":{\"line_alpha\":{\"value\":0.1},\"line_color\":{\"value\":\"#1f77b4\"},\"line_width\":{\"value\":4},\"x\":{\"field\":\"x\"},\"y\":{\"field\":\"y\"}},\"id\":\"e1f478db-e702-43a1-8fda-06f1bf980903\",\"type\":\"Line\"},{\"attributes\":{\"dimension\":1,\"grid_line_color\":{\"value\":null},\"plot\":{\"id\":\"431265eb-4066-49de-9773-150a8e3bb7c0\",\"subtype\":\"Figure\",\"type\":\"Plot\"},\"ticker\":{\"id\":\"3af7468a-feff-4a51-877e-5bc2586ab22c\",\"type\":\"CategoricalTicker\"}},\"id\":\"365c367c-a8d0-437e-8863-87e553769d6d\",\"type\":\"Grid\"},{\"attributes\":{},\"id\":\"1458e706-214a-4e1a-aed1-4500ef1d7bc2\",\"type\":\"BasicTicker\"},{\"attributes\":{\"label\":{\"value\":\"Memory\"},\"renderers\":[{\"id\":\"65b33e33-ce26-47d6-b837-fd09a464211a\",\"type\":\"GlyphRenderer\"}]},\"id\":\"95b5c1e1-c030-4291-92fe-fbfddcbfb215\",\"type\":\"LegendItem\"},{\"attributes\":{\"plot\":{\"id\":\"3d4af3d6-f7e6-4b20-89b6-55b9cdbb315a\",\"subtype\":\"Figure\",\"type\":\"Plot\"},\"ticker\":{\"id\":\"0b3454e6-ced2-44de-b9a0-17e299a432d2\",\"type\":\"BasicTicker\"}},\"id\":\"6f0ea0cb-87a3-4bfa-b621-437a4cea028d\",\"type\":\"Grid\"},{\"attributes\":{\"below\":[{\"id\":\"635e19dd-17aa-4e96-9ecb-35876beccace\",\"type\":\"LinearAxis\"}],\"left\":[{\"id\":\"262ae223-f24b-4bae-8ce2-64679afc0355\",\"type\":\"CategoricalAxis\"}],\"min_border_bottom\":20,\"min_border_left\":75,\"min_border_right\":75,\"plot_height\":270,\"plot_width\":800,\"renderers\":[{\"id\":\"635e19dd-17aa-4e96-9ecb-35876beccace\",\"type\":\"LinearAxis\"},{\"id\":\"64db9f0d-8ee9-4051-9081-b74e9e6557e1\",\"type\":\"Grid\"},{\"id\":\"262ae223-f24b-4bae-8ce2-64679afc0355\",\"type\":\"CategoricalAxis\"},{\"id\":\"365c367c-a8d0-437e-8863-87e553769d6d\",\"type\":\"Grid\"},{\"id\":\"3be91cf5-00dc-4151-a081-efa5c5f45bcc\",\"type\":\"GlyphRenderer\"}],\"title\":{\"id\":\"8c2d61a7-4c0a-4223-9952-72035b98ac73\",\"type\":\"Title\"},\"tool_events\":{\"id\":\"93aa4ee1-e780-4e12-ba5e-a3675ea889e9\",\"type\":\"ToolEvents\"},\"toolbar\":{\"id\":\"90d16cc3-ca65-4051-b313-9be151e421b0\",\"type\":\"Toolbar\"},\"toolbar_location\":null,\"x_range\":{\"id\":\"f63ff149-9c91-476a-8656-1626f6e06327\",\"type\":\"Range1d\"},\"y_range\":{\"id\":\"5407868e-4053-4c47-9ef0-aa1bb3e2bc81\",\"type\":\"FactorRange\"}},\"id\":\"431265eb-4066-49de-9773-150a8e3bb7c0\",\"subtype\":\"Figure\",\"type\":\"Plot\"},{\"attributes\":{\"label\":{\"value\":\"% CPU\"},\"renderers\":[{\"id\":\"64a01f33-4618-48cd-a118-f50a7307e6d6\",\"type\":\"GlyphRenderer\"}]},\"id\":\"70e6caa8-3afa-4b2d-afe6-0e393ccb02af\",\"type\":\"LegendItem\"},{\"attributes\":{},\"id\":\"701e3e62-e188-4c5a-ad85-595f247bcb01\",\"type\":\"CategoricalTickFormatter\"},{\"attributes\":{\"active_drag\":\"auto\",\"active_scroll\":\"auto\",\"active_tap\":\"auto\",\"tools\":[{\"id\":\"ad870512-8ad1-4c86-b26d-7154a2615328\",\"type\":\"HoverTool\"},{\"id\":\"b11f4996-4604-4d7d-b27c-304bd9942d8d\",\"type\":\"SaveTool\"},{\"id\":\"fb374830-b92d-4200-b26c-07a9c23917c0\",\"type\":\"ResetTool\"},{\"id\":\"2899e3ce-7588-493e-8ded-dba6ab39f3f1\",\"type\":\"ResizeTool\"},{\"id\":\"1a521ff6-eaf6-492f-80e0-54054eef84bc\",\"type\":\"WheelZoomTool\"},{\"id\":\"306ad3df-c8bf-47fc-aba1-ef787f243362\",\"type\":\"PanTool\"}]},\"id\":\"90d16cc3-ca65-4051-b313-9be151e421b0\",\"type\":\"Toolbar\"},{\"attributes\":{\"plot\":null,\"text\":\"Profile Results\"},\"id\":\"8c2d61a7-4c0a-4223-9952-72035b98ac73\",\"type\":\"Title\"}],\"root_ids\":[\"5a81938b-a0a1-4dd2-b6b1-80e307308ea4\"]},\"title\":\"Bokeh Application\",\"version\":\"0.12.5\"}};\n",
       "            var render_items = [{\"docid\":\"0d310a4a-6af8-437f-8de0-f59350065d02\",\"elementid\":\"cb7540a0-fa57-4d92-83f4-fbf111a1bcbb\",\"modelid\":\"5a81938b-a0a1-4dd2-b6b1-80e307308ea4\"}];\n",
       "            \n",
       "            Bokeh.embed.embed_items(docs_json, render_items);\n",
       "          };\n",
       "          if (document.readyState != \"loading\") fn();\n",
       "          else document.addEventListener(\"DOMContentLoaded\", fn);\n",
       "        })();\n",
       "      },\n",
       "      function(Bokeh) {\n",
       "      }\n",
       "    ];\n",
       "  \n",
       "    function run_inline_js() {\n",
       "      \n",
       "      if ((window.Bokeh !== undefined) || (force === true)) {\n",
       "        for (var i = 0; i < inline_js.length; i++) {\n",
       "          inline_js[i](window.Bokeh);\n",
       "        }if (force === true) {\n",
       "          display_loaded();\n",
       "        }} else if (Date.now() < window._bokeh_timeout) {\n",
       "        setTimeout(run_inline_js, 100);\n",
       "      } else if (!window._bokeh_failed_load) {\n",
       "        console.log(\"Bokeh: BokehJS failed to load within specified timeout.\");\n",
       "        window._bokeh_failed_load = true;\n",
       "      } else if (force !== true) {\n",
       "        var cell = $(document.getElementById(\"cb7540a0-fa57-4d92-83f4-fbf111a1bcbb\")).parents('.cell').data().cell;\n",
       "        cell.output_area.append_execute_result(NB_LOAD_WARNING)\n",
       "      }\n",
       "  \n",
       "    }\n",
       "  \n",
       "    if (window._bokeh_is_loading === 0) {\n",
       "      console.log(\"Bokeh: BokehJS loaded, going straight to plotting\");\n",
       "      run_inline_js();\n",
       "    } else {\n",
       "      load_libs(js_urls, function() {\n",
       "        console.log(\"Bokeh: BokehJS plotting callback run at\", now());\n",
       "        run_inline_js();\n",
       "      });\n",
       "    }\n",
       "  }(this));\n",
       "</script>"
      ]
     },
     "metadata": {},
     "output_type": "display_data"
    },
    {
     "name": "stdout",
     "output_type": "stream",
     "text": [
      "CPU times: user 3.59 s, sys: 847 ms, total: 4.44 s\n",
      "Wall time: 4.49 s\n"
     ]
    }
   ],
   "source": [
    "%%time\n",
    "print(val_h5)\n",
    "do_job_for_split(val_pairs, tofile=val_h5)\n",
    "dg.visualize([pr, rpr])\n",
    "pr.clear()\n",
    "rpr.clear()"
   ]
  },
  {
   "cell_type": "code",
   "execution_count": 80,
   "metadata": {
    "ExecuteTime": {
     "end_time": "2017-08-06T21:00:17.872569Z",
     "start_time": "2017-08-06T21:00:13.129293Z"
    }
   },
   "outputs": [
    {
     "name": "stdout",
     "output_type": "stream",
     "text": [
      "/Users/abdullah/Delve/iais/rennet-x/data/working/ka3/deutsch-01m/wav-8k-mono/pickles/20170806-logmel64-win32ms-hop10ms/trn.h5\n",
      "[########################################] | 100% Completed |  4.5s\n"
     ]
    },
    {
     "data": {
      "text/html": [
       "\n",
       "\n",
       "    <div class=\"bk-root\">\n",
       "        <div class=\"bk-plotdiv\" id=\"a845e407-b211-4f02-8a00-4793aa6ee529\"></div>\n",
       "    </div>\n",
       "<script type=\"text/javascript\">\n",
       "  \n",
       "  (function(global) {\n",
       "    function now() {\n",
       "      return new Date();\n",
       "    }\n",
       "  \n",
       "    var force = false;\n",
       "  \n",
       "    if (typeof (window._bokeh_onload_callbacks) === \"undefined\" || force === true) {\n",
       "      window._bokeh_onload_callbacks = [];\n",
       "      window._bokeh_is_loading = undefined;\n",
       "    }\n",
       "  \n",
       "  \n",
       "    \n",
       "    if (typeof (window._bokeh_timeout) === \"undefined\" || force === true) {\n",
       "      window._bokeh_timeout = Date.now() + 0;\n",
       "      window._bokeh_failed_load = false;\n",
       "    }\n",
       "  \n",
       "    var NB_LOAD_WARNING = {'data': {'text/html':\n",
       "       \"<div style='background-color: #fdd'>\\n\"+\n",
       "       \"<p>\\n\"+\n",
       "       \"BokehJS does not appear to have successfully loaded. If loading BokehJS from CDN, this \\n\"+\n",
       "       \"may be due to a slow or bad network connection. Possible fixes:\\n\"+\n",
       "       \"</p>\\n\"+\n",
       "       \"<ul>\\n\"+\n",
       "       \"<li>re-rerun `output_notebook()` to attempt to load from CDN again, or</li>\\n\"+\n",
       "       \"<li>use INLINE resources instead, as so:</li>\\n\"+\n",
       "       \"</ul>\\n\"+\n",
       "       \"<code>\\n\"+\n",
       "       \"from bokeh.resources import INLINE\\n\"+\n",
       "       \"output_notebook(resources=INLINE)\\n\"+\n",
       "       \"</code>\\n\"+\n",
       "       \"</div>\"}};\n",
       "  \n",
       "    function display_loaded() {\n",
       "      if (window.Bokeh !== undefined) {\n",
       "        var el = document.getElementById(\"a845e407-b211-4f02-8a00-4793aa6ee529\");\n",
       "        el.textContent = \"BokehJS \" + Bokeh.version + \" successfully loaded.\";\n",
       "      } else if (Date.now() < window._bokeh_timeout) {\n",
       "        setTimeout(display_loaded, 100)\n",
       "      }\n",
       "    }\n",
       "  \n",
       "    function run_callbacks() {\n",
       "      window._bokeh_onload_callbacks.forEach(function(callback) { callback() });\n",
       "      delete window._bokeh_onload_callbacks\n",
       "      console.info(\"Bokeh: all callbacks have finished\");\n",
       "    }\n",
       "  \n",
       "    function load_libs(js_urls, callback) {\n",
       "      window._bokeh_onload_callbacks.push(callback);\n",
       "      if (window._bokeh_is_loading > 0) {\n",
       "        console.log(\"Bokeh: BokehJS is being loaded, scheduling callback at\", now());\n",
       "        return null;\n",
       "      }\n",
       "      if (js_urls == null || js_urls.length === 0) {\n",
       "        run_callbacks();\n",
       "        return null;\n",
       "      }\n",
       "      console.log(\"Bokeh: BokehJS not loaded, scheduling load and callback at\", now());\n",
       "      window._bokeh_is_loading = js_urls.length;\n",
       "      for (var i = 0; i < js_urls.length; i++) {\n",
       "        var url = js_urls[i];\n",
       "        var s = document.createElement('script');\n",
       "        s.src = url;\n",
       "        s.async = false;\n",
       "        s.onreadystatechange = s.onload = function() {\n",
       "          window._bokeh_is_loading--;\n",
       "          if (window._bokeh_is_loading === 0) {\n",
       "            console.log(\"Bokeh: all BokehJS libraries loaded\");\n",
       "            run_callbacks()\n",
       "          }\n",
       "        };\n",
       "        s.onerror = function() {\n",
       "          console.warn(\"failed to load library \" + url);\n",
       "        };\n",
       "        console.log(\"Bokeh: injecting script tag for BokehJS library: \", url);\n",
       "        document.getElementsByTagName(\"head\")[0].appendChild(s);\n",
       "      }\n",
       "    };var element = document.getElementById(\"a845e407-b211-4f02-8a00-4793aa6ee529\");\n",
       "    if (element == null) {\n",
       "      console.log(\"Bokeh: ERROR: autoload.js configured with elementid 'a845e407-b211-4f02-8a00-4793aa6ee529' but no matching script tag was found. \")\n",
       "      return false;\n",
       "    }\n",
       "  \n",
       "    var js_urls = [];\n",
       "  \n",
       "    var inline_js = [\n",
       "      function(Bokeh) {\n",
       "        (function() {\n",
       "          var fn = function() {\n",
       "            var docs_json = {\"25d05395-b70a-4514-803a-f6b86a7f383a\":{\"roots\":{\"references\":[{\"attributes\":{\"grid_line_color\":{\"value\":null},\"plot\":{\"id\":\"93acd14c-5b20-4268-bc8d-20deb052c3f0\",\"subtype\":\"Figure\",\"type\":\"Plot\"},\"ticker\":{\"id\":\"7a8859d2-94cf-4455-ac78-f22e581f50c0\",\"type\":\"BasicTicker\"}},\"id\":\"d707724e-3225-409f-95eb-62776a8d5de7\",\"type\":\"Grid\"},{\"attributes\":{\"plot\":null,\"text\":\"Profile Results\"},\"id\":\"59bde102-1203-43e7-b7a1-0ba0b529a190\",\"type\":\"Title\"},{\"attributes\":{\"line_alpha\":{\"value\":0.1},\"line_color\":{\"value\":\"#1f77b4\"},\"line_width\":{\"value\":4},\"x\":{\"field\":\"x\"},\"y\":{\"field\":\"y\"}},\"id\":\"eac15e49-fd20-42bf-85b6-1f87871e64b4\",\"type\":\"Line\"},{\"attributes\":{\"active_drag\":\"auto\",\"active_scroll\":\"auto\",\"active_tap\":\"auto\",\"tools\":[{\"id\":\"afcb989e-d2e9-4072-93c0-bf1c01e30f88\",\"type\":\"SaveTool\"},{\"id\":\"51cd00f6-4b30-498e-9652-46247f59c927\",\"type\":\"ResetTool\"},{\"id\":\"b796a2c3-9149-46ee-a12b-775b50724f8f\",\"type\":\"ResizeTool\"},{\"id\":\"53aa76b5-6617-4d32-aa83-efcc38e3104a\",\"type\":\"WheelZoomTool\"},{\"id\":\"2f1df174-30c1-42a6-b6e2-38f626c7a2c3\",\"type\":\"PanTool\"}]},\"id\":\"78079e2e-8b84-41eb-8fec-181e14cb15e0\",\"type\":\"Toolbar\"},{\"attributes\":{},\"id\":\"c334eb29-719f-4bea-bf7d-82198d92a410\",\"type\":\"BasicTicker\"},{\"attributes\":{\"children\":[{\"id\":\"9d7a2616-3ffb-47da-a03c-fe2b757344f0\",\"subtype\":\"Figure\",\"type\":\"Plot\"}]},\"id\":\"9eeeac96-0b5f-439f-8182-6859b3e50972\",\"type\":\"Row\"},{\"attributes\":{\"dimensions\":\"width\",\"plot\":{\"id\":\"9d7a2616-3ffb-47da-a03c-fe2b757344f0\",\"subtype\":\"Figure\",\"type\":\"Plot\"}},\"id\":\"53aa76b5-6617-4d32-aa83-efcc38e3104a\",\"type\":\"WheelZoomTool\"},{\"attributes\":{},\"id\":\"86a5609f-545a-4935-b866-a48774a01de7\",\"type\":\"BasicTickFormatter\"},{\"attributes\":{},\"id\":\"7a8859d2-94cf-4455-ac78-f22e581f50c0\",\"type\":\"BasicTicker\"},{\"attributes\":{\"children\":[{\"id\":\"1e658298-9a19-4fab-9e4c-e756ae97dc47\",\"type\":\"ToolbarBox\"},{\"id\":\"d43b9967-b562-466a-90b5-abd9b85c3bdc\",\"type\":\"Column\"}]},\"id\":\"274f07e6-aabc-4d03-a7eb-cbaf252be22a\",\"type\":\"Column\"},{\"attributes\":{\"dimensions\":\"width\",\"plot\":{\"id\":\"93acd14c-5b20-4268-bc8d-20deb052c3f0\",\"subtype\":\"Figure\",\"type\":\"Plot\"}},\"id\":\"4c95df48-55a5-4160-bdfc-fadeb18f1a9a\",\"type\":\"PanTool\"},{\"attributes\":{\"axis_label\":\"Worker ID\",\"axis_line_color\":{\"value\":null},\"formatter\":{\"id\":\"009dceaf-47a5-4af4-b54b-54ac2c036c63\",\"type\":\"CategoricalTickFormatter\"},\"major_tick_line_color\":{\"value\":null},\"plot\":{\"id\":\"93acd14c-5b20-4268-bc8d-20deb052c3f0\",\"subtype\":\"Figure\",\"type\":\"Plot\"},\"ticker\":{\"id\":\"b209bb16-7c47-4824-b773-420a61632add\",\"type\":\"CategoricalTicker\"}},\"id\":\"d136c4ea-d6ee-48ce-abb6-b97b2c7c1647\",\"type\":\"CategoricalAxis\"},{\"attributes\":{\"below\":[{\"id\":\"3bfbfa66-d0d7-4c6a-9858-b2632db3b215\",\"type\":\"LinearAxis\"}],\"extra_y_ranges\":{\"memory\":{\"id\":\"977fdffc-060c-4e29-ab02-d9e45189bb66\",\"type\":\"Range1d\"}},\"left\":[{\"id\":\"5231db3d-6166-43d8-81bd-4a4a15c40fa6\",\"type\":\"LinearAxis\"}],\"min_border_left\":75,\"min_border_right\":75,\"min_border_top\":20,\"plot_height\":270,\"plot_width\":800,\"renderers\":[{\"id\":\"3bfbfa66-d0d7-4c6a-9858-b2632db3b215\",\"type\":\"LinearAxis\"},{\"id\":\"820508ac-8e78-43db-857e-fe8db524f093\",\"type\":\"Grid\"},{\"id\":\"5231db3d-6166-43d8-81bd-4a4a15c40fa6\",\"type\":\"LinearAxis\"},{\"id\":\"594b3922-cac4-4e50-9f57-6a5998269b4d\",\"type\":\"Grid\"},{\"id\":\"937e2678-7042-4db4-9aa2-fdf3e87bf127\",\"type\":\"Legend\"},{\"id\":\"ff6ac72d-69e4-4c65-9e1e-af65b2b6774e\",\"type\":\"GlyphRenderer\"},{\"id\":\"47063b8b-c11b-4445-863d-f07c1b68fefd\",\"type\":\"GlyphRenderer\"},{\"id\":\"cccfcd8b-d6cc-41b7-90f8-4548af74607f\",\"type\":\"LinearAxis\"}],\"right\":[{\"id\":\"cccfcd8b-d6cc-41b7-90f8-4548af74607f\",\"type\":\"LinearAxis\"}],\"title\":null,\"tool_events\":{\"id\":\"cda6242e-70c8-4fee-8c25-ee58ffbe88be\",\"type\":\"ToolEvents\"},\"toolbar\":{\"id\":\"78079e2e-8b84-41eb-8fec-181e14cb15e0\",\"type\":\"Toolbar\"},\"toolbar_location\":null,\"x_range\":{\"id\":\"bc315f21-a41b-4742-93d0-d2e3475f3fd9\",\"type\":\"Range1d\"},\"y_range\":{\"id\":\"96a9348f-6404-47f6-a50e-b4c8adc0f176\",\"type\":\"Range1d\"}},\"id\":\"9d7a2616-3ffb-47da-a03c-fe2b757344f0\",\"subtype\":\"Figure\",\"type\":\"Plot\"},{\"attributes\":{\"plot\":{\"id\":\"9d7a2616-3ffb-47da-a03c-fe2b757344f0\",\"subtype\":\"Figure\",\"type\":\"Plot\"},\"ticker\":{\"id\":\"c334eb29-719f-4bea-bf7d-82198d92a410\",\"type\":\"BasicTicker\"}},\"id\":\"820508ac-8e78-43db-857e-fe8db524f093\",\"type\":\"Grid\"},{\"attributes\":{\"line_color\":{\"value\":\"#440154\"},\"line_width\":{\"value\":4},\"x\":{\"field\":\"x\"},\"y\":{\"field\":\"y\"}},\"id\":\"ec558843-253c-47b6-a191-de79315d4d86\",\"type\":\"Line\"},{\"attributes\":{\"callback\":null,\"end\":4.361635704997752},\"id\":\"bc315f21-a41b-4742-93d0-d2e3475f3fd9\",\"type\":\"Range1d\"},{\"attributes\":{},\"id\":\"e6b6fb68-1fd8-4e09-a525-ff989395e9f1\",\"type\":\"ToolEvents\"},{\"attributes\":{\"dimension\":1,\"grid_line_color\":{\"value\":null},\"plot\":{\"id\":\"93acd14c-5b20-4268-bc8d-20deb052c3f0\",\"subtype\":\"Figure\",\"type\":\"Plot\"},\"ticker\":{\"id\":\"b209bb16-7c47-4824-b773-420a61632add\",\"type\":\"CategoricalTicker\"}},\"id\":\"2c5e4105-a64d-4f17-a282-65b72699d486\",\"type\":\"Grid\"},{\"attributes\":{},\"id\":\"19f9558d-aaa7-45ae-a935-05dbc5dac0e4\",\"type\":\"BasicTicker\"},{\"attributes\":{\"dimensions\":\"width\",\"plot\":{\"id\":\"9d7a2616-3ffb-47da-a03c-fe2b757344f0\",\"subtype\":\"Figure\",\"type\":\"Plot\"}},\"id\":\"2f1df174-30c1-42a6-b6e2-38f626c7a2c3\",\"type\":\"PanTool\"},{\"attributes\":{},\"id\":\"009dceaf-47a5-4af4-b54b-54ac2c036c63\",\"type\":\"CategoricalTickFormatter\"},{\"attributes\":{},\"id\":\"daffcf31-86c0-44fe-8e62-9353a2879f47\",\"type\":\"BasicTickFormatter\"},{\"attributes\":{\"sizing_mode\":\"scale_width\",\"toolbar_location\":\"above\",\"tools\":[{\"id\":\"95a5d5c6-f31b-406c-a628-2af99dff4a30\",\"type\":\"HoverTool\"},{\"id\":\"5d819a3d-c3ef-4f82-8948-e8eb5950afb7\",\"type\":\"SaveTool\"},{\"id\":\"30aaeb78-6918-4d06-843f-8396e8f83376\",\"type\":\"ResetTool\"},{\"id\":\"0d362e21-3e08-41eb-8d84-039c4838fdf4\",\"type\":\"ResizeTool\"},{\"id\":\"34a4602b-c910-41bb-a33e-7963427d45a6\",\"type\":\"WheelZoomTool\"},{\"id\":\"4c95df48-55a5-4160-bdfc-fadeb18f1a9a\",\"type\":\"PanTool\"},{\"id\":\"afcb989e-d2e9-4072-93c0-bf1c01e30f88\",\"type\":\"SaveTool\"},{\"id\":\"51cd00f6-4b30-498e-9652-46247f59c927\",\"type\":\"ResetTool\"},{\"id\":\"b796a2c3-9149-46ee-a12b-775b50724f8f\",\"type\":\"ResizeTool\"},{\"id\":\"53aa76b5-6617-4d32-aa83-efcc38e3104a\",\"type\":\"WheelZoomTool\"},{\"id\":\"2f1df174-30c1-42a6-b6e2-38f626c7a2c3\",\"type\":\"PanTool\"}]},\"id\":\"1e658298-9a19-4fab-9e4c-e756ae97dc47\",\"type\":\"ToolbarBox\"},{\"attributes\":{\"plot\":{\"id\":\"93acd14c-5b20-4268-bc8d-20deb052c3f0\",\"subtype\":\"Figure\",\"type\":\"Plot\"}},\"id\":\"0d362e21-3e08-41eb-8d84-039c4838fdf4\",\"type\":\"ResizeTool\"},{\"attributes\":{},\"id\":\"7098e01d-3164-485f-941e-fed560f6b89b\",\"type\":\"BasicTickFormatter\"},{\"attributes\":{\"data_source\":{\"id\":\"aa485855-4990-4312-8236-d5211ab1bed1\",\"type\":\"ColumnDataSource\"},\"glyph\":{\"id\":\"ec558843-253c-47b6-a191-de79315d4d86\",\"type\":\"Line\"},\"hover_glyph\":null,\"muted_glyph\":null,\"nonselection_glyph\":{\"id\":\"256ee985-0e31-4f57-8478-1894d206d768\",\"type\":\"Line\"},\"selection_glyph\":null},\"id\":\"ff6ac72d-69e4-4c65-9e1e-af65b2b6774e\",\"type\":\"GlyphRenderer\"},{\"attributes\":{\"label\":{\"value\":\"Memory\"},\"renderers\":[{\"id\":\"47063b8b-c11b-4445-863d-f07c1b68fefd\",\"type\":\"GlyphRenderer\"}]},\"id\":\"ce99e66b-fc88-45a2-b91a-dcf531844441\",\"type\":\"LegendItem\"},{\"attributes\":{\"line_alpha\":{\"value\":0.1},\"line_color\":{\"value\":\"#1f77b4\"},\"line_width\":{\"value\":4},\"x\":{\"field\":\"x\"},\"y\":{\"field\":\"y\"}},\"id\":\"256ee985-0e31-4f57-8478-1894d206d768\",\"type\":\"Line\"},{\"attributes\":{\"below\":[{\"id\":\"d0c25875-d5db-4032-9902-e9e7476f4775\",\"type\":\"LinearAxis\"}],\"left\":[{\"id\":\"d136c4ea-d6ee-48ce-abb6-b97b2c7c1647\",\"type\":\"CategoricalAxis\"}],\"min_border_bottom\":20,\"min_border_left\":75,\"min_border_right\":75,\"plot_height\":270,\"plot_width\":800,\"renderers\":[{\"id\":\"d0c25875-d5db-4032-9902-e9e7476f4775\",\"type\":\"LinearAxis\"},{\"id\":\"d707724e-3225-409f-95eb-62776a8d5de7\",\"type\":\"Grid\"},{\"id\":\"d136c4ea-d6ee-48ce-abb6-b97b2c7c1647\",\"type\":\"CategoricalAxis\"},{\"id\":\"2c5e4105-a64d-4f17-a282-65b72699d486\",\"type\":\"Grid\"},{\"id\":\"8b932b34-00e6-4640-ac21-370828608c07\",\"type\":\"GlyphRenderer\"}],\"title\":{\"id\":\"59bde102-1203-43e7-b7a1-0ba0b529a190\",\"type\":\"Title\"},\"tool_events\":{\"id\":\"e6b6fb68-1fd8-4e09-a525-ff989395e9f1\",\"type\":\"ToolEvents\"},\"toolbar\":{\"id\":\"434bff9e-b620-4f4a-8e88-b94362a56091\",\"type\":\"Toolbar\"},\"toolbar_location\":null,\"x_range\":{\"id\":\"bc315f21-a41b-4742-93d0-d2e3475f3fd9\",\"type\":\"Range1d\"},\"y_range\":{\"id\":\"955f97af-65f4-4795-8a5b-ffdc7bdbe188\",\"type\":\"FactorRange\"}},\"id\":\"93acd14c-5b20-4268-bc8d-20deb052c3f0\",\"subtype\":\"Figure\",\"type\":\"Plot\"},{\"attributes\":{},\"id\":\"92f08417-cc26-4052-992d-9af5de35d3f3\",\"type\":\"BasicTickFormatter\"},{\"attributes\":{\"axis_label\":\"% CPU\",\"formatter\":{\"id\":\"daffcf31-86c0-44fe-8e62-9353a2879f47\",\"type\":\"BasicTickFormatter\"},\"plot\":{\"id\":\"9d7a2616-3ffb-47da-a03c-fe2b757344f0\",\"subtype\":\"Figure\",\"type\":\"Plot\"},\"ticker\":{\"id\":\"19f9558d-aaa7-45ae-a935-05dbc5dac0e4\",\"type\":\"BasicTicker\"}},\"id\":\"5231db3d-6166-43d8-81bd-4a4a15c40fa6\",\"type\":\"LinearAxis\"},{\"attributes\":{},\"id\":\"cda6242e-70c8-4fee-8c25-ee58ffbe88be\",\"type\":\"ToolEvents\"},{\"attributes\":{\"fill_color\":{\"field\":\"color\"},\"height\":{\"units\":\"data\",\"value\":1},\"line_color\":{\"value\":\"gray\"},\"width\":{\"field\":\"width\",\"units\":\"data\"},\"x\":{\"field\":\"x\"},\"y\":{\"field\":\"y\"}},\"id\":\"fda369a3-5401-47d3-8c6b-2193f5d3690f\",\"type\":\"Rect\"},{\"attributes\":{\"plot\":{\"id\":\"93acd14c-5b20-4268-bc8d-20deb052c3f0\",\"subtype\":\"Figure\",\"type\":\"Plot\"}},\"id\":\"30aaeb78-6918-4d06-843f-8396e8f83376\",\"type\":\"ResetTool\"},{\"attributes\":{\"label\":{\"value\":\"% CPU\"},\"renderers\":[{\"id\":\"ff6ac72d-69e4-4c65-9e1e-af65b2b6774e\",\"type\":\"GlyphRenderer\"}]},\"id\":\"343718dd-79bd-41c6-ad72-1097cd53fb98\",\"type\":\"LegendItem\"},{\"attributes\":{\"callback\":null,\"end\":548.216832,\"start\":406.3232},\"id\":\"977fdffc-060c-4e29-ab02-d9e45189bb66\",\"type\":\"Range1d\"},{\"attributes\":{},\"id\":\"6c922ad3-5d59-4b6b-bb2d-6d967b7f4742\",\"type\":\"BasicTicker\"},{\"attributes\":{\"callback\":null,\"column_names\":[\"color\",\"key\",\"y\",\"width\",\"x\",\"function\"],\"data\":{\"color\":[\"#440154\",\"#35B778\",\"#440154\",\"#440154\",\"#440154\",\"#440154\",\"#440154\",\"#30678D\",\"#30678D\",\"#30678D\",\"#30678D\",\"#30678D\",\"#30678D\",\"#FDE724\",\"#30678D\",\"#440154\",\"#440154\",\"#440154\",\"#30678D\",\"#440154\",\"#30678D\",\"#440154\",\"#440154\",\"#440154\",\"#440154\",\"#440154\",\"#30678D\",\"#30678D\",\"#440154\",\"#440154\",\"#440154\",\"#30678D\",\"#440154\",\"#30678D\",\"#35B778\",\"#30678D\",\"#440154\",\"#440154\",\"#30678D\",\"#35B778\",\"#30678D\",\"#440154\",\"#30678D\",\"#440154\",\"#440154\",\"#440154\",\"#440154\",\"#440154\",\"#35B778\",\"#FDE724\",\"#440154\",\"#30678D\",\"#440154\",\"#440154\",\"#440154\",\"#440154\",\"#440154\",\"#30678D\",\"#440154\",\"#30678D\",\"#30678D\",\"#30678D\",\"#440154\",\"#30678D\",\"#35B778\",\"#440154\",\"#30678D\",\"#440154\",\"#30678D\",\"#440154\",\"#30678D\",\"#440154\",\"#FDE724\",\"#440154\",\"#35B778\",\"#440154\",\"#440154\",\"#440154\",\"#30678D\",\"#440154\",\"#30678D\",\"#30678D\",\"#30678D\",\"#30678D\",\"#440154\",\"#440154\",\"#30678D\",\"#30678D\",\"#440154\",\"#30678D\",\"#30678D\",\"#440154\",\"#440154\",\"#35B778\",\"#440154\",\"#30678D\",\"#30678D\",\"#440154\",\"#440154\",\"#30678D\",\"#440154\",\"#30678D\",\"#30678D\",\"#30678D\",\"#30678D\",\"#440154\",\"#440154\",\"#440154\",\"#30678D\",\"#FDE724\",\"#440154\",\"#30678D\",\"#440154\",\"#440154\",\"#30678D\",\"#440154\",\"#440154\",\"#440154\",\"#30678D\",\"#440154\",\"#30678D\",\"#FDE724\",\"#440154\",\"#30678D\",\"#FDE724\",\"#440154\",\"#35B778\",\"#440154\",\"#440154\",\"#440154\",\"#30678D\",\"#30678D\",\"#30678D\",\"#FDE724\",\"#FDE724\",\"#30678D\",\"#30678D\",\"#440154\",\"#30678D\",\"#30678D\",\"#440154\",\"#440154\",\"#30678D\",\"#30678D\",\"#440154\",\"#440154\",\"#440154\",\"#30678D\"],\"function\":[\"_\",\"strided_feat(extractfeat(readaudiodata(*)))\",\"_\",\"_\",\"_\",\"_\",\"_\",\"store(*, getitem(...), *, *, *)\",\"store(*, getitem(...), *, *, *)\",\"store(*, getitem(...), *, *, *)\",\"store(*, getitem(...), *, *, *)\",\"store(*, getitem(...), *, *, *)\",\"store(*, getitem(...), *, *, *)\",\"strided_feat(readlabelsdata(*))\",\"store(*, getitem(...), *, *, *)\",\"_\",\"_\",\"_\",\"store(*, getitem(...), *, *, *)\",\"_\",\"store(*, getitem(...), *, *, *)\",\"_\",\"_\",\"_\",\"_\",\"_\",\"store(*, getitem(...), *, *, *)\",\"store(*, getitem(...), *, *, *)\",\"_\",\"_\",\"_\",\"store(*, getitem(...), *, *, *)\",\"_\",\"store(*, getitem(...), *, *, *)\",\"strided_feat(extractfeat(readaudiodata(*)))\",\"store(*, getitem(...), *, *, *)\",\"_\",\"_\",\"store(*, getitem(...), *, *, *)\",\"strided_feat(extractfeat(readaudiodata(*)))\",\"store(*, getitem(...), *, *, *)\",\"_\",\"store(*, getitem(...), *, *, *)\",\"_\",\"_\",\"_\",\"_\",\"_\",\"strided_feat(extractfeat(readaudiodata(*)))\",\"strided_feat(readlabelsdata(*))\",\"_\",\"store(*, getitem(...), *, *, *)\",\"_\",\"_\",\"_\",\"_\",\"_\",\"store(*, getitem(...), *, *, *)\",\"_\",\"store(*, getitem(...), *, *, *)\",\"store(*, getitem(...), *, *, *)\",\"store(*, getitem(...), *, *, *)\",\"_\",\"store(*, getitem(...), *, *, *)\",\"strided_feat(extractfeat(readaudiodata(*)))\",\"_\",\"store(*, getitem(...), *, *, *)\",\"_\",\"store(*, getitem(...), *, *, *)\",\"_\",\"store(*, getitem(...), *, *, *)\",\"_\",\"strided_feat(readlabelsdata(*))\",\"_\",\"strided_feat(extractfeat(readaudiodata(*)))\",\"_\",\"_\",\"_\",\"store(*, getitem(...), *, *, *)\",\"_\",\"store(*, getitem(...), *, *, *)\",\"store(*, getitem(...), *, *, *)\",\"store(*, getitem(...), *, *, *)\",\"store(*, getitem(...), *, *, *)\",\"_\",\"_\",\"store(*, getitem(...), *, *, *)\",\"store(*, getitem(...), *, *, *)\",\"_\",\"store(*, getitem(...), *, *, *)\",\"store(*, getitem(...), *, *, *)\",\"_\",\"_\",\"strided_feat(extractfeat(readaudiodata(*)))\",\"_\",\"store(*, getitem(...), *, *, *)\",\"store(*, getitem(...), *, *, *)\",\"_\",\"_\",\"store(*, getitem(...), *, *, *)\",\"_\",\"store(*, getitem(...), *, *, *)\",\"store(*, getitem(...), *, *, *)\",\"store(*, getitem(...), *, *, *)\",\"store(*, getitem(...), *, *, *)\",\"_\",\"_\",\"_\",\"store(*, getitem(...), *, *, *)\",\"strided_feat(readlabelsdata(*))\",\"_\",\"store(*, getitem(...), *, *, *)\",\"_\",\"_\",\"store(*, getitem(...), *, *, *)\",\"_\",\"_\",\"_\",\"store(*, getitem(...), *, *, *)\",\"_\",\"store(*, getitem(...), *, *, *)\",\"strided_feat(readlabelsdata(*))\",\"_\",\"store(*, getitem(...), *, *, *)\",\"strided_feat(readlabelsdata(*))\",\"_\",\"strided_feat(extractfeat(readaudiodata(*)))\",\"_\",\"_\",\"_\",\"store(*, getitem(...), *, *, *)\",\"store(*, getitem(...), *, *, *)\",\"store(*, getitem(...), *, *, *)\",\"strided_feat(readlabelsdata(*))\",\"strided_feat(readlabelsdata(*))\",\"store(*, getitem(...), *, *, *)\",\"store(*, getitem(...), *, *, *)\",\"_\",\"store(*, getitem(...), *, *, *)\",\"store(*, getitem(...), *, *, *)\",\"_\",\"_\",\"store(*, getitem(...), *, *, *)\",\"store(*, getitem(...), *, *, *)\",\"_\",\"_\",\"_\",\"store(*, getitem(...), *, *, *)\"],\"key\":[\"('store-concatenate-a13706debee0412a20bb977a08d5d573', 0, 0)\",\"('extractfeat-readaudiodata-strided_feat-from-value-e01705da7e288c068e249190fcb34fdf', 0, 0, 0)\",\"('from-value-fe5a2980391beadc8f1ef6e049e7ccc7', 0, 0, 0)\",\"('store-concatenate-a5d7c9bab950fcc2c9ea9a97d3e4031a', 1, 0)\",\"('store-concatenate-e7acc904b43389c0b06f2e7e0f1e2408', 0, 0)\",\"('store-concatenate-5ee8f971e3cb1aa7e3b4d8f8a74c0d3b', 0, 0)\",\"('store-concatenate-a5d7c9bab950fcc2c9ea9a97d3e4031a', 0, 0)\",\"('concatenate-getitem-store-concatenate-96bbb071c1202ac3e879db4c0ee8322d', 1, 0)\",\"('concatenate-getitem-store-concatenate-b4f68a8b8c35b8d948a351cadc839100', 0, 0)\",\"('concatenate-getitem-store-concatenate-f8680997435f2fc49f174448010d7245', 1, 0)\",\"('concatenate-getitem-store-concatenate-67e8faaad56e107a1cbceb472b682e70', 0, 0)\",\"('concatenate-getitem-store-concatenate-834c8478d6d491f035888800b2b20c4a', 0, 0)\",\"('concatenate-getitem-store-concatenate-5ee8f971e3cb1aa7e3b4d8f8a74c0d3b', 0, 0)\",\"('readlabelsdata-strided_feat-from-value-7a1a2f44e892458f1a75837dbdf8c764', 0, 0, 0)\",\"('concatenate-extractfeat-from-value-getitem-readaudiodata-strided_feat-store-concatenate-f33a7566fbbaed1b3110cf343bd28b1b', 0, 0)\",\"('store-concatenate-b4f68a8b8c35b8d948a351cadc839100', 1, 0)\",\"('store-concatenate-b520fdabe2c6406f2f7083880510251a', 0, 0)\",\"('store-concatenate-f8680997435f2fc49f174448010d7245', 1, 0)\",\"('concatenate-getitem-store-concatenate-e7acc904b43389c0b06f2e7e0f1e2408', 2, 0)\",\"('from-value-905d6af9d5b833c2955ac6bcf9f3aad8', 0, 0, 0)\",\"('concatenate-getitem-store-concatenate-026fe7c2528a2137a444113b37b17394', 1, 0)\",\"('store-concatenate-96bbb071c1202ac3e879db4c0ee8322d', 1, 0)\",\"('from-value-e01705da7e288c068e249190fcb34fdf', 0, 0, 0)\",\"('store-concatenate-f4917a8013340e912663ed204411f625', 0, 0)\",\"('store-concatenate-7461f166bcf1d32c7f121cd5e06805fc', 0, 0)\",\"('from-value-f7bf2530474cb8e96307a09faaeb3342', 0, 0, 0)\",\"('concatenate-getitem-store-concatenate-b520fdabe2c6406f2f7083880510251a', 2, 0)\",\"('concatenate-from-value-getitem-readlabelsdata-strided_feat-store-concatenate-f4917a8013340e912663ed204411f625', 0, 0)\",\"('store-concatenate-96bbb071c1202ac3e879db4c0ee8322d', 2, 0)\",\"('store-concatenate-4b051cd47cd1f2833ff62a6328736b09', 0, 0)\",\"('store-concatenate-6e1dc9771e11a64e14700efcb650dcb2', 1, 0)\",\"('concatenate-getitem-store-concatenate-b4f68a8b8c35b8d948a351cadc839100', 1, 0)\",\"('from-value-857afc4e7d015c40625d2a29fff39d08', 0, 0, 0)\",\"('concatenate-getitem-store-concatenate-35763cdd852f44a6a4727b19d8125246', 1, 0)\",\"('extractfeat-readaudiodata-strided_feat-from-value-857afc4e7d015c40625d2a29fff39d08', 0, 0, 0)\",\"('concatenate-from-value-getitem-readlabelsdata-strided_feat-store-concatenate-f045da1a7f8c94bb72d65bacec317966', 0, 0)\",\"('store-concatenate-f045da1a7f8c94bb72d65bacec317966', 0, 0)\",\"('from-value-528bbf8c652087f560583b6e84e0d073', 0, 0, 0)\",\"('concatenate-getitem-store-concatenate-a5d7c9bab950fcc2c9ea9a97d3e4031a', 0, 0)\",\"('extractfeat-readaudiodata-strided_feat-from-value-2f1ede0e5db8f5d13a111f31f6730866', 0, 0, 0)\",\"('concatenate-getitem-store-concatenate-c4075c2719f09016be0a6ac9cdbd6342', 1, 0)\",\"('store-concatenate-026fe7c2528a2137a444113b37b17394', 3, 0)\",\"('concatenate-getitem-store-concatenate-3afa94ac0d58e83d34fa3ad3dec60578', 0, 0)\",\"('from-value-2f1ede0e5db8f5d13a111f31f6730866', 0, 0, 0)\",\"('store-concatenate-659b7e940c3f1516abe0a107050f977d', 0, 0)\",\"('store-concatenate-bbe427f19faaff368a30bf5a0dcf7064', 0, 0)\",\"('from-value-bfa15f6baa5875ac8af6d2ed59cdd447', 0, 0, 0)\",\"('store-concatenate-026fe7c2528a2137a444113b37b17394', 4, 0)\",\"('extractfeat-readaudiodata-strided_feat-from-value-605c13c56465054be95f4adb3e4cc0a3', 0, 0, 0)\",\"('readlabelsdata-strided_feat-from-value-9f55c3d95418872b3cdb6fd1c9e8270f', 0, 0, 0)\",\"('store-concatenate-f33a7566fbbaed1b3110cf343bd28b1b', 0, 0)\",\"('concatenate-extractfeat-from-value-getitem-readaudiodata-strided_feat-store-concatenate-a923872e9580a039a69a982d9b885b24', 0, 0)\",\"('store-concatenate-3afa94ac0d58e83d34fa3ad3dec60578', 0, 0)\",\"('store-concatenate-a5d7c9bab950fcc2c9ea9a97d3e4031a', 2, 0)\",\"('store-concatenate-e7acc904b43389c0b06f2e7e0f1e2408', 1, 0)\",\"('store-concatenate-67e8faaad56e107a1cbceb472b682e70', 1, 0)\",\"('store-concatenate-5ee8f971e3cb1aa7e3b4d8f8a74c0d3b', 1, 0)\",\"('concatenate-getitem-store-concatenate-96bbb071c1202ac3e879db4c0ee8322d', 0, 0)\",\"('store-concatenate-35763cdd852f44a6a4727b19d8125246', 1, 0)\",\"('concatenate-getitem-store-concatenate-026fe7c2528a2137a444113b37b17394', 4, 0)\",\"('concatenate-getitem-store-concatenate-f8680997435f2fc49f174448010d7245', 0, 0)\",\"('concatenate-getitem-store-concatenate-834c8478d6d491f035888800b2b20c4a', 1, 0)\",\"('store-concatenate-e7acc904b43389c0b06f2e7e0f1e2408', 4, 0)\",\"('concatenate-getitem-store-concatenate-5ee8f971e3cb1aa7e3b4d8f8a74c0d3b', 1, 0)\",\"('extractfeat-readaudiodata-strided_feat-from-value-905d6af9d5b833c2955ac6bcf9f3aad8', 0, 0, 0)\",\"('store-concatenate-c4075c2719f09016be0a6ac9cdbd6342', 0, 0)\",\"('concatenate-getitem-store-concatenate-026fe7c2528a2137a444113b37b17394', 3, 0)\",\"('store-concatenate-b4f68a8b8c35b8d948a351cadc839100', 2, 0)\",\"('concatenate-getitem-store-concatenate-6e1dc9771e11a64e14700efcb650dcb2', 1, 0)\",\"('store-concatenate-f8680997435f2fc49f174448010d7245', 0, 0)\",\"('concatenate-extractfeat-from-value-getitem-readaudiodata-strided_feat-store-concatenate-788a800b4dbfe3d5c0b968c150029990', 0, 0)\",\"('from-value-605c13c56465054be95f4adb3e4cc0a3', 0, 0, 0)\",\"('readlabelsdata-strided_feat-from-value-745956d7f9582cb3f693dd907caeaa92', 0, 0, 0)\",\"('from-value-a50520774bfce238199ca042d518ef7a', 0, 0, 0)\",\"('extractfeat-readaudiodata-strided_feat-from-value-e1fb3e31e1af99bab0f951a40545d052', 0, 0, 0)\",\"('from-value-27c20d74c3b6cee07d7bdf62a726580d', 0, 0, 0)\",\"('store-concatenate-b520fdabe2c6406f2f7083880510251a', 2, 0)\",\"('store-concatenate-cfa20a3ee90999822e06ab8eaa60542d', 0, 0)\",\"('concatenate-getitem-store-concatenate-026fe7c2528a2137a444113b37b17394', 5, 0)\",\"('store-concatenate-82b32b67669df185f0df345dd39cbfe4', 0, 0)\",\"('concatenate-getitem-store-concatenate-b520fdabe2c6406f2f7083880510251a', 1, 0)\",\"('concatenate-extractfeat-from-value-getitem-readaudiodata-strided_feat-store-concatenate-bbe427f19faaff368a30bf5a0dcf7064', 0, 0)\",\"('concatenate-getitem-store-concatenate-c4075c2719f09016be0a6ac9cdbd6342', 0, 0)\",\"('concatenate-getitem-store-concatenate-a13706debee0412a20bb977a08d5d573', 1, 0)\",\"('store-concatenate-6e1dc9771e11a64e14700efcb650dcb2', 0, 0)\",\"('store-concatenate-026fe7c2528a2137a444113b37b17394', 0, 0)\",\"('concatenate-extractfeat-from-value-getitem-readaudiodata-strided_feat-store-concatenate-4b051cd47cd1f2833ff62a6328736b09', 0, 0)\",\"('concatenate-getitem-store-concatenate-026fe7c2528a2137a444113b37b17394', 2, 0)\",\"('store-concatenate-026fe7c2528a2137a444113b37b17394', 1, 0)\",\"('concatenate-from-value-getitem-readlabelsdata-strided_feat-store-concatenate-cfa20a3ee90999822e06ab8eaa60542d', 0, 0)\",\"('concatenate-from-value-getitem-readlabelsdata-strided_feat-store-concatenate-ff9ddef726324a7a6129a7617276e928', 0, 0)\",\"('store-concatenate-a923872e9580a039a69a982d9b885b24', 0, 0)\",\"('store-concatenate-026fe7c2528a2137a444113b37b17394', 2, 0)\",\"('extractfeat-readaudiodata-strided_feat-from-value-f7bf2530474cb8e96307a09faaeb3342', 0, 0, 0)\",\"('store-concatenate-834c8478d6d491f035888800b2b20c4a', 1, 0)\",\"('concatenate-getitem-store-concatenate-e7acc904b43389c0b06f2e7e0f1e2408', 4, 0)\",\"('concatenate-getitem-store-concatenate-fbe7214a9d82fc9a610eb55138444a0c', 0, 0)\",\"('store-concatenate-fbe7214a9d82fc9a610eb55138444a0c', 1, 0)\",\"('from-value-9f55c3d95418872b3cdb6fd1c9e8270f', 0, 0, 0)\",\"('concatenate-getitem-store-concatenate-e7acc904b43389c0b06f2e7e0f1e2408', 3, 0)\",\"('store-concatenate-e7acc904b43389c0b06f2e7e0f1e2408', 3, 0)\",\"('concatenate-extractfeat-from-value-getitem-readaudiodata-strided_feat-store-concatenate-810ad3a83f84a8a558fdce966922b343', 0, 0)\",\"('concatenate-getitem-store-concatenate-a13706debee0412a20bb977a08d5d573', 0, 0)\",\"('concatenate-getitem-store-concatenate-96bbb071c1202ac3e879db4c0ee8322d', 2, 0)\",\"('concatenate-getitem-store-concatenate-e7acc904b43389c0b06f2e7e0f1e2408', 1, 0)\",\"('store-concatenate-b520fdabe2c6406f2f7083880510251a', 1, 0)\",\"('store-concatenate-a13706debee0412a20bb977a08d5d573', 1, 0)\",\"('store-concatenate-3afa94ac0d58e83d34fa3ad3dec60578', 1, 0)\",\"('concatenate-getitem-store-concatenate-e7acc904b43389c0b06f2e7e0f1e2408', 0, 0)\",\"('readlabelsdata-strided_feat-from-value-528bbf8c652087f560583b6e84e0d073', 0, 0, 0)\",\"('store-concatenate-67e8faaad56e107a1cbceb472b682e70', 0, 0)\",\"('concatenate-getitem-store-concatenate-b4f68a8b8c35b8d948a351cadc839100', 2, 0)\",\"('store-concatenate-35763cdd852f44a6a4727b19d8125246', 0, 0)\",\"('store-concatenate-b4f68a8b8c35b8d948a351cadc839100', 0, 0)\",\"('concatenate-getitem-store-concatenate-e7acc904b43389c0b06f2e7e0f1e2408', 5, 0)\",\"('store-concatenate-e7acc904b43389c0b06f2e7e0f1e2408', 5, 0)\",\"('store-concatenate-ff9ddef726324a7a6129a7617276e928', 0, 0)\",\"('store-concatenate-c4075c2719f09016be0a6ac9cdbd6342', 1, 0)\",\"('concatenate-getitem-store-concatenate-026fe7c2528a2137a444113b37b17394', 0, 0)\",\"('from-value-7a1a2f44e892458f1a75837dbdf8c764', 0, 0, 0)\",\"('concatenate-getitem-store-concatenate-6e1dc9771e11a64e14700efcb650dcb2', 0, 0)\",\"('readlabelsdata-strided_feat-from-value-fe5a2980391beadc8f1ef6e049e7ccc7', 0, 0, 0)\",\"('store-concatenate-80e1cf31109014034b217554eca1a71a', 0, 0)\",\"('concatenate-getitem-store-concatenate-67e8faaad56e107a1cbceb472b682e70', 1, 0)\",\"('readlabelsdata-strided_feat-from-value-a50520774bfce238199ca042d518ef7a', 0, 0, 0)\",\"('from-value-afe48ee6bf62813017f05dd1427a9a82', 0, 0, 0)\",\"('extractfeat-readaudiodata-strided_feat-from-value-27c20d74c3b6cee07d7bdf62a726580d', 0, 0, 0)\",\"('store-concatenate-810ad3a83f84a8a558fdce966922b343', 0, 0)\",\"('store-concatenate-788a800b4dbfe3d5c0b968c150029990', 0, 0)\",\"('store-concatenate-fbe7214a9d82fc9a610eb55138444a0c', 0, 0)\",\"('concatenate-getitem-store-concatenate-35763cdd852f44a6a4727b19d8125246', 0, 0)\",\"('concatenate-getitem-store-concatenate-b520fdabe2c6406f2f7083880510251a', 0, 0)\",\"('concatenate-from-value-getitem-readlabelsdata-strided_feat-store-concatenate-82b32b67669df185f0df345dd39cbfe4', 0, 0)\",\"('readlabelsdata-strided_feat-from-value-bfa15f6baa5875ac8af6d2ed59cdd447', 0, 0, 0)\",\"('readlabelsdata-strided_feat-from-value-afe48ee6bf62813017f05dd1427a9a82', 0, 0, 0)\",\"('concatenate-getitem-store-concatenate-a5d7c9bab950fcc2c9ea9a97d3e4031a', 1, 0)\",\"('concatenate-from-value-getitem-readlabelsdata-strided_feat-store-concatenate-7461f166bcf1d32c7f121cd5e06805fc', 0, 0)\",\"('from-value-e1fb3e31e1af99bab0f951a40545d052', 0, 0, 0)\",\"('concatenate-from-value-getitem-readlabelsdata-strided_feat-store-concatenate-80e1cf31109014034b217554eca1a71a', 0, 0)\",\"('concatenate-getitem-store-concatenate-3afa94ac0d58e83d34fa3ad3dec60578', 1, 0)\",\"('store-concatenate-96bbb071c1202ac3e879db4c0ee8322d', 0, 0)\",\"('from-value-745956d7f9582cb3f693dd907caeaa92', 0, 0, 0)\",\"('concatenate-extractfeat-from-value-getitem-readaudiodata-strided_feat-store-concatenate-659b7e940c3f1516abe0a107050f977d', 0, 0)\",\"('concatenate-getitem-store-concatenate-a5d7c9bab950fcc2c9ea9a97d3e4031a', 2, 0)\",\"('store-concatenate-026fe7c2528a2137a444113b37b17394', 5, 0)\",\"('store-concatenate-e7acc904b43389c0b06f2e7e0f1e2408', 2, 0)\",\"('store-concatenate-834c8478d6d491f035888800b2b20c4a', 0, 0)\",\"('concatenate-getitem-store-concatenate-fbe7214a9d82fc9a610eb55138444a0c', 1, 0)\"],\"width\":[0.003157225000904873,1.2805119199983892,0.0036510659992927685,0.050610755002708174,0.002043991000391543,0.002266812000016216,0.07265523100068094,0.09606873699522112,0.002666197993676178,0.046914056001696736,0.003679914996610023,0.03912419599510031,0.07535546500002965,0.0231125539939967,0.44240855400130386,0.012835610999900382,0.0024362999974982813,0.006570763995114248,0.05284304700035136,0.04884043000492966,0.0027687359979609028,0.051413481996860355,0.0034136699978262186,0.002044911998382304,0.0016142289969138801,0.0007936129986774176,0.002139737996913027,0.00578024800051935,0.006590066994249355,0.0034434669942129403,0.0029949989984743297,0.003770741997868754,0.0016451219998998567,0.14358494600310223,0.9789062240015483,0.06671947299764724,0.0021373909985413775,0.0023011570010567084,0.059776975998829585,1.183480033003434,0.003114572995400522,0.0033499050041427836,0.00432027000351809,0.002009675998124294,0.0025311450008302927,0.001196668999909889,0.0027263529991614632,0.0040422310048597865,0.8760469350017956,0.007195484999101609,0.0007425080038956366,0.642439192000893,0.00447243099915795,0.0061908930001663975,0.00428016200021375,0.004602647997671738,0.0035218539997003973,0.11481984500278486,0.051180428999941796,0.005963807001535315,0.05634624200320104,0.08206130500184372,0.0045221109976409934,0.06427505299507175,0.9824396839976544,0.003524683001160156,0.0045032009948045015,0.003702003996295389,0.004040667998197023,0.002795145999698434,0.9161418860021513,0.005313590001605917,0.01138186299795052,0.009841179999057204,0.8712515420047566,0.005905251004151069,0.0026071249958476983,0.0026673259999370202,0.004870641998422798,0.0011027459986507893,0.0021554310005740263,0.7303631219983799,0.0036739219940500334,0.0032957129951682873,0.0025889430035022087,0.004885249996732455,0.5701306960036163,0.002387266002187971,0.002357839999604039,0.007302674996026326,0.0072780179980327375,0.002368351000768598,0.002959294004540425,0.9662954750019708,0.004972810005710926,0.059813981999468524,0.057203873999242205,0.005952522995357867,0.0023507610021624714,0.07701629200164462,0.011200907996681053,0.5195935099982307,0.0030200850014807656,0.15870145399821922,0.04134498799976427,0.0024856210002326407,0.002386006999586243,0.00365561900252942,0.06179430599877378,0.008420446996751707,0.00418718400032958,0.0064036190015031025,0.04978866899909917,0.004913578006380703,0.046584577998146415,0.007544865999079775,0.0023471669992432,0.0024447940013487823,0.008050169999478385,0.004268507000233512,0.0034132509972550906,0.007839363999664783,0.0060482959961518645,0.004842514994379599,0.06256897799903527,0.0022560939978575334,1.869022101003793,0.0041222829968319274,0.004303147004975472,0.0015110980020835996,0.1175831790023949,0.0027403169951867312,0.0053205430012894794,0.02681912200205261,0.011215842998353764,0.06301097200048389,0.004395461997773964,0.0035724849949474446,0.00910293999913847,0.00465822499973001,0.005939697002759203,0.0019512759972712956,1.0017535330043756,0.10728573999949731,0.004129000997636467,0.0038599460021941923,0.04461351999634644,0.03990947199781658],\"x\":[1.5004437515017344,2.102140031005547,1.4701844759983942,1.3904150465023122,1.938931025499187,2.677735155004484,1.0709761164980591,1.2053312895004638,0.09473547100060387,2.487526908000291,1.4475203905021772,2.7653820799969253,2.63891558850446,1.4298378699968453,4.055072719005693,0.1111895084977732,0.1450424610011396,2.5142754019980202,2.01202241449937,1.0120956719983951,0.04389819700008957,1.27908029199898,2.7441091229993617,3.8458804309993866,2.8389333995000925,0.974459963501431,0.15198111799691105,3.841961785001331,1.3664365774966427,3.089433356501104,1.4835954125010176,0.102880559003097,3.228797249998024,1.1791029130035895,2.738513390002481,3.8035560354983318,3.837990900501609,1.4946786325017456,1.004751884007419,2.007468745498045,1.5260555265049334,0.059204619501542766,1.4443265000008978,2.600222209999629,3.8325953215025947,4.361037370494159,0.028188755495648365,0.0688755295050214,0.5936897544961539,1.5113230735005345,4.27665844400326,3.6618852020037593,1.4487300635009888,1.415180327494454,1.9834529369982192,1.4582030989986379,2.7449170530017,1.093932837502507,1.2764917325039278,0.06386730250233086,2.4330873579965555,2.787711629498517,2.1926443674965412,2.7110155545015004,0.49644514299870934,1.5227282214982552,0.05527126650122227,0.12587806699593784,1.4800727939946228,2.4626645290045417,3.2978149760019733,1.0343782829950214,0.1334286965065985,1.4372376910032472,1.9657021050006733,1.8731438905015239,0.15435876050469233,3.768852268003684,0.07333852000738261,3.340108753000095,0.1473414624997531,3.995250040999963,1.5191202060013893,1.50367946249753,1.4767523694972624,0.04006463499536039,2.8026371380037745,0.04885485000704648,0.04647880700213136,3.763860035505786,3.850549211994803,3.9842965625066427,0.051532357996620703,0.49090631549916,2.831234556004347,2.1604683109981124,3.2582260540002608,3.3312445965057123,1.516102071502246,2.0808270839988836,2.124948888005747,3.3661348980022012,1.4973497035025503,1.2837832880031783,1.960633709000831,0.14966547649964923,1.5065256974994554,1.4600506284987205,1.9070024339962401,1.4893121175045962,1.4514592639970942,0.12081945950194495,1.179527019499801,0.09853219100477872,2.2182057410027483,2.2452796250072424,3.855367848504102,1.5288432010056567,0.033585834004043136,1.443537657505658,1.4737425455023185,1.46443297299993,3.103301693001413,1.4533917955050129,1.401024024002254,0.09226656200189609,0.935671627499687,3.6279995254953974,3.758047267496295,3.287591872998746,1.0958328824999626,0.14245044250128558,3.3368912465011817,0.013409561004664283,0.08552369850076502,1.3335982390053687,2.8359235930038267,2.403120292503445,3.0957171590052894,1.4558887605016935,1.1543193605029956,0.14010175200382946,3.3304445464964374,1.3584369009986403,0.07784563350287499,2.0403831219955464,2.8072568029965623,3.3083064669990563],\"y\":[2,1,2,2,4,3,3,2,1,2,1,1,3,2,1,1,1,2,4,2,1,2,1,3,3,3,1,3,1,2,2,1,4,3,4,3,3,2,3,3,2,1,1,3,1,3,1,1,1,2,4,4,2,2,4,2,3,2,3,1,2,3,4,3,2,2,1,1,2,2,3,1,1,2,2,4,1,3,1,4,1,2,2,2,2,1,2,1,1,3,3,3,1,3,3,4,4,4,2,4,4,2,2,1,4,1,2,1,4,2,1,1,1,1,4,4,3,2,1,1,2,2,2,2,1,1,4,2,3,4,1,1,4,1,1,3,3,2,2,1,2,1,1,2,1,4,1,4]}},\"id\":\"e37110e1-53ba-4b19-b251-2236e9086f9f\",\"type\":\"ColumnDataSource\"},{\"attributes\":{\"axis_label\":\"Time (s)\",\"formatter\":{\"id\":\"92f08417-cc26-4052-992d-9af5de35d3f3\",\"type\":\"BasicTickFormatter\"},\"plot\":{\"id\":\"9d7a2616-3ffb-47da-a03c-fe2b757344f0\",\"subtype\":\"Figure\",\"type\":\"Plot\"},\"ticker\":{\"id\":\"c334eb29-719f-4bea-bf7d-82198d92a410\",\"type\":\"BasicTicker\"}},\"id\":\"3bfbfa66-d0d7-4c6a-9858-b2632db3b215\",\"type\":\"LinearAxis\"},{\"attributes\":{\"callback\":null,\"column_names\":[\"y\",\"x\"],\"data\":{\"x\":[0.0,0.1007242099949508,0.2009872409980744,0.30119572799594607,0.40182168599858414,0.5021564439957729,0.60275875699881,0.7035579039948061,0.8046426110013272,0.9053946269996231,1.0056775470002322,1.1064326299965614,1.2076320699998178,1.308731589000672,1.4098300549958367,1.5109553529982804,1.6121170439946582,1.7132593909991556,1.8143792970004142,1.9155813030010904,2.0171676559984917,2.1180997019982897,2.2190133149997564,2.3201389819951146,2.4212361099998816,2.522407487995224,2.6235292609999306,2.7245447159948526,2.8258416629978456,2.9269354229982127,3.0280669019994093,3.1294817969974247,3.230068233999191,3.3313462709993473,3.432632165000541,3.5337432460000855,3.6348391249994165,3.73600272800104,3.83667213699664,3.9380212609976297,4.038675200994476,4.139994687000581,4.241294460000063,4.342577951996645],\"y\":[6.5,120.0,128.39999999999998,125.5,129.10000000000002,143.5,179.70000000000002,190.70000000000002,204.6,320.6,316.8,175.8,91.6,89.89999999999999,86.8,135.9,126.3,165.60000000000002,227.70000000000002,211.60000000000002,133.8,84.7,114.8,135.60000000000002,219.6,198.3,289.2,256.2,164.60000000000002,129.8,200.3,138.10000000000002,254.4,170.5,172.8,178.9,198.8,287.1,253.0,216.8,176.60000000000002,147.8,243.5,233.10000000000002]}},\"id\":\"aa485855-4990-4312-8236-d5211ab1bed1\",\"type\":\"ColumnDataSource\"},{\"attributes\":{\"callback\":null,\"factors\":[\"0\",\"1\",\"2\",\"3\"]},\"id\":\"955f97af-65f4-4795-8a5b-ffdc7bdbe188\",\"type\":\"FactorRange\"},{\"attributes\":{\"dimensions\":\"width\",\"plot\":{\"id\":\"93acd14c-5b20-4268-bc8d-20deb052c3f0\",\"subtype\":\"Figure\",\"type\":\"Plot\"}},\"id\":\"34a4602b-c910-41bb-a33e-7963427d45a6\",\"type\":\"WheelZoomTool\"},{\"attributes\":{\"plot\":{\"id\":\"93acd14c-5b20-4268-bc8d-20deb052c3f0\",\"subtype\":\"Figure\",\"type\":\"Plot\"}},\"id\":\"5d819a3d-c3ef-4f82-8948-e8eb5950afb7\",\"type\":\"SaveTool\"},{\"attributes\":{\"plot\":{\"id\":\"9d7a2616-3ffb-47da-a03c-fe2b757344f0\",\"subtype\":\"Figure\",\"type\":\"Plot\"}},\"id\":\"b796a2c3-9149-46ee-a12b-775b50724f8f\",\"type\":\"ResizeTool\"},{\"attributes\":{\"callback\":null,\"column_names\":[\"y\",\"x\"],\"data\":{\"x\":[0.0,0.1007242099949508,0.2009872409980744,0.30119572799594607,0.40182168599858414,0.5021564439957729,0.60275875699881,0.7035579039948061,0.8046426110013272,0.9053946269996231,1.0056775470002322,1.1064326299965614,1.2076320699998178,1.308731589000672,1.4098300549958367,1.5109553529982804,1.6121170439946582,1.7132593909991556,1.8143792970004142,1.9155813030010904,2.0171676559984917,2.1180997019982897,2.2190133149997564,2.3201389819951146,2.4212361099998816,2.522407487995224,2.6235292609999306,2.7245447159948526,2.8258416629978456,2.9269354229982127,3.0280669019994093,3.1294817969974247,3.230068233999191,3.3313462709993473,3.432632165000541,3.5337432460000855,3.6348391249994165,3.73600272800104,3.83667213699664,3.9380212609976297,4.038675200994476,4.139994687000581,4.241294460000063,4.342577951996645],\"y\":[419.602432,412.225536,412.798976,412.798976,415.080448,430.399488,470.274048,506.10176,544.436224,526.45888,544.329728,545.787904,547.098624,548.216832,523.853824,448.806912,458.375168,485.789696,500.002816,542.76096,524.341248,528.797696,534.30272,472.977408,486.985728,461.991936,453.402624,453.402624,443.392,445.46048,460.705792,421.634048,423.829504,423.591936,433.647616,433.647616,428.68736,447.7952,420.6592,414.80192,411.430912,411.430912,411.430912,406.3232]}},\"id\":\"24c80d6d-0259-4e87-92b9-1479ca8da553\",\"type\":\"ColumnDataSource\"},{\"attributes\":{\"callback\":null,\"plot\":{\"id\":\"93acd14c-5b20-4268-bc8d-20deb052c3f0\",\"subtype\":\"Figure\",\"type\":\"Plot\"},\"point_policy\":\"follow_mouse\",\"tooltips\":\"\\n    <div>\\n        <span style=\\\"font-size: 14px; font-weight: bold;\\\">Key:</span>&nbsp;\\n        <span style=\\\"font-size: 10px; font-family: Monaco, monospace;\\\">@key</span>\\n    </div>\\n    <div>\\n        <span style=\\\"font-size: 14px; font-weight: bold;\\\">Task:</span>&nbsp;\\n        <span style=\\\"font-size: 10px; font-family: Monaco, monospace;\\\">@function</span>\\n    </div>\\n    \"},\"id\":\"95a5d5c6-f31b-406c-a628-2af99dff4a30\",\"type\":\"HoverTool\"},{\"attributes\":{\"plot\":{\"id\":\"9d7a2616-3ffb-47da-a03c-fe2b757344f0\",\"subtype\":\"Figure\",\"type\":\"Plot\"}},\"id\":\"afcb989e-d2e9-4072-93c0-bf1c01e30f88\",\"type\":\"SaveTool\"},{\"attributes\":{\"plot\":{\"id\":\"9d7a2616-3ffb-47da-a03c-fe2b757344f0\",\"subtype\":\"Figure\",\"type\":\"Plot\"}},\"id\":\"51cd00f6-4b30-498e-9652-46247f59c927\",\"type\":\"ResetTool\"},{\"attributes\":{\"fill_alpha\":{\"value\":0.1},\"fill_color\":{\"value\":\"#1f77b4\"},\"height\":{\"units\":\"data\",\"value\":1},\"line_alpha\":{\"value\":0.1},\"line_color\":{\"value\":\"#1f77b4\"},\"width\":{\"field\":\"width\",\"units\":\"data\"},\"x\":{\"field\":\"x\"},\"y\":{\"field\":\"y\"}},\"id\":\"b8a90bef-5d98-4827-abc1-918bf8164d04\",\"type\":\"Rect\"},{\"attributes\":{\"axis_label\":null,\"axis_line_color\":{\"value\":null},\"formatter\":{\"id\":\"86a5609f-545a-4935-b866-a48774a01de7\",\"type\":\"BasicTickFormatter\"},\"major_tick_line_color\":{\"value\":null},\"plot\":{\"id\":\"93acd14c-5b20-4268-bc8d-20deb052c3f0\",\"subtype\":\"Figure\",\"type\":\"Plot\"},\"ticker\":{\"id\":\"7a8859d2-94cf-4455-ac78-f22e581f50c0\",\"type\":\"BasicTicker\"}},\"id\":\"d0c25875-d5db-4032-9902-e9e7476f4775\",\"type\":\"LinearAxis\"},{\"attributes\":{\"line_color\":{\"value\":\"#29788E\"},\"line_width\":{\"value\":4},\"x\":{\"field\":\"x\"},\"y\":{\"field\":\"y\"}},\"id\":\"6aaf51ea-e793-49cf-a4c5-2a635f80b38b\",\"type\":\"Line\"},{\"attributes\":{\"axis_label\":\"Memory (MB)\",\"formatter\":{\"id\":\"7098e01d-3164-485f-941e-fed560f6b89b\",\"type\":\"BasicTickFormatter\"},\"plot\":{\"id\":\"9d7a2616-3ffb-47da-a03c-fe2b757344f0\",\"subtype\":\"Figure\",\"type\":\"Plot\"},\"ticker\":{\"id\":\"6c922ad3-5d59-4b6b-bb2d-6d967b7f4742\",\"type\":\"BasicTicker\"},\"y_range_name\":\"memory\"},\"id\":\"cccfcd8b-d6cc-41b7-90f8-4548af74607f\",\"type\":\"LinearAxis\"},{\"attributes\":{\"items\":[{\"id\":\"343718dd-79bd-41c6-ad72-1097cd53fb98\",\"type\":\"LegendItem\"},{\"id\":\"ce99e66b-fc88-45a2-b91a-dcf531844441\",\"type\":\"LegendItem\"}],\"plot\":{\"id\":\"9d7a2616-3ffb-47da-a03c-fe2b757344f0\",\"subtype\":\"Figure\",\"type\":\"Plot\"}},\"id\":\"937e2678-7042-4db4-9aa2-fdf3e87bf127\",\"type\":\"Legend\"},{\"attributes\":{\"children\":[{\"id\":\"97abc9bd-abdb-453e-b807-12c9d3600549\",\"type\":\"Row\"},{\"id\":\"9eeeac96-0b5f-439f-8182-6859b3e50972\",\"type\":\"Row\"}]},\"id\":\"d43b9967-b562-466a-90b5-abd9b85c3bdc\",\"type\":\"Column\"},{\"attributes\":{\"callback\":null,\"end\":320.6},\"id\":\"96a9348f-6404-47f6-a50e-b4c8adc0f176\",\"type\":\"Range1d\"},{\"attributes\":{\"dimension\":1,\"plot\":{\"id\":\"9d7a2616-3ffb-47da-a03c-fe2b757344f0\",\"subtype\":\"Figure\",\"type\":\"Plot\"},\"ticker\":{\"id\":\"19f9558d-aaa7-45ae-a935-05dbc5dac0e4\",\"type\":\"BasicTicker\"}},\"id\":\"594b3922-cac4-4e50-9f57-6a5998269b4d\",\"type\":\"Grid\"},{\"attributes\":{},\"id\":\"b209bb16-7c47-4824-b773-420a61632add\",\"type\":\"CategoricalTicker\"},{\"attributes\":{\"data_source\":{\"id\":\"e37110e1-53ba-4b19-b251-2236e9086f9f\",\"type\":\"ColumnDataSource\"},\"glyph\":{\"id\":\"fda369a3-5401-47d3-8c6b-2193f5d3690f\",\"type\":\"Rect\"},\"hover_glyph\":null,\"muted_glyph\":null,\"nonselection_glyph\":{\"id\":\"b8a90bef-5d98-4827-abc1-918bf8164d04\",\"type\":\"Rect\"},\"selection_glyph\":null},\"id\":\"8b932b34-00e6-4640-ac21-370828608c07\",\"type\":\"GlyphRenderer\"},{\"attributes\":{\"data_source\":{\"id\":\"24c80d6d-0259-4e87-92b9-1479ca8da553\",\"type\":\"ColumnDataSource\"},\"glyph\":{\"id\":\"6aaf51ea-e793-49cf-a4c5-2a635f80b38b\",\"type\":\"Line\"},\"hover_glyph\":null,\"muted_glyph\":null,\"nonselection_glyph\":{\"id\":\"eac15e49-fd20-42bf-85b6-1f87871e64b4\",\"type\":\"Line\"},\"selection_glyph\":null,\"y_range_name\":\"memory\"},\"id\":\"47063b8b-c11b-4445-863d-f07c1b68fefd\",\"type\":\"GlyphRenderer\"},{\"attributes\":{\"active_drag\":\"auto\",\"active_scroll\":\"auto\",\"active_tap\":\"auto\",\"tools\":[{\"id\":\"95a5d5c6-f31b-406c-a628-2af99dff4a30\",\"type\":\"HoverTool\"},{\"id\":\"5d819a3d-c3ef-4f82-8948-e8eb5950afb7\",\"type\":\"SaveTool\"},{\"id\":\"30aaeb78-6918-4d06-843f-8396e8f83376\",\"type\":\"ResetTool\"},{\"id\":\"0d362e21-3e08-41eb-8d84-039c4838fdf4\",\"type\":\"ResizeTool\"},{\"id\":\"34a4602b-c910-41bb-a33e-7963427d45a6\",\"type\":\"WheelZoomTool\"},{\"id\":\"4c95df48-55a5-4160-bdfc-fadeb18f1a9a\",\"type\":\"PanTool\"}]},\"id\":\"434bff9e-b620-4f4a-8e88-b94362a56091\",\"type\":\"Toolbar\"},{\"attributes\":{\"children\":[{\"id\":\"93acd14c-5b20-4268-bc8d-20deb052c3f0\",\"subtype\":\"Figure\",\"type\":\"Plot\"}]},\"id\":\"97abc9bd-abdb-453e-b807-12c9d3600549\",\"type\":\"Row\"}],\"root_ids\":[\"274f07e6-aabc-4d03-a7eb-cbaf252be22a\"]},\"title\":\"Bokeh Application\",\"version\":\"0.12.5\"}};\n",
       "            var render_items = [{\"docid\":\"25d05395-b70a-4514-803a-f6b86a7f383a\",\"elementid\":\"a845e407-b211-4f02-8a00-4793aa6ee529\",\"modelid\":\"274f07e6-aabc-4d03-a7eb-cbaf252be22a\"}];\n",
       "            \n",
       "            Bokeh.embed.embed_items(docs_json, render_items);\n",
       "          };\n",
       "          if (document.readyState != \"loading\") fn();\n",
       "          else document.addEventListener(\"DOMContentLoaded\", fn);\n",
       "        })();\n",
       "      },\n",
       "      function(Bokeh) {\n",
       "      }\n",
       "    ];\n",
       "  \n",
       "    function run_inline_js() {\n",
       "      \n",
       "      if ((window.Bokeh !== undefined) || (force === true)) {\n",
       "        for (var i = 0; i < inline_js.length; i++) {\n",
       "          inline_js[i](window.Bokeh);\n",
       "        }if (force === true) {\n",
       "          display_loaded();\n",
       "        }} else if (Date.now() < window._bokeh_timeout) {\n",
       "        setTimeout(run_inline_js, 100);\n",
       "      } else if (!window._bokeh_failed_load) {\n",
       "        console.log(\"Bokeh: BokehJS failed to load within specified timeout.\");\n",
       "        window._bokeh_failed_load = true;\n",
       "      } else if (force !== true) {\n",
       "        var cell = $(document.getElementById(\"a845e407-b211-4f02-8a00-4793aa6ee529\")).parents('.cell').data().cell;\n",
       "        cell.output_area.append_execute_result(NB_LOAD_WARNING)\n",
       "      }\n",
       "  \n",
       "    }\n",
       "  \n",
       "    if (window._bokeh_is_loading === 0) {\n",
       "      console.log(\"Bokeh: BokehJS loaded, going straight to plotting\");\n",
       "      run_inline_js();\n",
       "    } else {\n",
       "      load_libs(js_urls, function() {\n",
       "        console.log(\"Bokeh: BokehJS plotting callback run at\", now());\n",
       "        run_inline_js();\n",
       "      });\n",
       "    }\n",
       "  }(this));\n",
       "</script>"
      ]
     },
     "metadata": {},
     "output_type": "display_data"
    },
    {
     "name": "stdout",
     "output_type": "stream",
     "text": [
      "CPU times: user 5.81 s, sys: 2.32 s, total: 8.13 s\n",
      "Wall time: 4.74 s\n"
     ]
    }
   ],
   "source": [
    "%%time\n",
    "print(trn_h5)\n",
    "do_job_for_split(trn_pairs, tofile=trn_h5)\n",
    "dg.visualize([pr, rpr])\n",
    "pr.clear()\n",
    "rpr.clear()"
   ]
  },
  {
   "cell_type": "code",
   "execution_count": 39,
   "metadata": {
    "ExecuteTime": {
     "end_time": "2017-08-04T10:09:34.628989Z",
     "start_time": "2017-08-04T10:09:34.625321Z"
    }
   },
   "outputs": [],
   "source": [
    "# %%time\n",
    "# print(tst_h5)\n",
    "# do_job_for_split(tst_pairs, tofile=tst_h5)\n",
    "# dg.visualize([pr, rpr])\n",
    "# pr.clear()\n",
    "# rpr.clear()"
   ]
  },
  {
   "cell_type": "markdown",
   "metadata": {},
   "source": [
    "## Check HDF5 & Add Label Infos\n",
    "\n",
    "```\n",
    "MAY BE LATER \n",
    "```"
   ]
  },
  {
   "cell_type": "code",
   "execution_count": 81,
   "metadata": {
    "ExecuteTime": {
     "end_time": "2017-08-06T21:00:39.149497Z",
     "start_time": "2017-08-06T21:00:39.136324Z"
    }
   },
   "outputs": [],
   "source": [
    "# def checkh5_addinfo(pair, h5):\n",
    "#     xsfs = expected_stridedfeat_shape(pair)\n",
    "#     xsls = expected_stridedlabel_shape(pair)\n",
    "    \n",
    "#     xdatachunks = ((xsfs[1], ) + xsfs[2:])\n",
    "#     xlabelchunks = ((xsls[1], ) + xsls[2:])\n",
    "    \n",
    "#     xdatashape = (xsfs[0] * xsfs[1], ) + xsfs[2:]\n",
    "#     xlabelshape = (xsls[0] * xsls[1], ) + xsls[2:]\n",
    "    \n",
    "#     l = pair.label\n",
    "#     dp = fe.PerSampleDataProvider.for_callids(\n",
    "#         h5,\n",
    "#         l.callid,\n",
    "#     )\n",
    "    \n",
    "#     assert dp.totlen == xdatashape[0], \"Mismatch in audio len: {} v/s {}\".format(dp.totlen, xdatashape)\n",
    "#     assert dp.totlen == xlabelshape[0], \"Mismatch in label len: {} v/s {}\".format(dp.totlen, xlabelshape)\n",
    "    \n",
    "#     for c in dp.chunkings:\n",
    "#         lend = c.dataslice[0].stop - c.dataslice[0].start\n",
    "#         assert lend == xdatachunks[0], \"Mismatch in audio chunking: {} v/s {}\".format(lend, xdatachunks)\n",
    "        \n",
    "#         lenl = c.labelslice[0].stop - c.labelslice[0].start\n",
    "#         assert lenl == xlabelchunks[0], \"Mismatch in label chunking: {} v/s {}\".format(lenl, xlabelchunks)\n",
    "    \n",
    "#     # Add infos\n",
    "#     lp = dp.chunkings[0].labelpath\n",
    "#     ap = dp.chunkings[0].datapath\n",
    "#     calldata = l.calldata\n",
    "    \n",
    "#     with h.File(h5, 'a') as f:\n",
    "#         f[lp].attrs['speaker_pins'] = np.array([np.string_(s.pin) for s in calldata.channelspeakers])\n",
    "#         f[lp].attrs['speaker_genders'] = np.array([np.string_(s.gender) for s in calldata.channelspeakers])\n",
    "#         f[lp].attrs['speaker_dialects'] = np.array([np.string_(s.dialect) for s in calldata.channelspeakers])\n",
    "        \n",
    "#         f[lp].attrs['topicid'] = calldata.topicid\n",
    "#         f[lp].attrs['signalgrade'] = calldata.signalgrade\n",
    "#         f[lp].attrs['convgrade'] = calldata.convgrade\n",
    "        \n",
    "#         # FUCK THIS SHIT\n",
    "# #         f[lp].dims[1].label = np.string_('active_speaker_channel')\n",
    "# #         f.create_dataset(\"labels/active_speaker_channels\", data=[0, 1])\n",
    "# #         f[lp].dims[1].attach_scale(f[\"labels/active_speaker_channels\"])\n",
    "        \n",
    "# #         f[ap].dims[1].label = np.string_('mel_frequencies')\n",
    "# #         f.create_dataset(\"audios/mel_frequencies\", data=melfreq)\n",
    "# #         f[lp].dims[1].attach_scale(f[\"audios/mel_frequencies\"])\n",
    "        \n",
    "#         f.flush()\n",
    "        \n",
    "    \n",
    "# def checkh5_addinfo_pairs(pairs, h5):\n",
    "#     for i, pair in enumerate(pairs):\n",
    "#         try:\n",
    "#             checkh5_addinfo(pair, h5)\n",
    "#         except AssertionError as e:\n",
    "#             print('AssertionErrors with pair at {}'.format(i))\n",
    "#             print(fn_for_fp(pair.audio.filepath))\n",
    "#             raise\n",
    "# #             print(e)\n",
    "# #             print()"
   ]
  },
  {
   "cell_type": "code",
   "execution_count": 82,
   "metadata": {
    "ExecuteTime": {
     "end_time": "2017-08-06T21:00:42.691366Z",
     "start_time": "2017-08-06T21:00:42.687241Z"
    }
   },
   "outputs": [],
   "source": [
    "# checkh5_addinfo_pairs(val_pairs, val_h5)"
   ]
  },
  {
   "cell_type": "code",
   "execution_count": 83,
   "metadata": {
    "ExecuteTime": {
     "end_time": "2017-08-06T21:00:44.707144Z",
     "start_time": "2017-08-06T21:00:44.703782Z"
    }
   },
   "outputs": [],
   "source": [
    "# checkh5_addinfo_pairs(trn_pairs, trn_h5)"
   ]
  },
  {
   "cell_type": "code",
   "execution_count": 54,
   "metadata": {
    "ExecuteTime": {
     "end_time": "2017-08-04T11:09:10.962783Z",
     "start_time": "2017-08-04T11:09:10.959190Z"
    }
   },
   "outputs": [],
   "source": [
    "# checkh5_addinfo_pairs(tst_pairs, tst_h5)"
   ]
  },
  {
   "cell_type": "code",
   "execution_count": null,
   "metadata": {},
   "outputs": [],
   "source": []
  }
 ],
 "metadata": {
  "hide_input": false,
  "kernelspec": {
   "display_name": "Python [conda env:r3]",
   "language": "python",
   "name": "conda-env-r3-py"
  },
  "language_info": {
   "codemirror_mode": {
    "name": "ipython",
    "version": 3
   },
   "file_extension": ".py",
   "mimetype": "text/x-python",
   "name": "python",
   "nbconvert_exporter": "python",
   "pygments_lexer": "ipython3",
   "version": "3.5.3"
  },
  "toc": {
   "colors": {
    "hover_highlight": "#DAA520",
    "running_highlight": "#FF0000",
    "selected_highlight": "#FFD700"
   },
   "moveMenuLeft": true,
   "nav_menu": {
    "height": "318px",
    "width": "252px"
   },
   "navigate_menu": true,
   "number_sections": true,
   "sideBar": true,
   "threshold": 4,
   "toc_cell": false,
   "toc_position": {
    "height": "931px",
    "left": "0px",
    "right": "1156px",
    "top": "32px",
    "width": "212px"
   },
   "toc_section_display": "block",
   "toc_window_display": true,
   "widenNotebook": false
  }
 },
 "nbformat": 4,
 "nbformat_minor": 2
}

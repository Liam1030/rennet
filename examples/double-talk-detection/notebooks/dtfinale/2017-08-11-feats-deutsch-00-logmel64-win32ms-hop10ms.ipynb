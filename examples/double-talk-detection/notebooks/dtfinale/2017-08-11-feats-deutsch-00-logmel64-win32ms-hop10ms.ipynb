{
 "cells": [
  {
   "cell_type": "markdown",
   "metadata": {},
   "source": [
    "# Extract `logmelspectrogram_64` features for `deutsch-00`"
   ]
  },
  {
   "cell_type": "markdown",
   "metadata": {},
   "source": [
    "## Setup\n",
    "\n",
    "Requires some manual inputs"
   ]
  },
  {
   "cell_type": "markdown",
   "metadata": {},
   "source": [
    "## Imports"
   ]
  },
  {
   "cell_type": "code",
   "execution_count": 1,
   "metadata": {
    "ExecuteTime": {
     "end_time": "2017-08-11T17:19:38.236093",
     "start_time": "2017-08-11T17:19:38.221126"
    },
    "collapsed": true
   },
   "outputs": [],
   "source": [
    "# from __future__ import division, print_function  # not running this on py27\n",
    "import os\n",
    "import sys\n",
    "\n",
    "sys.path.append(os.environ['RENNET_ROOT'])  # the supporting library\n",
    "\n",
    "%load_ext autoreload\n",
    "%autoreload 1  # reload only what has been marked for it"
   ]
  },
  {
   "cell_type": "code",
   "execution_count": 2,
   "metadata": {
    "ExecuteTime": {
     "end_time": "2017-08-11T17:19:45.083065",
     "start_time": "2017-08-11T17:19:38.824274"
    },
    "collapsed": false
   },
   "outputs": [],
   "source": [
    "import glob\n",
    "import warnings\n",
    "from collections import namedtuple\n",
    "from itertools import starmap\n",
    "\n",
    "import librosa as lr\n",
    "import numpy as np\n",
    "import dask as d\n",
    "import dask.array as da\n",
    "from distributed import Client\n",
    "import h5py as h\n",
    "\n",
    "import dask.diagnostics as dg\n",
    "import time\n",
    "from bokeh.io import output_notebook"
   ]
  },
  {
   "cell_type": "code",
   "execution_count": 3,
   "metadata": {
    "ExecuteTime": {
     "end_time": "2017-08-11T17:19:45.779094",
     "start_time": "2017-08-11T17:19:45.600224"
    },
    "collapsed": true
   },
   "outputs": [],
   "source": [
    "%aimport rennet.datasets.fisher\n",
    "import rennet.datasets.ka3 as fe\n",
    "\n",
    "%aimport rennet.utils.audio_utils\n",
    "import rennet.utils.audio_utils as au\n",
    "\n",
    "%aimport rennet.utils.np_utils\n",
    "import rennet.utils.np_utils as nu"
   ]
  },
  {
   "cell_type": "code",
   "execution_count": 4,
   "metadata": {
    "ExecuteTime": {
     "end_time": "2017-08-11T17:19:46.267495",
     "start_time": "2017-08-11T17:19:46.248379"
    },
    "collapsed": false
   },
   "outputs": [
    {
     "data": {
      "text/html": [
       "\n",
       "    <div class=\"bk-root\">\n",
       "        <a href=\"http://bokeh.pydata.org\" target=\"_blank\" class=\"bk-logo bk-logo-small bk-logo-notebook\"></a>\n",
       "        <span id=\"44bf107c-0893-4945-89e5-ecd45c2f59a2\">Loading BokehJS ...</span>\n",
       "    </div>"
      ]
     },
     "metadata": {},
     "output_type": "display_data"
    },
    {
     "data": {
      "application/javascript": [
       "\n",
       "(function(global) {\n",
       "  function now() {\n",
       "    return new Date();\n",
       "  }\n",
       "\n",
       "  var force = true;\n",
       "\n",
       "  if (typeof (window._bokeh_onload_callbacks) === \"undefined\" || force === true) {\n",
       "    window._bokeh_onload_callbacks = [];\n",
       "    window._bokeh_is_loading = undefined;\n",
       "  }\n",
       "\n",
       "\n",
       "  \n",
       "  if (typeof (window._bokeh_timeout) === \"undefined\" || force === true) {\n",
       "    window._bokeh_timeout = Date.now() + 5000;\n",
       "    window._bokeh_failed_load = false;\n",
       "  }\n",
       "\n",
       "  var NB_LOAD_WARNING = {'data': {'text/html':\n",
       "     \"<div style='background-color: #fdd'>\\n\"+\n",
       "     \"<p>\\n\"+\n",
       "     \"BokehJS does not appear to have successfully loaded. If loading BokehJS from CDN, this \\n\"+\n",
       "     \"may be due to a slow or bad network connection. Possible fixes:\\n\"+\n",
       "     \"</p>\\n\"+\n",
       "     \"<ul>\\n\"+\n",
       "     \"<li>re-rerun `output_notebook()` to attempt to load from CDN again, or</li>\\n\"+\n",
       "     \"<li>use INLINE resources instead, as so:</li>\\n\"+\n",
       "     \"</ul>\\n\"+\n",
       "     \"<code>\\n\"+\n",
       "     \"from bokeh.resources import INLINE\\n\"+\n",
       "     \"output_notebook(resources=INLINE)\\n\"+\n",
       "     \"</code>\\n\"+\n",
       "     \"</div>\"}};\n",
       "\n",
       "  function display_loaded() {\n",
       "    if (window.Bokeh !== undefined) {\n",
       "      document.getElementById(\"44bf107c-0893-4945-89e5-ecd45c2f59a2\").textContent = \"BokehJS successfully loaded.\";\n",
       "    } else if (Date.now() < window._bokeh_timeout) {\n",
       "      setTimeout(display_loaded, 100)\n",
       "    }\n",
       "  }\n",
       "\n",
       "  function run_callbacks() {\n",
       "    window._bokeh_onload_callbacks.forEach(function(callback) { callback() });\n",
       "    delete window._bokeh_onload_callbacks\n",
       "    console.info(\"Bokeh: all callbacks have finished\");\n",
       "  }\n",
       "\n",
       "  function load_libs(js_urls, callback) {\n",
       "    window._bokeh_onload_callbacks.push(callback);\n",
       "    if (window._bokeh_is_loading > 0) {\n",
       "      console.log(\"Bokeh: BokehJS is being loaded, scheduling callback at\", now());\n",
       "      return null;\n",
       "    }\n",
       "    if (js_urls == null || js_urls.length === 0) {\n",
       "      run_callbacks();\n",
       "      return null;\n",
       "    }\n",
       "    console.log(\"Bokeh: BokehJS not loaded, scheduling load and callback at\", now());\n",
       "    window._bokeh_is_loading = js_urls.length;\n",
       "    for (var i = 0; i < js_urls.length; i++) {\n",
       "      var url = js_urls[i];\n",
       "      var s = document.createElement('script');\n",
       "      s.src = url;\n",
       "      s.async = false;\n",
       "      s.onreadystatechange = s.onload = function() {\n",
       "        window._bokeh_is_loading--;\n",
       "        if (window._bokeh_is_loading === 0) {\n",
       "          console.log(\"Bokeh: all BokehJS libraries loaded\");\n",
       "          run_callbacks()\n",
       "        }\n",
       "      };\n",
       "      s.onerror = function() {\n",
       "        console.warn(\"failed to load library \" + url);\n",
       "      };\n",
       "      console.log(\"Bokeh: injecting script tag for BokehJS library: \", url);\n",
       "      document.getElementsByTagName(\"head\")[0].appendChild(s);\n",
       "    }\n",
       "  };var element = document.getElementById(\"44bf107c-0893-4945-89e5-ecd45c2f59a2\");\n",
       "  if (element == null) {\n",
       "    console.log(\"Bokeh: ERROR: autoload.js configured with elementid '44bf107c-0893-4945-89e5-ecd45c2f59a2' but no matching script tag was found. \")\n",
       "    return false;\n",
       "  }\n",
       "\n",
       "  var js_urls = [\"https://cdn.pydata.org/bokeh/release/bokeh-0.12.4.min.js\", \"https://cdn.pydata.org/bokeh/release/bokeh-widgets-0.12.4.min.js\"];\n",
       "\n",
       "  var inline_js = [\n",
       "    function(Bokeh) {\n",
       "      Bokeh.set_log_level(\"info\");\n",
       "    },\n",
       "    \n",
       "    function(Bokeh) {\n",
       "      \n",
       "      document.getElementById(\"44bf107c-0893-4945-89e5-ecd45c2f59a2\").textContent = \"BokehJS is loading...\";\n",
       "    },\n",
       "    function(Bokeh) {\n",
       "      console.log(\"Bokeh: injecting CSS: https://cdn.pydata.org/bokeh/release/bokeh-0.12.4.min.css\");\n",
       "      Bokeh.embed.inject_css(\"https://cdn.pydata.org/bokeh/release/bokeh-0.12.4.min.css\");\n",
       "      console.log(\"Bokeh: injecting CSS: https://cdn.pydata.org/bokeh/release/bokeh-widgets-0.12.4.min.css\");\n",
       "      Bokeh.embed.inject_css(\"https://cdn.pydata.org/bokeh/release/bokeh-widgets-0.12.4.min.css\");\n",
       "    }\n",
       "  ];\n",
       "\n",
       "  function run_inline_js() {\n",
       "    \n",
       "    if ((window.Bokeh !== undefined) || (force === true)) {\n",
       "      for (var i = 0; i < inline_js.length; i++) {\n",
       "        inline_js[i](window.Bokeh);\n",
       "      }if (force === true) {\n",
       "        display_loaded();\n",
       "      }} else if (Date.now() < window._bokeh_timeout) {\n",
       "      setTimeout(run_inline_js, 100);\n",
       "    } else if (!window._bokeh_failed_load) {\n",
       "      console.log(\"Bokeh: BokehJS failed to load within specified timeout.\");\n",
       "      window._bokeh_failed_load = true;\n",
       "    } else if (force !== true) {\n",
       "      var cell = $(document.getElementById(\"44bf107c-0893-4945-89e5-ecd45c2f59a2\")).parents('.cell').data().cell;\n",
       "      cell.output_area.append_execute_result(NB_LOAD_WARNING)\n",
       "    }\n",
       "\n",
       "  }\n",
       "\n",
       "  if (window._bokeh_is_loading === 0) {\n",
       "    console.log(\"Bokeh: BokehJS loaded, going straight to plotting\");\n",
       "    run_inline_js();\n",
       "  } else {\n",
       "    load_libs(js_urls, function() {\n",
       "      console.log(\"Bokeh: BokehJS plotting callback run at\", now());\n",
       "      run_inline_js();\n",
       "    });\n",
       "  }\n",
       "}(this));"
      ]
     },
     "metadata": {},
     "output_type": "display_data"
    }
   ],
   "source": [
    "# dask progress bars and other diagnostics\n",
    "pb = dg.ProgressBar()\n",
    "pb.register()\n",
    "\n",
    "output_notebook()\n",
    "\n",
    "pr = dg.Profiler()\n",
    "pr.register()\n",
    "\n",
    "rpr = dg.ResourceProfiler(dt=0.1)\n",
    "rpr.register()"
   ]
  },
  {
   "cell_type": "markdown",
   "metadata": {},
   "source": [
    "## Params \n",
    "\n",
    "For feature extraction and related tasks like, output file naming, etc."
   ]
  },
  {
   "cell_type": "code",
   "execution_count": 5,
   "metadata": {
    "ExecuteTime": {
     "end_time": "2017-08-11T17:19:52.964613",
     "start_time": "2017-08-11T17:19:52.951287"
    },
    "collapsed": false
   },
   "outputs": [
    {
     "name": "stdout",
     "output_type": "stream",
     "text": [
      "win-len 256\n",
      "hop-len 80\n",
      "\n",
      "chunking 8192\n",
      "chunkovl 512\n",
      "chunkstep 7680\n",
      "\n",
      "mel-frequencies (64)\n",
      " [    0.            37.21032838    74.42065675   111.63098513   148.8413135\n",
      "   186.05164188   223.26197025   260.47229863   297.682627     334.89295538\n",
      "   372.10328375   409.31361213   446.5239405    483.73426888   520.94459725\n",
      "   558.15492563   595.365254     632.57558238   669.78591075   706.99623913\n",
      "   744.20656751   781.41689588   818.62722426   855.83755263   893.04788101\n",
      "   930.25820938   967.46853776  1004.83686549  1044.14602321  1084.99295281\n",
      "  1127.43781185  1171.54311121  1217.37380723  1264.99739732  1314.48401939\n",
      "  1365.90655514  1419.34073739  1474.86526164  1532.56190193  1592.51563132\n",
      "  1654.814747    1719.55100033  1786.819732    1856.72001241  1929.35478758\n",
      "  2004.83103078  2083.25990007  2164.75690202  2249.44206177  2337.44009988\n",
      "  2428.88061595  2523.8982795   2622.63302834  2725.23027461  2831.84111897\n",
      "  2942.62257316  3057.73779117  3177.35630958  3301.65429723  3430.81481468\n",
      "  3565.0280838   3704.49176794  3849.41126301  4000.        ]\n"
     ]
    }
   ],
   "source": [
    "# The parameters that will be used for extracting logmelspectrogram\n",
    "win_sec = 0.032\n",
    "hop_sec = 0.010\n",
    "nmels = 64\n",
    "window = 'hann'\n",
    "sr = samplerate = 8000\n",
    "nchannels = 1\n",
    "chunking = 2**13\n",
    "chunkovl = 2**9\n",
    "\n",
    "n_fft = win_len = int(win_sec * sr)\n",
    "hop_len = int(hop_sec * sr)\n",
    "chunkstep = chunking - chunkovl\n",
    "melfreq = lr.mel_frequencies(n_mels=nmels, fmax=sr//2)\n",
    "\n",
    "print('win-len', win_len)\n",
    "print('hop-len', hop_len)\n",
    "print()\n",
    "print('chunking', chunking)\n",
    "print('chunkovl', chunkovl)\n",
    "print('chunkstep', chunkstep)\n",
    "print()\n",
    "print('mel-frequencies ({})\\n'.format(len(melfreq)), melfreq)"
   ]
  },
  {
   "cell_type": "markdown",
   "metadata": {},
   "source": [
    "## Roots & Paths"
   ]
  },
  {
   "cell_type": "markdown",
   "metadata": {},
   "source": [
    "### Sources \n",
    "\n",
    "Where the pre-split wav and label exports are"
   ]
  },
  {
   "cell_type": "code",
   "execution_count": 7,
   "metadata": {
    "ExecuteTime": {
     "end_time": "2017-08-11T17:20:25.469127",
     "start_time": "2017-08-11T17:20:25.459522"
    },
    "collapsed": false
   },
   "outputs": [
    {
     "name": "stdout",
     "output_type": "stream",
     "text": [
      "RENNET_X\n",
      "/nm-raid/audio/work/abdullah/nm-rennet/rennet-x\n",
      "\n",
      "SPLITS_ROOT\n",
      "/nm-raid/audio/work/abdullah/nm-rennet/rennet-x/data/working/ka3/deutsch-00/wav-8k-mono\n",
      "\n"
     ]
    }
   ],
   "source": [
    "# Setting up roots for sources\n",
    "\n",
    "rennet_x_root = os.environ['RENNET_X_ROOT']\n",
    "print('RENNET_X', rennet_x_root, '', sep='\\n')\n",
    "\n",
    "working_data_dir = os.path.join(rennet_x_root, 'data', 'working')\n",
    "\n",
    "provider = 'ka3'\n",
    "dataset = 'deutsch-00'\n",
    "export_name = 'wav-8k-mono'\n",
    "\n",
    "\n",
    "# Root path to where the splits are\n",
    "\n",
    "splits_root = os.path.join(working_data_dir, provider, dataset, export_name)\n",
    "# check if it exists\n",
    "if not os.path.exists(splits_root):\n",
    "    raise RuntimeError(\"SPLITS_ROOT not found at: \\n {}\".format(splits_root))\n",
    "    \n",
    "print('SPLITS_ROOT', splits_root, '', sep='\\n')\n",
    "\n",
    "# No errors means all okay"
   ]
  },
  {
   "cell_type": "code",
   "execution_count": 8,
   "metadata": {
    "ExecuteTime": {
     "end_time": "2017-08-11T17:20:27.067722",
     "start_time": "2017-08-11T17:20:27.040981"
    },
    "collapsed": false
   },
   "outputs": [
    {
     "name": "stdout",
     "output_type": "stream",
     "text": [
      "\n",
      "CHECK IF THE QUERIES MAKE SENSE\n",
      "\n"
     ]
    },
    {
     "ename": "NameError",
     "evalue": "name 'calldata_glob_str' is not defined",
     "output_type": "error",
     "traceback": [
      "\u001b[0;31m---------------------------------------------------------------------------\u001b[0m",
      "\u001b[0;31mNameError\u001b[0m                                 Traceback (most recent call last)",
      "\u001b[0;32m<ipython-input-8-46c252c8e992>\u001b[0m in \u001b[0;36m<module>\u001b[0;34m()\u001b[0m\n\u001b[1;32m     20\u001b[0m \u001b[0;34m\u001b[0m\u001b[0m\n\u001b[1;32m     21\u001b[0m \u001b[0mprint\u001b[0m\u001b[0;34m(\u001b[0m\u001b[0;34m\"\\nCHECK IF THE QUERIES MAKE SENSE\\n\"\u001b[0m\u001b[0;34m)\u001b[0m\u001b[0;34m\u001b[0m\u001b[0m\n\u001b[0;32m---> 22\u001b[0;31m \u001b[0mprint\u001b[0m\u001b[0;34m(\u001b[0m\u001b[0;34m\"Calldata Query:\\n\"\u001b[0m\u001b[0;34m,\u001b[0m \u001b[0mcalldata_glob_str\u001b[0m\u001b[0;34m)\u001b[0m\u001b[0;34m\u001b[0m\u001b[0m\n\u001b[0m\u001b[1;32m     23\u001b[0m \u001b[0mprint\u001b[0m\u001b[0;34m(\u001b[0m\u001b[0;34m\"\\n\"\u001b[0m\u001b[0;34m)\u001b[0m\u001b[0;34m\u001b[0m\u001b[0m\n\u001b[1;32m     24\u001b[0m \u001b[0mprint\u001b[0m\u001b[0;34m(\u001b[0m\u001b[0;34m\"Validation Audios Query:\\n\"\u001b[0m\u001b[0;34m,\u001b[0m \u001b[0mval_audios_glob_str\u001b[0m\u001b[0;34m)\u001b[0m\u001b[0;34m\u001b[0m\u001b[0m\n",
      "\u001b[0;31mNameError\u001b[0m: name 'calldata_glob_str' is not defined"
     ]
    }
   ],
   "source": [
    "# Making glob queries for audio, label and calldata files\n",
    "\n",
    "export_val_dir = os.path.join(splits_root, 'val')\n",
    "val_audios_dir = os.path.join(export_val_dir, 'audios', 'data')\n",
    "val_audios_glob_str = str(os.path.join(val_audios_dir, \"*.wav\"))\n",
    "val_labels_dir = os.path.join(export_val_dir, 'labels', 'data')\n",
    "val_labels_glob_str = str(os.path.join(val_labels_dir, \"*.xml\"))\n",
    "\n",
    "export_trn_dir = os.path.join(splits_root, 'train')\n",
    "trn_audios_dir = os.path.join(export_trn_dir, 'audios', 'data')\n",
    "trn_audios_glob_str = str(os.path.join(trn_audios_dir, \"*.wav\"))\n",
    "trn_labels_dir = os.path.join(export_trn_dir, 'labels', 'data')\n",
    "trn_labels_glob_str = str(os.path.join(trn_labels_dir, \"*.xml\"))\n",
    "\n",
    "export_tst_dir = os.path.join(splits_root, 'test')\n",
    "tst_audios_dir = os.path.join(export_tst_dir, 'audios', 'data')\n",
    "tst_audios_glob_str = str(os.path.join(tst_audios_dir, \"*.wav\"))\n",
    "tst_labels_dir = os.path.join(export_tst_dir, 'labels', 'data')\n",
    "tst_labels_glob_str = str(os.path.join(tst_labels_dir, \"*.xml\"))\n",
    "\n",
    "print(\"\\nCHECK IF THE QUERIES MAKE SENSE\\n\")\n",
    "print(\"Calldata Query:\\n\", calldata_glob_str)\n",
    "print(\"\\n\")\n",
    "print(\"Validation Audios Query:\\n\", val_audios_glob_str)\n",
    "print()\n",
    "print(\"Validation Labels Query:\\n\", val_labels_glob_str)\n",
    "print(\"\\n\")\n",
    "print(\"Train Audios Query:\\n\", trn_audios_glob_str)\n",
    "print()\n",
    "print(\"Train Labels Query:\\n\", trn_labels_glob_str)\n",
    "print(\"\\n\")\n",
    "print(\"Test Audios Query:\\n\", tst_audios_glob_str)\n",
    "print()\n",
    "print(\"Test Labels Query:\\n\", tst_labels_glob_str)\n",
    "\n",
    "# You should look at the queries"
   ]
  },
  {
   "cell_type": "code",
   "execution_count": 9,
   "metadata": {
    "ExecuteTime": {
     "end_time": "2017-08-11T17:20:29.942506",
     "start_time": "2017-08-11T17:20:29.859062"
    },
    "collapsed": true
   },
   "outputs": [],
   "source": [
    "# helpers\n",
    "\n",
    "AudioLabelPair = namedtuple('AudioLabelPair', 'audio,label')\n",
    "\n",
    "def fn_for_fp(fp):\n",
    "    return os.path.basename(fp).split(\".\")[0]\n",
    "\n",
    "audio_metas = au.get_audio_metadata\n",
    "parse_label = lambda fp: fe.ActiveSpeakers.from_file(fp, warn_duplicates=False)\n",
    "\n",
    "def find_validate_pair_split(audios_glob_str, labels_glob_str, split_name, n_expected_pairs=None):\n",
    "    audio_fps = sorted(glob.glob(audios_glob_str))\n",
    "    label_fps = sorted(glob.glob(labels_glob_str))\n",
    "    \n",
    "    if n_expected_pairs is not None:\n",
    "        assert len(audio_fps) == n_expected_pairs,\\\n",
    "            \"{} audio files found, expected {}, check your query\".format(len(audio_fps), n_expected_pairs)\n",
    "        assert len(label_fps) == n_expected_pairs,\\\n",
    "            \"{} label files found, expected {}, check your query\".format(len(label_fps), n_expected_pairs)\n",
    "    else:\n",
    "        assert len(audio_fps) > 0, \"No audio files found, check your query\"\n",
    "        assert len(label_fps) > 0, \"No label files found, check your query\"\n",
    "\n",
    "    assert len(audio_fps) == len(label_fps),\\\n",
    "        \"\\nMISMATCH: audios : {} v/s {} labels\".format(len(audio_fps), len(label_fps))\n",
    "\n",
    "    # make pairs with zip\n",
    "    pairs = list(starmap(\n",
    "        AudioLabelPair,\n",
    "        zip(\n",
    "            map(audio_metas, audio_fps), \n",
    "            map(parse_label, label_fps))))\n",
    "\n",
    "    # Assert that all pairs have same callid\n",
    "    # NOTE: here, we check the filename, which has the callid\n",
    "    assert all(fn_for_fp(a.filepath) == fn_for_fp(l.sourcefile) for a, l in pairs),\\\n",
    "        \"\\nMISMATCH: callids between audio and label, check filenames, ordering, or missing/substitutions\"\n",
    "\n",
    "    # print some stats for feedback\n",
    "    print(\"{}:#############################################################\\n\\n\".format(split_name.upper()),\n",
    "          \"Total Pairs: {}\\n\\n\".format(len(pairs)),\n",
    "          \"For Example:\\n\\n{}\\n\\n...\".format(\n",
    "              \"\\n...\\n\\n\".join(\"{}\\n{}\".format(a, l[:3]) \n",
    "                        for a, l in pairs[:2])))\n",
    "    return pairs"
   ]
  },
  {
   "cell_type": "code",
   "execution_count": 10,
   "metadata": {
    "ExecuteTime": {
     "end_time": "2017-08-11T17:20:34.590638",
     "start_time": "2017-08-11T17:20:34.372323"
    },
    "collapsed": false
   },
   "outputs": [
    {
     "name": "stdout",
     "output_type": "stream",
     "text": [
      "VAL:#############################################################\n",
      "\n",
      " Total Pairs: 1\n",
      "\n",
      " For Example:\n",
      "\n",
      "AudioMetadata(filepath='/nm-raid/audio/work/abdullah/nm-rennet/rennet-x/data/working/ka3/deutsch-00/wav-8k-mono/val/audios/data/Lisa_David.wav', format='wav', samplerate=8000, nchannels=1, seconds=2412.838375, nsamples=19302707)\n",
      "Source filepath: /nm-raid/audio/work/abdullah/nm-rennet/rennet-x/data/working/ka3/deutsch-00/wav-8k-mono/val/labels/data/Lisa_David.xml\n",
      "Speakers: 2\n",
      "ka3.Speaker(speakerid='1', gender='female', givenname='Lisa')\n",
      "ka3.Speaker(speakerid='2', gender='male', givenname='David')\n",
      "ka3.ActiveSpeakers with sample rate 100\n",
      "Start    - End      : Label\n",
      "0.0000   - 118.0000 : [1 0]\n",
      "118.0000 - 256.0000 : [1 0]\n",
      "256.0000 - 522.0000 : [1 0]\n",
      "\n",
      "...\n"
     ]
    },
    {
     "name": "stderr",
     "output_type": "stream",
     "text": [
      "/nm-raid/audio/work/abdullah/nm-rennet/rennet/rennet/datasets/ka3.py:185: UserWarning: (end - start) <= 0 ignored for annotation at 600 with values (157484, 157484, 100) in file /nm-raid/audio/work/abdullah/nm-rennet/rennet-x/data/working/ka3/deutsch-00/wav-8k-mono/val/labels/data/Lisa_David.xml\n",
      "  format(i, start_end_persec, filepath))\n"
     ]
    }
   ],
   "source": [
    "# VAL: Find all audio and label files, single list per split\n",
    "val_pairs = find_validate_pair_split(val_audios_glob_str, val_labels_glob_str, 'val', 1)\n",
    "\n",
    "# No errors means all okay for VAL"
   ]
  },
  {
   "cell_type": "code",
   "execution_count": 11,
   "metadata": {
    "ExecuteTime": {
     "end_time": "2017-08-11T17:20:36.629693",
     "start_time": "2017-08-11T17:20:35.867673"
    },
    "collapsed": false
   },
   "outputs": [
    {
     "name": "stdout",
     "output_type": "stream",
     "text": [
      "TRN:#############################################################\n",
      "\n",
      " Total Pairs: 15\n",
      "\n",
      " For Example:\n",
      "\n",
      "AudioMetadata(filepath='/nm-raid/audio/work/abdullah/nm-rennet/rennet-x/data/working/ka3/deutsch-00/wav-8k-mono/train/audios/data/DEU_pear_Alex.wav', format='wav', samplerate=8000, nchannels=1, seconds=238.64, nsamples=1909120)\n",
      "Source filepath: /nm-raid/audio/work/abdullah/nm-rennet/rennet-x/data/working/ka3/deutsch-00/wav-8k-mono/train/labels/data/DEU_pear_Alex.xml\n",
      "Speakers: 2\n",
      "ka3.Speaker(speakerid='1', gender='female', givenname='Alex')\n",
      "ka3.Speaker(speakerid='2', gender='female', givenname='Carola')\n",
      "ka3.ActiveSpeakers with sample rate 100\n",
      "Start    - End      : Label\n",
      "0.0000   - 32.0000  : [1 1]\n",
      "32.0000  - 34.0000  : [1 0]\n",
      "34.0000  - 107.0000 : [0 0]\n",
      "...\n",
      "\n",
      "AudioMetadata(filepath='/nm-raid/audio/work/abdullah/nm-rennet/rennet-x/data/working/ka3/deutsch-00/wav-8k-mono/train/audios/data/DEU_pear_Brun.wav', format='wav', samplerate=8000, nchannels=1, seconds=192.76, nsamples=1542080)\n",
      "Source filepath: /nm-raid/audio/work/abdullah/nm-rennet/rennet-x/data/working/ka3/deutsch-00/wav-8k-mono/train/labels/data/DEU_pear_Brun.xml\n",
      "Speakers: 3\n",
      "ka3.Speaker(speakerid='1', gender='female', givenname='B1')\n",
      "ka3.Speaker(speakerid='2', gender='female', givenname='B2')\n",
      "ka3.Speaker(speakerid='3', gender='male', givenname='NH')\n",
      "ka3.ActiveSpeakers with sample rate 100\n",
      "Start    - End      : Label\n",
      "0.0000   - 77.0000  : [1 0 0]\n",
      "77.0000  - 126.0000 : [1 0 1]\n",
      "126.0000 - 131.0000 : [1 0 0]\n",
      "\n",
      "...\n"
     ]
    }
   ],
   "source": [
    "# TRN: Find all audio and label files, single list per split\n",
    "trn_pairs = find_validate_pair_split(trn_audios_glob_str, trn_labels_glob_str, 'trn', 15)\n",
    "\n",
    "# No errors means all okay for TRN"
   ]
  },
  {
   "cell_type": "code",
   "execution_count": 12,
   "metadata": {
    "ExecuteTime": {
     "end_time": "2017-08-11T17:20:40.606220",
     "start_time": "2017-08-11T17:20:40.602207"
    },
    "collapsed": false
   },
   "outputs": [
    {
     "name": "stdout",
     "output_type": "stream",
     "text": [
      "TST:#############################################################\n",
      "\n",
      " Total Pairs: 0\n",
      "\n",
      " For Example:\n",
      "\n",
      "\n",
      "\n",
      "...\n"
     ]
    }
   ],
   "source": [
    "# TST: Find all audio and label files, single list per split\n",
    "tst_pairs = find_validate_pair_split(tst_audios_glob_str, tst_labels_glob_str, 'tst', 0)\n",
    "\n",
    "# No errors means all okay for TST"
   ]
  },
  {
   "cell_type": "markdown",
   "metadata": {},
   "source": [
    "### Sinks\n",
    "\n",
    "Where the exported features will be saved"
   ]
  },
  {
   "cell_type": "code",
   "execution_count": 13,
   "metadata": {
    "ExecuteTime": {
     "end_time": "2017-08-11T17:20:51.222411",
     "start_time": "2017-08-11T17:20:51.198300"
    },
    "collapsed": false
   },
   "outputs": [
    {
     "name": "stdout",
     "output_type": "stream",
     "text": [
      "Export Directory (was created)\n",
      "\n",
      "/nm-raid/audio/work/abdullah/nm-rennet/rennet-x/data/working/ka3/deutsch-00/wav-8k-mono/pickles/20170811-logmel64-win32ms-hop10ms\n",
      "\n",
      "\n",
      "\n",
      "Export Filepaths\n",
      "\n",
      "/nm-raid/audio/work/abdullah/nm-rennet/rennet-x/data/working/ka3/deutsch-00/wav-8k-mono/pickles/20170811-logmel64-win32ms-hop10ms/val.h5\n",
      "\n",
      "/nm-raid/audio/work/abdullah/nm-rennet/rennet-x/data/working/ka3/deutsch-00/wav-8k-mono/pickles/20170811-logmel64-win32ms-hop10ms/trn.h5\n",
      "\n",
      "/nm-raid/audio/work/abdullah/nm-rennet/rennet-x/data/working/ka3/deutsch-00/wav-8k-mono/pickles/20170811-logmel64-win32ms-hop10ms/tst.h5\n",
      "\n"
     ]
    }
   ],
   "source": [
    "pickles_root = os.path.join(splits_root, 'pickles')  # Root where the directory with h5 will go\n",
    "os.makedirs(pickles_root, exist_ok=True)\n",
    "\n",
    "# Pattern for naming the dir inside the pickles root\n",
    "datestamp = \"20170811\"  # time.strftime(\"%Y%m%d\")\n",
    "pattern = \"{}-logmel{}-win{}ms-hop{}ms\".format(datestamp, nmels, \n",
    "                                                        int(win_sec*1000), \n",
    "                                                        int(hop_sec*1000))\n",
    "\n",
    "pickles_dir = os.path.join(pickles_root, pattern)\n",
    "\n",
    "print(\"Export Directory (was created)\\n\", pickles_dir, sep='\\n')\n",
    "print('\\n\\n')\n",
    "\n",
    "fn_h5 = lambda splitname: \"{}.h5\".format(splitname)\n",
    "val_h5 = os.path.join(pickles_dir, fn_h5(\"val\"))\n",
    "trn_h5 = os.path.join(pickles_dir, fn_h5(\"trn\"))\n",
    "tst_h5 = os.path.join(pickles_dir, fn_h5(\"tst\"))\n",
    "\n",
    "print(\"Export Filepaths\\n\", \n",
    "      val_h5, '',\n",
    "      trn_h5, '',\n",
    "      tst_h5, '',\n",
    "      sep='\\n')\n",
    "\n",
    "os.makedirs(pickles_dir, exist_ok=False)"
   ]
  },
  {
   "cell_type": "markdown",
   "metadata": {},
   "source": [
    "## Main Functions\n",
    "\n",
    "These are the main functions that will be used in loading audio, extracting features, and inferring labels.\n",
    "\n",
    "These will be used in pre-flight checks, and later `dask.delayed`."
   ]
  },
  {
   "cell_type": "code",
   "execution_count": 14,
   "metadata": {
    "ExecuteTime": {
     "end_time": "2017-08-11T17:20:53.087082",
     "start_time": "2017-08-11T17:20:53.059189"
    },
    "collapsed": true
   },
   "outputs": [],
   "source": [
    "# main Python / numpy functions\n",
    "\n",
    "def readaudiodata(pair):\n",
    "    # NOTE: In the pre-flight checks below, we will be testing the method below in \n",
    "    # more detail ... make any changes here if there's something wrong\n",
    "    \n",
    "    a, l = pair.audio, pair.label\n",
    "    \n",
    "    with l.samplerate_as(a.samplerate):\n",
    "        s = int(max(0, l.min_start))\n",
    "        e = int(min(a.nsamples, l.max_end))\n",
    "                \n",
    "    return lr.load(a.filepath, sr=None)[0][s:e]\n",
    "\n",
    "\n",
    "def extractfeat(audiodata):\n",
    "    return au.logmelspectrogram(y=audiodata, sr=sr, n_fft=n_fft, hop_len=hop_len, \n",
    "                                window=window, n_mels=nmels,\n",
    "                                # win_len=win_len,  # not necessary\n",
    "                               )\n",
    "\n",
    "def readlabelsdata(pair):\n",
    "    a, l = pair.audio, pair.label\n",
    "    \n",
    "    with l.samplerate_as(a.samplerate):\n",
    "        nsamples = min(a.nsamples, l.max_end) - l.min_start\n",
    "        \n",
    "    endings = fe.samples_for_labelsat(nsamples=nsamples, hop_len=hop_len, win_len=win_len)\n",
    "    \n",
    "    with l.min_start_as(0, samplerate=a.samplerate):\n",
    "        labels = l.labels_at(endings, samplerate=a.samplerate)\n",
    "        \n",
    "    return labels\n",
    "\n",
    "def strided_feat(feat):\n",
    "    return nu.strided_view(feat, win_shape=chunking, step_shape=chunkstep)\n",
    "\n",
    "strided_label = strided_feat\n",
    "    \n",
    "def expected_featlen(pair):\n",
    "    a, l = pair.audio, pair.label\n",
    "    \n",
    "    with l.samplerate_as(a.samplerate):\n",
    "        nsamples = min(a.nsamples, l.max_end) - l.min_start\n",
    "        \n",
    "    return 1 + (nsamples - win_len) // hop_len\n",
    "\n",
    "def expected_stridedfeat_shape(pair):\n",
    "    featlen = expected_featlen(pair)\n",
    "    nstrides = (featlen - chunkovl) // chunkstep\n",
    "    return (nstrides, chunking, nmels)\n",
    "\n",
    "def expected_stridedlabel_shape(pair):\n",
    "    return (*expected_stridedfeat_shape(pair)[:-1], len(pair.label.speakers))"
   ]
  },
  {
   "cell_type": "code",
   "execution_count": 15,
   "metadata": {
    "ExecuteTime": {
     "end_time": "2017-08-11T17:20:54.127146",
     "start_time": "2017-08-11T17:20:54.120977"
    },
    "collapsed": true
   },
   "outputs": [],
   "source": [
    "# dast.delayed versions of the above ... notice minimum number of args for each\n",
    "\n",
    "d_readaudiodata = d.delayed(readaudiodata, name='audio')  # args=(pair,)\n",
    "\n",
    "d_extractfeat = d.delayed(extractfeat, name='feat')  # args=(audiodata,)\n",
    "# NOTE: Yes, we can split the multiple steps involved extractfeat\n",
    "# and delay each of them ... but ... let's not\n",
    "# Most amount of time is going to be spent in stft, so then\n",
    "# it will make a lot more sense to do that dasky way ... \n",
    "# and that needs another round of making decisions after checks.\n",
    "# Some other day ...\n",
    "\n",
    "d_stridefeat = d.delayed(strided_feat, name='stridef')  # args=(feat,)\n",
    "\n",
    "d_readlabelsdata = d.delayed(readlabelsdata, name='label')  # args=(pair,)\n",
    "\n",
    "d_stridelabel = d.delayed(strided_label, name='stridel')"
   ]
  },
  {
   "cell_type": "code",
   "execution_count": 16,
   "metadata": {
    "ExecuteTime": {
     "end_time": "2017-08-11T17:20:54.781569",
     "start_time": "2017-08-11T17:20:54.770337"
    },
    "collapsed": true
   },
   "outputs": [],
   "source": [
    "def steps(pair):\n",
    "    # extract and stride features\n",
    "    audiodata = d_readaudiodata(pair)\n",
    "    feat = d_extractfeat(audiodata)\n",
    "    feat = d_stridefeat(feat)\n",
    "    \n",
    "    # extract and stride labels\n",
    "    label = d_readlabelsdata(pair)\n",
    "    label = d_stridelabel(label)\n",
    "    \n",
    "    # for feat\n",
    "    xfeatshape = expected_stridedfeat_shape(pair)\n",
    "    feat = da.from_delayed(feat, xfeatshape, np.float64)\n",
    "    feat = da.concatenate(feat)\n",
    "    \n",
    "    # for labels\n",
    "    xlabelshape = expected_stridedlabel_shape(pair)\n",
    "    label = da.from_delayed(label, xlabelshape, np.int)\n",
    "    label = da.concatenate(label)\n",
    "    \n",
    "    # dset paths in hdf5\n",
    "    topath = \"{}\".format(os.path.basename(pair.label.sourcefile).split('.')[0])\n",
    "    \n",
    "    apath = \"audios/{}\".format(topath)\n",
    "    lpath = \"labels/{}\".format(topath)\n",
    "    \n",
    "    return (apath, feat), (lpath, label)"
   ]
  },
  {
   "cell_type": "code",
   "execution_count": 17,
   "metadata": {
    "ExecuteTime": {
     "end_time": "2017-08-11T17:20:55.397367",
     "start_time": "2017-08-11T17:20:55.392519"
    },
    "collapsed": true
   },
   "outputs": [],
   "source": [
    "def do_job_for_split(pairs, tofile):\n",
    "    dsets = dict()\n",
    "    \n",
    "    for pair in pairs:\n",
    "        (ap, a), (lp, l) = steps(pair)\n",
    "        \n",
    "        dsets[ap] = a\n",
    "        dsets[lp] = l\n",
    "        \n",
    "    da.to_hdf5(tofile, dsets, compression='lzf', fletcher32=True)"
   ]
  },
  {
   "cell_type": "markdown",
   "metadata": {},
   "source": [
    "## Pre-Flight Checks"
   ]
  },
  {
   "cell_type": "markdown",
   "metadata": {},
   "source": [
    "### Audios"
   ]
  },
  {
   "cell_type": "code",
   "execution_count": 18,
   "metadata": {
    "ExecuteTime": {
     "end_time": "2017-08-11T17:20:57.759609",
     "start_time": "2017-08-11T17:20:57.735931"
    },
    "collapsed": true
   },
   "outputs": [],
   "source": [
    "# Detailed analysis : Do it for a few files, because it might take a lot of time\n",
    "\n",
    "\n",
    "# First, the helpers\n",
    "def validate_audio_detailed(pair):\n",
    "    assert nchannels <= 2, \"nchannels set by you is > 2, and librosa may do something weird\"\n",
    "    \n",
    "    a, asr = lr.load(pair.audio.filepath, sr=None)\n",
    "    ashape = a.shape\n",
    "    amin, amax = a.min(axis=-1), a.max(axis=-1)\n",
    "    amean = a.mean(axis=-1)\n",
    "    del a\n",
    "    \n",
    "    # check if the samplerates match\n",
    "    assert asr == samplerate, \"samplerate mismatch {} v/s {}\".format(asr, samplerate)\n",
    "    assert asr == pair.audio.samplerate, \"samplerate mismatch {} v/s {}\".format(asr, pair.audio.samplerate)\n",
    "    \n",
    "    # check if nchannels match\n",
    "    # HACK: don't rely on this, cuz librosa, I think, forces things to be at most stereo\n",
    "    assert len(ashape) == nchannels, \"nchannels mismatch {} v/s {}\".format(a.shape, nchannels)\n",
    "    assert len(ashape) == pair.audio.nchannels, \"nchannels mismatch {} v/s {}\".format(ashape, pair.audio.nchannels)\n",
    "    \n",
    "    # check if the nsamples <= labels.max_end\n",
    "    with pair.label.samplerate_as(asr):\n",
    "        me = pair.label.max_end\n",
    "        \n",
    "    assert ashape[-1] >= me, \"nsamples mismatch {} v/s {}\".format(ashape, me)\n",
    "    \n",
    "    # assert that the read audio was normalized\n",
    "    assert np.all(amin >= -1), \"amin not >= -1 at {}\".format(amin)\n",
    "    assert np.all(amax <=  1), \"amax not <= +1 at {}\".format(amax)\n",
    "    assert np.allclose(amean, 0, atol=1e-3), \"amean not close to zero at {}\".format(amean)\n",
    "    \n",
    "    \n",
    "def validate_audio_detailed_pairs(pairs):\n",
    "    for i, pair in enumerate(pairs):\n",
    "        try:\n",
    "            validate_audio_detailed(pair)\n",
    "        except AssertionError as e:\n",
    "            print('AssertionErrors with pair at {}'.format(i))\n",
    "            print(fn_for_fp(pair.audio.filepath))\n",
    "            print(e)\n",
    "            print()"
   ]
  },
  {
   "cell_type": "code",
   "execution_count": 19,
   "metadata": {
    "ExecuteTime": {
     "end_time": "2017-08-11T17:20:59.000594",
     "start_time": "2017-08-11T17:20:58.477825"
    },
    "collapsed": true
   },
   "outputs": [],
   "source": [
    "validate_audio_detailed_pairs(val_pairs)\n",
    "\n",
    "# No errors means all okay with the audio files ... hopefully"
   ]
  },
  {
   "cell_type": "code",
   "execution_count": 20,
   "metadata": {
    "ExecuteTime": {
     "end_time": "2017-08-11T17:20:59.543196",
     "start_time": "2017-08-11T17:20:59.528636"
    },
    "collapsed": true
   },
   "outputs": [],
   "source": [
    "# The quick analysis basically assumes that our impl of the audio_metadata reader is reliable\n",
    "# Yes, we should validate everything, and ... hopefully ... it will be all quick!\n",
    "\n",
    "def validate_audio_quick(pair):\n",
    "    a = pair.audio\n",
    "    asr = a.samplerate\n",
    "    ashape = (a.nchannels, a.nsamples) if a.nchannels > 1 else (a.nsamples,)\n",
    "    \n",
    "    # check if the samplerates match\n",
    "    assert asr == samplerate, \"samplerate mismatch {} v/s {}\".format(asr, samplerate)\n",
    "    \n",
    "    # check if nchannels match\n",
    "    # HACK: don't rely on this, cuz librosa, I think, forces things to be at most stereo\n",
    "    assert len(ashape) == nchannels, \"nchannels mismatch {} v/s {}\".format(ashape, nchannels)\n",
    "    \n",
    "    # check if the nsamples <= labels.max_end\n",
    "    with pair.label.samplerate_as(asr):\n",
    "        me = pair.label.max_end\n",
    "        \n",
    "    assert ashape[-1] >= me, \"nsamples mismatch {} v/s {}\".format(ashape, me)\n",
    "    \n",
    "    \n",
    "def validate_audio_quick_pairs(pairs):\n",
    "    with_err = []\n",
    "    for i, pair in enumerate(pairs):\n",
    "        try:\n",
    "            validate_audio_quick(pair)\n",
    "        except AssertionError as e:\n",
    "            print('AssertionErrors with pair at {}'.format(i))\n",
    "            print(fn_for_fp(pair.audio.filepath))\n",
    "            print(e)\n",
    "            print()\n",
    "            with_err.append(i)\n",
    "            \n",
    "    return with_err\n",
    "    "
   ]
  },
  {
   "cell_type": "code",
   "execution_count": 21,
   "metadata": {
    "ExecuteTime": {
     "end_time": "2017-08-11T17:21:01.415801",
     "start_time": "2017-08-11T17:21:01.403267"
    },
    "collapsed": false
   },
   "outputs": [
    {
     "data": {
      "text/plain": [
       "[]"
      ]
     },
     "execution_count": 21,
     "metadata": {},
     "output_type": "execute_result"
    }
   ],
   "source": [
    "validate_audio_quick_pairs(val_pairs)\n",
    "\n",
    "# No errors means all okay with the audio files ... hopefully"
   ]
  },
  {
   "cell_type": "code",
   "execution_count": 22,
   "metadata": {
    "ExecuteTime": {
     "end_time": "2017-08-11T17:21:02.419731",
     "start_time": "2017-08-11T17:21:02.412680"
    },
    "collapsed": false
   },
   "outputs": [
    {
     "name": "stdout",
     "output_type": "stream",
     "text": [
      "[]\n"
     ]
    }
   ],
   "source": [
    "trn_with_err = validate_audio_quick_pairs(trn_pairs)\n",
    "print(trn_with_err)\n",
    "# No errors means all okay with the audio files ... hopefully"
   ]
  },
  {
   "cell_type": "code",
   "execution_count": 23,
   "metadata": {
    "ExecuteTime": {
     "end_time": "2017-08-11T17:21:03.091445",
     "start_time": "2017-08-11T17:21:03.088356"
    },
    "collapsed": false
   },
   "outputs": [
    {
     "data": {
      "text/plain": [
       "[]"
      ]
     },
     "execution_count": 23,
     "metadata": {},
     "output_type": "execute_result"
    }
   ],
   "source": [
    "validate_audio_quick_pairs(tst_pairs)\n",
    "\n",
    "# No errors means all okay with the audio files ... hopefully"
   ]
  },
  {
   "cell_type": "markdown",
   "metadata": {},
   "source": [
    "### Features\n",
    "\n",
    "We want to make sure that the features we will be calculating have the right shape.\n",
    "\n",
    "The values ... well ... I hope you are using reliable ones, because we can't do that deterministically.\n",
    "\n",
    "Finally, the validations will have to extract the features, and hence, will be slow.\n",
    "You will have to settle for smaller set of pairs.\n",
    "\n",
    "Do check for the pairs that caused issues earlier though!"
   ]
  },
  {
   "cell_type": "code",
   "execution_count": 24,
   "metadata": {
    "ExecuteTime": {
     "end_time": "2017-08-11T17:21:04.540246",
     "start_time": "2017-08-11T17:21:04.523795"
    },
    "collapsed": true
   },
   "outputs": [],
   "source": [
    "def validate_featshape_detailed(pair):\n",
    "    am, lb = pair.audio, pair.label\n",
    "    \n",
    "    ad = readaudiodata(pair)\n",
    "    feat = extractfeat(ad)\n",
    "    featshape = feat.shape\n",
    "    \n",
    "    strfeat = strided_feat(feat)\n",
    "    strfeatshape = strfeat.shape\n",
    "    \n",
    "    del feat\n",
    "    del strfeat\n",
    "    \n",
    "    # expectations\n",
    "    xfeatshape = (expected_featlen(pair), nmels)\n",
    "    xstrfeatshape = expected_stridedfeat_shape(pair)\n",
    "    \n",
    "    # assert that they are the expected shapes\n",
    "    assert featshape == xfeatshape, \"Mismatch in featshape: {} v/s {}\".format(featshape, xfeatshape)\n",
    "    assert strfeatshape == xstrfeatshape, \"Mismatch in strfeatshape: {} v/s {}\".format(strfeatshape, xstrfeatshape)\n",
    "    \n",
    "    \n",
    "def validate_featshape_detailed_pairs(pairs):\n",
    "    for i, pair in enumerate(pairs):\n",
    "        try:\n",
    "            validate_featshape_detailed(pair)\n",
    "        except AssertionError as e:\n",
    "            print('AssertionErrors with pair at {}'.format(i))\n",
    "            print(fn_for_fp(pair.audio.filepath))\n",
    "            print(e)\n",
    "            print()"
   ]
  },
  {
   "cell_type": "code",
   "execution_count": 25,
   "metadata": {
    "ExecuteTime": {
     "end_time": "2017-08-11T17:21:07.497959",
     "start_time": "2017-08-11T17:21:05.516047"
    },
    "collapsed": true
   },
   "outputs": [],
   "source": [
    "# This might be a long running one ... choose few\n",
    "\n",
    "validate_featshape_detailed_pairs(val_pairs)#[:5])\n",
    "\n",
    "# No errors or printouts means all okay with the shape of the features ... hopefully"
   ]
  },
  {
   "cell_type": "code",
   "execution_count": 26,
   "metadata": {
    "ExecuteTime": {
     "end_time": "2017-08-11T17:21:08.254143",
     "start_time": "2017-08-11T17:21:08.251303"
    },
    "collapsed": true
   },
   "outputs": [],
   "source": [
    "# Do check for the earlier problem ones!\n",
    "\n",
    "validate_featshape_detailed_pairs([trn_pairs[i] for i in trn_with_err])\n",
    "\n",
    "# No errors or printouts means all okay with the shape of the features ... hopefully"
   ]
  },
  {
   "cell_type": "markdown",
   "metadata": {},
   "source": [
    "### Labels\n",
    "\n",
    "Validate the label shapes."
   ]
  },
  {
   "cell_type": "code",
   "execution_count": 27,
   "metadata": {
    "ExecuteTime": {
     "end_time": "2017-08-11T17:21:09.999618",
     "start_time": "2017-08-11T17:21:09.990310"
    },
    "collapsed": true
   },
   "outputs": [],
   "source": [
    "def validate_labelshape(pair):\n",
    "    labels = readlabelsdata(pair)\n",
    "    labelshape = labels.shape\n",
    "    \n",
    "    strlabels = strided_label(labels)\n",
    "    strlabelshape = strlabels.shape\n",
    "    \n",
    "    xlabelshape = (expected_featlen(pair), len(pair.label.speakers))\n",
    "    xstrlabelshape = expected_stridedlabel_shape(pair)\n",
    "    \n",
    "    assert labelshape == xlabelshape, \"Mismatch in labelshape: {} v/s {}\".format(labelshape, xlabelshape)\n",
    "    assert strlabelshape == xstrlabelshape, \"Mismatch in strlabelshape: {} v/s {}\".format(strlabelshape, xstrlabelshape)\n",
    "    \n",
    "def validate_labelshape_pairs(pairs):\n",
    "    for i, pair in enumerate(pairs):\n",
    "        try:\n",
    "            validate_labelshape(pair)\n",
    "        except AssertionError as e:\n",
    "            print('AssertionErrors with pair at {}'.format(i))\n",
    "            print(fn_for_fp(pair.audio.filepath))\n",
    "            print(e)\n",
    "            print()"
   ]
  },
  {
   "cell_type": "code",
   "execution_count": 28,
   "metadata": {
    "ExecuteTime": {
     "end_time": "2017-08-11T17:21:10.639997",
     "start_time": "2017-08-11T17:21:10.625940"
    },
    "collapsed": true
   },
   "outputs": [],
   "source": [
    "# This should be quick\n",
    "validate_labelshape_pairs(val_pairs)\n",
    "\n",
    "# No errors or printouts means all okay with the shape of the features ... hopefully"
   ]
  },
  {
   "cell_type": "code",
   "execution_count": 29,
   "metadata": {
    "ExecuteTime": {
     "end_time": "2017-08-11T17:21:11.784721",
     "start_time": "2017-08-11T17:21:11.770534"
    },
    "collapsed": true
   },
   "outputs": [],
   "source": [
    "# This should be quick\n",
    "validate_labelshape_pairs(trn_pairs)\n",
    "\n",
    "# No errors or printouts means all okay with the shape of the features ... hopefully"
   ]
  },
  {
   "cell_type": "code",
   "execution_count": 30,
   "metadata": {
    "ExecuteTime": {
     "end_time": "2017-08-11T17:21:12.252191",
     "start_time": "2017-08-11T17:21:12.249078"
    },
    "collapsed": true
   },
   "outputs": [],
   "source": [
    "# This should be quick\n",
    "validate_labelshape_pairs(tst_pairs)\n",
    "\n",
    "# No errors or printouts means all okay with the shape of the features ... hopefully"
   ]
  },
  {
   "cell_type": "markdown",
   "metadata": {},
   "source": [
    "### Dask Steps"
   ]
  },
  {
   "cell_type": "code",
   "execution_count": 31,
   "metadata": {
    "ExecuteTime": {
     "end_time": "2017-08-11T17:21:13.781300",
     "start_time": "2017-08-11T17:21:13.747510"
    },
    "collapsed": true
   },
   "outputs": [],
   "source": [
    "def validate_dasksteps_detailed(pair):\n",
    "    xsfs = expected_stridedfeat_shape(pair)\n",
    "    xsls = expected_stridedlabel_shape(pair)\n",
    "    \n",
    "    xdatachunks = ((xsfs[1], ) * xsfs[0], xsfs[2:])\n",
    "    xlabelchunks = ((xsls[1], ) * xsls[0], xsls[2:])\n",
    "    \n",
    "    xdatashape = (xsfs[0] * xsfs[1], ) + xsfs[2:]\n",
    "    xlabelshape = (xsls[0] * xsls[1], ) + xsls[2:]\n",
    "    \n",
    "    callid = pair.label.callid\n",
    "    groupid = fe.groupid_for_callid(callid)\n",
    "    xap = \"{}/{}/{}\".format('audios', groupid, callid)\n",
    "    xlp = \"{}/{}/{}\".format('labels', groupid, callid)\n",
    "    \n",
    "    (ap, a), (lp, l) = steps(pair)\n",
    "    \n",
    "    # assert paths in h5\n",
    "    assert ap == xap, \"Mismatch in audios path: {} v/s {}\".format(ap, xap)\n",
    "    assert lp == xlp, \"Mismatch in labels path: {} v/s {}\".format(lp, xlp)\n",
    "    \n",
    "    # assert chunking\n",
    "    assert a.chunks == xdatachunks, \"Mismatch in audio chunks:\\n{} v/s\\n{}\".format(a.chunks, xdatachunks)\n",
    "    assert l.chunks == xlabelchunks, \"Mismatch in label chunks:\\n{} v/s\\n{}\".format(l.chunks, xlabelchunks)\n",
    "    \n",
    "    # assert shape\n",
    "    assert a.shape == xdatashape, \"Mismatch in audio shape: {} v/s {}\".format(a.shape, xdatashape)\n",
    "    assert l.shape == xlabelshape, \"Mismatch in label shape: {} v/s {}\".format(l.shape, xlabelshape)\n",
    "    \n",
    "    # assert label values\n",
    "    xlabels = np.concatenate(strided_label(readlabelsdata(pair)))\n",
    "    labels = l.compute()\n",
    "    assert np.all(labels == xlabels), \"Mismatch in labels data\"\n",
    "    del xlabels\n",
    "    del labels\n",
    "    \n",
    "    # assert audio values\n",
    "    xdata = np.concatenate(strided_feat(extractfeat(readaudiodata(pair))))\n",
    "    data = a.compute()\n",
    "    assert np.allclose(data, xdata), \"Mismatch in audio data\"\n",
    "    del xdata\n",
    "    del data\n",
    "    \n",
    "def validate_dasksteps_detailed_pairs(pairs):\n",
    "    for i, pair in enumerate(pairs):\n",
    "        try:\n",
    "            validate_dasksteps_detailed(pair)\n",
    "        except AssertionError as e:\n",
    "            print('AssertionErrors with pair at {}'.format(i))\n",
    "            print(fn_for_fp(pair.audio.filepath))\n",
    "            print(e)\n",
    "            print()"
   ]
  },
  {
   "cell_type": "code",
   "execution_count": 188,
   "metadata": {
    "ExecuteTime": {
     "end_time": "2017-08-04T09:41:23.606680Z",
     "start_time": "2017-08-04T09:41:14.750518Z"
    },
    "collapsed": false
   },
   "outputs": [
    {
     "name": "stdout",
     "output_type": "stream",
     "text": [
      "[########################################] | 100% Completed |  0.1s\n",
      "[########################################] | 100% Completed |  0.5s\n",
      "[########################################] | 100% Completed |  0.1s\n",
      "[########################################] | 100% Completed |  0.7s\n",
      "[########################################] | 100% Completed |  0.1s\n",
      "[########################################] | 100% Completed |  0.7s\n",
      "[########################################] | 100% Completed |  0.1s\n",
      "[########################################] | 100% Completed |  1.0s\n",
      "[########################################] | 100% Completed |  0.1s\n",
      "[########################################] | 100% Completed |  0.6s\n"
     ]
    }
   ],
   "source": [
    "# This might be a long running one ... choose few\n",
    "validate_dasksteps_detailed_pairs(val_pairs[:5])\n",
    "\n",
    "# No errors means all okay with the dask steps results"
   ]
  },
  {
   "cell_type": "code",
   "execution_count": 187,
   "metadata": {
    "ExecuteTime": {
     "end_time": "2017-08-04T09:41:13.162486Z",
     "start_time": "2017-08-04T09:41:08.582320Z"
    },
    "collapsed": false
   },
   "outputs": [
    {
     "name": "stdout",
     "output_type": "stream",
     "text": [
      "[########################################] | 100% Completed |  0.1s\n",
      "[########################################] | 100% Completed |  0.6s\n",
      "[########################################] | 100% Completed |  0.1s\n",
      "[########################################] | 100% Completed |  0.6s\n",
      "[########################################] | 100% Completed |  0.1s\n",
      "[########################################] | 100% Completed |  0.6s\n"
     ]
    }
   ],
   "source": [
    "# This might be a long running one ... choose few\n",
    "validate_dasksteps_detailed_pairs([trn_pairs[i] for i in trn_with_err])\n",
    "\n",
    "# No errors means all okay with the dask steps results"
   ]
  },
  {
   "cell_type": "markdown",
   "metadata": {},
   "source": [
    "## HDF5 Export\n",
    "\n",
    "If all the pre-flight checks passed, it's time we finally export the HDF5 files.\n",
    "\n",
    "We may later check on the results ... however ... taking too long may be a bad sign already."
   ]
  },
  {
   "cell_type": "code",
   "execution_count": 192,
   "metadata": {
    "ExecuteTime": {
     "end_time": "2017-08-04T09:50:20.113416Z",
     "start_time": "2017-08-04T09:50:20.109290Z"
    },
    "collapsed": true
   },
   "outputs": [],
   "source": [
    "# pr.clear()\n",
    "# rpr.clear()"
   ]
  },
  {
   "cell_type": "code",
   "execution_count": 32,
   "metadata": {
    "ExecuteTime": {
     "end_time": "2017-08-11T17:21:24.099761",
     "start_time": "2017-08-11T17:21:19.348545"
    },
    "collapsed": false
   },
   "outputs": [
    {
     "name": "stdout",
     "output_type": "stream",
     "text": [
      "/nm-raid/audio/work/abdullah/nm-rennet/rennet-x/data/working/ka3/deutsch-00/wav-8k-mono/pickles/20170811-logmel64-win32ms-hop10ms/val.h5\n",
      "[########################################] | 100% Completed |  2.9s\n"
     ]
    },
    {
     "data": {
      "text/html": [
       "\n",
       "\n",
       "    <div class=\"bk-root\">\n",
       "        <div class=\"bk-plotdiv\" id=\"236f05b3-559a-402c-a668-3a1eea41520f\"></div>\n",
       "    </div>\n",
       "<script type=\"text/javascript\">\n",
       "  \n",
       "  (function(global) {\n",
       "    function now() {\n",
       "      return new Date();\n",
       "    }\n",
       "  \n",
       "    var force = false;\n",
       "  \n",
       "    if (typeof (window._bokeh_onload_callbacks) === \"undefined\" || force === true) {\n",
       "      window._bokeh_onload_callbacks = [];\n",
       "      window._bokeh_is_loading = undefined;\n",
       "    }\n",
       "  \n",
       "  \n",
       "    \n",
       "    if (typeof (window._bokeh_timeout) === \"undefined\" || force === true) {\n",
       "      window._bokeh_timeout = Date.now() + 0;\n",
       "      window._bokeh_failed_load = false;\n",
       "    }\n",
       "  \n",
       "    var NB_LOAD_WARNING = {'data': {'text/html':\n",
       "       \"<div style='background-color: #fdd'>\\n\"+\n",
       "       \"<p>\\n\"+\n",
       "       \"BokehJS does not appear to have successfully loaded. If loading BokehJS from CDN, this \\n\"+\n",
       "       \"may be due to a slow or bad network connection. Possible fixes:\\n\"+\n",
       "       \"</p>\\n\"+\n",
       "       \"<ul>\\n\"+\n",
       "       \"<li>re-rerun `output_notebook()` to attempt to load from CDN again, or</li>\\n\"+\n",
       "       \"<li>use INLINE resources instead, as so:</li>\\n\"+\n",
       "       \"</ul>\\n\"+\n",
       "       \"<code>\\n\"+\n",
       "       \"from bokeh.resources import INLINE\\n\"+\n",
       "       \"output_notebook(resources=INLINE)\\n\"+\n",
       "       \"</code>\\n\"+\n",
       "       \"</div>\"}};\n",
       "  \n",
       "    function display_loaded() {\n",
       "      if (window.Bokeh !== undefined) {\n",
       "        document.getElementById(\"236f05b3-559a-402c-a668-3a1eea41520f\").textContent = \"BokehJS successfully loaded.\";\n",
       "      } else if (Date.now() < window._bokeh_timeout) {\n",
       "        setTimeout(display_loaded, 100)\n",
       "      }\n",
       "    }\n",
       "  \n",
       "    function run_callbacks() {\n",
       "      window._bokeh_onload_callbacks.forEach(function(callback) { callback() });\n",
       "      delete window._bokeh_onload_callbacks\n",
       "      console.info(\"Bokeh: all callbacks have finished\");\n",
       "    }\n",
       "  \n",
       "    function load_libs(js_urls, callback) {\n",
       "      window._bokeh_onload_callbacks.push(callback);\n",
       "      if (window._bokeh_is_loading > 0) {\n",
       "        console.log(\"Bokeh: BokehJS is being loaded, scheduling callback at\", now());\n",
       "        return null;\n",
       "      }\n",
       "      if (js_urls == null || js_urls.length === 0) {\n",
       "        run_callbacks();\n",
       "        return null;\n",
       "      }\n",
       "      console.log(\"Bokeh: BokehJS not loaded, scheduling load and callback at\", now());\n",
       "      window._bokeh_is_loading = js_urls.length;\n",
       "      for (var i = 0; i < js_urls.length; i++) {\n",
       "        var url = js_urls[i];\n",
       "        var s = document.createElement('script');\n",
       "        s.src = url;\n",
       "        s.async = false;\n",
       "        s.onreadystatechange = s.onload = function() {\n",
       "          window._bokeh_is_loading--;\n",
       "          if (window._bokeh_is_loading === 0) {\n",
       "            console.log(\"Bokeh: all BokehJS libraries loaded\");\n",
       "            run_callbacks()\n",
       "          }\n",
       "        };\n",
       "        s.onerror = function() {\n",
       "          console.warn(\"failed to load library \" + url);\n",
       "        };\n",
       "        console.log(\"Bokeh: injecting script tag for BokehJS library: \", url);\n",
       "        document.getElementsByTagName(\"head\")[0].appendChild(s);\n",
       "      }\n",
       "    };var element = document.getElementById(\"236f05b3-559a-402c-a668-3a1eea41520f\");\n",
       "    if (element == null) {\n",
       "      console.log(\"Bokeh: ERROR: autoload.js configured with elementid '236f05b3-559a-402c-a668-3a1eea41520f' but no matching script tag was found. \")\n",
       "      return false;\n",
       "    }\n",
       "  \n",
       "    var js_urls = [];\n",
       "  \n",
       "    var inline_js = [\n",
       "      function(Bokeh) {\n",
       "        (function() {\n",
       "          var fn = function() {\n",
       "            var docs_json = {\"b8d46c84-4323-40b3-821e-2372e43bbaf7\":{\"roots\":{\"references\":[{\"attributes\":{\"dimensions\":\"width\",\"plot\":{\"id\":\"f9a87735-6461-4a29-88e9-ebf3fb5c1f07\",\"subtype\":\"Figure\",\"type\":\"Plot\"}},\"id\":\"ceed5dfb-c494-4af9-9323-c839b5eb078f\",\"type\":\"WheelZoomTool\"},{\"attributes\":{\"data_source\":{\"id\":\"e472b4f8-3d84-41d6-b0a7-1413199321e2\",\"type\":\"ColumnDataSource\"},\"glyph\":{\"id\":\"2be62c20-a336-4e99-8b6f-b64eaa97ea62\",\"type\":\"Line\"},\"hover_glyph\":null,\"nonselection_glyph\":{\"id\":\"6b67aac2-3eb8-4f7e-9460-dc847ede434d\",\"type\":\"Line\"},\"selection_glyph\":null,\"y_range_name\":\"memory\"},\"id\":\"79cd5704-e2db-40d0-b597-a6fd081c8a5e\",\"type\":\"GlyphRenderer\"},{\"attributes\":{\"plot\":{\"id\":\"f9a87735-6461-4a29-88e9-ebf3fb5c1f07\",\"subtype\":\"Figure\",\"type\":\"Plot\"}},\"id\":\"c144720f-4dc2-4bff-aec5-dd731a61deb6\",\"type\":\"ResetTool\"},{\"attributes\":{},\"id\":\"90044ac1-2727-41fa-a583-a162edb86ee0\",\"type\":\"BasicTickFormatter\"},{\"attributes\":{},\"id\":\"c61eae5f-3420-4ab0-ab0d-99cff3b6be57\",\"type\":\"CategoricalTicker\"},{\"attributes\":{\"plot\":{\"id\":\"53dd0a7d-282f-49b7-aa51-2b67a6359bb4\",\"subtype\":\"Figure\",\"type\":\"Plot\"}},\"id\":\"2f60621e-c3d2-4fe9-87b7-fa24f9585f1d\",\"type\":\"ResizeTool\"},{\"attributes\":{\"below\":[{\"id\":\"43c7756d-dbbd-4e75-96ff-46fea0860eae\",\"type\":\"LinearAxis\"}],\"extra_y_ranges\":{\"memory\":{\"id\":\"6a37e5ab-9bc5-466c-bef8-c45100de1247\",\"type\":\"Range1d\"}},\"left\":[{\"id\":\"69e1a76b-a2da-4469-9d77-3ee9cc7f8f63\",\"type\":\"LinearAxis\"}],\"min_border_left\":75,\"min_border_right\":75,\"min_border_top\":20,\"plot_height\":270,\"plot_width\":800,\"renderers\":[{\"id\":\"43c7756d-dbbd-4e75-96ff-46fea0860eae\",\"type\":\"LinearAxis\"},{\"id\":\"9b294eb2-0055-4c6f-9598-9b83503bf341\",\"type\":\"Grid\"},{\"id\":\"69e1a76b-a2da-4469-9d77-3ee9cc7f8f63\",\"type\":\"LinearAxis\"},{\"id\":\"1e4193eb-b268-486b-9afc-41746a158536\",\"type\":\"Grid\"},{\"id\":\"06786a38-201f-46a4-9e94-f9e36f5b90f4\",\"type\":\"Legend\"},{\"id\":\"0e4d6afd-d3db-4a2d-bbb9-186ac4cd962b\",\"type\":\"GlyphRenderer\"},{\"id\":\"79cd5704-e2db-40d0-b597-a6fd081c8a5e\",\"type\":\"GlyphRenderer\"},{\"id\":\"7db9955e-6577-4040-bb20-d5fe5ef396ed\",\"type\":\"LinearAxis\"}],\"right\":[{\"id\":\"7db9955e-6577-4040-bb20-d5fe5ef396ed\",\"type\":\"LinearAxis\"}],\"title\":null,\"tool_events\":{\"id\":\"d90bb7a9-caed-4f55-a731-5cb6c3a14119\",\"type\":\"ToolEvents\"},\"toolbar\":{\"id\":\"97a506fb-5041-4546-aa23-ecb3e49ff297\",\"type\":\"Toolbar\"},\"toolbar_location\":null,\"x_range\":{\"id\":\"91160a7e-335c-4c27-a0f6-d4d34fe6d50f\",\"type\":\"Range1d\"},\"y_range\":{\"id\":\"3f11d2b8-01d7-4922-bad9-3b1d4d7d0898\",\"type\":\"Range1d\"}},\"id\":\"53dd0a7d-282f-49b7-aa51-2b67a6359bb4\",\"subtype\":\"Figure\",\"type\":\"Plot\"},{\"attributes\":{\"dimension\":1,\"plot\":{\"id\":\"53dd0a7d-282f-49b7-aa51-2b67a6359bb4\",\"subtype\":\"Figure\",\"type\":\"Plot\"},\"ticker\":{\"id\":\"039c973e-24d4-4fda-9cac-15957aa3e451\",\"type\":\"BasicTicker\"}},\"id\":\"1e4193eb-b268-486b-9afc-41746a158536\",\"type\":\"Grid\"},{\"attributes\":{},\"id\":\"0213f92e-0660-47eb-864e-6956a0b98fb1\",\"type\":\"BasicTicker\"},{\"attributes\":{\"fill_alpha\":{\"value\":0.1},\"fill_color\":{\"value\":\"#1f77b4\"},\"height\":{\"units\":\"data\",\"value\":1},\"line_alpha\":{\"value\":0.1},\"line_color\":{\"value\":\"#1f77b4\"},\"width\":{\"field\":\"width\",\"units\":\"data\"},\"x\":{\"field\":\"x\"},\"y\":{\"field\":\"y\"}},\"id\":\"b16f9665-e41d-47bd-b943-a0f917f68e43\",\"type\":\"Rect\"},{\"attributes\":{\"axis_label\":\"% CPU\",\"formatter\":{\"id\":\"222c9a62-10a0-4e3f-b7bb-2cc7f4e890b8\",\"type\":\"BasicTickFormatter\"},\"plot\":{\"id\":\"53dd0a7d-282f-49b7-aa51-2b67a6359bb4\",\"subtype\":\"Figure\",\"type\":\"Plot\"},\"ticker\":{\"id\":\"039c973e-24d4-4fda-9cac-15957aa3e451\",\"type\":\"BasicTicker\"}},\"id\":\"69e1a76b-a2da-4469-9d77-3ee9cc7f8f63\",\"type\":\"LinearAxis\"},{\"attributes\":{\"plot\":{\"id\":\"f9a87735-6461-4a29-88e9-ebf3fb5c1f07\",\"subtype\":\"Figure\",\"type\":\"Plot\"}},\"id\":\"c0b27bca-c274-4cd9-aca9-bb3e5c7e8ff7\",\"type\":\"SaveTool\"},{\"attributes\":{\"plot\":{\"id\":\"53dd0a7d-282f-49b7-aa51-2b67a6359bb4\",\"subtype\":\"Figure\",\"type\":\"Plot\"}},\"id\":\"dff411d1-94ad-4d91-973d-b419e4d42e58\",\"type\":\"ResetTool\"},{\"attributes\":{\"axis_label\":\"Worker ID\",\"axis_line_color\":{\"value\":null},\"formatter\":{\"id\":\"98c5a339-100b-47a7-8095-6f35a50d50be\",\"type\":\"CategoricalTickFormatter\"},\"major_tick_line_color\":{\"value\":null},\"plot\":{\"id\":\"f9a87735-6461-4a29-88e9-ebf3fb5c1f07\",\"subtype\":\"Figure\",\"type\":\"Plot\"},\"ticker\":{\"id\":\"c61eae5f-3420-4ab0-ab0d-99cff3b6be57\",\"type\":\"CategoricalTicker\"}},\"id\":\"33f95852-2bbc-465b-b24e-87d9440eb3df\",\"type\":\"CategoricalAxis\"},{\"attributes\":{},\"id\":\"222c9a62-10a0-4e3f-b7bb-2cc7f4e890b8\",\"type\":\"BasicTickFormatter\"},{\"attributes\":{\"dimensions\":\"width\",\"plot\":{\"id\":\"f9a87735-6461-4a29-88e9-ebf3fb5c1f07\",\"subtype\":\"Figure\",\"type\":\"Plot\"}},\"id\":\"d572cbc0-5ca8-455d-919b-ad099e18fa86\",\"type\":\"PanTool\"},{\"attributes\":{\"items\":[{\"id\":\"e8aa8841-899e-4812-b2d7-7ea6464bea12\",\"type\":\"LegendItem\"},{\"id\":\"299763f5-c3bf-44d7-b4ac-7c1b3823fb12\",\"type\":\"LegendItem\"}],\"plot\":{\"id\":\"53dd0a7d-282f-49b7-aa51-2b67a6359bb4\",\"subtype\":\"Figure\",\"type\":\"Plot\"}},\"id\":\"06786a38-201f-46a4-9e94-f9e36f5b90f4\",\"type\":\"Legend\"},{\"attributes\":{\"callback\":null,\"column_names\":[\"x\",\"y\"],\"data\":{\"x\":[0.0,0.10041455295868218,0.20084222103469074,0.3012392669916153,0.401690092170611,0.5021277409978211,0.602582277962938,0.7030360191129148,0.8034928310662508,0.903979720082134,1.004429331049323,1.1048959020990878,1.205374580109492,1.3084403940010816,1.4107638970017433,1.5112355831079185,1.6117123139556497,1.7121458461042494,1.812571895075962,1.9130348421167582,2.013429910177365,2.1138481800444424,2.214245580136776,2.3146730430889875,2.415110404137522,2.515584802022204,2.6161423241719604,2.7165576620027423],\"y\":[404.762624,437.100544,461.144064,551.387136,602.963968,649.191424,694.337536,740.294656,786.792448,841.40032,909.254656,786.034688,866.73408,1065.971712,693.911552,818.937856,841.105408,863.813632,886.521856,908.689408,931.127296,626.065408,627.757056,630.403072,630.403072,630.403072,618.180608,619.257856]}},\"id\":\"e472b4f8-3d84-41d6-b0a7-1413199321e2\",\"type\":\"ColumnDataSource\"},{\"attributes\":{\"plot\":{\"id\":\"53dd0a7d-282f-49b7-aa51-2b67a6359bb4\",\"subtype\":\"Figure\",\"type\":\"Plot\"}},\"id\":\"8cfc31e6-fd6c-464d-add2-8dedbba73aa4\",\"type\":\"SaveTool\"},{\"attributes\":{},\"id\":\"ca37612c-35cb-4902-9910-ea3da91a5921\",\"type\":\"ToolEvents\"},{\"attributes\":{\"axis_label\":null,\"axis_line_color\":{\"value\":null},\"formatter\":{\"id\":\"1b971b4d-eff1-45f5-8775-ca81f6f99e28\",\"type\":\"BasicTickFormatter\"},\"major_tick_line_color\":{\"value\":null},\"plot\":{\"id\":\"f9a87735-6461-4a29-88e9-ebf3fb5c1f07\",\"subtype\":\"Figure\",\"type\":\"Plot\"},\"ticker\":{\"id\":\"32db0523-795c-4a98-9f3b-7bff51300f29\",\"type\":\"BasicTicker\"}},\"id\":\"e41090be-4f27-410d-a055-5a8ac31a5885\",\"type\":\"LinearAxis\"},{\"attributes\":{\"line_color\":{\"value\":\"#440154\"},\"line_width\":{\"value\":4},\"x\":{\"field\":\"x\"},\"y\":{\"field\":\"y\"}},\"id\":\"19dbbce7-cba1-4c35-9827-28ee4a6f7d64\",\"type\":\"Line\"},{\"attributes\":{\"dimensions\":\"width\",\"plot\":{\"id\":\"53dd0a7d-282f-49b7-aa51-2b67a6359bb4\",\"subtype\":\"Figure\",\"type\":\"Plot\"}},\"id\":\"3fc1c584-d4a3-492f-ab13-c3d71f036544\",\"type\":\"PanTool\"},{\"attributes\":{\"plot\":null,\"text\":\"Profile Results\"},\"id\":\"c74f35cc-0533-4f26-8a56-f15ed5efb14e\",\"type\":\"Title\"},{\"attributes\":{\"callback\":null,\"factors\":[\"0\",\"1\",\"2\",\"3\",\"4\",\"5\",\"6\",\"7\"]},\"id\":\"06d12d4d-8fdb-40ab-849f-7b74753414f2\",\"type\":\"FactorRange\"},{\"attributes\":{\"line_alpha\":{\"value\":0.1},\"line_color\":{\"value\":\"#1f77b4\"},\"line_width\":{\"value\":4},\"x\":{\"field\":\"x\"},\"y\":{\"field\":\"y\"}},\"id\":\"6b67aac2-3eb8-4f7e-9460-dc847ede434d\",\"type\":\"Line\"},{\"attributes\":{},\"id\":\"1b971b4d-eff1-45f5-8775-ca81f6f99e28\",\"type\":\"BasicTickFormatter\"},{\"attributes\":{\"active_drag\":\"auto\",\"active_scroll\":\"auto\",\"active_tap\":\"auto\",\"tools\":[{\"id\":\"7b5e4a9f-6615-4d37-bd8a-49cefba4f78c\",\"type\":\"HoverTool\"},{\"id\":\"c0b27bca-c274-4cd9-aca9-bb3e5c7e8ff7\",\"type\":\"SaveTool\"},{\"id\":\"c144720f-4dc2-4bff-aec5-dd731a61deb6\",\"type\":\"ResetTool\"},{\"id\":\"1276a44b-e2cf-4d9c-889d-e6fad673cc14\",\"type\":\"ResizeTool\"},{\"id\":\"ceed5dfb-c494-4af9-9323-c839b5eb078f\",\"type\":\"WheelZoomTool\"},{\"id\":\"d572cbc0-5ca8-455d-919b-ad099e18fa86\",\"type\":\"PanTool\"}]},\"id\":\"16d4f893-4946-494e-b611-9b1a35e21c00\",\"type\":\"Toolbar\"},{\"attributes\":{},\"id\":\"a50f4ae9-8437-48d8-94ed-ad37ac2e02ee\",\"type\":\"BasicTickFormatter\"},{\"attributes\":{\"callback\":null,\"plot\":{\"id\":\"f9a87735-6461-4a29-88e9-ebf3fb5c1f07\",\"subtype\":\"Figure\",\"type\":\"Plot\"},\"point_policy\":\"follow_mouse\",\"tooltips\":\"\\n    <div>\\n        <span style=\\\"font-size: 14px; font-weight: bold;\\\">Key:</span>&nbsp;\\n        <span style=\\\"font-size: 10px; font-family: Monaco, monospace;\\\">@key</span>\\n    </div>\\n    <div>\\n        <span style=\\\"font-size: 14px; font-weight: bold;\\\">Task:</span>&nbsp;\\n        <span style=\\\"font-size: 10px; font-family: Monaco, monospace;\\\">@function</span>\\n    </div>\\n    \"},\"id\":\"7b5e4a9f-6615-4d37-bd8a-49cefba4f78c\",\"type\":\"HoverTool\"},{\"attributes\":{\"callback\":null,\"end\":701.7},\"id\":\"3f11d2b8-01d7-4922-bad9-3b1d4d7d0898\",\"type\":\"Range1d\"},{\"attributes\":{\"children\":[{\"id\":\"53dd0a7d-282f-49b7-aa51-2b67a6359bb4\",\"subtype\":\"Figure\",\"type\":\"Plot\"}]},\"id\":\"5c65d85b-3d5d-4393-bdfe-c056a64ca749\",\"type\":\"Row\"},{\"attributes\":{\"active_drag\":\"auto\",\"active_scroll\":\"auto\",\"active_tap\":\"auto\",\"tools\":[{\"id\":\"8cfc31e6-fd6c-464d-add2-8dedbba73aa4\",\"type\":\"SaveTool\"},{\"id\":\"dff411d1-94ad-4d91-973d-b419e4d42e58\",\"type\":\"ResetTool\"},{\"id\":\"2f60621e-c3d2-4fe9-87b7-fa24f9585f1d\",\"type\":\"ResizeTool\"},{\"id\":\"c528bab5-0c44-4dc0-9243-851fa4654648\",\"type\":\"WheelZoomTool\"},{\"id\":\"3fc1c584-d4a3-492f-ab13-c3d71f036544\",\"type\":\"PanTool\"}]},\"id\":\"97a506fb-5041-4546-aa23-ecb3e49ff297\",\"type\":\"Toolbar\"},{\"attributes\":{},\"id\":\"039c973e-24d4-4fda-9cac-15957aa3e451\",\"type\":\"BasicTicker\"},{\"attributes\":{\"line_alpha\":{\"value\":0.1},\"line_color\":{\"value\":\"#1f77b4\"},\"line_width\":{\"value\":4},\"x\":{\"field\":\"x\"},\"y\":{\"field\":\"y\"}},\"id\":\"eded20ca-fd8e-486b-96a3-496dc798a7e2\",\"type\":\"Line\"},{\"attributes\":{\"dimensions\":\"width\",\"plot\":{\"id\":\"53dd0a7d-282f-49b7-aa51-2b67a6359bb4\",\"subtype\":\"Figure\",\"type\":\"Plot\"}},\"id\":\"c528bab5-0c44-4dc0-9243-851fa4654648\",\"type\":\"WheelZoomTool\"},{\"attributes\":{\"dimension\":1,\"grid_line_color\":{\"value\":null},\"plot\":{\"id\":\"f9a87735-6461-4a29-88e9-ebf3fb5c1f07\",\"subtype\":\"Figure\",\"type\":\"Plot\"},\"ticker\":{\"id\":\"c61eae5f-3420-4ab0-ab0d-99cff3b6be57\",\"type\":\"CategoricalTicker\"}},\"id\":\"565df648-f13a-4e5c-bd30-275439c4c94f\",\"type\":\"Grid\"},{\"attributes\":{},\"id\":\"32db0523-795c-4a98-9f3b-7bff51300f29\",\"type\":\"BasicTicker\"},{\"attributes\":{},\"id\":\"d90bb7a9-caed-4f55-a731-5cb6c3a14119\",\"type\":\"ToolEvents\"},{\"attributes\":{\"children\":[{\"id\":\"0b2b098d-2d4e-48f0-bf9e-8ad3f3a16116\",\"type\":\"ToolbarBox\"},{\"id\":\"d319d71d-a656-4929-a4eb-22dbaf873531\",\"type\":\"Column\"}]},\"id\":\"a8ed19a4-2a01-4391-b54a-addf40c61301\",\"type\":\"Column\"},{\"attributes\":{\"plot\":{\"id\":\"f9a87735-6461-4a29-88e9-ebf3fb5c1f07\",\"subtype\":\"Figure\",\"type\":\"Plot\"}},\"id\":\"1276a44b-e2cf-4d9c-889d-e6fad673cc14\",\"type\":\"ResizeTool\"},{\"attributes\":{},\"id\":\"8adf82ec-31fc-4ef3-8318-8186ab3399d9\",\"type\":\"BasicTicker\"},{\"attributes\":{\"children\":[{\"id\":\"7cd88aa1-3b38-4f46-95df-6c91bf5a21ed\",\"type\":\"Row\"},{\"id\":\"5c65d85b-3d5d-4393-bdfe-c056a64ca749\",\"type\":\"Row\"}]},\"id\":\"d319d71d-a656-4929-a4eb-22dbaf873531\",\"type\":\"Column\"},{\"attributes\":{\"below\":[{\"id\":\"e41090be-4f27-410d-a055-5a8ac31a5885\",\"type\":\"LinearAxis\"}],\"left\":[{\"id\":\"33f95852-2bbc-465b-b24e-87d9440eb3df\",\"type\":\"CategoricalAxis\"}],\"min_border_bottom\":20,\"min_border_left\":75,\"min_border_right\":75,\"plot_height\":270,\"plot_width\":800,\"renderers\":[{\"id\":\"e41090be-4f27-410d-a055-5a8ac31a5885\",\"type\":\"LinearAxis\"},{\"id\":\"27a1343e-b7cf-4f8a-a4d8-d96dcce0c41b\",\"type\":\"Grid\"},{\"id\":\"33f95852-2bbc-465b-b24e-87d9440eb3df\",\"type\":\"CategoricalAxis\"},{\"id\":\"565df648-f13a-4e5c-bd30-275439c4c94f\",\"type\":\"Grid\"},{\"id\":\"7f07564d-fb0c-4f09-90cb-8998f49187da\",\"type\":\"GlyphRenderer\"}],\"title\":{\"id\":\"c74f35cc-0533-4f26-8a56-f15ed5efb14e\",\"type\":\"Title\"},\"tool_events\":{\"id\":\"ca37612c-35cb-4902-9910-ea3da91a5921\",\"type\":\"ToolEvents\"},\"toolbar\":{\"id\":\"16d4f893-4946-494e-b611-9b1a35e21c00\",\"type\":\"Toolbar\"},\"toolbar_location\":null,\"x_range\":{\"id\":\"91160a7e-335c-4c27-a0f6-d4d34fe6d50f\",\"type\":\"Range1d\"},\"y_range\":{\"id\":\"06d12d4d-8fdb-40ab-849f-7b74753414f2\",\"type\":\"FactorRange\"}},\"id\":\"f9a87735-6461-4a29-88e9-ebf3fb5c1f07\",\"subtype\":\"Figure\",\"type\":\"Plot\"},{\"attributes\":{\"callback\":null,\"column_names\":[\"x\",\"y\"],\"data\":{\"x\":[0.0,0.10041455295868218,0.20084222103469074,0.3012392669916153,0.401690092170611,0.5021277409978211,0.602582277962938,0.7030360191129148,0.8034928310662508,0.903979720082134,1.004429331049323,1.1048959020990878,1.205374580109492,1.3084403940010816,1.4107638970017433,1.5112355831079185,1.6117123139556497,1.7121458461042494,1.812571895075962,1.9130348421167582,2.013429910177365,2.1138481800444424,2.214245580136776,2.3146730430889875,2.415110404137522,2.515584802022204,2.6161423241719604,2.7165576620027423],\"y\":[0.0,109.5,139.5,99.5,99.6,99.6,109.5,109.5,99.6,89.5,109.5,99.5,99.5,144.0,701.7,388.2,99.5,99.6,89.6,109.6,99.6,109.6,99.6,119.5,109.5,99.5,109.5,109.5]}},\"id\":\"21c466d1-b186-4d9b-add8-9564c1d2db39\",\"type\":\"ColumnDataSource\"},{\"attributes\":{\"data_source\":{\"id\":\"03c0ef06-3e6e-4372-aec3-9ae00d1d3ed6\",\"type\":\"ColumnDataSource\"},\"glyph\":{\"id\":\"1558aabf-b3e6-49d9-8b04-bb9f5d13598e\",\"type\":\"Rect\"},\"hover_glyph\":null,\"nonselection_glyph\":{\"id\":\"b16f9665-e41d-47bd-b943-a0f917f68e43\",\"type\":\"Rect\"},\"selection_glyph\":null},\"id\":\"7f07564d-fb0c-4f09-90cb-8998f49187da\",\"type\":\"GlyphRenderer\"},{\"attributes\":{\"callback\":null,\"end\":1065.971712,\"start\":404.762624},\"id\":\"6a37e5ab-9bc5-466c-bef8-c45100de1247\",\"type\":\"Range1d\"},{\"attributes\":{},\"id\":\"98c5a339-100b-47a7-8095-6f35a50d50be\",\"type\":\"CategoricalTickFormatter\"},{\"attributes\":{\"plot\":{\"id\":\"53dd0a7d-282f-49b7-aa51-2b67a6359bb4\",\"subtype\":\"Figure\",\"type\":\"Plot\"},\"ticker\":{\"id\":\"0213f92e-0660-47eb-864e-6956a0b98fb1\",\"type\":\"BasicTicker\"}},\"id\":\"9b294eb2-0055-4c6f-9598-9b83503bf341\",\"type\":\"Grid\"},{\"attributes\":{\"children\":[{\"id\":\"f9a87735-6461-4a29-88e9-ebf3fb5c1f07\",\"subtype\":\"Figure\",\"type\":\"Plot\"}]},\"id\":\"7cd88aa1-3b38-4f46-95df-6c91bf5a21ed\",\"type\":\"Row\"},{\"attributes\":{\"callback\":null,\"end\":2.794203129131347},\"id\":\"91160a7e-335c-4c27-a0f6-d4d34fe6d50f\",\"type\":\"Range1d\"},{\"attributes\":{\"grid_line_color\":{\"value\":null},\"plot\":{\"id\":\"f9a87735-6461-4a29-88e9-ebf3fb5c1f07\",\"subtype\":\"Figure\",\"type\":\"Plot\"},\"ticker\":{\"id\":\"32db0523-795c-4a98-9f3b-7bff51300f29\",\"type\":\"BasicTicker\"}},\"id\":\"27a1343e-b7cf-4f8a-a4d8-d96dcce0c41b\",\"type\":\"Grid\"},{\"attributes\":{\"line_color\":{\"value\":\"#29788E\"},\"line_width\":{\"value\":4},\"x\":{\"field\":\"x\"},\"y\":{\"field\":\"y\"}},\"id\":\"2be62c20-a336-4e99-8b6f-b64eaa97ea62\",\"type\":\"Line\"},{\"attributes\":{\"callback\":null,\"column_names\":[\"x\",\"y\",\"function\",\"width\",\"key\",\"color\"],\"data\":{\"color\":[\"#440154\",\"#30678D\",\"#30678D\",\"#440154\",\"#30678D\",\"#30678D\",\"#440154\",\"#440154\",\"#30678D\",\"#30678D\",\"#440154\",\"#30678D\",\"#440154\",\"#440154\",\"#30678D\",\"#30678D\",\"#440154\",\"#30678D\",\"#440154\",\"#440154\",\"#30678D\",\"#440154\",\"#440154\",\"#30678D\",\"#440154\",\"#440154\",\"#30678D\",\"#440154\",\"#30678D\",\"#440154\",\"#440154\",\"#30678D\",\"#440154\",\"#30678D\",\"#440154\",\"#440154\",\"#30678D\",\"#30678D\",\"#440154\",\"#30678D\",\"#30678D\",\"#440154\",\"#30678D\",\"#30678D\",\"#440154\",\"#30678D\",\"#30678D\",\"#440154\",\"#30678D\",\"#30678D\",\"#440154\",\"#440154\",\"#30678D\",\"#30678D\",\"#440154\",\"#30678D\",\"#440154\",\"#440154\",\"#30678D\",\"#440154\",\"#35B778\",\"#30678D\",\"#440154\",\"#440154\",\"#30678D\",\"#440154\",\"#30678D\",\"#440154\",\"#30678D\",\"#440154\",\"#440154\",\"#30678D\",\"#440154\",\"#30678D\",\"#440154\",\"#440154\",\"#30678D\",\"#440154\",\"#30678D\",\"#440154\",\"#440154\",\"#30678D\",\"#30678D\",\"#440154\",\"#30678D\",\"#440154\",\"#30678D\",\"#30678D\",\"#440154\",\"#30678D\",\"#30678D\",\"#440154\",\"#30678D\",\"#30678D\",\"#FDE724\",\"#440154\",\"#440154\",\"#30678D\",\"#30678D\",\"#440154\",\"#30678D\",\"#440154\",\"#440154\",\"#30678D\",\"#440154\",\"#30678D\",\"#440154\",\"#30678D\",\"#30678D\",\"#440154\",\"#30678D\",\"#440154\",\"#440154\",\"#30678D\",\"#440154\",\"#30678D\",\"#440154\",\"#440154\",\"#30678D\",\"#30678D\",\"#440154\",\"#30678D\",\"#440154\",\"#440154\",\"#30678D\",\"#30678D\"],\"function\":[\"_\",\"store(getitem(...), *, *, *)\",\"store(getitem(...), *, *, *)\",\"_\",\"store(getitem(...), *, *, *)\",\"store(getitem(...), *, *, *)\",\"_\",\"_\",\"store(getitem(...), *, *, *)\",\"store(getitem(...), *, *, *)\",\"_\",\"store(getitem(...), *, *, *)\",\"_\",\"_\",\"store(getitem(...), *, *, *)\",\"store(getitem(...), *, *, *)\",\"_\",\"store(getitem(...), *, *, *)\",\"_\",\"_\",\"store(getitem(...), *, *, *)\",\"_\",\"_\",\"store(getitem(...), *, *, *)\",\"_\",\"_\",\"store(getitem(...), *, *, *)\",\"_\",\"store(getitem(...), *, *, *)\",\"_\",\"_\",\"store(getitem(...), *, *, *)\",\"_\",\"store(getitem(...), *, *, *)\",\"_\",\"_\",\"store(getitem(...), *, *, *)\",\"store(getitem(...), *, *, *)\",\"_\",\"store(getitem(...), *, *, *)\",\"store(getitem(...), *, *, *)\",\"_\",\"store(getitem(...), *, *, *)\",\"store(getitem(...), *, *, *)\",\"_\",\"store(getitem(...), *, *, *)\",\"store(getitem(...), *, *, *)\",\"_\",\"store(getitem(...), *, *, *)\",\"store(getitem(...), *, *, *)\",\"_\",\"_\",\"store(getitem(...), *, *, *)\",\"store(getitem(...), *, *, *)\",\"_\",\"store(getitem(...), *, *, *)\",\"_\",\"_\",\"store(getitem(...), *, *, *)\",\"_\",\"strided_feat(extractfeat(readaudiodata(*)))\",\"store(getitem(...), *, *, *)\",\"_\",\"_\",\"store(getitem(...), *, *, *)\",\"_\",\"store(getitem(...), *, *, *)\",\"_\",\"store(getitem(...), *, *, *)\",\"_\",\"_\",\"store(getitem(...), *, *, *)\",\"_\",\"store(getitem(...), *, *, *)\",\"_\",\"_\",\"store(getitem(...), *, *, *)\",\"_\",\"store(getitem(...), *, *, *)\",\"_\",\"_\",\"store(getitem(...), *, *, *)\",\"store(getitem(...), *, *, *)\",\"_\",\"store(getitem(...), *, *, *)\",\"_\",\"store(getitem(...), *, *, *)\",\"store(getitem(...), *, *, *)\",\"_\",\"store(getitem(...), *, *, *)\",\"store(getitem(...), *, *, *)\",\"_\",\"store(getitem(...), *, *, *)\",\"store(getitem(...), *, *, *)\",\"strided_feat(readlabelsdata(*))\",\"_\",\"_\",\"store(getitem(...), *, *, *)\",\"store(getitem(...), *, *, *)\",\"_\",\"store(getitem(...), *, *, *)\",\"_\",\"_\",\"store(getitem(...), *, *, *)\",\"_\",\"store(getitem(...), *, *, *)\",\"_\",\"store(getitem(...), *, *, *)\",\"store(getitem(...), *, *, *)\",\"_\",\"store(getitem(...), *, *, *)\",\"_\",\"_\",\"store(getitem(...), *, *, *)\",\"_\",\"store(getitem(...), *, *, *)\",\"_\",\"_\",\"store(getitem(...), *, *, *)\",\"store(getitem(...), *, *, *)\",\"_\",\"store(getitem(...), *, *, *)\",\"_\",\"_\",\"store(getitem(...), *, *, *)\",\"store(getitem(...), *, *, *)\"],\"key\":[\"('store-concatenate-75fd1d5310b4e383fa917a380f6e9550', 10, 0)\",\"('concatenate-getitem-store-concatenate-75fd1d5310b4e383fa917a380f6e9550', 30, 0)\",\"('concatenate-getitem-store-concatenate-75fd1d5310b4e383fa917a380f6e9550', 5, 0)\",\"('store-concatenate-465e4063e65fdd09fe31b73047cde896', 2, 0)\",\"('concatenate-getitem-store-concatenate-465e4063e65fdd09fe31b73047cde896', 13, 0)\",\"('concatenate-getitem-store-concatenate-465e4063e65fdd09fe31b73047cde896', 22, 0)\",\"('store-concatenate-75fd1d5310b4e383fa917a380f6e9550', 7, 0)\",\"('store-concatenate-75fd1d5310b4e383fa917a380f6e9550', 30, 0)\",\"('concatenate-getitem-store-concatenate-75fd1d5310b4e383fa917a380f6e9550', 27, 0)\",\"('concatenate-getitem-store-concatenate-75fd1d5310b4e383fa917a380f6e9550', 2, 0)\",\"('store-concatenate-465e4063e65fdd09fe31b73047cde896', 7, 0)\",\"('concatenate-getitem-store-concatenate-465e4063e65fdd09fe31b73047cde896', 25, 0)\",\"('store-concatenate-75fd1d5310b4e383fa917a380f6e9550', 4, 0)\",\"('store-concatenate-75fd1d5310b4e383fa917a380f6e9550', 27, 0)\",\"('concatenate-getitem-store-concatenate-75fd1d5310b4e383fa917a380f6e9550', 24, 0)\",\"('concatenate-getitem-store-concatenate-75fd1d5310b4e383fa917a380f6e9550', 15, 0)\",\"('store-concatenate-465e4063e65fdd09fe31b73047cde896', 24, 0)\",\"('concatenate-getitem-store-concatenate-465e4063e65fdd09fe31b73047cde896', 28, 0)\",\"('store-concatenate-75fd1d5310b4e383fa917a380f6e9550', 1, 0)\",\"('store-concatenate-75fd1d5310b4e383fa917a380f6e9550', 24, 0)\",\"('concatenate-getitem-store-concatenate-75fd1d5310b4e383fa917a380f6e9550', 12, 0)\",\"('store-concatenate-465e4063e65fdd09fe31b73047cde896', 29, 0)\",\"('store-concatenate-75fd1d5310b4e383fa917a380f6e9550', 21, 0)\",\"('concatenate-getitem-store-concatenate-75fd1d5310b4e383fa917a380f6e9550', 9, 0)\",\"('store-concatenate-465e4063e65fdd09fe31b73047cde896', 30, 0)\",\"('store-concatenate-465e4063e65fdd09fe31b73047cde896', 9, 0)\",\"('concatenate-getitem-store-concatenate-465e4063e65fdd09fe31b73047cde896', 2, 0)\",\"('store-concatenate-75fd1d5310b4e383fa917a380f6e9550', 18, 0)\",\"('concatenate-getitem-store-concatenate-75fd1d5310b4e383fa917a380f6e9550', 22, 0)\",\"('store-concatenate-465e4063e65fdd09fe31b73047cde896', 19, 0)\",\"('store-concatenate-465e4063e65fdd09fe31b73047cde896', 10, 0)\",\"('concatenate-getitem-store-concatenate-465e4063e65fdd09fe31b73047cde896', 5, 0)\",\"('store-concatenate-75fd1d5310b4e383fa917a380f6e9550', 15, 0)\",\"('concatenate-getitem-store-concatenate-75fd1d5310b4e383fa917a380f6e9550', 19, 0)\",\"('store-concatenate-465e4063e65fdd09fe31b73047cde896', 20, 0)\",\"('store-concatenate-465e4063e65fdd09fe31b73047cde896', 15, 0)\",\"('concatenate-getitem-store-concatenate-465e4063e65fdd09fe31b73047cde896', 8, 0)\",\"('concatenate-getitem-store-concatenate-465e4063e65fdd09fe31b73047cde896', 17, 0)\",\"('store-concatenate-75fd1d5310b4e383fa917a380f6e9550', 12, 0)\",\"('concatenate-getitem-store-concatenate-75fd1d5310b4e383fa917a380f6e9550', 16, 0)\",\"('concatenate-getitem-store-concatenate-75fd1d5310b4e383fa917a380f6e9550', 7, 0)\",\"('store-concatenate-465e4063e65fdd09fe31b73047cde896', 0, 0)\",\"('concatenate-getitem-store-concatenate-465e4063e65fdd09fe31b73047cde896', 11, 0)\",\"('concatenate-getitem-store-concatenate-465e4063e65fdd09fe31b73047cde896', 20, 0)\",\"('store-concatenate-75fd1d5310b4e383fa917a380f6e9550', 9, 0)\",\"('concatenate-getitem-store-concatenate-75fd1d5310b4e383fa917a380f6e9550', 29, 0)\",\"('concatenate-getitem-store-concatenate-75fd1d5310b4e383fa917a380f6e9550', 4, 0)\",\"('store-concatenate-465e4063e65fdd09fe31b73047cde896', 5, 0)\",\"('concatenate-getitem-store-concatenate-465e4063e65fdd09fe31b73047cde896', 14, 0)\",\"('concatenate-getitem-store-concatenate-465e4063e65fdd09fe31b73047cde896', 23, 0)\",\"('store-concatenate-75fd1d5310b4e383fa917a380f6e9550', 6, 0)\",\"('store-concatenate-75fd1d5310b4e383fa917a380f6e9550', 29, 0)\",\"('concatenate-getitem-store-concatenate-75fd1d5310b4e383fa917a380f6e9550', 26, 0)\",\"('concatenate-getitem-store-concatenate-75fd1d5310b4e383fa917a380f6e9550', 1, 0)\",\"('store-concatenate-465e4063e65fdd09fe31b73047cde896', 6, 0)\",\"('concatenate-getitem-store-concatenate-465e4063e65fdd09fe31b73047cde896', 26, 0)\",\"('store-concatenate-75fd1d5310b4e383fa917a380f6e9550', 3, 0)\",\"('store-concatenate-75fd1d5310b4e383fa917a380f6e9550', 26, 0)\",\"('concatenate-getitem-store-concatenate-75fd1d5310b4e383fa917a380f6e9550', 14, 0)\",\"('store-concatenate-465e4063e65fdd09fe31b73047cde896', 27, 0)\",\"('extractfeat-readaudiodata-strided_feat-from-value-9ca2716c248bc47d31d28d32acbbf99f', 0, 0, 0)\",\"('concatenate-getitem-store-concatenate-465e4063e65fdd09fe31b73047cde896', 29, 0)\",\"('store-concatenate-75fd1d5310b4e383fa917a380f6e9550', 0, 0)\",\"('store-concatenate-75fd1d5310b4e383fa917a380f6e9550', 23, 0)\",\"('concatenate-getitem-store-concatenate-75fd1d5310b4e383fa917a380f6e9550', 11, 0)\",\"('store-concatenate-465e4063e65fdd09fe31b73047cde896', 28, 0)\",\"('concatenate-getitem-store-concatenate-465e4063e65fdd09fe31b73047cde896', 0, 0)\",\"('store-concatenate-75fd1d5310b4e383fa917a380f6e9550', 20, 0)\",\"('concatenate-getitem-store-concatenate-75fd1d5310b4e383fa917a380f6e9550', 8, 0)\",\"('store-concatenate-465e4063e65fdd09fe31b73047cde896', 17, 0)\",\"('store-concatenate-465e4063e65fdd09fe31b73047cde896', 8, 0)\",\"('concatenate-getitem-store-concatenate-465e4063e65fdd09fe31b73047cde896', 3, 0)\",\"('store-concatenate-75fd1d5310b4e383fa917a380f6e9550', 17, 0)\",\"('concatenate-getitem-store-concatenate-75fd1d5310b4e383fa917a380f6e9550', 21, 0)\",\"('store-concatenate-465e4063e65fdd09fe31b73047cde896', 18, 0)\",\"('store-concatenate-465e4063e65fdd09fe31b73047cde896', 13, 0)\",\"('concatenate-getitem-store-concatenate-465e4063e65fdd09fe31b73047cde896', 6, 0)\",\"('store-concatenate-75fd1d5310b4e383fa917a380f6e9550', 14, 0)\",\"('concatenate-getitem-store-concatenate-75fd1d5310b4e383fa917a380f6e9550', 18, 0)\",\"('store-concatenate-465e4063e65fdd09fe31b73047cde896', 23, 0)\",\"('store-concatenate-465e4063e65fdd09fe31b73047cde896', 14, 0)\",\"('concatenate-getitem-store-concatenate-465e4063e65fdd09fe31b73047cde896', 9, 0)\",\"('concatenate-getitem-store-concatenate-465e4063e65fdd09fe31b73047cde896', 18, 0)\",\"('store-concatenate-75fd1d5310b4e383fa917a380f6e9550', 11, 0)\",\"('concatenate-getitem-store-concatenate-75fd1d5310b4e383fa917a380f6e9550', 6, 0)\",\"('store-concatenate-465e4063e65fdd09fe31b73047cde896', 3, 0)\",\"('concatenate-getitem-store-concatenate-465e4063e65fdd09fe31b73047cde896', 12, 0)\",\"('concatenate-getitem-store-concatenate-465e4063e65fdd09fe31b73047cde896', 21, 0)\",\"('store-concatenate-75fd1d5310b4e383fa917a380f6e9550', 8, 0)\",\"('concatenate-getitem-store-concatenate-75fd1d5310b4e383fa917a380f6e9550', 28, 0)\",\"('concatenate-getitem-store-concatenate-75fd1d5310b4e383fa917a380f6e9550', 3, 0)\",\"('store-concatenate-465e4063e65fdd09fe31b73047cde896', 4, 0)\",\"('concatenate-getitem-store-concatenate-465e4063e65fdd09fe31b73047cde896', 15, 0)\",\"('concatenate-getitem-store-concatenate-465e4063e65fdd09fe31b73047cde896', 24, 0)\",\"('readlabelsdata-strided_feat-from-value-7834b513fada8d26119a27100e374136', 0, 0, 0)\",\"('store-concatenate-75fd1d5310b4e383fa917a380f6e9550', 5, 0)\",\"('store-concatenate-75fd1d5310b4e383fa917a380f6e9550', 28, 0)\",\"('concatenate-getitem-store-concatenate-75fd1d5310b4e383fa917a380f6e9550', 25, 0)\",\"('concatenate-getitem-store-concatenate-75fd1d5310b4e383fa917a380f6e9550', 0, 0)\",\"('store-concatenate-465e4063e65fdd09fe31b73047cde896', 25, 0)\",\"('concatenate-getitem-store-concatenate-465e4063e65fdd09fe31b73047cde896', 27, 0)\",\"('store-concatenate-75fd1d5310b4e383fa917a380f6e9550', 2, 0)\",\"('store-concatenate-75fd1d5310b4e383fa917a380f6e9550', 25, 0)\",\"('concatenate-getitem-store-concatenate-75fd1d5310b4e383fa917a380f6e9550', 13, 0)\",\"('store-concatenate-465e4063e65fdd09fe31b73047cde896', 26, 0)\",\"('concatenate-getitem-store-concatenate-465e4063e65fdd09fe31b73047cde896', 30, 0)\",\"('store-concatenate-75fd1d5310b4e383fa917a380f6e9550', 22, 0)\",\"('concatenate-getitem-store-concatenate-75fd1d5310b4e383fa917a380f6e9550', 10, 0)\",\"('concatenate-getitem-store-concatenate-465e4063e65fdd09fe31b73047cde896', 1, 0)\",\"('store-concatenate-75fd1d5310b4e383fa917a380f6e9550', 19, 0)\",\"('concatenate-getitem-store-concatenate-75fd1d5310b4e383fa917a380f6e9550', 23, 0)\",\"('store-concatenate-465e4063e65fdd09fe31b73047cde896', 16, 0)\",\"('store-concatenate-465e4063e65fdd09fe31b73047cde896', 11, 0)\",\"('concatenate-getitem-store-concatenate-465e4063e65fdd09fe31b73047cde896', 4, 0)\",\"('store-concatenate-75fd1d5310b4e383fa917a380f6e9550', 16, 0)\",\"('concatenate-getitem-store-concatenate-75fd1d5310b4e383fa917a380f6e9550', 20, 0)\",\"('store-concatenate-465e4063e65fdd09fe31b73047cde896', 21, 0)\",\"('store-concatenate-465e4063e65fdd09fe31b73047cde896', 12, 0)\",\"('concatenate-getitem-store-concatenate-465e4063e65fdd09fe31b73047cde896', 7, 0)\",\"('concatenate-getitem-store-concatenate-465e4063e65fdd09fe31b73047cde896', 16, 0)\",\"('store-concatenate-75fd1d5310b4e383fa917a380f6e9550', 13, 0)\",\"('concatenate-getitem-store-concatenate-75fd1d5310b4e383fa917a380f6e9550', 17, 0)\",\"('store-concatenate-465e4063e65fdd09fe31b73047cde896', 22, 0)\",\"('store-concatenate-465e4063e65fdd09fe31b73047cde896', 1, 0)\",\"('concatenate-getitem-store-concatenate-465e4063e65fdd09fe31b73047cde896', 10, 0)\",\"('concatenate-getitem-store-concatenate-465e4063e65fdd09fe31b73047cde896', 19, 0)\"],\"width\":[0.023266236064955592,0.015185071155428886,0.014114994090050459,0.00023730704560875893,0.1384620270691812,0.19628130784258246,0.0037351390346884727,0.014343639137223363,0.019801127957180142,0.01640871400013566,0.00019093509763479233,0.18761895806528628,0.012100346852093935,0.017374551855027676,0.01976263802498579,0.019953439943492413,0.0001888158731162548,0.17866842821240425,0.02301115612499416,0.017557734856382012,0.018611917970702052,0.0002880978863686323,0.018867359962314367,0.004379349062219262,0.00023961509577929974,0.00030289310961961746,0.19349910714663565,0.021585311042144895,0.022457438986748457,0.0003267431166023016,0.0004706820473074913,0.1745451521128416,0.018869388848543167,0.017717699985951185,0.0002495229709893465,0.00021042395383119583,0.18253811611793935,0.19260672410018742,0.024195717182010412,0.018940730951726437,0.005337556125596166,0.00023275590501725674,0.09113862016238272,0.19681153493002057,0.0015400999691337347,0.01651013595983386,0.014466427033767104,0.000289049930870533,0.15947962598875165,0.18944876291789114,0.0075537520460784435,0.0132508659735322,0.021532823098823428,0.016598578076809645,0.0002256259322166443,0.18569677392952144,0.013647198909893632,0.017712082946673036,0.020407913951203227,0.0002517059911042452,2.0732259720098227,0.18138652783818543,0.025280795991420746,0.020386846037581563,0.01880589104257524,0.00018966011703014374,0.023070228984579444,0.02318783407099545,0.005259767873212695,0.00027215294539928436,0.00021062791347503662,0.18424331885762513,0.021178496070206165,0.024156278930604458,0.00021072989329695702,0.00027460302226245403,0.17745047993957996,0.020147938979789615,0.01809692312963307,0.00043865502811968327,0.0002811439335346222,0.17952622496522963,0.19654294196516275,0.02440415695309639,0.01379273016937077,0.00026601599529385567,0.11673001595772803,0.19573273602873087,0.0029303571209311485,0.017144004115834832,0.015898274956271052,0.00022709602490067482,0.18138409708626568,0.1885162980761379,0.011969973798841238,0.009826611028984189,0.013498774031177163,0.022241626167669892,0.016656138002872467,0.00017957109957933426,0.18230922310613096,0.023017294937744737,0.01752275205217302,0.01982668205164373,0.00025279587134718895,0.18232652288861573,0.018948172917589545,0.019981659948825836,0.04425601311959326,0.023043759865686297,0.021763457916676998,0.0002279279287904501,0.00019164406694471836,0.17904080403968692,0.018879867857322097,0.017053538002073765,0.00026644114404916763,0.00024078297428786755,0.18251144094392657,0.18858286901377141,0.024144734954461455,0.018467862159013748,0.00018285890109837055,0.0002137289848178625,0.0667670639231801,0.19466875097714365],\"x\":[0.05445861094631255,0.17342951660975814,0.17809444409795105,2.386155092623085,2.1443096906878054,2.355551561107859,0.20168714155443013,0.1900336577091366,0.1408892262261361,0.08856634702533484,2.752229058649391,2.432952635223046,0.1911657266318798,0.16238359012641013,0.1296063861809671,0.07325672218576074,2.500840596156195,2.500957430107519,0.05182548821903765,0.15410461253486574,0.03599819517694414,2.6138961722608656,0.14431514707393944,0.1993538795504719,2.6597483644727618,2.794051682576537,2.2889442534651607,0.10517879645340145,0.12369217164814472,2.3617540404666215,2.1416523491498083,2.614557475084439,0.09434932563453913,0.08555543911643326,2.411367350490764,2.2571656331419945,2.682415548944846,2.2150420050602406,0.061235695611685514,0.07552452059462667,0.1945779479574412,2.096950473031029,2.1199602449778467,2.3126068715937436,0.20428707520477474,0.1680008650291711,0.17566430079750717,2.7025689461734146,2.155008105095476,2.3811734735500067,0.1934568341821432,0.18533121305517852,0.1376278877723962,0.026802708161994815,2.726380696054548,2.4550889700185508,0.18781169573776424,0.1596103764604777,0.04243027907796204,2.5691520569380373,1.036612985888496,2.5227474679704756,0.04768564901314676,0.14962891698814929,0.03352152067236602,2.5908909500576556,2.084995525656268,0.11533706425689161,0.1972203420009464,2.3117105895653367,2.774038446135819,2.546330305514857,0.10194366611540318,0.11898436862975359,2.3389048071112484,2.2139266848098487,2.6372975511476398,0.07033207756467164,0.08234661654569209,2.476734675699845,2.235278769163415,2.7039462795946747,2.2403157071676105,0.057470324682071805,0.18053264101035893,2.6389357910957187,2.133207746082917,2.333418603055179,0.20297208055853844,0.16510928724892437,0.17079524951986969,2.6805802991148084,2.1661685227882117,2.4062392690684646,0.006791721098124981,0.19230964151211083,0.1829667321871966,0.13428794196806848,0.023940788116306067,2.527058300562203,2.477588278474286,0.11171210068278015,0.15711672115139663,0.03928380203433335,2.548319558147341,2.568238720530644,0.14711476652882993,0.03038992010988295,2.0960636676754802,0.10826583323068917,0.12681281007826328,2.2861478321719915,2.1660343322437257,2.590624238131568,0.09750225325115025,0.09171835100278258,2.4317780286073685,2.191930699395016,2.6606537676416337,2.1914470565970987,0.06467285170219839,0.07885752711445093,2.4540033957455307,2.1185086944606155,2.107608721125871,2.2636073527392],\"y\":[4,7,8,7,3,1,7,7,6,8,6,2,3,6,7,5,5,3,2,7,3,8,5,4,1,1,7,7,2,4,2,2,5,3,3,1,3,5,3,2,5,6,4,3,8,2,3,1,8,6,6,2,8,2,5,4,4,8,6,7,1,8,5,4,7,3,6,6,2,5,2,1,4,5,2,3,4,6,7,6,8,8,2,7,6,1,7,8,3,5,4,6,1,5,6,8,5,3,5,2,7,8,3,8,4,6,2,4,5,3,4,6,4,5,2,6,8,7,7,6,8,4,1,5,2,4]}},\"id\":\"03c0ef06-3e6e-4372-aec3-9ae00d1d3ed6\",\"type\":\"ColumnDataSource\"},{\"attributes\":{\"label\":{\"value\":\"% CPU\"},\"renderers\":[{\"id\":\"0e4d6afd-d3db-4a2d-bbb9-186ac4cd962b\",\"type\":\"GlyphRenderer\"}]},\"id\":\"e8aa8841-899e-4812-b2d7-7ea6464bea12\",\"type\":\"LegendItem\"},{\"attributes\":{\"sizing_mode\":\"scale_width\",\"toolbar_location\":\"above\",\"tools\":[{\"id\":\"7b5e4a9f-6615-4d37-bd8a-49cefba4f78c\",\"type\":\"HoverTool\"},{\"id\":\"c0b27bca-c274-4cd9-aca9-bb3e5c7e8ff7\",\"type\":\"SaveTool\"},{\"id\":\"c144720f-4dc2-4bff-aec5-dd731a61deb6\",\"type\":\"ResetTool\"},{\"id\":\"1276a44b-e2cf-4d9c-889d-e6fad673cc14\",\"type\":\"ResizeTool\"},{\"id\":\"ceed5dfb-c494-4af9-9323-c839b5eb078f\",\"type\":\"WheelZoomTool\"},{\"id\":\"d572cbc0-5ca8-455d-919b-ad099e18fa86\",\"type\":\"PanTool\"},{\"id\":\"8cfc31e6-fd6c-464d-add2-8dedbba73aa4\",\"type\":\"SaveTool\"},{\"id\":\"dff411d1-94ad-4d91-973d-b419e4d42e58\",\"type\":\"ResetTool\"},{\"id\":\"2f60621e-c3d2-4fe9-87b7-fa24f9585f1d\",\"type\":\"ResizeTool\"},{\"id\":\"c528bab5-0c44-4dc0-9243-851fa4654648\",\"type\":\"WheelZoomTool\"},{\"id\":\"3fc1c584-d4a3-492f-ab13-c3d71f036544\",\"type\":\"PanTool\"}]},\"id\":\"0b2b098d-2d4e-48f0-bf9e-8ad3f3a16116\",\"type\":\"ToolbarBox\"},{\"attributes\":{\"axis_label\":\"Time (s)\",\"formatter\":{\"id\":\"90044ac1-2727-41fa-a583-a162edb86ee0\",\"type\":\"BasicTickFormatter\"},\"plot\":{\"id\":\"53dd0a7d-282f-49b7-aa51-2b67a6359bb4\",\"subtype\":\"Figure\",\"type\":\"Plot\"},\"ticker\":{\"id\":\"0213f92e-0660-47eb-864e-6956a0b98fb1\",\"type\":\"BasicTicker\"}},\"id\":\"43c7756d-dbbd-4e75-96ff-46fea0860eae\",\"type\":\"LinearAxis\"},{\"attributes\":{\"axis_label\":\"Memory (MB)\",\"formatter\":{\"id\":\"a50f4ae9-8437-48d8-94ed-ad37ac2e02ee\",\"type\":\"BasicTickFormatter\"},\"plot\":{\"id\":\"53dd0a7d-282f-49b7-aa51-2b67a6359bb4\",\"subtype\":\"Figure\",\"type\":\"Plot\"},\"ticker\":{\"id\":\"8adf82ec-31fc-4ef3-8318-8186ab3399d9\",\"type\":\"BasicTicker\"},\"y_range_name\":\"memory\"},\"id\":\"7db9955e-6577-4040-bb20-d5fe5ef396ed\",\"type\":\"LinearAxis\"},{\"attributes\":{\"data_source\":{\"id\":\"21c466d1-b186-4d9b-add8-9564c1d2db39\",\"type\":\"ColumnDataSource\"},\"glyph\":{\"id\":\"19dbbce7-cba1-4c35-9827-28ee4a6f7d64\",\"type\":\"Line\"},\"hover_glyph\":null,\"nonselection_glyph\":{\"id\":\"eded20ca-fd8e-486b-96a3-496dc798a7e2\",\"type\":\"Line\"},\"selection_glyph\":null},\"id\":\"0e4d6afd-d3db-4a2d-bbb9-186ac4cd962b\",\"type\":\"GlyphRenderer\"},{\"attributes\":{\"fill_color\":{\"field\":\"color\"},\"height\":{\"units\":\"data\",\"value\":1},\"line_color\":{\"value\":\"gray\"},\"width\":{\"field\":\"width\",\"units\":\"data\"},\"x\":{\"field\":\"x\"},\"y\":{\"field\":\"y\"}},\"id\":\"1558aabf-b3e6-49d9-8b04-bb9f5d13598e\",\"type\":\"Rect\"},{\"attributes\":{\"label\":{\"value\":\"Memory\"},\"renderers\":[{\"id\":\"79cd5704-e2db-40d0-b597-a6fd081c8a5e\",\"type\":\"GlyphRenderer\"}]},\"id\":\"299763f5-c3bf-44d7-b4ac-7c1b3823fb12\",\"type\":\"LegendItem\"}],\"root_ids\":[\"a8ed19a4-2a01-4391-b54a-addf40c61301\"]},\"title\":\"Bokeh Application\",\"version\":\"0.12.4\"}};\n",
       "            var render_items = [{\"docid\":\"b8d46c84-4323-40b3-821e-2372e43bbaf7\",\"elementid\":\"236f05b3-559a-402c-a668-3a1eea41520f\",\"modelid\":\"a8ed19a4-2a01-4391-b54a-addf40c61301\"}];\n",
       "            \n",
       "            Bokeh.embed.embed_items(docs_json, render_items);\n",
       "          };\n",
       "          if (document.readyState != \"loading\") fn();\n",
       "          else document.addEventListener(\"DOMContentLoaded\", fn);\n",
       "        })();\n",
       "      },\n",
       "      function(Bokeh) {\n",
       "      }\n",
       "    ];\n",
       "  \n",
       "    function run_inline_js() {\n",
       "      \n",
       "      if ((window.Bokeh !== undefined) || (force === true)) {\n",
       "        for (var i = 0; i < inline_js.length; i++) {\n",
       "          inline_js[i](window.Bokeh);\n",
       "        }if (force === true) {\n",
       "          display_loaded();\n",
       "        }} else if (Date.now() < window._bokeh_timeout) {\n",
       "        setTimeout(run_inline_js, 100);\n",
       "      } else if (!window._bokeh_failed_load) {\n",
       "        console.log(\"Bokeh: BokehJS failed to load within specified timeout.\");\n",
       "        window._bokeh_failed_load = true;\n",
       "      } else if (force !== true) {\n",
       "        var cell = $(document.getElementById(\"236f05b3-559a-402c-a668-3a1eea41520f\")).parents('.cell').data().cell;\n",
       "        cell.output_area.append_execute_result(NB_LOAD_WARNING)\n",
       "      }\n",
       "  \n",
       "    }\n",
       "  \n",
       "    if (window._bokeh_is_loading === 0) {\n",
       "      console.log(\"Bokeh: BokehJS loaded, going straight to plotting\");\n",
       "      run_inline_js();\n",
       "    } else {\n",
       "      load_libs(js_urls, function() {\n",
       "        console.log(\"Bokeh: BokehJS plotting callback run at\", now());\n",
       "        run_inline_js();\n",
       "      });\n",
       "    }\n",
       "  }(this));\n",
       "</script>"
      ]
     },
     "metadata": {},
     "output_type": "display_data"
    },
    {
     "name": "stdout",
     "output_type": "stream",
     "text": [
      "CPU times: user 2.81 s, sys: 1.18 s, total: 3.99 s\n",
      "Wall time: 4.75 s\n"
     ]
    }
   ],
   "source": [
    "%%time\n",
    "print(val_h5)\n",
    "do_job_for_split(val_pairs, tofile=val_h5)\n",
    "dg.visualize([pr, rpr])\n",
    "pr.clear()\n",
    "rpr.clear()"
   ]
  },
  {
   "cell_type": "code",
   "execution_count": 33,
   "metadata": {
    "ExecuteTime": {
     "end_time": "2017-08-11T17:21:28.897651",
     "start_time": "2017-08-11T17:21:25.098254"
    },
    "collapsed": false
   },
   "outputs": [
    {
     "name": "stdout",
     "output_type": "stream",
     "text": [
      "/nm-raid/audio/work/abdullah/nm-rennet/rennet-x/data/working/ka3/deutsch-00/wav-8k-mono/pickles/20170811-logmel64-win32ms-hop10ms/trn.h5\n",
      "[########################################] | 100% Completed |  2.6s\n"
     ]
    },
    {
     "data": {
      "text/html": [
       "\n",
       "\n",
       "    <div class=\"bk-root\">\n",
       "        <div class=\"bk-plotdiv\" id=\"dcdeff47-1536-4a58-b3cd-02acad073f02\"></div>\n",
       "    </div>\n",
       "<script type=\"text/javascript\">\n",
       "  \n",
       "  (function(global) {\n",
       "    function now() {\n",
       "      return new Date();\n",
       "    }\n",
       "  \n",
       "    var force = false;\n",
       "  \n",
       "    if (typeof (window._bokeh_onload_callbacks) === \"undefined\" || force === true) {\n",
       "      window._bokeh_onload_callbacks = [];\n",
       "      window._bokeh_is_loading = undefined;\n",
       "    }\n",
       "  \n",
       "  \n",
       "    \n",
       "    if (typeof (window._bokeh_timeout) === \"undefined\" || force === true) {\n",
       "      window._bokeh_timeout = Date.now() + 0;\n",
       "      window._bokeh_failed_load = false;\n",
       "    }\n",
       "  \n",
       "    var NB_LOAD_WARNING = {'data': {'text/html':\n",
       "       \"<div style='background-color: #fdd'>\\n\"+\n",
       "       \"<p>\\n\"+\n",
       "       \"BokehJS does not appear to have successfully loaded. If loading BokehJS from CDN, this \\n\"+\n",
       "       \"may be due to a slow or bad network connection. Possible fixes:\\n\"+\n",
       "       \"</p>\\n\"+\n",
       "       \"<ul>\\n\"+\n",
       "       \"<li>re-rerun `output_notebook()` to attempt to load from CDN again, or</li>\\n\"+\n",
       "       \"<li>use INLINE resources instead, as so:</li>\\n\"+\n",
       "       \"</ul>\\n\"+\n",
       "       \"<code>\\n\"+\n",
       "       \"from bokeh.resources import INLINE\\n\"+\n",
       "       \"output_notebook(resources=INLINE)\\n\"+\n",
       "       \"</code>\\n\"+\n",
       "       \"</div>\"}};\n",
       "  \n",
       "    function display_loaded() {\n",
       "      if (window.Bokeh !== undefined) {\n",
       "        document.getElementById(\"dcdeff47-1536-4a58-b3cd-02acad073f02\").textContent = \"BokehJS successfully loaded.\";\n",
       "      } else if (Date.now() < window._bokeh_timeout) {\n",
       "        setTimeout(display_loaded, 100)\n",
       "      }\n",
       "    }\n",
       "  \n",
       "    function run_callbacks() {\n",
       "      window._bokeh_onload_callbacks.forEach(function(callback) { callback() });\n",
       "      delete window._bokeh_onload_callbacks\n",
       "      console.info(\"Bokeh: all callbacks have finished\");\n",
       "    }\n",
       "  \n",
       "    function load_libs(js_urls, callback) {\n",
       "      window._bokeh_onload_callbacks.push(callback);\n",
       "      if (window._bokeh_is_loading > 0) {\n",
       "        console.log(\"Bokeh: BokehJS is being loaded, scheduling callback at\", now());\n",
       "        return null;\n",
       "      }\n",
       "      if (js_urls == null || js_urls.length === 0) {\n",
       "        run_callbacks();\n",
       "        return null;\n",
       "      }\n",
       "      console.log(\"Bokeh: BokehJS not loaded, scheduling load and callback at\", now());\n",
       "      window._bokeh_is_loading = js_urls.length;\n",
       "      for (var i = 0; i < js_urls.length; i++) {\n",
       "        var url = js_urls[i];\n",
       "        var s = document.createElement('script');\n",
       "        s.src = url;\n",
       "        s.async = false;\n",
       "        s.onreadystatechange = s.onload = function() {\n",
       "          window._bokeh_is_loading--;\n",
       "          if (window._bokeh_is_loading === 0) {\n",
       "            console.log(\"Bokeh: all BokehJS libraries loaded\");\n",
       "            run_callbacks()\n",
       "          }\n",
       "        };\n",
       "        s.onerror = function() {\n",
       "          console.warn(\"failed to load library \" + url);\n",
       "        };\n",
       "        console.log(\"Bokeh: injecting script tag for BokehJS library: \", url);\n",
       "        document.getElementsByTagName(\"head\")[0].appendChild(s);\n",
       "      }\n",
       "    };var element = document.getElementById(\"dcdeff47-1536-4a58-b3cd-02acad073f02\");\n",
       "    if (element == null) {\n",
       "      console.log(\"Bokeh: ERROR: autoload.js configured with elementid 'dcdeff47-1536-4a58-b3cd-02acad073f02' but no matching script tag was found. \")\n",
       "      return false;\n",
       "    }\n",
       "  \n",
       "    var js_urls = [];\n",
       "  \n",
       "    var inline_js = [\n",
       "      function(Bokeh) {\n",
       "        (function() {\n",
       "          var fn = function() {\n",
       "            var docs_json = {\"10377a53-41ca-4ad5-ad79-c8a55113c187\":{\"roots\":{\"references\":[{\"attributes\":{\"below\":[{\"id\":\"4f6823c9-e19b-4932-8a2d-64e69537f560\",\"type\":\"LinearAxis\"}],\"extra_y_ranges\":{\"memory\":{\"id\":\"e68313bf-bb56-47f3-974b-7f2c82076118\",\"type\":\"Range1d\"}},\"left\":[{\"id\":\"a0b9ad64-c7a6-4306-bacf-ba9d6192df1f\",\"type\":\"LinearAxis\"}],\"min_border_left\":75,\"min_border_right\":75,\"min_border_top\":20,\"plot_height\":270,\"plot_width\":800,\"renderers\":[{\"id\":\"4f6823c9-e19b-4932-8a2d-64e69537f560\",\"type\":\"LinearAxis\"},{\"id\":\"27a5a64e-2982-49a8-b292-d71bd676343a\",\"type\":\"Grid\"},{\"id\":\"a0b9ad64-c7a6-4306-bacf-ba9d6192df1f\",\"type\":\"LinearAxis\"},{\"id\":\"3da4d440-9e31-4582-8d88-20515a524ae7\",\"type\":\"Grid\"},{\"id\":\"74c5b811-791d-4916-a60a-6cd3c32b640d\",\"type\":\"Legend\"},{\"id\":\"12720e20-28a2-4fe0-bada-6d68c567ef13\",\"type\":\"GlyphRenderer\"},{\"id\":\"d3dfd699-0dc2-48d1-a0f7-0e1377f906f9\",\"type\":\"GlyphRenderer\"},{\"id\":\"7fa3d7b4-ab84-4cc7-a320-39e6eef4631f\",\"type\":\"LinearAxis\"}],\"right\":[{\"id\":\"7fa3d7b4-ab84-4cc7-a320-39e6eef4631f\",\"type\":\"LinearAxis\"}],\"title\":null,\"tool_events\":{\"id\":\"7d3508d4-4391-4261-bea1-8f3ca2494dec\",\"type\":\"ToolEvents\"},\"toolbar\":{\"id\":\"08072256-0c66-4c95-95a8-48ec4edfedae\",\"type\":\"Toolbar\"},\"toolbar_location\":null,\"x_range\":{\"id\":\"7bd3f072-5355-4824-9284-b763425dae2d\",\"type\":\"Range1d\"},\"y_range\":{\"id\":\"e7bf8c60-b7b1-412a-a1de-7f8026419d3b\",\"type\":\"Range1d\"}},\"id\":\"f1ee60bd-6c3c-413a-be82-f18d1039cf8a\",\"subtype\":\"Figure\",\"type\":\"Plot\"},{\"attributes\":{},\"id\":\"798d5cea-76cc-46e7-9ad5-25ee9d762439\",\"type\":\"ToolEvents\"},{\"attributes\":{\"callback\":null,\"plot\":{\"id\":\"2117df5f-9ade-4ad3-a3bc-b23a3ec3db78\",\"subtype\":\"Figure\",\"type\":\"Plot\"},\"point_policy\":\"follow_mouse\",\"tooltips\":\"\\n    <div>\\n        <span style=\\\"font-size: 14px; font-weight: bold;\\\">Key:</span>&nbsp;\\n        <span style=\\\"font-size: 10px; font-family: Monaco, monospace;\\\">@key</span>\\n    </div>\\n    <div>\\n        <span style=\\\"font-size: 14px; font-weight: bold;\\\">Task:</span>&nbsp;\\n        <span style=\\\"font-size: 10px; font-family: Monaco, monospace;\\\">@function</span>\\n    </div>\\n    \"},\"id\":\"326ce603-53c5-4b08-bddc-8eb5e0b145bf\",\"type\":\"HoverTool\"},{\"attributes\":{\"children\":[{\"id\":\"2f42c2f4-4bbb-4d8c-a03b-eccdba8ea448\",\"type\":\"ToolbarBox\"},{\"id\":\"35f3b867-4cdb-4886-b121-a4c541cf266e\",\"type\":\"Column\"}]},\"id\":\"08a97423-c22c-4323-83f5-773a5b31732f\",\"type\":\"Column\"},{\"attributes\":{\"callback\":null,\"end\":2.613914905814454},\"id\":\"7bd3f072-5355-4824-9284-b763425dae2d\",\"type\":\"Range1d\"},{\"attributes\":{\"grid_line_color\":{\"value\":null},\"plot\":{\"id\":\"2117df5f-9ade-4ad3-a3bc-b23a3ec3db78\",\"subtype\":\"Figure\",\"type\":\"Plot\"},\"ticker\":{\"id\":\"ec440b3e-6591-4335-a9ed-ddb92b0e2011\",\"type\":\"BasicTicker\"}},\"id\":\"81fb0cb4-8025-4e47-9c94-ebfaee110688\",\"type\":\"Grid\"},{\"attributes\":{\"callback\":null,\"end\":739.0},\"id\":\"e7bf8c60-b7b1-412a-a1de-7f8026419d3b\",\"type\":\"Range1d\"},{\"attributes\":{\"plot\":{\"id\":\"f1ee60bd-6c3c-413a-be82-f18d1039cf8a\",\"subtype\":\"Figure\",\"type\":\"Plot\"}},\"id\":\"8381eb13-cdad-4ec2-af24-ba73aeebc420\",\"type\":\"ResizeTool\"},{\"attributes\":{},\"id\":\"7c516adf-b0e9-468a-81a7-a5e73f457e62\",\"type\":\"BasicTicker\"},{\"attributes\":{\"data_source\":{\"id\":\"d28b1784-73c1-4a0a-b601-2bb272343fe9\",\"type\":\"ColumnDataSource\"},\"glyph\":{\"id\":\"c5f93349-1b44-4888-8380-a69a3e553afa\",\"type\":\"Line\"},\"hover_glyph\":null,\"nonselection_glyph\":{\"id\":\"ec8a6b74-52ef-4d9b-9df8-9fda6ea8f536\",\"type\":\"Line\"},\"selection_glyph\":null},\"id\":\"12720e20-28a2-4fe0-bada-6d68c567ef13\",\"type\":\"GlyphRenderer\"},{\"attributes\":{\"children\":[{\"id\":\"f1ee60bd-6c3c-413a-be82-f18d1039cf8a\",\"subtype\":\"Figure\",\"type\":\"Plot\"}]},\"id\":\"8088b8cb-3a42-485c-b2b5-876cf60d39f1\",\"type\":\"Row\"},{\"attributes\":{\"sizing_mode\":\"scale_width\",\"toolbar_location\":\"above\",\"tools\":[{\"id\":\"326ce603-53c5-4b08-bddc-8eb5e0b145bf\",\"type\":\"HoverTool\"},{\"id\":\"eb87458f-f161-48a9-b0db-e5f2b92ee72f\",\"type\":\"SaveTool\"},{\"id\":\"e8803c54-3a58-47ce-91bb-abcfb2a41e6b\",\"type\":\"ResetTool\"},{\"id\":\"0bd92f81-d26d-4b63-8059-4813f7973108\",\"type\":\"ResizeTool\"},{\"id\":\"417bbb99-02c8-4f75-9dcb-9ecd0a4a2787\",\"type\":\"WheelZoomTool\"},{\"id\":\"05f43f27-3e4c-47cd-9afc-2f7def43aa6b\",\"type\":\"PanTool\"},{\"id\":\"5eda138a-1405-4a80-a8ff-87293ff0af04\",\"type\":\"SaveTool\"},{\"id\":\"65fc74f8-2f1f-4a2e-ba90-4292c699071f\",\"type\":\"ResetTool\"},{\"id\":\"8381eb13-cdad-4ec2-af24-ba73aeebc420\",\"type\":\"ResizeTool\"},{\"id\":\"c3ad261a-c769-497f-b3b0-947b7d03a023\",\"type\":\"WheelZoomTool\"},{\"id\":\"a9ce13fb-dd0b-4956-a778-bb6cbde2076d\",\"type\":\"PanTool\"}]},\"id\":\"2f42c2f4-4bbb-4d8c-a03b-eccdba8ea448\",\"type\":\"ToolbarBox\"},{\"attributes\":{\"active_drag\":\"auto\",\"active_scroll\":\"auto\",\"active_tap\":\"auto\",\"tools\":[{\"id\":\"326ce603-53c5-4b08-bddc-8eb5e0b145bf\",\"type\":\"HoverTool\"},{\"id\":\"eb87458f-f161-48a9-b0db-e5f2b92ee72f\",\"type\":\"SaveTool\"},{\"id\":\"e8803c54-3a58-47ce-91bb-abcfb2a41e6b\",\"type\":\"ResetTool\"},{\"id\":\"0bd92f81-d26d-4b63-8059-4813f7973108\",\"type\":\"ResizeTool\"},{\"id\":\"417bbb99-02c8-4f75-9dcb-9ecd0a4a2787\",\"type\":\"WheelZoomTool\"},{\"id\":\"05f43f27-3e4c-47cd-9afc-2f7def43aa6b\",\"type\":\"PanTool\"}]},\"id\":\"ab91b809-6359-42e9-8cb1-7856fdc7fa4b\",\"type\":\"Toolbar\"},{\"attributes\":{},\"id\":\"c39bb165-0836-44d8-a0a5-e8d87175eae5\",\"type\":\"BasicTickFormatter\"},{\"attributes\":{\"label\":{\"value\":\"Memory\"},\"renderers\":[{\"id\":\"d3dfd699-0dc2-48d1-a0f7-0e1377f906f9\",\"type\":\"GlyphRenderer\"}]},\"id\":\"75b79ef0-c381-43d7-a0af-2354750a549e\",\"type\":\"LegendItem\"},{\"attributes\":{\"data_source\":{\"id\":\"83f623ae-f68b-485f-af1e-78aaee0a1d70\",\"type\":\"ColumnDataSource\"},\"glyph\":{\"id\":\"43d25c36-70d2-478d-83e8-442e1c9257b3\",\"type\":\"Rect\"},\"hover_glyph\":null,\"nonselection_glyph\":{\"id\":\"846913ba-62ae-4186-8722-65bcd51865df\",\"type\":\"Rect\"},\"selection_glyph\":null},\"id\":\"98637004-99ea-467e-82e7-260ccf60dbb7\",\"type\":\"GlyphRenderer\"},{\"attributes\":{\"dimensions\":\"width\",\"plot\":{\"id\":\"2117df5f-9ade-4ad3-a3bc-b23a3ec3db78\",\"subtype\":\"Figure\",\"type\":\"Plot\"}},\"id\":\"05f43f27-3e4c-47cd-9afc-2f7def43aa6b\",\"type\":\"PanTool\"},{\"attributes\":{\"callback\":null,\"column_names\":[\"x\",\"y\"],\"data\":{\"x\":[0.0,0.10031592287123203,0.20067490497604012,0.30109791993163526,0.40165988984517753,0.5021195418667048,0.6029208288528025,0.7041298288386315,0.8047679178416729,0.9053613960277289,1.0061438148841262,1.106756997993216,1.2077992199920118,1.309014598838985,1.4094975909683853,1.5099904870148748,1.6103415549732745,1.7107445278670639,1.8113383289892226,1.9118805539328605,2.012686762958765,2.1133582978509367,2.21415747795254,2.319915293948725,2.4204334628302604,2.5209360998123884],\"y\":[9.6,129.5,139.5,169.2,278.6,308.6,296.0,327.59999999999997,576.5,516.4,674.8,666.6,699.3,675.0,218.9,119.5,129.6,567.2,278.4,436.6,715.4,546.0,525.4,739.0,636.6,119.5]}},\"id\":\"d28b1784-73c1-4a0a-b601-2bb272343fe9\",\"type\":\"ColumnDataSource\"},{\"attributes\":{\"plot\":{\"id\":\"2117df5f-9ade-4ad3-a3bc-b23a3ec3db78\",\"subtype\":\"Figure\",\"type\":\"Plot\"}},\"id\":\"0bd92f81-d26d-4b63-8059-4813f7973108\",\"type\":\"ResizeTool\"},{\"attributes\":{\"dimension\":1,\"grid_line_color\":{\"value\":null},\"plot\":{\"id\":\"2117df5f-9ade-4ad3-a3bc-b23a3ec3db78\",\"subtype\":\"Figure\",\"type\":\"Plot\"},\"ticker\":{\"id\":\"65f00e28-ffc9-42e5-af0e-121930835f5d\",\"type\":\"CategoricalTicker\"}},\"id\":\"0b284fa5-77b2-4bf7-a5ab-02f46566eb83\",\"type\":\"Grid\"},{\"attributes\":{\"children\":[{\"id\":\"2117df5f-9ade-4ad3-a3bc-b23a3ec3db78\",\"subtype\":\"Figure\",\"type\":\"Plot\"}]},\"id\":\"6a888c07-0eb5-4235-9770-45bc6f363dda\",\"type\":\"Row\"},{\"attributes\":{\"axis_label\":\"Memory (MB)\",\"formatter\":{\"id\":\"0a609838-b4cc-44bd-a40e-85d2f9df39cc\",\"type\":\"BasicTickFormatter\"},\"plot\":{\"id\":\"f1ee60bd-6c3c-413a-be82-f18d1039cf8a\",\"subtype\":\"Figure\",\"type\":\"Plot\"},\"ticker\":{\"id\":\"79d5e36b-f7db-41a7-8245-fcc7afec9ce1\",\"type\":\"BasicTicker\"},\"y_range_name\":\"memory\"},\"id\":\"7fa3d7b4-ab84-4cc7-a320-39e6eef4631f\",\"type\":\"LinearAxis\"},{\"attributes\":{},\"id\":\"52dc2309-6684-4402-8fb2-3335a8364da8\",\"type\":\"BasicTicker\"},{\"attributes\":{},\"id\":\"62ed143b-a649-425b-b03c-716056f3709e\",\"type\":\"CategoricalTickFormatter\"},{\"attributes\":{},\"id\":\"79d5e36b-f7db-41a7-8245-fcc7afec9ce1\",\"type\":\"BasicTicker\"},{\"attributes\":{\"axis_label\":\"% CPU\",\"formatter\":{\"id\":\"0b17c090-c59a-4565-a170-15fb7f2e4512\",\"type\":\"BasicTickFormatter\"},\"plot\":{\"id\":\"f1ee60bd-6c3c-413a-be82-f18d1039cf8a\",\"subtype\":\"Figure\",\"type\":\"Plot\"},\"ticker\":{\"id\":\"52dc2309-6684-4402-8fb2-3335a8364da8\",\"type\":\"BasicTicker\"}},\"id\":\"a0b9ad64-c7a6-4306-bacf-ba9d6192df1f\",\"type\":\"LinearAxis\"},{\"attributes\":{\"fill_color\":{\"field\":\"color\"},\"height\":{\"units\":\"data\",\"value\":1},\"line_color\":{\"value\":\"gray\"},\"width\":{\"field\":\"width\",\"units\":\"data\"},\"x\":{\"field\":\"x\"},\"y\":{\"field\":\"y\"}},\"id\":\"43d25c36-70d2-478d-83e8-442e1c9257b3\",\"type\":\"Rect\"},{\"attributes\":{\"items\":[{\"id\":\"5ae39603-f842-447d-b85a-d4896a2d479c\",\"type\":\"LegendItem\"},{\"id\":\"75b79ef0-c381-43d7-a0af-2354750a549e\",\"type\":\"LegendItem\"}],\"plot\":{\"id\":\"f1ee60bd-6c3c-413a-be82-f18d1039cf8a\",\"subtype\":\"Figure\",\"type\":\"Plot\"}},\"id\":\"74c5b811-791d-4916-a60a-6cd3c32b640d\",\"type\":\"Legend\"},{\"attributes\":{\"active_drag\":\"auto\",\"active_scroll\":\"auto\",\"active_tap\":\"auto\",\"tools\":[{\"id\":\"5eda138a-1405-4a80-a8ff-87293ff0af04\",\"type\":\"SaveTool\"},{\"id\":\"65fc74f8-2f1f-4a2e-ba90-4292c699071f\",\"type\":\"ResetTool\"},{\"id\":\"8381eb13-cdad-4ec2-af24-ba73aeebc420\",\"type\":\"ResizeTool\"},{\"id\":\"c3ad261a-c769-497f-b3b0-947b7d03a023\",\"type\":\"WheelZoomTool\"},{\"id\":\"a9ce13fb-dd0b-4956-a778-bb6cbde2076d\",\"type\":\"PanTool\"}]},\"id\":\"08072256-0c66-4c95-95a8-48ec4edfedae\",\"type\":\"Toolbar\"},{\"attributes\":{\"line_alpha\":{\"value\":0.1},\"line_color\":{\"value\":\"#1f77b4\"},\"line_width\":{\"value\":4},\"x\":{\"field\":\"x\"},\"y\":{\"field\":\"y\"}},\"id\":\"136af691-124a-4669-a0a1-905703c7e443\",\"type\":\"Line\"},{\"attributes\":{\"fill_alpha\":{\"value\":0.1},\"fill_color\":{\"value\":\"#1f77b4\"},\"height\":{\"units\":\"data\",\"value\":1},\"line_alpha\":{\"value\":0.1},\"line_color\":{\"value\":\"#1f77b4\"},\"width\":{\"field\":\"width\",\"units\":\"data\"},\"x\":{\"field\":\"x\"},\"y\":{\"field\":\"y\"}},\"id\":\"846913ba-62ae-4186-8722-65bcd51865df\",\"type\":\"Rect\"},{\"attributes\":{\"plot\":null,\"text\":\"Profile Results\"},\"id\":\"d40686b2-58ef-4702-944e-92a3a0b51bbb\",\"type\":\"Title\"},{\"attributes\":{\"dimension\":1,\"plot\":{\"id\":\"f1ee60bd-6c3c-413a-be82-f18d1039cf8a\",\"subtype\":\"Figure\",\"type\":\"Plot\"},\"ticker\":{\"id\":\"52dc2309-6684-4402-8fb2-3335a8364da8\",\"type\":\"BasicTicker\"}},\"id\":\"3da4d440-9e31-4582-8d88-20515a524ae7\",\"type\":\"Grid\"},{\"attributes\":{\"plot\":{\"id\":\"f1ee60bd-6c3c-413a-be82-f18d1039cf8a\",\"subtype\":\"Figure\",\"type\":\"Plot\"}},\"id\":\"5eda138a-1405-4a80-a8ff-87293ff0af04\",\"type\":\"SaveTool\"},{\"attributes\":{},\"id\":\"0b17c090-c59a-4565-a170-15fb7f2e4512\",\"type\":\"BasicTickFormatter\"},{\"attributes\":{\"children\":[{\"id\":\"6a888c07-0eb5-4235-9770-45bc6f363dda\",\"type\":\"Row\"},{\"id\":\"8088b8cb-3a42-485c-b2b5-876cf60d39f1\",\"type\":\"Row\"}]},\"id\":\"35f3b867-4cdb-4886-b121-a4c541cf266e\",\"type\":\"Column\"},{\"attributes\":{\"data_source\":{\"id\":\"ba4f8fa8-484e-4dd4-af73-b6f495d4fac7\",\"type\":\"ColumnDataSource\"},\"glyph\":{\"id\":\"a81579a7-ed07-41e6-996f-33983f5b2758\",\"type\":\"Line\"},\"hover_glyph\":null,\"nonselection_glyph\":{\"id\":\"136af691-124a-4669-a0a1-905703c7e443\",\"type\":\"Line\"},\"selection_glyph\":null,\"y_range_name\":\"memory\"},\"id\":\"d3dfd699-0dc2-48d1-a0f7-0e1377f906f9\",\"type\":\"GlyphRenderer\"},{\"attributes\":{\"axis_label\":null,\"axis_line_color\":{\"value\":null},\"formatter\":{\"id\":\"c39bb165-0836-44d8-a0a5-e8d87175eae5\",\"type\":\"BasicTickFormatter\"},\"major_tick_line_color\":{\"value\":null},\"plot\":{\"id\":\"2117df5f-9ade-4ad3-a3bc-b23a3ec3db78\",\"subtype\":\"Figure\",\"type\":\"Plot\"},\"ticker\":{\"id\":\"ec440b3e-6591-4335-a9ed-ddb92b0e2011\",\"type\":\"BasicTicker\"}},\"id\":\"a2eca11a-17ce-458d-9e70-9b1d3243da00\",\"type\":\"LinearAxis\"},{\"attributes\":{\"line_alpha\":{\"value\":0.1},\"line_color\":{\"value\":\"#1f77b4\"},\"line_width\":{\"value\":4},\"x\":{\"field\":\"x\"},\"y\":{\"field\":\"y\"}},\"id\":\"ec8a6b74-52ef-4d9b-9df8-9fda6ea8f536\",\"type\":\"Line\"},{\"attributes\":{\"below\":[{\"id\":\"a2eca11a-17ce-458d-9e70-9b1d3243da00\",\"type\":\"LinearAxis\"}],\"left\":[{\"id\":\"3f05cf49-e997-4b30-aea4-41da0e156d4d\",\"type\":\"CategoricalAxis\"}],\"min_border_bottom\":20,\"min_border_left\":75,\"min_border_right\":75,\"plot_height\":270,\"plot_width\":800,\"renderers\":[{\"id\":\"a2eca11a-17ce-458d-9e70-9b1d3243da00\",\"type\":\"LinearAxis\"},{\"id\":\"81fb0cb4-8025-4e47-9c94-ebfaee110688\",\"type\":\"Grid\"},{\"id\":\"3f05cf49-e997-4b30-aea4-41da0e156d4d\",\"type\":\"CategoricalAxis\"},{\"id\":\"0b284fa5-77b2-4bf7-a5ab-02f46566eb83\",\"type\":\"Grid\"},{\"id\":\"98637004-99ea-467e-82e7-260ccf60dbb7\",\"type\":\"GlyphRenderer\"}],\"title\":{\"id\":\"d40686b2-58ef-4702-944e-92a3a0b51bbb\",\"type\":\"Title\"},\"tool_events\":{\"id\":\"798d5cea-76cc-46e7-9ad5-25ee9d762439\",\"type\":\"ToolEvents\"},\"toolbar\":{\"id\":\"ab91b809-6359-42e9-8cb1-7856fdc7fa4b\",\"type\":\"Toolbar\"},\"toolbar_location\":null,\"x_range\":{\"id\":\"7bd3f072-5355-4824-9284-b763425dae2d\",\"type\":\"Range1d\"},\"y_range\":{\"id\":\"afd2dc86-ba1c-47d1-bd0e-d67ff88b721f\",\"type\":\"FactorRange\"}},\"id\":\"2117df5f-9ade-4ad3-a3bc-b23a3ec3db78\",\"subtype\":\"Figure\",\"type\":\"Plot\"},{\"attributes\":{},\"id\":\"65f00e28-ffc9-42e5-af0e-121930835f5d\",\"type\":\"CategoricalTicker\"},{\"attributes\":{},\"id\":\"ec440b3e-6591-4335-a9ed-ddb92b0e2011\",\"type\":\"BasicTicker\"},{\"attributes\":{\"plot\":{\"id\":\"f1ee60bd-6c3c-413a-be82-f18d1039cf8a\",\"subtype\":\"Figure\",\"type\":\"Plot\"},\"ticker\":{\"id\":\"7c516adf-b0e9-468a-81a7-a5e73f457e62\",\"type\":\"BasicTicker\"}},\"id\":\"27a5a64e-2982-49a8-b292-d71bd676343a\",\"type\":\"Grid\"},{\"attributes\":{\"callback\":null,\"column_names\":[\"x\",\"y\",\"function\",\"width\",\"key\",\"color\"],\"data\":{\"color\":[\"#440154\",\"#30678D\",\"#30678D\",\"#FDE724\",\"#30678D\",\"#440154\",\"#30678D\",\"#35B778\",\"#30678D\",\"#440154\",\"#30678D\",\"#440154\",\"#30678D\",\"#440154\",\"#440154\",\"#FDE724\",\"#FDE724\",\"#30678D\",\"#440154\",\"#30678D\",\"#35B778\",\"#440154\",\"#30678D\",\"#440154\",\"#30678D\",\"#30678D\",\"#440154\",\"#440154\",\"#440154\",\"#440154\",\"#440154\",\"#440154\",\"#440154\",\"#440154\",\"#440154\",\"#35B778\",\"#440154\",\"#440154\",\"#440154\",\"#440154\",\"#30678D\",\"#35B778\",\"#30678D\",\"#440154\",\"#30678D\",\"#440154\",\"#30678D\",\"#30678D\",\"#35B778\",\"#30678D\",\"#440154\",\"#30678D\",\"#30678D\",\"#440154\",\"#30678D\",\"#35B778\",\"#30678D\",\"#30678D\",\"#30678D\",\"#35B778\",\"#440154\",\"#30678D\",\"#30678D\",\"#30678D\",\"#30678D\",\"#30678D\",\"#440154\",\"#440154\",\"#30678D\",\"#440154\",\"#30678D\",\"#FDE724\",\"#440154\",\"#30678D\",\"#440154\",\"#440154\",\"#440154\",\"#30678D\",\"#440154\",\"#440154\",\"#30678D\",\"#440154\",\"#30678D\",\"#35B778\",\"#30678D\",\"#440154\",\"#440154\",\"#30678D\",\"#440154\",\"#440154\",\"#440154\",\"#30678D\",\"#30678D\",\"#440154\",\"#30678D\",\"#30678D\",\"#440154\",\"#FDE724\",\"#440154\",\"#30678D\",\"#30678D\",\"#30678D\",\"#30678D\",\"#440154\",\"#30678D\",\"#30678D\",\"#440154\",\"#30678D\",\"#440154\",\"#440154\",\"#440154\",\"#30678D\",\"#30678D\",\"#440154\",\"#440154\",\"#440154\",\"#440154\",\"#FDE724\",\"#FDE724\",\"#440154\",\"#30678D\",\"#FDE724\",\"#30678D\",\"#440154\",\"#30678D\",\"#30678D\",\"#30678D\",\"#440154\",\"#30678D\",\"#30678D\",\"#440154\",\"#30678D\"],\"function\":[\"_\",\"store(getitem(...), *, *, *)\",\"store(getitem(...), *, *, *)\",\"strided_feat(readlabelsdata(*))\",\"store(getitem(...), *, *, *)\",\"_\",\"store(getitem(...), *, *, *)\",\"strided_feat(extractfeat(readaudiodata(*)))\",\"store(getitem(...), *, *, *)\",\"_\",\"store(getitem(...), *, *, *)\",\"_\",\"store(getitem(...), *, *, *)\",\"_\",\"_\",\"strided_feat(readlabelsdata(*))\",\"strided_feat(readlabelsdata(*))\",\"store(getitem(...), *, *, *)\",\"_\",\"store(getitem(...), *, *, *)\",\"strided_feat(extractfeat(readaudiodata(*)))\",\"_\",\"store(getitem(...), *, *, *)\",\"_\",\"store(getitem(...), *, *, *)\",\"store(getitem(...), *, *, *)\",\"_\",\"_\",\"_\",\"_\",\"_\",\"_\",\"_\",\"_\",\"_\",\"strided_feat(extractfeat(readaudiodata(*)))\",\"_\",\"_\",\"_\",\"_\",\"store(getitem(...), *, *, *)\",\"strided_feat(extractfeat(readaudiodata(*)))\",\"store(getitem(...), *, *, *)\",\"_\",\"store(getitem(...), *, *, *)\",\"_\",\"store(getitem(...), *, *, *)\",\"store(getitem(...), *, *, *)\",\"strided_feat(extractfeat(readaudiodata(*)))\",\"store(getitem(...), *, *, *)\",\"_\",\"store(getitem(...), *, *, *)\",\"store(getitem(...), *, *, *)\",\"_\",\"store(getitem(...), *, *, *)\",\"strided_feat(extractfeat(readaudiodata(*)))\",\"store(getitem(...), *, *, *)\",\"store(getitem(...), *, *, *)\",\"store(getitem(...), *, *, *)\",\"strided_feat(extractfeat(readaudiodata(*)))\",\"_\",\"store(getitem(...), *, *, *)\",\"store(getitem(...), *, *, *)\",\"store(getitem(...), *, *, *)\",\"store(getitem(...), *, *, *)\",\"store(getitem(...), *, *, *)\",\"_\",\"_\",\"store(getitem(...), *, *, *)\",\"_\",\"store(getitem(...), *, *, *)\",\"strided_feat(readlabelsdata(*))\",\"_\",\"store(getitem(...), *, *, *)\",\"_\",\"_\",\"_\",\"store(getitem(...), *, *, *)\",\"_\",\"_\",\"store(getitem(...), *, *, *)\",\"_\",\"store(getitem(...), *, *, *)\",\"strided_feat(extractfeat(readaudiodata(*)))\",\"store(getitem(...), *, *, *)\",\"_\",\"_\",\"store(getitem(...), *, *, *)\",\"_\",\"_\",\"_\",\"store(getitem(...), *, *, *)\",\"store(getitem(...), *, *, *)\",\"_\",\"store(getitem(...), *, *, *)\",\"store(getitem(...), *, *, *)\",\"_\",\"strided_feat(readlabelsdata(*))\",\"_\",\"store(getitem(...), *, *, *)\",\"store(getitem(...), *, *, *)\",\"store(getitem(...), *, *, *)\",\"store(getitem(...), *, *, *)\",\"_\",\"store(getitem(...), *, *, *)\",\"store(getitem(...), *, *, *)\",\"_\",\"store(getitem(...), *, *, *)\",\"_\",\"_\",\"_\",\"store(getitem(...), *, *, *)\",\"store(getitem(...), *, *, *)\",\"_\",\"_\",\"_\",\"_\",\"strided_feat(readlabelsdata(*))\",\"strided_feat(readlabelsdata(*))\",\"_\",\"store(getitem(...), *, *, *)\",\"strided_feat(readlabelsdata(*))\",\"store(getitem(...), *, *, *)\",\"_\",\"store(getitem(...), *, *, *)\",\"store(getitem(...), *, *, *)\",\"store(getitem(...), *, *, *)\",\"_\",\"store(getitem(...), *, *, *)\",\"store(getitem(...), *, *, *)\",\"_\",\"store(getitem(...), *, *, *)\"],\"key\":[\"('store-concatenate-f4037472f4c97b33449f56f6e73a2fc9', 0, 0)\",\"('concatenate-getitem-store-concatenate-fd92f5d2a4efe1ac7ad8a2b2a13f18db', 0, 0)\",\"('concatenate-getitem-store-concatenate-1644bbe516388ee604943138c63433c1', 1, 0)\",\"('readlabelsdata-strided_feat-from-value-bc4c3f1c6b60023072d4fc1e2844425c', 0, 0, 0)\",\"('concatenate-getitem-store-concatenate-58d7028371fd05db5d473d06504d2a9d', 0, 0)\",\"('store-concatenate-2c82b1bd19048d702486ef829e534c56', 0, 0)\",\"('concatenate-from-value-getitem-readlabelsdata-strided_feat-store-concatenate-2014dbefdd62e77ebf0f95476ef443f4', 0, 0)\",\"('extractfeat-readaudiodata-strided_feat-from-value-a1238219b9f8eeb8cf868bf60b62a187', 0, 0, 0)\",\"('concatenate-getitem-store-concatenate-29d323009be856f9e6d6b23a169d495f', 0, 0)\",\"('store-concatenate-364d05dc1b5c497f853575e28e0d6797', 0, 0)\",\"('concatenate-getitem-store-concatenate-3eb35d2e2ad3d0a272df68273c642171', 1, 0)\",\"('store-concatenate-b0e0844209b20a1d820d4265d04f97ec', 1, 0)\",\"('concatenate-extractfeat-from-value-getitem-readaudiodata-strided_feat-store-concatenate-bdb5a3c7153b62df01b218e33b257e05', 0, 0)\",\"('store-concatenate-10d8e4d0dacd2c18b4a407d5b84993a2', 1, 0)\",\"('store-concatenate-1644bbe516388ee604943138c63433c1', 0, 0)\",\"('readlabelsdata-strided_feat-from-value-e71dd93c9e82bc38ffb5c3f852205764', 0, 0, 0)\",\"('readlabelsdata-strided_feat-from-value-b210386623532f04a64b1779db6dd98b', 0, 0, 0)\",\"('concatenate-getitem-store-concatenate-1644bbe516388ee604943138c63433c1', 2, 0)\",\"('store-concatenate-56d65bb3714cc8e062e96f0b57f178d2', 0, 0)\",\"('concatenate-getitem-store-concatenate-32b0733587d93d44e8f8cd6bb356a710', 0, 0)\",\"('extractfeat-readaudiodata-strided_feat-from-value-5294e8e2867a8d112e3250a1e82cd816', 0, 0, 0)\",\"('store-concatenate-b0e0844209b20a1d820d4265d04f97ec', 2, 0)\",\"('concatenate-getitem-store-concatenate-5d720c5f30f7cc61fb527cde4ad831f4', 1, 0)\",\"('store-concatenate-36863006b7a7d6bb18d1268a73639160', 1, 0)\",\"('concatenate-from-value-getitem-readlabelsdata-strided_feat-store-concatenate-12de7344a86abd8fe32fa70484876499', 0, 0)\",\"('concatenate-getitem-store-concatenate-7cc148c470d104169f3d40550e8aa0c6', 1, 0)\",\"('store-concatenate-bdb5a3c7153b62df01b218e33b257e05', 0, 0)\",\"('store-concatenate-fd92f5d2a4efe1ac7ad8a2b2a13f18db', 0, 0)\",\"('store-concatenate-b16a434c9a6b0d97170bc60094ff7b08', 1, 0)\",\"('store-concatenate-3eb35d2e2ad3d0a272df68273c642171', 1, 0)\",\"('store-concatenate-3eb35d2e2ad3d0a272df68273c642171', 3, 0)\",\"('store-concatenate-29d323009be856f9e6d6b23a169d495f', 1, 0)\",\"('store-concatenate-b16a434c9a6b0d97170bc60094ff7b08', 2, 0)\",\"('store-concatenate-c372d226ed73c53adaf06dee5fcdef51', 0, 0)\",\"('store-concatenate-3eb35d2e2ad3d0a272df68273c642171', 4, 0)\",\"('extractfeat-readaudiodata-strided_feat-from-value-ce58f24076b403dfd107944fe84bf45a', 0, 0, 0)\",\"('store-concatenate-3eb35d2e2ad3d0a272df68273c642171', 5, 0)\",\"('store-concatenate-7cc148c470d104169f3d40550e8aa0c6', 0, 0)\",\"('store-concatenate-58d7028371fd05db5d473d06504d2a9d', 1, 0)\",\"('store-concatenate-a2513a946c430794f0a60c0d78f5a8a1', 0, 0)\",\"('concatenate-getitem-store-concatenate-3eb35d2e2ad3d0a272df68273c642171', 4, 0)\",\"('extractfeat-readaudiodata-strided_feat-from-value-20a73a633467c4dd04ae63d2c3e5ce75', 0, 0, 0)\",\"('concatenate-extractfeat-from-value-getitem-readaudiodata-strided_feat-store-concatenate-f2e844553196be834b9bd54ab2894594', 0, 0)\",\"('store-concatenate-f56ebeee019b937bfd6d874d6e2c6d9a', 0, 0)\",\"('concatenate-extractfeat-from-value-getitem-readaudiodata-strided_feat-store-concatenate-f4037472f4c97b33449f56f6e73a2fc9', 0, 0)\",\"('store-concatenate-4b1a53cc8747cdaaae607dba4b4ea938', 0, 0)\",\"('concatenate-getitem-store-concatenate-3eb35d2e2ad3d0a272df68273c642171', 3, 0)\",\"('concatenate-getitem-store-concatenate-58d7028371fd05db5d473d06504d2a9d', 1, 0)\",\"('extractfeat-readaudiodata-strided_feat-from-value-a5f474e0e5dd52758c6d00e0904ee0ee', 0, 0, 0)\",\"('concatenate-getitem-store-concatenate-29d323009be856f9e6d6b23a169d495f', 1, 0)\",\"('store-concatenate-1644bbe516388ee604943138c63433c1', 2, 0)\",\"('concatenate-getitem-store-concatenate-56d65bb3714cc8e062e96f0b57f178d2', 0, 0)\",\"('concatenate-getitem-store-concatenate-36863006b7a7d6bb18d1268a73639160', 2, 0)\",\"('store-concatenate-a2513a946c430794f0a60c0d78f5a8a1', 1, 0)\",\"('concatenate-getitem-store-concatenate-fd92f5d2a4efe1ac7ad8a2b2a13f18db', 1, 0)\",\"('extractfeat-readaudiodata-strided_feat-from-value-f2e535b9f1e0630c9ec7310cd405ef1c', 0, 0, 0)\",\"('concatenate-getitem-store-concatenate-899b68194fe0e3897180f53c992512f4', 1, 0)\",\"('concatenate-getitem-store-concatenate-36863006b7a7d6bb18d1268a73639160', 1, 0)\",\"('concatenate-getitem-store-concatenate-a2513a946c430794f0a60c0d78f5a8a1', 0, 0)\",\"('extractfeat-readaudiodata-strided_feat-from-value-cfb7999a13791168865cdd691aa471e5', 0, 0, 0)\",\"('store-concatenate-32b0733587d93d44e8f8cd6bb356a710', 1, 0)\",\"('concatenate-getitem-store-concatenate-32b0733587d93d44e8f8cd6bb356a710', 1, 0)\",\"('concatenate-getitem-store-concatenate-10d8e4d0dacd2c18b4a407d5b84993a2', 0, 0)\",\"('concatenate-extractfeat-from-value-getitem-readaudiodata-strided_feat-store-concatenate-babfc6ff385f8469d85178bd47411f63', 0, 0)\",\"('concatenate-getitem-store-concatenate-b0e0844209b20a1d820d4265d04f97ec', 0, 0)\",\"('concatenate-getitem-store-concatenate-36863006b7a7d6bb18d1268a73639160', 4, 0)\",\"('store-concatenate-fd92f5d2a4efe1ac7ad8a2b2a13f18db', 2, 0)\",\"('store-concatenate-5d720c5f30f7cc61fb527cde4ad831f4', 0, 0)\",\"('concatenate-getitem-store-concatenate-5d720c5f30f7cc61fb527cde4ad831f4', 0, 0)\",\"('store-concatenate-899b68194fe0e3897180f53c992512f4', 0, 0)\",\"('concatenate-getitem-store-concatenate-7cc148c470d104169f3d40550e8aa0c6', 0, 0)\",\"('readlabelsdata-strided_feat-from-value-a7999aa2ae68a9ba213cba83c6ad3742', 0, 0, 0)\",\"('store-concatenate-b16a434c9a6b0d97170bc60094ff7b08', 0, 0)\",\"('concatenate-from-value-getitem-readlabelsdata-strided_feat-store-concatenate-2c82b1bd19048d702486ef829e534c56', 0, 0)\",\"('store-concatenate-12de7344a86abd8fe32fa70484876499', 0, 0)\",\"('store-concatenate-3eb35d2e2ad3d0a272df68273c642171', 2, 0)\",\"('store-concatenate-2014dbefdd62e77ebf0f95476ef443f4', 0, 0)\",\"('concatenate-getitem-store-concatenate-364d05dc1b5c497f853575e28e0d6797', 1, 0)\",\"('store-concatenate-b0e0844209b20a1d820d4265d04f97ec', 0, 0)\",\"('store-concatenate-29d323009be856f9e6d6b23a169d495f', 0, 0)\",\"('concatenate-getitem-store-concatenate-899b68194fe0e3897180f53c992512f4', 0, 0)\",\"('store-concatenate-899b68194fe0e3897180f53c992512f4', 1, 0)\",\"('concatenate-getitem-store-concatenate-b16a434c9a6b0d97170bc60094ff7b08', 2, 0)\",\"('extractfeat-readaudiodata-strided_feat-from-value-d000d3ab01fc7a3ca4c9fbafe14cc70c', 0, 0, 0)\",\"('concatenate-extractfeat-from-value-getitem-readaudiodata-strided_feat-store-concatenate-4b1a53cc8747cdaaae607dba4b4ea938', 0, 0)\",\"('store-concatenate-58d7028371fd05db5d473d06504d2a9d', 0, 0)\",\"('store-concatenate-6753db53cb6e225d32ee14d98a186a4c', 0, 0)\",\"('concatenate-getitem-store-concatenate-3eb35d2e2ad3d0a272df68273c642171', 5, 0)\",\"('store-concatenate-36863006b7a7d6bb18d1268a73639160', 2, 0)\",\"('store-concatenate-babfc6ff385f8469d85178bd47411f63', 0, 0)\",\"('store-concatenate-1644bbe516388ee604943138c63433c1', 1, 0)\",\"('concatenate-getitem-store-concatenate-36863006b7a7d6bb18d1268a73639160', 0, 0)\",\"('concatenate-from-value-getitem-readlabelsdata-strided_feat-store-concatenate-81831156af889fccf6cd14e9dacc6a9b', 0, 0)\",\"('store-concatenate-364d05dc1b5c497f853575e28e0d6797', 1, 0)\",\"('concatenate-getitem-store-concatenate-3eb35d2e2ad3d0a272df68273c642171', 0, 0)\",\"('concatenate-getitem-store-concatenate-b0e0844209b20a1d820d4265d04f97ec', 2, 0)\",\"('store-concatenate-36863006b7a7d6bb18d1268a73639160', 3, 0)\",\"('readlabelsdata-strided_feat-from-value-8dfea994a0b2cfd76dfeb184bfe5ea42', 0, 0, 0)\",\"('store-concatenate-10d8e4d0dacd2c18b4a407d5b84993a2', 0, 0)\",\"('concatenate-getitem-store-concatenate-56d65bb3714cc8e062e96f0b57f178d2', 1, 0)\",\"('concatenate-getitem-store-concatenate-36863006b7a7d6bb18d1268a73639160', 3, 0)\",\"('concatenate-extractfeat-from-value-getitem-readaudiodata-strided_feat-store-concatenate-f56ebeee019b937bfd6d874d6e2c6d9a', 0, 0)\",\"('concatenate-extractfeat-from-value-getitem-readaudiodata-strided_feat-store-concatenate-6753db53cb6e225d32ee14d98a186a4c', 0, 0)\",\"('store-concatenate-56d65bb3714cc8e062e96f0b57f178d2', 1, 0)\",\"('concatenate-getitem-store-concatenate-fd92f5d2a4efe1ac7ad8a2b2a13f18db', 2, 0)\",\"('concatenate-getitem-store-concatenate-3eb35d2e2ad3d0a272df68273c642171', 2, 0)\",\"('store-concatenate-81831156af889fccf6cd14e9dacc6a9b', 0, 0)\",\"('concatenate-getitem-store-concatenate-1644bbe516388ee604943138c63433c1', 0, 0)\",\"('store-concatenate-32b0733587d93d44e8f8cd6bb356a710', 0, 0)\",\"('store-concatenate-90b9f4370393a3ef7548201227928958', 0, 0)\",\"('store-concatenate-36863006b7a7d6bb18d1268a73639160', 4, 0)\",\"('concatenate-getitem-store-concatenate-b0e0844209b20a1d820d4265d04f97ec', 1, 0)\",\"('concatenate-getitem-store-concatenate-36863006b7a7d6bb18d1268a73639160', 5, 0)\",\"('store-concatenate-5e130c0ee74e5ed970b59a357ed7f184', 0, 0)\",\"('store-concatenate-36863006b7a7d6bb18d1268a73639160', 0, 0)\",\"('store-concatenate-fd92f5d2a4efe1ac7ad8a2b2a13f18db', 1, 0)\",\"('store-concatenate-5d720c5f30f7cc61fb527cde4ad831f4', 1, 0)\",\"('readlabelsdata-strided_feat-from-value-d091577c4785c2ea33f426518497da5b', 0, 0, 0)\",\"('readlabelsdata-strided_feat-from-value-0c3cb8c1bdce34e3cf2eb715878720fa', 0, 0, 0)\",\"('store-concatenate-3eb35d2e2ad3d0a272df68273c642171', 0, 0)\",\"('concatenate-getitem-store-concatenate-a2513a946c430794f0a60c0d78f5a8a1', 1, 0)\",\"('readlabelsdata-strided_feat-from-value-e72800d6bf9fb0501a8d5f9f0699fa50', 0, 0, 0)\",\"('concatenate-from-value-getitem-readlabelsdata-strided_feat-store-concatenate-c372d226ed73c53adaf06dee5fcdef51', 0, 0)\",\"('store-concatenate-36863006b7a7d6bb18d1268a73639160', 5, 0)\",\"('concatenate-getitem-store-concatenate-364d05dc1b5c497f853575e28e0d6797', 0, 0)\",\"('concatenate-getitem-store-concatenate-b16a434c9a6b0d97170bc60094ff7b08', 0, 0)\",\"('concatenate-from-value-getitem-readlabelsdata-strided_feat-store-concatenate-90b9f4370393a3ef7548201227928958', 0, 0)\",\"('store-concatenate-7cc148c470d104169f3d40550e8aa0c6', 1, 0)\",\"('concatenate-getitem-store-concatenate-b16a434c9a6b0d97170bc60094ff7b08', 1, 0)\",\"('concatenate-from-value-getitem-readlabelsdata-strided_feat-store-concatenate-5e130c0ee74e5ed970b59a357ed7f184', 0, 0)\",\"('store-concatenate-f2e844553196be834b9bd54ab2894594', 0, 0)\",\"('concatenate-getitem-store-concatenate-10d8e4d0dacd2c18b4a407d5b84993a2', 1, 0)\"],\"width\":[0.00030034221708774567,0.0027391421608626842,0.011648738058283925,0.01672247308306396,0.004284493159502745,0.0003899610601365566,0.0025169909931719303,1.4056113120168447,0.0700891949236393,0.009384502889588475,0.013602175982668996,0.001148854149505496,0.37026456696912646,0.007502621039748192,0.0012524379417300224,0.0095410889480263,0.020485823042690754,0.011860286118462682,0.0003941180184483528,0.007567622000351548,1.0135371710639447,0.026576844044029713,0.0043180768843740225,0.0002076178789138794,0.005524865118786693,0.05414281808771193,0.008699084166437387,0.008888976881280541,0.0012968780938535929,0.0008902549743652344,0.0037644149269908667,0.00191079406067729,0.0062458710744977,0.0012966999784111977,0.010339310858398676,1.0976001659873873,0.009753911988809705,0.025765390833839774,0.016312679974362254,0.00019726203754544258,0.0047900560311973095,2.473573146853596,0.816291845869273,0.000291039003059268,0.8392674869392067,0.002297583967447281,0.001989101991057396,0.003291310044005513,1.061501869931817,0.07440125802531838,0.009900980163365602,0.03499359800480306,0.06381958397105336,0.001261141849681735,0.006474403198808432,1.4116844839882106,0.027553302003070712,0.0434370341245085,0.001666894881054759,1.2366973150055856,0.0033086149487644434,0.006134404102340341,0.06613530195318162,0.5569075329694897,0.05547620891593397,0.11704173404723406,0.001528796972706914,0.005705415038391948,0.006856991909444332,0.025757330004125834,0.07753857411444187,0.015166217926889658,0.021632449934259057,0.08035925915464759,0.001204838976264,0.0040329499170184135,0.0008030161261558533,0.015438696136698127,0.021900872001424432,0.0005416220519691706,0.02740337187424302,0.030615537194535136,0.09988828795030713,0.7324714760761708,0.6630780941341072,0.0025747250765562057,0.0006975510623306036,0.015611493960022926,0.00020213588140904903,0.02520774188451469,0.007076737005263567,0.021221642149612308,0.08004843909293413,0.006129218963906169,0.0044513719622045755,0.09801142499782145,0.00029060104861855507,0.00742036197334528,0.026366183999925852,0.07341717882081866,0.09193574008531868,0.7021032539196312,0.9619808190036565,0.014928387943655252,0.007677776971831918,0.0010167500004172325,0.007811148883774877,0.003968593897297978,0.008597376057878137,0.005954300984740257,0.0002992190420627594,0.05222603492438793,0.13813750282861292,0.002265375107526779,0.00022116908803582191,0.011187542928382754,0.0042544889729470015,0.011362095130607486,0.015881037106737494,0.0074808800127357244,0.0010988961439579725,0.020761490100994706,0.006280144909396768,0.0002693450078368187,0.0044316439889371395,0.028377580922096968,0.05709521402604878,0.030492261052131653,0.04515930311754346,0.011475046863779426,0.00015469803474843502,0.07453385088592768],\"x\":[2.4449601639062166,0.02660694788210094,0.07896712073124945,0.11254802928306162,0.19161580642685294,1.1021299343556166,1.0180966875050217,0.704917951952666,1.065326921408996,0.14377123932354152,0.04840107471682131,1.4924191350582987,1.784391054417938,1.5943351993337274,0.028171967947855592,0.18475024052895606,0.012959674466401339,0.08461983478628099,0.8879464138299227,0.12248333892785013,0.5229513032827526,1.552948314929381,0.2107908974867314,2.5178641548845917,1.0059867303352803,1.3884260088670999,2.0059260649140924,0.033207881497219205,1.5159618600737303,0.05668163043446839,0.0641069773118943,1.1778841458726674,1.5962230754084885,1.612666173838079,0.06817537243478,0.785194942029193,0.08953894884325564,1.4260109125170857,0.22830609581433237,0.9979035318829119,0.05987401492893696,1.236786573426798,2.0120616669300944,2.3169114894699305,2.0247049315366894,1.771316953934729,0.05807728902436793,0.21436189976520836,0.7722010749857873,1.1394708568695933,0.0992782989051193,0.8692157526966184,2.506520106922835,1.0017974118236452,0.038544430397450924,0.7073895500507206,1.3476966007146984,2.4957828370388597,0.9965658562723547,0.622180036501959,0.1739486635196954,0.16319487779401243,1.2738198169972748,1.8458375034388155,1.4417272752616554,2.533608005847782,0.055809607496485114,0.20582763920538127,0.1970992349088192,1.347227226011455,1.3729298498947173,0.008732871850952506,1.4792178848292679,1.0614987744484097,1.0099160184618086,0.061048304894939065,1.0205756658688188,0.15246945875696838,1.4809345009271055,1.1018679470289499,1.320510997902602,1.4229184545110911,1.5407149859238416,0.4795806377660483,1.4340044318232685,0.20173209346830845,2.1584518023300916,0.07099561882205307,2.5391178138088435,2.1390991110820323,0.09401988936588168,2.4843965710606426,1.5531328804790974,0.16927531850524247,0.025379115948453546,1.4889860826078802,2.5673749153502285,0.9914373848587275,1.3204697868786752,0.9252630854025483,2.520823002094403,1.9653001499827951,1.6757093395572156,0.9707680318970233,0.04134372039698064,0.05700720986351371,1.5987854024861008,0.02330906200222671,0.13485063496045768,1.600998742505908,2.5926816863939166,1.464953823480755,2.5443799265194684,1.1934451384004205,2.4954276194330305,0.05068044434301555,0.2180871486198157,0.18123354925774038,0.10545190027914941,0.031680939020588994,0.9996279890183359,0.01113033085130155,1.6057820154819638,2.6137802333105356,0.12838607793673873,1.4258393484633416,1.5663736138958484,1.4533413043245673,1.4919212104286999,1.1847495583351701,2.4208253247197717,1.5302202694583684],\"y\":[7,5,4,4,5,7,7,1,2,4,5,6,5,5,7,4,5,7,7,5,2,3,5,8,7,1,2,5,6,5,4,7,4,6,4,5,5,6,4,7,5,8,1,3,4,2,4,4,4,7,7,7,3,7,7,6,3,6,7,3,4,4,3,3,5,5,4,4,4,5,4,7,4,7,7,7,7,5,4,7,4,1,4,7,2,5,2,4,2,5,4,2,1,5,4,3,7,7,3,7,1,6,7,7,4,7,1,7,5,6,6,6,4,7,7,7,5,5,5,4,7,4,4,8,4,4,6,1,1,7,5,5]}},\"id\":\"83f623ae-f68b-485f-af1e-78aaee0a1d70\",\"type\":\"ColumnDataSource\"},{\"attributes\":{\"callback\":null,\"end\":803.733504,\"start\":510.541824},\"id\":\"e68313bf-bb56-47f3-974b-7f2c82076118\",\"type\":\"Range1d\"},{\"attributes\":{\"axis_label\":\"Worker ID\",\"axis_line_color\":{\"value\":null},\"formatter\":{\"id\":\"62ed143b-a649-425b-b03c-716056f3709e\",\"type\":\"CategoricalTickFormatter\"},\"major_tick_line_color\":{\"value\":null},\"plot\":{\"id\":\"2117df5f-9ade-4ad3-a3bc-b23a3ec3db78\",\"subtype\":\"Figure\",\"type\":\"Plot\"},\"ticker\":{\"id\":\"65f00e28-ffc9-42e5-af0e-121930835f5d\",\"type\":\"CategoricalTicker\"}},\"id\":\"3f05cf49-e997-4b30-aea4-41da0e156d4d\",\"type\":\"CategoricalAxis\"},{\"attributes\":{\"label\":{\"value\":\"% CPU\"},\"renderers\":[{\"id\":\"12720e20-28a2-4fe0-bada-6d68c567ef13\",\"type\":\"GlyphRenderer\"}]},\"id\":\"5ae39603-f842-447d-b85a-d4896a2d479c\",\"type\":\"LegendItem\"},{\"attributes\":{},\"id\":\"7d3508d4-4391-4261-bea1-8f3ca2494dec\",\"type\":\"ToolEvents\"},{\"attributes\":{\"dimensions\":\"width\",\"plot\":{\"id\":\"f1ee60bd-6c3c-413a-be82-f18d1039cf8a\",\"subtype\":\"Figure\",\"type\":\"Plot\"}},\"id\":\"c3ad261a-c769-497f-b3b0-947b7d03a023\",\"type\":\"WheelZoomTool\"},{\"attributes\":{\"line_color\":{\"value\":\"#29788E\"},\"line_width\":{\"value\":4},\"x\":{\"field\":\"x\"},\"y\":{\"field\":\"y\"}},\"id\":\"a81579a7-ed07-41e6-996f-33983f5b2758\",\"type\":\"Line\"},{\"attributes\":{\"callback\":null,\"column_names\":[\"x\",\"y\"],\"data\":{\"x\":[0.0,0.10031592287123203,0.20067490497604012,0.30109791993163526,0.40165988984517753,0.5021195418667048,0.6029208288528025,0.7041298288386315,0.8047679178416729,0.9053613960277289,1.0061438148841262,1.106756997993216,1.2077992199920118,1.309014598838985,1.4094975909683853,1.5099904870148748,1.6103415549732745,1.7107445278670639,1.8113383289892226,1.9118805539328605,2.012686762958765,2.1133582978509367,2.21415747795254,2.319915293948725,2.4204334628302604,2.5209360998123884],\"y\":[510.541824,515.117056,539.475968,572.88704,617.04192,647.22944,676.827136,698.064896,743.747584,739.16416,764.030976,786.100224,803.733504,749.686784,722.030592,696.868864,594.108416,613.773312,644.345856,697.397248,718.245888,657.883136,731.365376,680.615936,639.950848,623.865856]}},\"id\":\"ba4f8fa8-484e-4dd4-af73-b6f495d4fac7\",\"type\":\"ColumnDataSource\"},{\"attributes\":{},\"id\":\"375cee16-4c37-4d6a-9b75-c0dbeaaeec86\",\"type\":\"BasicTickFormatter\"},{\"attributes\":{\"callback\":null,\"factors\":[\"0\",\"1\",\"2\",\"3\",\"4\",\"5\",\"6\",\"7\"]},\"id\":\"afd2dc86-ba1c-47d1-bd0e-d67ff88b721f\",\"type\":\"FactorRange\"},{\"attributes\":{\"plot\":{\"id\":\"2117df5f-9ade-4ad3-a3bc-b23a3ec3db78\",\"subtype\":\"Figure\",\"type\":\"Plot\"}},\"id\":\"e8803c54-3a58-47ce-91bb-abcfb2a41e6b\",\"type\":\"ResetTool\"},{\"attributes\":{\"dimensions\":\"width\",\"plot\":{\"id\":\"f1ee60bd-6c3c-413a-be82-f18d1039cf8a\",\"subtype\":\"Figure\",\"type\":\"Plot\"}},\"id\":\"a9ce13fb-dd0b-4956-a778-bb6cbde2076d\",\"type\":\"PanTool\"},{\"attributes\":{\"plot\":{\"id\":\"2117df5f-9ade-4ad3-a3bc-b23a3ec3db78\",\"subtype\":\"Figure\",\"type\":\"Plot\"}},\"id\":\"eb87458f-f161-48a9-b0db-e5f2b92ee72f\",\"type\":\"SaveTool\"},{\"attributes\":{\"dimensions\":\"width\",\"plot\":{\"id\":\"2117df5f-9ade-4ad3-a3bc-b23a3ec3db78\",\"subtype\":\"Figure\",\"type\":\"Plot\"}},\"id\":\"417bbb99-02c8-4f75-9dcb-9ecd0a4a2787\",\"type\":\"WheelZoomTool\"},{\"attributes\":{},\"id\":\"0a609838-b4cc-44bd-a40e-85d2f9df39cc\",\"type\":\"BasicTickFormatter\"},{\"attributes\":{\"line_color\":{\"value\":\"#440154\"},\"line_width\":{\"value\":4},\"x\":{\"field\":\"x\"},\"y\":{\"field\":\"y\"}},\"id\":\"c5f93349-1b44-4888-8380-a69a3e553afa\",\"type\":\"Line\"},{\"attributes\":{\"axis_label\":\"Time (s)\",\"formatter\":{\"id\":\"375cee16-4c37-4d6a-9b75-c0dbeaaeec86\",\"type\":\"BasicTickFormatter\"},\"plot\":{\"id\":\"f1ee60bd-6c3c-413a-be82-f18d1039cf8a\",\"subtype\":\"Figure\",\"type\":\"Plot\"},\"ticker\":{\"id\":\"7c516adf-b0e9-468a-81a7-a5e73f457e62\",\"type\":\"BasicTicker\"}},\"id\":\"4f6823c9-e19b-4932-8a2d-64e69537f560\",\"type\":\"LinearAxis\"},{\"attributes\":{\"plot\":{\"id\":\"f1ee60bd-6c3c-413a-be82-f18d1039cf8a\",\"subtype\":\"Figure\",\"type\":\"Plot\"}},\"id\":\"65fc74f8-2f1f-4a2e-ba90-4292c699071f\",\"type\":\"ResetTool\"}],\"root_ids\":[\"08a97423-c22c-4323-83f5-773a5b31732f\"]},\"title\":\"Bokeh Application\",\"version\":\"0.12.4\"}};\n",
       "            var render_items = [{\"docid\":\"10377a53-41ca-4ad5-ad79-c8a55113c187\",\"elementid\":\"dcdeff47-1536-4a58-b3cd-02acad073f02\",\"modelid\":\"08a97423-c22c-4323-83f5-773a5b31732f\"}];\n",
       "            \n",
       "            Bokeh.embed.embed_items(docs_json, render_items);\n",
       "          };\n",
       "          if (document.readyState != \"loading\") fn();\n",
       "          else document.addEventListener(\"DOMContentLoaded\", fn);\n",
       "        })();\n",
       "      },\n",
       "      function(Bokeh) {\n",
       "      }\n",
       "    ];\n",
       "  \n",
       "    function run_inline_js() {\n",
       "      \n",
       "      if ((window.Bokeh !== undefined) || (force === true)) {\n",
       "        for (var i = 0; i < inline_js.length; i++) {\n",
       "          inline_js[i](window.Bokeh);\n",
       "        }if (force === true) {\n",
       "          display_loaded();\n",
       "        }} else if (Date.now() < window._bokeh_timeout) {\n",
       "        setTimeout(run_inline_js, 100);\n",
       "      } else if (!window._bokeh_failed_load) {\n",
       "        console.log(\"Bokeh: BokehJS failed to load within specified timeout.\");\n",
       "        window._bokeh_failed_load = true;\n",
       "      } else if (force !== true) {\n",
       "        var cell = $(document.getElementById(\"dcdeff47-1536-4a58-b3cd-02acad073f02\")).parents('.cell').data().cell;\n",
       "        cell.output_area.append_execute_result(NB_LOAD_WARNING)\n",
       "      }\n",
       "  \n",
       "    }\n",
       "  \n",
       "    if (window._bokeh_is_loading === 0) {\n",
       "      console.log(\"Bokeh: BokehJS loaded, going straight to plotting\");\n",
       "      run_inline_js();\n",
       "    } else {\n",
       "      load_libs(js_urls, function() {\n",
       "        console.log(\"Bokeh: BokehJS plotting callback run at\", now());\n",
       "        run_inline_js();\n",
       "      });\n",
       "    }\n",
       "  }(this));\n",
       "</script>"
      ]
     },
     "metadata": {},
     "output_type": "display_data"
    },
    {
     "name": "stdout",
     "output_type": "stream",
     "text": [
      "CPU times: user 5.75 s, sys: 5.08 s, total: 10.8 s\n",
      "Wall time: 3.8 s\n"
     ]
    }
   ],
   "source": [
    "%%time\n",
    "print(trn_h5)\n",
    "do_job_for_split(trn_pairs, tofile=trn_h5)\n",
    "dg.visualize([pr, rpr])\n",
    "pr.clear()\n",
    "rpr.clear()"
   ]
  },
  {
   "cell_type": "code",
   "execution_count": 39,
   "metadata": {
    "ExecuteTime": {
     "end_time": "2017-08-04T10:09:34.628989Z",
     "start_time": "2017-08-04T10:09:34.625321Z"
    },
    "collapsed": true
   },
   "outputs": [],
   "source": [
    "# %%time\n",
    "# print(tst_h5)\n",
    "# do_job_for_split(tst_pairs, tofile=tst_h5)\n",
    "# dg.visualize([pr, rpr])\n",
    "# pr.clear()\n",
    "# rpr.clear()"
   ]
  },
  {
   "cell_type": "markdown",
   "metadata": {},
   "source": [
    "## Check HDF5 & Add Label Infos\n",
    "\n",
    "```\n",
    "MAY BE LATER \n",
    "```"
   ]
  },
  {
   "cell_type": "code",
   "execution_count": 81,
   "metadata": {
    "ExecuteTime": {
     "end_time": "2017-08-06T21:00:39.149497Z",
     "start_time": "2017-08-06T21:00:39.136324Z"
    },
    "collapsed": true
   },
   "outputs": [],
   "source": [
    "# def checkh5_addinfo(pair, h5):\n",
    "#     xsfs = expected_stridedfeat_shape(pair)\n",
    "#     xsls = expected_stridedlabel_shape(pair)\n",
    "    \n",
    "#     xdatachunks = ((xsfs[1], ) + xsfs[2:])\n",
    "#     xlabelchunks = ((xsls[1], ) + xsls[2:])\n",
    "    \n",
    "#     xdatashape = (xsfs[0] * xsfs[1], ) + xsfs[2:]\n",
    "#     xlabelshape = (xsls[0] * xsls[1], ) + xsls[2:]\n",
    "    \n",
    "#     l = pair.label\n",
    "#     dp = fe.PerSampleDataProvider.for_callids(\n",
    "#         h5,\n",
    "#         l.callid,\n",
    "#     )\n",
    "    \n",
    "#     assert dp.totlen == xdatashape[0], \"Mismatch in audio len: {} v/s {}\".format(dp.totlen, xdatashape)\n",
    "#     assert dp.totlen == xlabelshape[0], \"Mismatch in label len: {} v/s {}\".format(dp.totlen, xlabelshape)\n",
    "    \n",
    "#     for c in dp.chunkings:\n",
    "#         lend = c.dataslice[0].stop - c.dataslice[0].start\n",
    "#         assert lend == xdatachunks[0], \"Mismatch in audio chunking: {} v/s {}\".format(lend, xdatachunks)\n",
    "        \n",
    "#         lenl = c.labelslice[0].stop - c.labelslice[0].start\n",
    "#         assert lenl == xlabelchunks[0], \"Mismatch in label chunking: {} v/s {}\".format(lenl, xlabelchunks)\n",
    "    \n",
    "#     # Add infos\n",
    "#     lp = dp.chunkings[0].labelpath\n",
    "#     ap = dp.chunkings[0].datapath\n",
    "#     calldata = l.calldata\n",
    "    \n",
    "#     with h.File(h5, 'a') as f:\n",
    "#         f[lp].attrs['speaker_pins'] = np.array([np.string_(s.pin) for s in calldata.channelspeakers])\n",
    "#         f[lp].attrs['speaker_genders'] = np.array([np.string_(s.gender) for s in calldata.channelspeakers])\n",
    "#         f[lp].attrs['speaker_dialects'] = np.array([np.string_(s.dialect) for s in calldata.channelspeakers])\n",
    "        \n",
    "#         f[lp].attrs['topicid'] = calldata.topicid\n",
    "#         f[lp].attrs['signalgrade'] = calldata.signalgrade\n",
    "#         f[lp].attrs['convgrade'] = calldata.convgrade\n",
    "        \n",
    "#         # FUCK THIS SHIT\n",
    "# #         f[lp].dims[1].label = np.string_('active_speaker_channel')\n",
    "# #         f.create_dataset(\"labels/active_speaker_channels\", data=[0, 1])\n",
    "# #         f[lp].dims[1].attach_scale(f[\"labels/active_speaker_channels\"])\n",
    "        \n",
    "# #         f[ap].dims[1].label = np.string_('mel_frequencies')\n",
    "# #         f.create_dataset(\"audios/mel_frequencies\", data=melfreq)\n",
    "# #         f[lp].dims[1].attach_scale(f[\"audios/mel_frequencies\"])\n",
    "        \n",
    "#         f.flush()\n",
    "        \n",
    "    \n",
    "# def checkh5_addinfo_pairs(pairs, h5):\n",
    "#     for i, pair in enumerate(pairs):\n",
    "#         try:\n",
    "#             checkh5_addinfo(pair, h5)\n",
    "#         except AssertionError as e:\n",
    "#             print('AssertionErrors with pair at {}'.format(i))\n",
    "#             print(fn_for_fp(pair.audio.filepath))\n",
    "#             raise\n",
    "# #             print(e)\n",
    "# #             print()"
   ]
  },
  {
   "cell_type": "code",
   "execution_count": 82,
   "metadata": {
    "ExecuteTime": {
     "end_time": "2017-08-06T21:00:42.691366Z",
     "start_time": "2017-08-06T21:00:42.687241Z"
    },
    "collapsed": true
   },
   "outputs": [],
   "source": [
    "# checkh5_addinfo_pairs(val_pairs, val_h5)"
   ]
  },
  {
   "cell_type": "code",
   "execution_count": 83,
   "metadata": {
    "ExecuteTime": {
     "end_time": "2017-08-06T21:00:44.707144Z",
     "start_time": "2017-08-06T21:00:44.703782Z"
    },
    "collapsed": true
   },
   "outputs": [],
   "source": [
    "# checkh5_addinfo_pairs(trn_pairs, trn_h5)"
   ]
  },
  {
   "cell_type": "code",
   "execution_count": 54,
   "metadata": {
    "ExecuteTime": {
     "end_time": "2017-08-04T11:09:10.962783Z",
     "start_time": "2017-08-04T11:09:10.959190Z"
    },
    "collapsed": true
   },
   "outputs": [],
   "source": [
    "# checkh5_addinfo_pairs(tst_pairs, tst_h5)"
   ]
  },
  {
   "cell_type": "code",
   "execution_count": null,
   "metadata": {
    "collapsed": true
   },
   "outputs": [],
   "source": []
  }
 ],
 "metadata": {
  "hide_input": false,
  "kernelspec": {
   "display_name": "Python [conda root]",
   "language": "python",
   "name": "conda-root-py"
  },
  "language_info": {
   "codemirror_mode": {
    "name": "ipython",
    "version": 3
   },
   "file_extension": ".py",
   "mimetype": "text/x-python",
   "name": "python",
   "nbconvert_exporter": "python",
   "pygments_lexer": "ipython3",
   "version": "3.5.2"
  },
  "latex_envs": {
   "bibliofile": "biblio.bib",
   "cite_by": "apalike",
   "current_citInitial": 1,
   "eqLabelWithNumbers": true,
   "eqNumInitial": 0
  },
  "nav_menu": {},
  "toc": {
   "navigate_menu": true,
   "number_sections": true,
   "sideBar": true,
   "threshold": 4,
   "toc_cell": false,
   "toc_section_display": "block",
   "toc_window_display": true
  }
 },
 "nbformat": 4,
 "nbformat_minor": 2
}

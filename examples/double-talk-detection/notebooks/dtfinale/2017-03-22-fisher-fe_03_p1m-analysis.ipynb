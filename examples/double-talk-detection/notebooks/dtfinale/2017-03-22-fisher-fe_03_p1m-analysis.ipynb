{
 "cells": [
  {
   "cell_type": "markdown",
   "metadata": {
    "deletable": true,
    "editable": true
   },
   "source": [
    "# Analysis of raw dataset fisher/fe_03_p1m"
   ]
  },
  {
   "cell_type": "markdown",
   "metadata": {
    "deletable": true,
    "editable": true
   },
   "source": [
    "## Sourcing information"
   ]
  },
  {
   "cell_type": "markdown",
   "metadata": {
    "deletable": true,
    "editable": true
   },
   "source": [
    "### Where does the data come from?\n",
    "\n",
    "> **NOTE**\n",
    ">\n",
    "> This is a subset of the original fisher/fe_03_p1 dataset.\n",
    "> More specifically:\n",
    "> - only AUDIO available is the `.../disc1/` group\n",
    "> - however, all the LABELS are available, mainly for analysis\n",
    "\n",
    "The corpus is the first half of a collection of conversational telephone speech (CTS) created at LDC during 2003.\n",
    "\n",
    "It contains **5850** audio files, each with one full conversation of **upto 10 minutes** between **2 participants**.\n",
    "\n",
    "**Origin Location on disk**\n",
    "\n",
    "- `AUDIO`\n",
    "    + `/nm-raid/audio/data/corpora/LDC/fisher_eng_tr_sp_LDC2004S13/fisher_eng_tr_sp_LDC2004S13.zip`\n",
    "- `LABELS`\n",
    "    + `/nm-raid/audio/data/corpora/LDC/Other/LDC2004T19.tgz`\n",
    "    \n",
    "The raw files were copied into `$RENNET_ROOT/data/raw/fisher/fe_03_p1m/`\n",
    "\n",
    "The audio files are NIST Sphere files (.sph), with two channels, one per speaker, (0: A, 1: B). \n",
    "The files are grouped into directories of a 100 files each with name representing the first 3 significant digits of the 5-digit callids of the files in the group.\n",
    "The groups are available on 7 different discs, with mostly 8 per disc. The discs are named as `discN` with N from 1 to 7.\n",
    "The `filetable.txt` has complete listing of all the files in this part of the dataset, including the gender of the speakers.\n",
    "See below for details of the files that were kept with judgment of their utility in our task.\n",
    "\n",
    "The labels come in two forms: One that was extracted in an automated way marking speech parts, in `data/bbn_orig/`.\n",
    "The relevant transcription is in `data/trans/`, which are txt files in groups of 100 files as above.\n",
    "The labels are however not divided based on discs.\n",
    "The `doc` folder has useful readmes and metadata for the recordings, with more information about the conversation and the speakers involved."
   ]
  },
  {
   "cell_type": "markdown",
   "metadata": {
    "deletable": true,
    "editable": true
   },
   "source": [
    "### Copying files to `working` folder\n",
    "\n",
    "The copying was done **MANUALLY**, to `$RENNET_ROOT/data/working/fisher/fe_03_p1m/raw` with the following modifications.\n",
    "\n",
    "- `AUDIO`\n",
    "    + has the readme file, and the `filetable.txt` with list of all audio files, and corresponding speaker genders\n",
    "    + `data/disc1` to `data/disc7` with grouped audio sph files, each group having roughly a hundred of them.\n",
    "        * the groups are named based on the first 3 digits of the conversation IDs of the files in them.\n",
    "- `LABELS`\n",
    "    + has readmes and doc files with more info about the transcriptions and the metadata in the same folder\n",
    "        * `fe_03_p1_calldata.tbl` has most of the relevant speaker and annotation metadata\n",
    "        * `fe_03_pindata.tbl` has deeper information about the speaker themselves.\n",
    "        * `fe_03_topics.sgm` is an xml like file with the information about the topics of conversation, referred in the `calldata` file\n",
    "    + Same as above, `data/disc1` to `data/disc7` with grouped transcription txt files, each group having roughly a hundred of them.\n",
    "        * the groups are named based on the first 3 digits of the conversation IDs of the files in them."
   ]
  },
  {
   "cell_type": "markdown",
   "metadata": {
    "deletable": true,
    "editable": true
   },
   "source": [
    "## Imports and finding filepaths"
   ]
  },
  {
   "cell_type": "markdown",
   "metadata": {
    "deletable": true,
    "editable": true
   },
   "source": [
    "### Imports"
   ]
  },
  {
   "cell_type": "code",
   "execution_count": 1,
   "metadata": {
    "ExecuteTime": {
     "end_time": "2017-03-23T13:41:30.222024Z",
     "start_time": "2017-03-23T14:41:30.196722+01:00"
    },
    "collapsed": false,
    "deletable": true,
    "editable": true
   },
   "outputs": [],
   "source": [
    "from __future__ import print_function, division\n",
    "\n",
    "import os\n",
    "import sys\n",
    "\n",
    "rennet_root = os.environ['RENNET_ROOT']\n",
    "sys.path.append(rennet_root)\n",
    "\n",
    "%load_ext autoreload\n",
    "%autoreload 1"
   ]
  },
  {
   "cell_type": "code",
   "execution_count": 2,
   "metadata": {
    "ExecuteTime": {
     "end_time": "2017-03-23T13:41:30.925844Z",
     "start_time": "2017-03-23T14:41:30.224687+01:00"
    },
    "collapsed": false,
    "deletable": true,
    "editable": true
   },
   "outputs": [],
   "source": [
    "import glob\n",
    "import numpy as np\n",
    "from collections import defaultdict\n",
    "import warnings\n",
    "import matplotlib.pyplot as plt\n",
    "%matplotlib inline\n",
    "plt.style.use('seaborn-muted')"
   ]
  },
  {
   "cell_type": "code",
   "execution_count": 3,
   "metadata": {
    "ExecuteTime": {
     "end_time": "2017-03-23T13:41:30.950734Z",
     "start_time": "2017-03-23T14:41:30.928366+01:00"
    },
    "collapsed": false,
    "deletable": true,
    "editable": true
   },
   "outputs": [],
   "source": [
    "# rennet specific imports\n",
    "# autoreload for debugging\n",
    "%aimport rennet.datasets.fisher\n",
    "import rennet.datasets.fisher as fe"
   ]
  },
  {
   "cell_type": "markdown",
   "metadata": {
    "deletable": true,
    "editable": true
   },
   "source": [
    "### Gather all audio, labels and calldata filepaths\n",
    "\n",
    "> **NOTE**\n",
    ">\n",
    "> If it is not clear by now, we will be, from now on, working exclusively with the working directory we created earlier. Keep that in mind for all the instructions to come.\n",
    "\n",
    "***\n",
    "\n",
    "> **NOTE**\n",
    ">\n",
    "> `fisher/fe_03_p1m` does not have all the audio files.\n",
    "> But all the labels are available for analysis\n"
   ]
  },
  {
   "cell_type": "code",
   "execution_count": 4,
   "metadata": {
    "ExecuteTime": {
     "end_time": "2017-03-23T13:41:31.016860Z",
     "start_time": "2017-03-23T14:41:30.953506+01:00"
    },
    "collapsed": false,
    "deletable": true,
    "editable": true
   },
   "outputs": [
    {
     "name": "stdout",
     "output_type": "stream",
     "text": [
      "Audio Groups Query:\n",
      " /Users/abdullah/Delve/iais/rennet/data/working/fisher/fe_03_p1m/raw/audio/data/*/*\n",
      "\n",
      "Labels Groups Query:\n",
      " /Users/abdullah/Delve/iais/rennet/data/working/fisher/fe_03_p1m/raw/labels/data/*/*\n",
      "\n",
      "Calldata Query:\n",
      " /Users/abdullah/Delve/iais/rennet/data/working/fisher/fe_03_p1m/raw/labels/*calldata.tbl\n",
      "\n"
     ]
    }
   ],
   "source": [
    "# Making glob queries for audio, label and calldata files\n",
    "\n",
    "# UPDATE HERE - BEGIN #######################################################\n",
    "\n",
    "rennet_working_dir = os.path.join(rennet_root, 'data', 'working')\n",
    "\n",
    "provider = 'fisher'\n",
    "dataset = 'fe_03_p1m'\n",
    "rennet_working_raw_dir = os.path.join(rennet_working_dir, \n",
    "                                      provider, dataset, 'raw')\n",
    "\n",
    "raw_audio_dir = os.path.join(rennet_working_raw_dir, 'audio', 'data')\n",
    "raw_audio_groups_glob_str = str(os.path.join(raw_audio_dir, \"*\", \"*\"))\n",
    "\n",
    "raw_labels_dir = os.path.join(rennet_working_raw_dir, 'labels', 'data')\n",
    "raw_labels_groups_glob_str = str(os.path.join(raw_labels_dir, \"*\", \"*\"))\n",
    "\n",
    "raw_calldata_glob_str = str(os.path.join(rennet_working_raw_dir, \n",
    "                                         'labels', \"*calldata.tbl\"))\n",
    "\n",
    "expected_audio_groups = 8\n",
    "expected_labels_groups = 59\n",
    "\n",
    "# UPDATE HERE - END #########################################################\n",
    "\n",
    "print(\"Audio Groups Query:\\n\", raw_audio_groups_glob_str)\n",
    "print()\n",
    "print(\"Labels Groups Query:\\n\", raw_labels_groups_glob_str)\n",
    "print()\n",
    "print(\"Calldata Query:\\n\", raw_calldata_glob_str)\n",
    "print()"
   ]
  },
  {
   "cell_type": "code",
   "execution_count": 5,
   "metadata": {
    "ExecuteTime": {
     "end_time": "2017-03-23T13:41:31.212972Z",
     "start_time": "2017-03-23T14:41:31.020061+01:00"
    },
    "collapsed": false,
    "deletable": true,
    "editable": true
   },
   "outputs": [
    {
     "name": "stdout",
     "output_type": "stream",
     "text": [
      "AUDIO:###########################################################\n",
      "\n",
      " 8 Groups 799 Total Files, as:\n",
      "\n",
      " [99, 100, 100, 100, 100, 100, 100, 100] \n",
      "\n",
      "For Example:\n",
      "\n",
      "/Users/abdullah/Delve/iais/rennet/data/working/fisher/fe_03_p1m/raw/audio/data/disc1/000/fe_03_00001.sph\n",
      "/Users/abdullah/Delve/iais/rennet/data/working/fisher/fe_03_p1m/raw/audio/data/disc1/000/fe_03_00002.sph\n",
      "/Users/abdullah/Delve/iais/rennet/data/working/fisher/fe_03_p1m/raw/audio/data/disc1/000/fe_03_00003.sph\n",
      "/Users/abdullah/Delve/iais/rennet/data/working/fisher/fe_03_p1m/raw/audio/data/disc1/000/fe_03_00004.sph\n",
      "/Users/abdullah/Delve/iais/rennet/data/working/fisher/fe_03_p1m/raw/audio/data/disc1/000/fe_03_00005.sph\n",
      "...\n",
      "\n",
      "LABEL:###########################################################\n",
      "\n",
      " 59 Groups 5850 Total Files, as:\n",
      "\n",
      " [99, 100, 100, 100, 100, 100, 100, 100, 100, 100, 100, 100, 100, 100, 100, 100, 100, 100, 100, 100, 100, 100, 100, 100, 100, 100, 100, 100, 100, 100, 100, 100, 100, 100, 100, 100, 100, 100, 100, 100, 100, 100, 100, 100, 100, 100, 100, 100, 100, 100, 100, 100, 100, 100, 100, 100, 100, 100, 51] \n",
      "\n",
      "For Example:\n",
      "\n",
      "/Users/abdullah/Delve/iais/rennet/data/working/fisher/fe_03_p1m/raw/labels/data/disc1/000/fe_03_00001.txt\n",
      "/Users/abdullah/Delve/iais/rennet/data/working/fisher/fe_03_p1m/raw/labels/data/disc1/000/fe_03_00002.txt\n",
      "/Users/abdullah/Delve/iais/rennet/data/working/fisher/fe_03_p1m/raw/labels/data/disc1/000/fe_03_00003.txt\n",
      "/Users/abdullah/Delve/iais/rennet/data/working/fisher/fe_03_p1m/raw/labels/data/disc1/000/fe_03_00004.txt\n",
      "/Users/abdullah/Delve/iais/rennet/data/working/fisher/fe_03_p1m/raw/labels/data/disc1/000/fe_03_00005.txt\n",
      "...\n",
      "\n"
     ]
    },
    {
     "name": "stderr",
     "output_type": "stream",
     "text": [
      "/Users/abdullah/anaconda3/envs/r3/lib/python3.5/site-packages/ipykernel/__main__.py:37: UserWarning: \n",
      "Mismatch in number of audio and label groups:\n",
      "Audios 8 v/s 59 Labels\n"
     ]
    }
   ],
   "source": [
    "# Finding audio and label files in each group and matching pairs\n",
    "\n",
    "audio_groups_dirs = sorted(glob.glob(raw_audio_groups_glob_str))\n",
    "audio_fps = [sorted(glob.glob(os.path.join(gd, '*.sph'))) for gd in audio_groups_dirs]\n",
    "\n",
    "label_groups_dirs = sorted(glob.glob(raw_labels_groups_glob_str))\n",
    "label_fps = [sorted(glob.glob(os.path.join(gd, '*.txt'))) for gd in label_groups_dirs]\n",
    "\n",
    "print(\"AUDIO:###########################################################\\n\\n\", \n",
    "      \"{} Groups\".format(len(audio_groups_dirs)), \n",
    "      \"{} Total Files, as:\\n\\n\".format(sum(map(len, audio_fps))), list(map(len, audio_fps)),\n",
    "      \"\\n\\nFor Example:\\n\\n{}\\n...\".format(\"\\n\".join(audio_fps[0][:5])))\n",
    "print()\n",
    "\n",
    "if len(audio_groups_dirs) != expected_audio_groups:\n",
    "    warnings.warn(\"\\nNot all audio groups were found\")\n",
    "    \n",
    "print(\"LABEL:###########################################################\\n\\n\", \n",
    "      \"{} Groups\".format(len(label_groups_dirs)), \n",
    "      \"{} Total Files, as:\\n\\n\".format(sum(map(len, label_fps))), list(map(len, label_fps)),\n",
    "      \"\\n\\nFor Example:\\n\\n{}\\n...\".format(\"\\n\".join(label_fps[0][:5])))\n",
    "print()\n",
    "\n",
    "if len(label_groups_dirs) != expected_labels_groups:\n",
    "    warnings.warn(\"\\nNot all label groups were found\")\n",
    "    \n",
    "    \n",
    "def callid_from_fp(fp):\n",
    "    return os.path.basename(fp).split('_')[-1].split('.')[0]\n",
    "\n",
    "\n",
    "# find if there are all groups\n",
    "if len(audio_groups_dirs) != len(label_groups_dirs):\n",
    "    warnings.warn(\"\\nMismatch in number of audio and label groups:\"\n",
    "                  \"\\nAudios {} v/s {} Labels\".format(\n",
    "                      len(audio_groups_dirs), \n",
    "                      len(label_groups_dirs)))\n",
    "\n",
    "# NOTE: The following checks use zip for matching and assume order\n",
    "# if the first n of the total N groups or files are available, there will be no warning\n",
    "# if the n groups or files are from somewhere in the middle, there will be mismatch\n",
    "\n",
    "# find if certain groups mismatch\n",
    "if any(lag != llg for lag, llg in zip(map(len, audio_fps), map(len, label_fps))):\n",
    "    warnings.warn(\"\\nMismatch in number of files in certain groups\")\n",
    "\n",
    "# check if each pair has the same callid\n",
    "audio_callids = [map(callid_from_fp, fps) for fps in audio_fps]\n",
    "label_callids = [map(callid_from_fp, fps) for fps in label_fps]\n",
    "\n",
    "if any(any(ac != lc for ac, lc in zip(gac, glc)) for gac, glc in zip(audio_callids, label_callids)):\n",
    "    warnings.warn(\"\\nMismatch in callids for certain files\")\n",
    "        "
   ]
  },
  {
   "cell_type": "code",
   "execution_count": 6,
   "metadata": {
    "ExecuteTime": {
     "end_time": "2017-03-23T13:41:31.223134Z",
     "start_time": "2017-03-23T14:41:31.215283+01:00"
    },
    "collapsed": false,
    "deletable": true,
    "editable": true
   },
   "outputs": [
    {
     "name": "stdout",
     "output_type": "stream",
     "text": [
      "CALLDATA filepath:  /Users/abdullah/Delve/iais/rennet/data/working/fisher/fe_03_p1m/raw/labels/fe_03_p1_calldata.tbl\n"
     ]
    }
   ],
   "source": [
    "# Finding the calldata.tbl file\n",
    "\n",
    "calldata_fp = glob.glob(raw_calldata_glob_str)\n",
    "\n",
    "if len(calldata_fp) > 1:\n",
    "    warnings.warn(\"More than one calldata file found\")\n",
    "elif len(calldata_fp) < 1:\n",
    "    warnings.warn(\"Calldata file was not found\")\n",
    "else:\n",
    "    calldata_fp = calldata_fp[0]\n",
    "    print(\"CALLDATA filepath: \", calldata_fp)"
   ]
  },
  {
   "cell_type": "markdown",
   "metadata": {
    "collapsed": true,
    "deletable": true,
    "editable": true
   },
   "source": [
    "## Read the calldata, annotations and activespeakers\n",
    "\n",
    "`rennet.dataset.fisher` (== `fe`) has implementations of classes to work with the label files.\n",
    "\n",
    "> **NOTE**\n",
    ">\n",
    "> It is **explicitly and implicitly assumed** that the labels for this dataset always have two speakers, one per channel.\n",
    "> \n",
    "> The first channel has been annotated as 'A', and the second one as 'B'.\n",
    "> This explicit assumption is used in certain properties, or order of objects.\n",
    ">\n",
    "> Where it has been foreseen, an error will be raised if this assumption breaks. "
   ]
  },
  {
   "cell_type": "markdown",
   "metadata": {
    "deletable": true,
    "editable": true
   },
   "source": [
    "### Fisher Calldata\n",
    "\n",
    "`fe.FisherAllCalldata` reads all the call data from the calldata.tbl file and stores in a list `allcalldata`.\n",
    "\n",
    "For each call, the following information is read:\n",
    "\n",
    "```\n",
    "FisherCallData (\n",
    "    - callid\n",
    "    - topicid\n",
    "    - signalgrade\n",
    "    - convgrade\n",
    "    - [\n",
    "        + FisherChannelSpeaker A (\n",
    "            * id\n",
    "            * gender\n",
    "            * dialect\n",
    "            * phone_service\n",
    "          )\n",
    "        + FisherChannelSpeaker B ( ... )\n",
    "    ]\n",
    ")\n",
    "```\n",
    "\n",
    "More information about what these quantities represent can be obtained in the readme file `doc_calldata_tbl.txt`.\n",
    "You are also welcome to look at the source code of the class, since only some information is covered here.\n",
    "\n",
    "The class has an index for the calldata based on `callid`.\n",
    "\n",
    "An instance of this class can be created by simply passing the filepath to a valid calldata.tbl to it's `from_file` classmethod."
   ]
  },
  {
   "cell_type": "code",
   "execution_count": 7,
   "metadata": {
    "ExecuteTime": {
     "end_time": "2017-03-23T13:41:31.305706Z",
     "start_time": "2017-03-23T14:41:31.225324+01:00"
    },
    "collapsed": false,
    "deletable": true,
    "editable": true
   },
   "outputs": [
    {
     "name": "stdout",
     "output_type": "stream",
     "text": [
      "CALLDATA read for 5850 callids\n",
      "\n",
      "Example calldata:\n",
      "\n",
      "FisherCallData(callid='00434', topicid='ENG30', signalgrade=4.0, convgrade=4.0, channelspeakers=[FisherChannelSpeaker(id='2872', gender='f', dialect='a', phone_service='2'), FisherChannelSpeaker(id='5019', gender='f', dialect='a', phone_service='2')])\n"
     ]
    }
   ],
   "source": [
    "calldatas = fe.FisherAllCallData.from_file(calldata_fp)\n",
    "\n",
    "print(\"CALLDATA read for {} callids\".format(len(calldatas.allcalldata)))\n",
    "print(\"\\nExample calldata:\\n\")\n",
    "print(calldatas.calldata_for_callid('00434'), sep='\\n')"
   ]
  },
  {
   "cell_type": "markdown",
   "metadata": {
    "deletable": true,
    "editable": true
   },
   "source": [
    "### Fisher Annotations\n",
    "\n",
    "`fe.FisherAnnotations` reads the all the annotations for all the timesegments of a call from it's corresponding label file.\n",
    "It is a specialization of the `SequenceLabels` class, which assumes non-contigious labels per time segment (overlaps are expected).\n",
    "\n",
    "The label files are text files, with start time, end time, channel and content per annotation of a (speech) segment in time.\n",
    "These are read into the `SequenceLabels` data structure, with each row of the `starts_ends` array representing the start and end times, and each row of the `labels` array having:\n",
    "\n",
    "```\n",
    "FisherTranscription (\n",
    "    - speakerchannel  # Channel number of the speaker\n",
    "    - content  # of the speech\n",
    ")\n",
    "```\n",
    "\n",
    "Please refer to the source and the `fe_03_readme.txt` for more information.\n",
    "\n",
    "A new instance of the `FisherAnnotations` class can be created by simply passing the path to the labels file to it's `from_file` method. \n",
    "\n",
    "When an instance of `FisherCallData` is also passed to the above method, the relevant calldata for the label's callid will also be stored as a property. But this is optional.\n"
   ]
  },
  {
   "cell_type": "code",
   "execution_count": 8,
   "metadata": {
    "ExecuteTime": {
     "end_time": "2017-03-23T13:41:43.584531Z",
     "start_time": "2017-03-23T14:41:31.307810+01:00"
    },
    "collapsed": false,
    "deletable": true,
    "editable": true
   },
   "outputs": [
    {
     "name": "stdout",
     "output_type": "stream",
     "text": [
      "ANNOTATIONS read from total 5850 label files with calldata\n"
     ]
    }
   ],
   "source": [
    "annotations = []\n",
    "for group_fps in label_fps:\n",
    "    annotations.append([fe.FisherAnnotations.from_file(fp, allcalldata=calldatas) \n",
    "                        for fp in group_fps])\n",
    "\n",
    "print(\"ANNOTATIONS read from total {} label files with calldata\".format(sum(map(len, annotations))))"
   ]
  },
  {
   "cell_type": "code",
   "execution_count": 9,
   "metadata": {
    "ExecuteTime": {
     "end_time": "2017-03-23T13:41:43.596448Z",
     "start_time": "2017-03-23T14:41:43.586998+01:00"
    },
    "collapsed": true,
    "deletable": true,
    "editable": true
   },
   "outputs": [
    {
     "name": "stdout",
     "output_type": "stream",
     "text": [
      "Example Annotation:\n",
      "\n",
      "Source filepath:\n",
      "/Users/abdullah/Delve/iais/rennet/data/working/fisher/fe_03_p1m/raw/labels/data/disc1/000/fe_03_00001.txt\n",
      "\n",
      "Calldata:\n",
      "FisherCallData(callid='00001', topicid='ENG34', signalgrade=2.0, convgrade=2.0, channelspeakers=[FisherChannelSpeaker(id='2602', gender='m', dialect='a', phone_service='1'), FisherChannelSpeaker(id='1790', gender='f', dialect='a', phone_service='3')])\n",
      "\n",
      "FisherAnnotations with sample rate: 1.0\n",
      "Start    - End      : Label\n",
      "3.7600   - 5.5400   : FisherTranscription(speakerchannel=0, content='and i generally prefer')\n",
      "5.8200   - 6.4800   : FisherTranscription(speakerchannel=0, content='eating at home')\n",
      "7.9200   - 9.5200   : FisherTranscription(speakerchannel=1, content='hi my name is andy')\n",
      "10.0500  - 10.8800  : FisherTranscription(speakerchannel=0, content='hello andy')\n",
      "11.8200  - 12.3100  : FisherTranscription(speakerchannel=0, content='how are you')\n",
      "12.4900  - 14.0400  : FisherTranscription(speakerchannel=1, content='good how are you doing')\n",
      "13.5900  - 13.9600  : FisherTranscription(speakerchannel=0, content='good')\n",
      "14.4700  - 15.7300  : FisherTranscription(speakerchannel=0, content=\"do you have any idea what's going on\")\n",
      "15.6400  - 18.5100  : FisherTranscription(speakerchannel=1, content=\"no i guess we're supposed to talk about food now\")\n",
      "19.0700  - 19.5600  : FisherTranscription(speakerchannel=0, content='yeah')\n",
      "20.0600  - 20.4600  : FisherTranscription(speakerchannel=1, content='um')\n",
      "20.1900  - 21.2500  : FisherTranscription(speakerchannel=0, content=\"what's your preference\")\n",
      "21.7000  - 24.0200  : FisherTranscription(speakerchannel=1, content='i like eating at a restaurant better')\n",
      "24.4500  - 24.9100  : FisherTranscription(speakerchannel=0, content='okay')\n",
      "25.0900  - 25.7000  : FisherTranscription(speakerchannel=1, content='um')\n",
      "26.3600  - 28.0600  : FisherTranscription(speakerchannel=1, content=\"because i don't like to cook very much\")\n",
      "29.6500  - 30.8400  : FisherTranscription(speakerchannel=1, content='which did you say you preferred')\n",
      "31.3300  - 32.5800  : FisherTranscription(speakerchannel=0, content='um eating at home')\n",
      "32.7600  - 34.1600  : FisherTranscription(speakerchannel=1, content='eating at home why is that')\n",
      "34.9000  - 35.6400  : FisherTranscription(speakerchannel=0, content='um')\n",
      "37.1400  - 40.4900  : FisherTranscription(speakerchannel=0, content=\"i don't know just uh i enjoy eating at home better than\")\n",
      "40.7200  - 41.6200  : FisherTranscription(speakerchannel=0, content='i mean casual')\n",
      "42.2100  - 44.0300  : FisherTranscription(speakerchannel=0, content='periodic dining out is fine but')\n",
      "44.4000  - 45.9500  : FisherTranscription(speakerchannel=0, content='generally speaking i like eating at home')\n",
      "46.5600  - 47.0100  : FisherTranscription(speakerchannel=1, content='yeah')\n",
      "47.3300  - 48.1500  : FisherTranscription(speakerchannel=1, content='i tend to eat out')\n",
      "48.3300  - 48.8900  : FisherTranscription(speakerchannel=1, content='probably')\n",
      "49.3200  - 51.6800  : FisherTranscription(speakerchannel=1, content='six or five or six nights a week')\n",
      "51.6600  - 52.3400  : FisherTranscription(speakerchannel=0, content='wow')\n",
      "52.5500  - 54.1800  : FisherTranscription(speakerchannel=1, content='but i live in new york city so')\n",
      "54.3000  - 55.5500  : FisherTranscription(speakerchannel=0, content='oh well that makes a difference')\n",
      "54.8000  - 56.2700  : FisherTranscription(speakerchannel=1, content='it it makes it easier')\n",
      "56.2700  - 56.8400  : FisherTranscription(speakerchannel=0, content='yeah')\n",
      "57.2200  - 58.1000  : FisherTranscription(speakerchannel=1, content='um where do you live')\n",
      "58.2300  - 60.0500  : FisherTranscription(speakerchannel=0, content='we live uh i live in frederick maryland')\n",
      "60.3600  - 61.0700  : FisherTranscription(speakerchannel=1, content='oh okay')\n",
      "61.4400  - 61.8300  : FisherTranscription(speakerchannel=0, content=\"it's a lot\")\n",
      "61.4500  - 63.0600  : FisherTranscription(speakerchannel=1, content=\"there's probably not too many options\")\n",
      "62.3600  - 63.1000  : FisherTranscription(speakerchannel=0, content='smaller town')\n",
      "63.3400  - 63.8000  : FisherTranscription(speakerchannel=0, content='yes')\n",
      "64.8100  - 65.2700  : FisherTranscription(speakerchannel=1, content='um')\n",
      "65.6600  - 66.8400  : FisherTranscription(speakerchannel=1, content='what was our other question')\n",
      "67.6700  - 68.3600  : FisherTranscription(speakerchannel=0, content='i think that was it')\n",
      "67.7000  - 68.2700  : FisherTranscription(speakerchannel=1, content='something about')\n",
      "68.6100  - 70.1100  : FisherTranscription(speakerchannel=1, content='that was it if you prefer eating at home')\n",
      "69.5000  - 69.7900  : FisherTranscription(speakerchannel=0, content='yeah')\n",
      "70.7700  - 71.7700  : FisherTranscription(speakerchannel=1, content='or at a restaurant')\n",
      "70.9200  - 73.3700  : FisherTranscription(speakerchannel=0, content='i think it was yeah i think that was the only question')\n",
      "73.3000  - 73.8400  : FisherTranscription(speakerchannel=1, content='okay')\n",
      "74.1500  - 76.2900  : FisherTranscription(speakerchannel=0, content=\"so then what ha- is this the first time you've gotten one of these calls\")\n",
      "76.0700  - 77.6000  : FisherTranscription(speakerchannel=1, content='yeah is it your first time')\n",
      "76.9700  - 78.3500  : FisherTranscription(speakerchannel=0, content='yeah like wise yes')\n",
      "78.4400  - 79.7800  : FisherTranscription(speakerchannel=1, content='my friend is actually um')\n",
      "79.8800  - 80.1900  : FisherTranscription(speakerchannel=1, content='par-')\n",
      "80.4300  - 82.1300  : FisherTranscription(speakerchannel=1, content='one of the people running this study i guess')\n",
      "82.4300  - 84.3800  : FisherTranscription(speakerchannel=0, content='likewise i have a friend who is')\n",
      "82.8700  - 83.3300  : FisherTranscription(speakerchannel=1, content='so')\n",
      "84.8600  - 87.3300  : FisherTranscription(speakerchannel=0, content='who turned me onto this he works for (( )) and he')\n",
      "88.0400  - 89.0000  : FisherTranscription(speakerchannel=0, content='sent me an email about it')\n",
      "89.1700  - 90.0300  : FisherTranscription(speakerchannel=1, content='yeah')\n",
      "89.3100  - 91.7400  : FisherTranscription(speakerchannel=0, content=\"i guess he's working on some of the programming behind this\")\n",
      "92.4600  - 96.2700  : FisherTranscription(speakerchannel=1, content='yeah my i used to actually work at the linguistic data consortium at penn')\n",
      "96.6400  - 97.5500  : FisherTranscription(speakerchannel=1, content='which is um')\n",
      "97.7200  - 99.6000  : FisherTranscription(speakerchannel=1, content=\"part of the group that's running it i guess\")\n",
      "99.9100  - 100.3700 : FisherTranscription(speakerchannel=0, content='got you')\n",
      "100.5100 - 100.9300 : FisherTranscription(speakerchannel=1, content='so')\n",
      "102.7800 - 105.1000 : FisherTranscription(speakerchannel=0, content='okay so now what happens')\n",
      "104.7300 - 105.6200 : FisherTranscription(speakerchannel=1, content=\"i don't know i think\")\n",
      "106.1500 - 108.5200 : FisherTranscription(speakerchannel=1, content='i thought there would get a computer would come back')\n",
      "109.1700 - 109.8900 : FisherTranscription(speakerchannel=1, content='and um')\n",
      "109.8900 - 111.8500 : FisherTranscription(speakerchannel=0, content=\"maybe if we stop talking they'll come back on\")\n",
      "111.8900 - 113.5100 : FisherTranscription(speakerchannel=1, content='well it said something about ten minutes though')\n",
      "114.2000 - 115.4600 : FisherTranscription(speakerchannel=0, content=\"we're supposed to talk for ten minutes\")\n",
      "115.3900 - 117.2500 : FisherTranscription(speakerchannel=1, content=\"i don't know i think so that's what it said in the email\")\n",
      "118.5300 - 121.1200 : FisherTranscription(speakerchannel=0, content='yeah i did read i did read something about ten minutes')\n",
      "120.8800 - 121.2700 : FisherTranscription(speakerchannel=1, content='right')\n",
      "122.0300 - 124.0600 : FisherTranscription(speakerchannel=1, content='because i remember thinking oh ten dollars for ten minutes')\n",
      "124.7500 - 126.3100 : FisherTranscription(speakerchannel=1, content=\"well because they're taping us so\")\n",
      "127.2700 - 128.8400 : FisherTranscription(speakerchannel=0, content='is it snowing up there')\n",
      "128.3900 - 130.2200 : FisherTranscription(speakerchannel=1, content=\"yeah it's snowing really badly actually\")\n",
      "130.5400 - 132.0000 : FisherTranscription(speakerchannel=0, content='likewise where are you in new york')\n",
      "131.0400 - 131.9400 : FisherTranscription(speakerchannel=1, content='like a blizzard')\n",
      "132.3900 - 132.9600 : FisherTranscription(speakerchannel=1, content='in manhattan')\n",
      "133.3600 - 134.0400 : FisherTranscription(speakerchannel=0, content='in manhattan')\n",
      "133.9500 - 134.3000 : FisherTranscription(speakerchannel=1, content='mhm')\n",
      "135.0200 - 136.2500 : FisherTranscription(speakerchannel=0, content='my best friend lives on the')\n",
      "136.7400 - 138.8200 : FisherTranscription(speakerchannel=0, content='upper west side at eighty seventh and columbus')\n",
      "138.6100 - 141.0800 : FisherTranscription(speakerchannel=1, content='oh really my friend lives on eighty third and columbus')\n",
      "141.4600 - 142.2600 : FisherTranscription(speakerchannel=0, content='right in the neighborhood')\n",
      "141.8900 - 142.9500 : FisherTranscription(speakerchannel=1, content='right in the neighborhood yeah')\n",
      "142.7600 - 144.8300 : FisherTranscription(speakerchannel=0, content=\"uh is it i think it's the jackson hole\")\n",
      "145.2800 - 146.2600 : FisherTranscription(speakerchannel=1, content='oh yeah yeah')\n",
      "146.4400 - 148.1000 : FisherTranscription(speakerchannel=1, content='jackson hole diner')\n",
      "146.5200 - 147.2800 : FisherTranscription(speakerchannel=0, content=\"it's right on the\")\n",
      "147.9300 - 150.2800 : FisherTranscription(speakerchannel=0, content=\"yeah it's right on the first floor of the building he's in\")\n",
      "150.3200 - 151.4300 : FisherTranscription(speakerchannel=1, content='oh really have you been there')\n",
      "151.9200 - 152.2700 : FisherTranscription(speakerchannel=0, content='mhm')\n",
      "153.4900 - 154.2200 : FisherTranscription(speakerchannel=0, content='many times')\n",
      "154.9800 - 156.4000 : FisherTranscription(speakerchannel=1, content='what part of maryland are you in')\n",
      "156.8100 - 158.7400 : FisherTranscription(speakerchannel=0, content=\"um frederick maryland we're an hour\")\n",
      "158.1500 - 158.7300 : FisherTranscription(speakerchannel=1, content=\"where's that\")\n",
      "158.9100 - 160.8600 : FisherTranscription(speakerchannel=0, content='north of washington d._c.')\n",
      "161.0100 - 161.6000 : FisherTranscription(speakerchannel=1, content='oh okay')\n",
      "161.9700 - 164.5700 : FisherTranscription(speakerchannel=0, content='and about an hour west of baltimore')\n",
      "165.2400 - 165.9000 : FisherTranscription(speakerchannel=1, content='oh okay')\n",
      "166.5200 - 167.0600 : FisherTranscription(speakerchannel=0, content='so')\n",
      "167.7900 - 169.3900 : FisherTranscription(speakerchannel=0, content=\"and it's snowing here we have about\")\n",
      "169.8900 - 171.8300 : FisherTranscription(speakerchannel=0, content='eight inches eight to ten inches of snow')\n",
      "171.9100 - 174.6200 : FisherTranscription(speakerchannel=1, content=\"oh wow i don't even actually i haven't been outside all day but\")\n",
      "174.9100 - 178.0400 : FisherTranscription(speakerchannel=1, content=\"i heard that i mean not since this morning but i heard that there's supposed to be eight\")\n",
      "178.1700 - 179.9500 : FisherTranscription(speakerchannel=1, content=\"i don't five to eight or something like that\")\n",
      "181.0000 - 183.0900 : FisherTranscription(speakerchannel=0, content=\"yeah it looks like we're in that neighborhood too\")\n",
      "183.2600 - 184.1100 : FisherTranscription(speakerchannel=1, content='are you at work now')\n",
      "184.6100 - 190.5900 : FisherTranscription(speakerchannel=0, content=\"um no actually i just came out to my parents house to shovel their driveway and i'm headed back to my office\")\n",
      "190.6500 - 191.3200 : FisherTranscription(speakerchannel=1, content='oh okay')\n",
      "191.6800 - 192.2400 : FisherTranscription(speakerchannel=0, content='(( ))')\n",
      "192.6500 - 194.0100 : FisherTranscription(speakerchannel=0, content='putz around there for a while')\n",
      "194.5600 - 198.5500 : FisherTranscription(speakerchannel=1, content=\"yeah i'm work i figured might as well do these little calls while while i'm at work\")\n",
      "194.7300 - 195.0000 : FisherTranscription(speakerchannel=0, content='but')\n",
      "198.1800 - 200.4200 : FisherTranscription(speakerchannel=0, content='what do you do')\n",
      "200.8000 - 202.1300 : FisherTranscription(speakerchannel=1, content=\"oh i'm an i._t. consultant\")\n",
      "202.7400 - 203.6400 : FisherTranscription(speakerchannel=0, content='i._t. consultant')\n",
      "203.5400 - 205.7800 : FisherTranscription(speakerchannel=1, content='yeah i do computer programming stuff')\n",
      "206.3100 - 206.7500 : FisherTranscription(speakerchannel=0, content='got you')\n",
      "206.7800 - 207.3600 : FisherTranscription(speakerchannel=1, content='what do you do')\n",
      "207.7000 - 208.7400 : FisherTranscription(speakerchannel=0, content=\"i'm a real estate broker\")\n",
      "209.0100 - 209.2700 : FisherTranscription(speakerchannel=1, content='oh')\n",
      "210.1300 - 210.4900 : FisherTranscription(speakerchannel=0, content='so')\n",
      "210.8400 - 213.4000 : FisherTranscription(speakerchannel=0, content=\"it's a slow day in the real estate business but\")\n",
      "214.3300 - 216.1600 : FisherTranscription(speakerchannel=0, content='i have a lot of plenty of paper work to do so')\n",
      "216.7400 - 217.5600 : FisherTranscription(speakerchannel=1, content='how old are you')\n",
      "218.3800 - 219.6200 : FisherTranscription(speakerchannel=0, content='thirty four')\n",
      "219.4000 - 219.9900 : FisherTranscription(speakerchannel=1, content='thirty four')\n",
      "221.3300 - 222.0200 : FisherTranscription(speakerchannel=0, content='and yourself')\n",
      "221.9000 - 222.6200 : FisherTranscription(speakerchannel=1, content='twenty four')\n",
      "226.5800 - 227.9600 : FisherTranscription(speakerchannel=0, content='mhm')\n",
      "228.8500 - 229.3700 : FisherTranscription(speakerchannel=0, content='well')\n",
      "229.8900 - 231.4600 : FisherTranscription(speakerchannel=0, content='what are we three minutes into this')\n",
      "231.5300 - 234.5700 : FisherTranscription(speakerchannel=1, content=\"um my phone actually records it we're almost five minutes actually\")\n",
      "234.8900 - 235.3900 : FisherTranscription(speakerchannel=0, content='okay')\n",
      "235.2000 - 237.3500 : FisherTranscription(speakerchannel=1, content='well since the guy called me the computer guy called me')\n",
      "237.9600 - 238.8000 : FisherTranscription(speakerchannel=0, content='yeah (( ))')\n",
      "239.9200 - 242.8600 : FisherTranscription(speakerchannel=0, content='the probably that was probably simultaneous when they did the uh')\n",
      "242.9300 - 244.6900 : FisherTranscription(speakerchannel=1, content='they just call everybody and then figure out')\n",
      "243.0600 - 243.8000 : FisherTranscription(speakerchannel=0, content='introduction')\n",
      "245.1200 - 246.8700 : FisherTranscription(speakerchannel=1, content='how to connect everybody or something like that')\n",
      "247.2800 - 249.7300 : FisherTranscription(speakerchannel=0, content='so do you do you have any idea what what')\n",
      "249.9100 - 252.4300 : FisherTranscription(speakerchannel=0, content='is behind this program what are they doing what kind of')\n",
      "252.1000 - 253.6400 : FisherTranscription(speakerchannel=1, content='my guess is something with')\n",
      "254.0300 - 255.4200 : FisherTranscription(speakerchannel=1, content=\"where you're from and\")\n",
      "255.6000 - 256.0200 : FisherTranscription(speakerchannel=1, content='different')\n",
      "256.4600 - 257.8700 : FisherTranscription(speakerchannel=1, content='speech patterns or something like that')\n",
      "258.8200 - 261.1700 : FisherTranscription(speakerchannel=1, content=\"but what's the company that you heard about it through what do they do\")\n",
      "258.8800 - 259.6300 : FisherTranscription(speakerchannel=0, content='got you')\n",
      "262.1500 - 262.7300 : FisherTranscription(speakerchannel=0, content='um')\n",
      "263.3000 - 266.8900 : FisherTranscription(speakerchannel=0, content='well my my friend works for the government he works at (( nist ))')\n",
      "267.1700 - 267.6200 : FisherTranscription(speakerchannel=1, content='mhm')\n",
      "268.1200 - 269.3900 : FisherTranscription(speakerchannel=0, content=\"and he's in the uh\")\n",
      "269.7200 - 271.3800 : FisherTranscription(speakerchannel=0, content='automated speech recognition')\n",
      "271.5000 - 272.1000 : FisherTranscription(speakerchannel=0, content='division')\n",
      "272.0200 - 274.5800 : FisherTranscription(speakerchannel=1, content=\"oh okay i bet it's something with that then\")\n",
      "272.2300 - 272.8200 : FisherTranscription(speakerchannel=0, content='i think')\n",
      "275.2000 - 276.2500 : FisherTranscription(speakerchannel=0, content='that would make sense')\n",
      "275.8700 - 278.8400 : FisherTranscription(speakerchannel=1, content='because see my friend works for the linguistics data consortium and they do')\n",
      "279.1800 - 280.0500 : FisherTranscription(speakerchannel=1, content='things like that')\n",
      "280.1600 - 281.4300 : FisherTranscription(speakerchannel=0, content=\"and that's who turned you on to this\")\n",
      "281.8800 - 282.4000 : FisherTranscription(speakerchannel=1, content='what')\n",
      "282.6800 - 284.3300 : FisherTranscription(speakerchannel=0, content=\"that's how you found out about the survey\")\n",
      "283.4700 - 284.0800 : FisherTranscription(speakerchannel=1, content='yeah')\n",
      "284.3700 - 286.6200 : FisherTranscription(speakerchannel=1, content='because when i used to work there we did stuff with um')\n",
      "284.6400 - 285.0800 : FisherTranscription(speakerchannel=0, content='got you')\n",
      "287.1200 - 291.1700 : FisherTranscription(speakerchannel=1, content=\"we'd read news articles and we'd try and figure out what the main topic in the news article was\")\n",
      "292.0000 - 294.5000 : FisherTranscription(speakerchannel=1, content='um and the idea was they were trying to figure out')\n",
      "294.6500 - 297.3100 : FisherTranscription(speakerchannel=1, content='if software could be just as good as humans')\n",
      "297.9800 - 302.1300 : FisherTranscription(speakerchannel=1, content=\"so you'd read an article and say like is it on the topic of you know the war on iraq or something like that\")\n",
      "298.0700 - 298.6200 : FisherTranscription(speakerchannel=0, content='got you')\n",
      "302.3700 - 303.0000 : FisherTranscription(speakerchannel=1, content='and')\n",
      "302.7100 - 303.1400 : FisherTranscription(speakerchannel=0, content='got you')\n",
      "303.7200 - 303.9800 : FisherTranscription(speakerchannel=1, content='some')\n",
      "304.1200 - 305.8900 : FisherTranscription(speakerchannel=0, content=\"so what's your favorite restaurant in new york\")\n",
      "304.3800 - 305.1300 : FisherTranscription(speakerchannel=1, content='(( ))')\n",
      "306.7000 - 307.2200 : FisherTranscription(speakerchannel=1, content='restaurant')\n",
      "307.5600 - 308.1500 : FisherTranscription(speakerchannel=1, content='um')\n",
      "308.3900 - 309.5000 : FisherTranscription(speakerchannel=1, content=\"there's a place called r-\")\n",
      "308.8000 - 310.1100 : FisherTranscription(speakerchannel=0, content=\"what's your favorite type of food\")\n",
      "310.5800 - 311.8300 : FisherTranscription(speakerchannel=1, content='well my favorite')\n",
      "312.0700 - 317.2000 : FisherTranscription(speakerchannel=1, content=\"i like a lot of different kinds of food there's this restaurant called roy's new york and they actually have a few of them around the country i think\")\n",
      "317.2900 - 317.7100 : FisherTranscription(speakerchannel=1, content='um')\n",
      "317.8900 - 318.6000 : FisherTranscription(speakerchannel=1, content='which is sort of like')\n",
      "321.9000 - 322.4200 : FisherTranscription(speakerchannel=0, content='okay')\n",
      "325.9900 - 332.0600 : FisherTranscription(speakerchannel=1, content='and once i had a bad experience and complained about it and then i got a fifty dollar coupon the next time so then they started to')\n",
      "332.2700 - 335.9000 : FisherTranscription(speakerchannel=1, content=\"finding things to (( complain )) about it's like a deal um\")\n",
      "333.9800 - 334.8200 : FisherTranscription(speakerchannel=0, content='no way')\n",
      "336.2300 - 339.1200 : FisherTranscription(speakerchannel=1, content='and actually i just finished a project at work and they said we could')\n",
      "339.7300 - 344.2000 : FisherTranscription(speakerchannel=1, content='do something to celebrate i guess so my coworker and i went there and spent like')\n",
      "344.5900 - 348.5400 : FisherTranscription(speakerchannel=1, content=\"i don't know close to two hundred dollars and a meal it was it was a very good meal\")\n",
      "349.0500 - 349.5500 : FisherTranscription(speakerchannel=0, content='wow')\n",
      "349.4600 - 349.8200 : FisherTranscription(speakerchannel=1, content='because i')\n",
      "349.9400 - 352.2100 : FisherTranscription(speakerchannel=1, content='would not be able to afford that on my own')\n",
      "353.7600 - 354.1200 : FisherTranscription(speakerchannel=1, content='um')\n",
      "353.8100 - 355.8100 : FisherTranscription(speakerchannel=0, content='did you school did you school in new york')\n",
      "356.0800 - 358.8100 : FisherTranscription(speakerchannel=1, content='no i went to um university of pennsylvania in philly')\n",
      "356.7400 - 357.2600 : FisherTranscription(speakerchannel=0, content='as well')\n",
      "359.5200 - 360.0200 : FisherTranscription(speakerchannel=0, content='got you')\n",
      "360.4000 - 361.1400 : FisherTranscription(speakerchannel=1, content=\"where'd you go to school\")\n",
      "361.4800 - 363.3200 : FisherTranscription(speakerchannel=0, content=\"i went to mount saint mary's college\")\n",
      "363.2300 - 363.6400 : FisherTranscription(speakerchannel=1, content='oh yeah')\n",
      "363.8300 - 365.0100 : FisherTranscription(speakerchannel=0, content='in (( amittsburgh )) maryland')\n",
      "364.9800 - 365.2800 : FisherTranscription(speakerchannel=1, content='mhm')\n",
      "366.1700 - 367.6600 : FisherTranscription(speakerchannel=1, content='you like maryland a lot')\n",
      "368.1000 - 368.9600 : FisherTranscription(speakerchannel=0, content='yeah i')\n",
      "369.1700 - 370.2800 : FisherTranscription(speakerchannel=0, content=\"i mean i've lived here all my life\")\n",
      "370.5500 - 371.3700 : FisherTranscription(speakerchannel=0, content='and uh')\n",
      "372.5200 - 374.1800 : FisherTranscription(speakerchannel=0, content=\"so it's it's a nice state it's it's\")\n",
      "374.5300 - 376.6100 : FisherTranscription(speakerchannel=0, content='new york is a fun place to come visit my friend')\n",
      "377.0600 - 379.8700 : FisherTranscription(speakerchannel=0, content='lives who lives up there go up and see him every once in a while but')\n",
      "380.5000 - 382.2600 : FisherTranscription(speakerchannel=0, content=\"i could never live there he's\")\n",
      "382.3900 - 385.5800 : FisherTranscription(speakerchannel=0, content=\"transplanted and swarmed by it and and says he'll never move\")\n",
      "386.3000 - 389.8000 : FisherTranscription(speakerchannel=0, content=\"and uh so it's it's it's nice to go visit and\")\n",
      "390.7000 - 393.8800 : FisherTranscription(speakerchannel=0, content='to spend uh you know long weekend or to see a show but')\n",
      "394.7000 - 395.9600 : FisherTranscription(speakerchannel=0, content='then i got to come home')\n",
      "395.6700 - 398.1400 : FisherTranscription(speakerchannel=1, content='yeah i used to think i can never live here but then')\n",
      "399.1100 - 401.4900 : FisherTranscription(speakerchannel=1, content=\"i don't know once i moved here it's\")\n",
      "400.8600 - 402.2700 : FisherTranscription(speakerchannel=0, content=\"yeah that's what most that happens\")\n",
      "401.8700 - 402.6900 : FisherTranscription(speakerchannel=1, content=\"it's not different\")\n",
      "402.9000 - 404.2100 : FisherTranscription(speakerchannel=1, content=\"it's not that bad once you move here\")\n",
      "404.5600 - 408.9200 : FisherTranscription(speakerchannel=1, content=\"i feel like when you visit you go to all the really crowded areas and do touristy things when you live here you don't\")\n",
      "404.8600 - 405.2600 : FisherTranscription(speakerchannel=0, content='well')\n",
      "407.3700 - 407.8700 : FisherTranscription(speakerchannel=0, content='mhm')\n",
      "409.1500 - 410.0600 : FisherTranscription(speakerchannel=1, content='see that as much')\n",
      "410.2500 - 411.0200 : FisherTranscription(speakerchannel=0, content='right')\n",
      "410.9000 - 412.1200 : FisherTranscription(speakerchannel=1, content=\"it's a great city i love it\")\n",
      "413.4200 - 416.2900 : FisherTranscription(speakerchannel=1, content='i grew up in new jersey so i used to come here a lot when i was a little kid')\n",
      "416.7400 - 417.7000 : FisherTranscription(speakerchannel=0, content='what part of jersey')\n",
      "417.9600 - 419.2600 : FisherTranscription(speakerchannel=1, content='um northern jersey')\n",
      "419.7600 - 420.4100 : FisherTranscription(speakerchannel=1, content='burgen county')\n",
      "421.0800 - 423.1900 : FisherTranscription(speakerchannel=0, content=\"just about everybody from mount saint mary's is from jersey\")\n",
      "423.2300 - 423.9100 : FisherTranscription(speakerchannel=1, content='oh really')\n",
      "424.0300 - 426.9000 : FisherTranscription(speakerchannel=0, content=\"yeah i think jersey's staple crop is college students isn't it\")\n",
      "427.6500 - 430.8700 : FisherTranscription(speakerchannel=0, content=\"it's like what the state produces most of is college students\")\n",
      "430.7800 - 431.7800 : FisherTranscription(speakerchannel=1, content=\"that's funny\")\n",
      "431.2600 - 434.8300 : FisherTranscription(speakerchannel=0, content='no seriously everybody from just about everybody from the mount was')\n",
      "434.9700 - 435.8700 : FisherTranscription(speakerchannel=0, content='from new jersey')\n",
      "435.5200 - 438.9400 : FisherTranscription(speakerchannel=1, content='actually everybody at penn probably was from new jersey too')\n",
      "438.0600 - 439.4100 : FisherTranscription(speakerchannel=0, content=\"oh see that's\")\n",
      "439.1600 - 440.5300 : FisherTranscription(speakerchannel=1, content=\"that's small state\")\n",
      "440.8200 - 441.4800 : FisherTranscription(speakerchannel=0, content=\"that's what jersey\")\n",
      "440.8300 - 443.1700 : FisherTranscription(speakerchannel=1, content=\"see it's a smart state we all go to college\")\n",
      "443.0400 - 445.7200 : FisherTranscription(speakerchannel=0, content=\"are there no colleges in aren't there like there's rutgers\")\n",
      "445.0100 - 446.1200 : FisherTranscription(speakerchannel=1, content='rutgers')\n",
      "445.8600 - 447.0700 : FisherTranscription(speakerchannel=0, content=\"rutgers is in jersey isn't it\")\n",
      "446.8700 - 449.3000 : FisherTranscription(speakerchannel=1, content=\"yeah and the college of new jersey but that's about it\")\n",
      "450.0000 - 450.4200 : FisherTranscription(speakerchannel=0, content=\"that's it\")\n",
      "450.6600 - 454.3100 : FisherTranscription(speakerchannel=1, content='i think for the most part people in new jersey identify with either new york city or philadelphia')\n",
      "454.4600 - 454.9000 : FisherTranscription(speakerchannel=0, content='yeah')\n",
      "454.8100 - 455.2800 : FisherTranscription(speakerchannel=1, content='so')\n",
      "456.6000 - 457.7300 : FisherTranscription(speakerchannel=1, content='people tend to go to')\n",
      "458.1000 - 461.1200 : FisherTranscription(speakerchannel=1, content=\"other states (( )) because there isn't that much to do in new jersey itself\")\n",
      "461.1100 - 461.5100 : FisherTranscription(speakerchannel=0, content='uh-huh')\n",
      "462.2400 - 464.2100 : FisherTranscription(speakerchannel=0, content='so do you know my friend steve louis')\n",
      "464.2900 - 465.9500 : FisherTranscription(speakerchannel=1, content='no')\n",
      "465.2900 - 465.7300 : FisherTranscription(speakerchannel=0, content='no')\n",
      "466.0800 - 466.9500 : FisherTranscription(speakerchannel=1, content='what does he do')\n",
      "466.5200 - 466.9000 : FisherTranscription(speakerchannel=0, content='how about')\n",
      "467.1300 - 468.1400 : FisherTranscription(speakerchannel=0, content='how about shelley')\n",
      "468.2700 - 469.8200 : FisherTranscription(speakerchannel=0, content='no sorry shelby')\n",
      "470.1200 - 470.9300 : FisherTranscription(speakerchannel=0, content='(( lanam ))')\n",
      "471.0600 - 472.0500 : FisherTranscription(speakerchannel=1, content='mm no')\n",
      "471.1600 - 471.5500 : FisherTranscription(speakerchannel=0, content='neither')\n",
      "472.3200 - 472.8300 : FisherTranscription(speakerchannel=0, content='no')\n",
      "472.9700 - 473.3500 : FisherTranscription(speakerchannel=0, content='they were')\n",
      "473.5200 - 474.3100 : FisherTranscription(speakerchannel=0, content=\"they're both uh\")\n",
      "474.7300 - 477.9200 : FisherTranscription(speakerchannel=0, content='they both work for this company called fitz morrison company')\n",
      "478.4400 - 479.5800 : FisherTranscription(speakerchannel=0, content='and um')\n",
      "480.6600 - 481.3900 : FisherTranscription(speakerchannel=0, content='they um')\n",
      "481.5100 - 485.4400 : FisherTranscription(speakerchannel=0, content=\"they actually just got engaged shelby's from l._a. and she lives in new york\")\n",
      "482.9000 - 483.1500 : FisherTranscription(speakerchannel=1, content='oh')\n",
      "485.8100 - 487.9500 : FisherTranscription(speakerchannel=0, content=\"i'm not sure where her place is and steve's\")\n",
      "488.0600 - 489.8900 : FisherTranscription(speakerchannel=0, content='the one who lives at eighty seventh and columbus')\n",
      "490.0300 - 490.4500 : FisherTranscription(speakerchannel=1, content='mhm')\n",
      "490.4000 - 491.2700 : FisherTranscription(speakerchannel=0, content='and um')\n",
      "492.8400 - 493.6500 : FisherTranscription(speakerchannel=0, content='they um')\n",
      "496.3200 - 500.6900 : FisherTranscription(speakerchannel=0, content=\"they met through work they're actually getting married next summer in l._a. that's where she's from\")\n",
      "500.5400 - 501.3700 : FisherTranscription(speakerchannel=1, content=\"oh that's nice\")\n",
      "501.7300 - 502.5900 : FisherTranscription(speakerchannel=0, content='but um')\n",
      "503.3000 - 504.9100 : FisherTranscription(speakerchannel=0, content=\"it's uh it's insurance\")\n",
      "505.9900 - 507.3400 : FisherTranscription(speakerchannel=0, content='corporate insurance basically')\n"
     ]
    }
   ],
   "source": [
    "print(\"Example Annotation:\\n\")\n",
    "ann = annotations[0][0]\n",
    "with ann.samplerate_as(1.):  # prints start-end times in seconds\n",
    "    print(ann)"
   ]
  },
  {
   "cell_type": "markdown",
   "metadata": {
    "deletable": true,
    "editable": true
   },
   "source": [
    "### Fisher Active Speakers\n",
    "\n",
    "[ ] TODO"
   ]
  },
  {
   "cell_type": "code",
   "execution_count": 10,
   "metadata": {
    "ExecuteTime": {
     "end_time": "2017-03-23T13:42:13.288779Z",
     "start_time": "2017-03-23T14:41:43.599638+01:00"
    },
    "collapsed": false,
    "deletable": true,
    "editable": true
   },
   "outputs": [
    {
     "name": "stdout",
     "output_type": "stream",
     "text": [
      "ACTIVESPEAKERS read for total 5850 label files with calldata\n"
     ]
    }
   ],
   "source": [
    "activespeakers = []\n",
    "for group_fps in label_fps:\n",
    "    activespeakers.append([fe.FisherActiveSpeakers.from_file(fp, \n",
    "                                                             warn=False, \n",
    "                                                             allcalldata=calldatas)\n",
    "                           for fp in group_fps])\n",
    "    \n",
    "print(\"ACTIVESPEAKERS read for total {} label files with calldata\".format(sum(map(len, activespeakers))))"
   ]
  },
  {
   "cell_type": "code",
   "execution_count": 11,
   "metadata": {
    "ExecuteTime": {
     "end_time": "2017-03-23T13:42:13.479335Z",
     "start_time": "2017-03-23T14:42:13.291516+01:00"
    },
    "collapsed": true,
    "deletable": true,
    "editable": true
   },
   "outputs": [
    {
     "name": "stdout",
     "output_type": "stream",
     "text": [
      "Example activespeakers:\n",
      "\n",
      "Source filepath:\n",
      "/Users/abdullah/Delve/iais/rennet/data/working/fisher/fe_03_p1m/raw/labels/data/disc1/000/fe_03_00001.txt\n",
      "\n",
      "Calldata:\n",
      "FisherCallData(callid='00001', topicid='ENG34', signalgrade=2.0, convgrade=2.0, channelspeakers=[FisherChannelSpeaker(id='2602', gender='m', dialect='a', phone_service='1'), FisherChannelSpeaker(id='1790', gender='f', dialect='a', phone_service='3')])\n",
      "\n",
      "FisherActiveSpeakers with sample rate: 1.0\n",
      "Start    - End      : Label\n",
      "0.0000   - 3.7600   : [0 0]\n",
      "3.7600   - 5.5400   : [1 0]\n",
      "5.5400   - 5.8200   : [0 0]\n",
      "5.8200   - 6.4800   : [1 0]\n",
      "6.4800   - 7.9200   : [0 0]\n",
      "7.9200   - 9.5200   : [0 1]\n",
      "9.5200   - 10.0500  : [0 0]\n",
      "10.0500  - 10.8800  : [1 0]\n",
      "10.8800  - 11.8200  : [0 0]\n",
      "11.8200  - 12.3100  : [1 0]\n",
      "12.3100  - 12.4900  : [0 0]\n",
      "12.4900  - 13.5900  : [0 1]\n",
      "13.5900  - 13.9600  : [1 1]\n",
      "13.9600  - 14.0400  : [0 1]\n",
      "14.0400  - 14.4700  : [0 0]\n",
      "14.4700  - 15.6400  : [1 0]\n",
      "15.6400  - 15.7300  : [1 1]\n",
      "15.7300  - 18.5100  : [0 1]\n",
      "18.5100  - 19.0700  : [0 0]\n",
      "19.0700  - 19.5600  : [1 0]\n",
      "19.5600  - 20.0600  : [0 0]\n",
      "20.0600  - 20.1900  : [0 1]\n",
      "20.1900  - 20.4600  : [1 1]\n",
      "20.4600  - 21.2500  : [1 0]\n",
      "21.2500  - 21.7000  : [0 0]\n",
      "21.7000  - 24.0200  : [0 1]\n",
      "24.0200  - 24.4500  : [0 0]\n",
      "24.4500  - 24.9100  : [1 0]\n",
      "24.9100  - 25.0900  : [0 0]\n",
      "25.0900  - 25.7000  : [0 1]\n",
      "25.7000  - 26.3600  : [0 0]\n",
      "26.3600  - 28.0600  : [0 1]\n",
      "28.0600  - 29.6500  : [0 0]\n",
      "29.6500  - 30.8400  : [0 1]\n",
      "30.8400  - 31.3300  : [0 0]\n",
      "31.3300  - 32.5800  : [1 0]\n",
      "32.5800  - 32.7600  : [0 0]\n",
      "32.7600  - 34.1600  : [0 1]\n",
      "34.1600  - 34.9000  : [0 0]\n",
      "34.9000  - 35.6400  : [1 0]\n",
      "35.6400  - 37.1400  : [0 0]\n",
      "37.1400  - 40.4900  : [1 0]\n",
      "40.4900  - 40.7200  : [0 0]\n",
      "40.7200  - 41.6200  : [1 0]\n",
      "41.6200  - 42.2100  : [0 0]\n",
      "42.2100  - 44.0300  : [1 0]\n",
      "44.0300  - 44.4000  : [0 0]\n",
      "44.4000  - 45.9500  : [1 0]\n",
      "45.9500  - 46.5600  : [0 0]\n",
      "46.5600  - 47.0100  : [0 1]\n",
      "47.0100  - 47.3300  : [0 0]\n",
      "47.3300  - 48.1500  : [0 1]\n",
      "48.1500  - 48.3300  : [0 0]\n",
      "48.3300  - 48.8900  : [0 1]\n",
      "48.8900  - 49.3200  : [0 0]\n",
      "49.3200  - 51.6600  : [0 1]\n",
      "51.6600  - 51.6800  : [1 1]\n",
      "51.6800  - 52.3400  : [1 0]\n",
      "52.3400  - 52.5500  : [0 0]\n",
      "52.5500  - 54.1800  : [0 1]\n",
      "54.1800  - 54.3000  : [0 0]\n",
      "54.3000  - 54.8000  : [1 0]\n",
      "54.8000  - 55.5500  : [1 1]\n",
      "55.5500  - 56.2700  : [0 1]\n",
      "56.2700  - 56.8400  : [1 0]\n",
      "56.8400  - 57.2200  : [0 0]\n",
      "57.2200  - 58.1000  : [0 1]\n",
      "58.1000  - 58.2300  : [0 0]\n",
      "58.2300  - 60.0500  : [1 0]\n",
      "60.0500  - 60.3600  : [0 0]\n",
      "60.3600  - 61.0700  : [0 1]\n",
      "61.0700  - 61.4400  : [0 0]\n",
      "61.4400  - 61.4500  : [1 0]\n",
      "61.4500  - 61.8300  : [1 1]\n",
      "61.8300  - 62.3600  : [0 1]\n",
      "62.3600  - 63.0600  : [1 1]\n",
      "63.0600  - 63.1000  : [1 0]\n",
      "63.1000  - 63.3400  : [0 0]\n",
      "63.3400  - 63.8000  : [1 0]\n",
      "63.8000  - 64.8100  : [0 0]\n",
      "64.8100  - 65.2700  : [0 1]\n",
      "65.2700  - 65.6600  : [0 0]\n",
      "65.6600  - 66.8400  : [0 1]\n",
      "66.8400  - 67.6700  : [0 0]\n",
      "67.6700  - 67.7000  : [1 0]\n",
      "67.7000  - 68.2700  : [1 1]\n",
      "68.2700  - 68.3600  : [1 0]\n",
      "68.3600  - 68.6100  : [0 0]\n",
      "68.6100  - 69.5000  : [0 1]\n",
      "69.5000  - 69.7900  : [1 1]\n",
      "69.7900  - 70.1100  : [0 1]\n",
      "70.1100  - 70.7700  : [0 0]\n",
      "70.7700  - 70.9200  : [0 1]\n",
      "70.9200  - 71.7700  : [1 1]\n",
      "71.7700  - 73.3000  : [1 0]\n",
      "73.3000  - 73.3700  : [1 1]\n",
      "73.3700  - 73.8400  : [0 1]\n",
      "73.8400  - 74.1500  : [0 0]\n",
      "74.1500  - 76.0700  : [1 0]\n",
      "76.0700  - 76.2900  : [1 1]\n",
      "76.2900  - 76.9700  : [0 1]\n",
      "76.9700  - 77.6000  : [1 1]\n",
      "77.6000  - 78.3500  : [1 0]\n",
      "78.3500  - 78.4400  : [0 0]\n",
      "78.4400  - 79.7800  : [0 1]\n",
      "79.7800  - 79.8800  : [0 0]\n",
      "79.8800  - 80.1900  : [0 1]\n",
      "80.1900  - 80.4300  : [0 0]\n",
      "80.4300  - 82.1300  : [0 1]\n",
      "82.1300  - 82.4300  : [0 0]\n",
      "82.4300  - 82.8700  : [1 0]\n",
      "82.8700  - 83.3300  : [1 1]\n",
      "83.3300  - 84.3800  : [1 0]\n",
      "84.3800  - 84.8600  : [0 0]\n",
      "84.8600  - 87.3300  : [1 0]\n",
      "87.3300  - 88.0400  : [0 0]\n",
      "88.0400  - 89.0000  : [1 0]\n",
      "89.0000  - 89.1700  : [0 0]\n",
      "89.1700  - 89.3100  : [0 1]\n",
      "89.3100  - 90.0300  : [1 1]\n",
      "90.0300  - 91.7400  : [1 0]\n",
      "91.7400  - 92.4600  : [0 0]\n",
      "92.4600  - 96.2700  : [0 1]\n",
      "96.2700  - 96.6400  : [0 0]\n",
      "96.6400  - 97.5500  : [0 1]\n",
      "97.5500  - 97.7200  : [0 0]\n",
      "97.7200  - 99.6000  : [0 1]\n",
      "99.6000  - 99.9100  : [0 0]\n",
      "99.9100  - 100.3700 : [1 0]\n",
      "100.3700 - 100.5100 : [0 0]\n",
      "100.5100 - 100.9300 : [0 1]\n",
      "100.9300 - 102.7800 : [0 0]\n",
      "102.7800 - 104.7300 : [1 0]\n",
      "104.7300 - 105.1000 : [1 1]\n",
      "105.1000 - 105.6200 : [0 1]\n",
      "105.6200 - 106.1500 : [0 0]\n",
      "106.1500 - 108.5200 : [0 1]\n",
      "108.5200 - 109.1700 : [0 0]\n",
      "109.1700 - 109.8900 : [0 1]\n",
      "109.8900 - 111.8500 : [1 0]\n",
      "111.8500 - 111.8900 : [0 0]\n",
      "111.8900 - 113.5100 : [0 1]\n",
      "113.5100 - 114.2000 : [0 0]\n",
      "114.2000 - 115.3900 : [1 0]\n",
      "115.3900 - 115.4600 : [1 1]\n",
      "115.4600 - 117.2500 : [0 1]\n",
      "117.2500 - 118.5300 : [0 0]\n",
      "118.5300 - 120.8800 : [1 0]\n",
      "120.8800 - 121.1200 : [1 1]\n",
      "121.1200 - 121.2700 : [0 1]\n",
      "121.2700 - 122.0300 : [0 0]\n",
      "122.0300 - 124.0600 : [0 1]\n",
      "124.0600 - 124.7500 : [0 0]\n",
      "124.7500 - 126.3100 : [0 1]\n",
      "126.3100 - 127.2700 : [0 0]\n",
      "127.2700 - 128.3900 : [1 0]\n",
      "128.3900 - 128.8400 : [1 1]\n",
      "128.8400 - 130.2200 : [0 1]\n",
      "130.2200 - 130.5400 : [0 0]\n",
      "130.5400 - 131.0400 : [1 0]\n",
      "131.0400 - 131.9400 : [1 1]\n",
      "131.9400 - 132.0000 : [1 0]\n",
      "132.0000 - 132.3900 : [0 0]\n",
      "132.3900 - 132.9600 : [0 1]\n",
      "132.9600 - 133.3600 : [0 0]\n",
      "133.3600 - 133.9500 : [1 0]\n",
      "133.9500 - 134.0400 : [1 1]\n",
      "134.0400 - 134.3000 : [0 1]\n",
      "134.3000 - 135.0200 : [0 0]\n",
      "135.0200 - 136.2500 : [1 0]\n",
      "136.2500 - 136.7400 : [0 0]\n",
      "136.7400 - 138.6100 : [1 0]\n",
      "138.6100 - 138.8200 : [1 1]\n",
      "138.8200 - 141.0800 : [0 1]\n",
      "141.0800 - 141.4600 : [0 0]\n",
      "141.4600 - 141.8900 : [1 0]\n",
      "141.8900 - 142.2600 : [1 1]\n",
      "142.2600 - 142.7600 : [0 1]\n",
      "142.7600 - 142.9500 : [1 1]\n",
      "142.9500 - 144.8300 : [1 0]\n",
      "144.8300 - 145.2800 : [0 0]\n",
      "145.2800 - 146.2600 : [0 1]\n",
      "146.2600 - 146.4400 : [0 0]\n",
      "146.4400 - 146.5200 : [0 1]\n",
      "146.5200 - 147.2800 : [1 1]\n",
      "147.2800 - 147.9300 : [0 1]\n",
      "147.9300 - 148.1000 : [1 1]\n",
      "148.1000 - 150.2800 : [1 0]\n",
      "150.2800 - 150.3200 : [0 0]\n",
      "150.3200 - 151.4300 : [0 1]\n",
      "151.4300 - 151.9200 : [0 0]\n",
      "151.9200 - 152.2700 : [1 0]\n",
      "152.2700 - 153.4900 : [0 0]\n",
      "153.4900 - 154.2200 : [1 0]\n",
      "154.2200 - 154.9800 : [0 0]\n",
      "154.9800 - 156.4000 : [0 1]\n",
      "156.4000 - 156.8100 : [0 0]\n",
      "156.8100 - 158.1500 : [1 0]\n",
      "158.1500 - 158.7300 : [1 1]\n",
      "158.7300 - 158.7400 : [1 0]\n",
      "158.7400 - 158.9100 : [0 0]\n",
      "158.9100 - 160.8600 : [1 0]\n",
      "160.8600 - 161.0100 : [0 0]\n",
      "161.0100 - 161.6000 : [0 1]\n",
      "161.6000 - 161.9700 : [0 0]\n",
      "161.9700 - 164.5700 : [1 0]\n",
      "164.5700 - 165.2400 : [0 0]\n",
      "165.2400 - 165.9000 : [0 1]\n",
      "165.9000 - 166.5200 : [0 0]\n",
      "166.5200 - 167.0600 : [1 0]\n",
      "167.0600 - 167.7900 : [0 0]\n",
      "167.7900 - 169.3900 : [1 0]\n",
      "169.3900 - 169.8900 : [0 0]\n",
      "169.8900 - 171.8300 : [1 0]\n",
      "171.8300 - 171.9100 : [0 0]\n",
      "171.9100 - 174.6200 : [0 1]\n",
      "174.6200 - 174.9100 : [0 0]\n",
      "174.9100 - 178.0400 : [0 1]\n",
      "178.0400 - 178.1700 : [0 0]\n",
      "178.1700 - 179.9500 : [0 1]\n",
      "179.9500 - 181.0000 : [0 0]\n",
      "181.0000 - 183.0900 : [1 0]\n",
      "183.0900 - 183.2600 : [0 0]\n",
      "183.2600 - 184.1100 : [0 1]\n",
      "184.1100 - 184.6100 : [0 0]\n",
      "184.6100 - 190.5900 : [1 0]\n",
      "190.5900 - 190.6500 : [0 0]\n",
      "190.6500 - 191.3200 : [0 1]\n",
      "191.3200 - 191.6800 : [0 0]\n",
      "191.6800 - 192.2400 : [1 0]\n",
      "192.2400 - 192.6500 : [0 0]\n",
      "192.6500 - 194.0100 : [1 0]\n",
      "194.0100 - 194.5600 : [0 0]\n",
      "194.5600 - 194.7300 : [0 1]\n",
      "194.7300 - 195.0000 : [1 1]\n",
      "195.0000 - 198.1800 : [0 1]\n",
      "198.1800 - 198.5500 : [1 1]\n",
      "198.5500 - 200.4200 : [1 0]\n",
      "200.4200 - 200.8000 : [0 0]\n",
      "200.8000 - 202.1300 : [0 1]\n",
      "202.1300 - 202.7400 : [0 0]\n",
      "202.7400 - 203.5400 : [1 0]\n",
      "203.5400 - 203.6400 : [1 1]\n",
      "203.6400 - 205.7800 : [0 1]\n",
      "205.7800 - 206.3100 : [0 0]\n",
      "206.3100 - 206.7500 : [1 0]\n",
      "206.7500 - 206.7800 : [0 0]\n",
      "206.7800 - 207.3600 : [0 1]\n",
      "207.3600 - 207.7000 : [0 0]\n",
      "207.7000 - 208.7400 : [1 0]\n",
      "208.7400 - 209.0100 : [0 0]\n",
      "209.0100 - 209.2700 : [0 1]\n",
      "209.2700 - 210.1300 : [0 0]\n",
      "210.1300 - 210.4900 : [1 0]\n",
      "210.4900 - 210.8400 : [0 0]\n",
      "210.8400 - 213.4000 : [1 0]\n",
      "213.4000 - 214.3300 : [0 0]\n",
      "214.3300 - 216.1600 : [1 0]\n",
      "216.1600 - 216.7400 : [0 0]\n",
      "216.7400 - 217.5600 : [0 1]\n",
      "217.5600 - 218.3800 : [0 0]\n",
      "218.3800 - 219.4000 : [1 0]\n",
      "219.4000 - 219.6200 : [1 1]\n",
      "219.6200 - 219.9900 : [0 1]\n",
      "219.9900 - 221.3300 : [0 0]\n",
      "221.3300 - 221.9000 : [1 0]\n",
      "221.9000 - 222.0200 : [1 1]\n",
      "222.0200 - 222.6200 : [0 1]\n",
      "222.6200 - 226.5800 : [0 0]\n",
      "226.5800 - 227.9600 : [1 0]\n",
      "227.9600 - 228.8500 : [0 0]\n",
      "228.8500 - 229.3700 : [1 0]\n",
      "229.3700 - 229.8900 : [0 0]\n",
      "229.8900 - 231.4600 : [1 0]\n",
      "231.4600 - 231.5300 : [0 0]\n",
      "231.5300 - 234.5700 : [0 1]\n",
      "234.5700 - 234.8900 : [0 0]\n",
      "234.8900 - 235.2000 : [1 0]\n",
      "235.2000 - 235.3900 : [1 1]\n",
      "235.3900 - 237.3500 : [0 1]\n",
      "237.3500 - 237.9600 : [0 0]\n",
      "237.9600 - 238.8000 : [1 0]\n",
      "238.8000 - 239.9200 : [0 0]\n",
      "239.9200 - 242.8600 : [1 0]\n",
      "242.8600 - 242.9300 : [0 0]\n",
      "242.9300 - 243.0600 : [0 1]\n",
      "243.0600 - 243.8000 : [1 1]\n",
      "243.8000 - 244.6900 : [0 1]\n",
      "244.6900 - 245.1200 : [0 0]\n",
      "245.1200 - 246.8700 : [0 1]\n",
      "246.8700 - 247.2800 : [0 0]\n",
      "247.2800 - 249.7300 : [1 0]\n",
      "249.7300 - 249.9100 : [0 0]\n",
      "249.9100 - 252.1000 : [1 0]\n",
      "252.1000 - 252.4300 : [1 1]\n",
      "252.4300 - 253.6400 : [0 1]\n",
      "253.6400 - 254.0300 : [0 0]\n",
      "254.0300 - 255.4200 : [0 1]\n",
      "255.4200 - 255.6000 : [0 0]\n",
      "255.6000 - 256.0200 : [0 1]\n",
      "256.0200 - 256.4600 : [0 0]\n",
      "256.4600 - 257.8700 : [0 1]\n",
      "257.8700 - 258.8200 : [0 0]\n",
      "258.8200 - 258.8800 : [0 1]\n",
      "258.8800 - 259.6300 : [1 1]\n",
      "259.6300 - 261.1700 : [0 1]\n",
      "261.1700 - 262.1500 : [0 0]\n",
      "262.1500 - 262.7300 : [1 0]\n",
      "262.7300 - 263.3000 : [0 0]\n",
      "263.3000 - 266.8900 : [1 0]\n",
      "266.8900 - 267.1700 : [0 0]\n",
      "267.1700 - 267.6200 : [0 1]\n",
      "267.6200 - 268.1200 : [0 0]\n",
      "268.1200 - 269.3900 : [1 0]\n",
      "269.3900 - 269.7200 : [0 0]\n",
      "269.7200 - 271.3800 : [1 0]\n",
      "271.3800 - 271.5000 : [0 0]\n",
      "271.5000 - 272.0200 : [1 0]\n",
      "272.0200 - 272.1000 : [1 1]\n",
      "272.1000 - 272.2300 : [0 1]\n",
      "272.2300 - 272.8200 : [1 1]\n",
      "272.8200 - 274.5800 : [0 1]\n",
      "274.5800 - 275.2000 : [0 0]\n",
      "275.2000 - 275.8700 : [1 0]\n",
      "275.8700 - 276.2500 : [1 1]\n",
      "276.2500 - 278.8400 : [0 1]\n",
      "278.8400 - 279.1800 : [0 0]\n",
      "279.1800 - 280.0500 : [0 1]\n",
      "280.0500 - 280.1600 : [0 0]\n",
      "280.1600 - 281.4300 : [1 0]\n",
      "281.4300 - 281.8800 : [0 0]\n",
      "281.8800 - 282.4000 : [0 1]\n",
      "282.4000 - 282.6800 : [0 0]\n",
      "282.6800 - 283.4700 : [1 0]\n",
      "283.4700 - 284.0800 : [1 1]\n",
      "284.0800 - 284.3300 : [1 0]\n",
      "284.3300 - 284.3700 : [0 0]\n",
      "284.3700 - 284.6400 : [0 1]\n",
      "284.6400 - 285.0800 : [1 1]\n",
      "285.0800 - 286.6200 : [0 1]\n",
      "286.6200 - 287.1200 : [0 0]\n",
      "287.1200 - 291.1700 : [0 1]\n",
      "291.1700 - 292.0000 : [0 0]\n",
      "292.0000 - 294.5000 : [0 1]\n",
      "294.5000 - 294.6500 : [0 0]\n",
      "294.6500 - 297.3100 : [0 1]\n",
      "297.3100 - 297.9800 : [0 0]\n",
      "297.9800 - 298.0700 : [0 1]\n",
      "298.0700 - 298.6200 : [1 1]\n",
      "298.6200 - 302.1300 : [0 1]\n",
      "302.1300 - 302.3700 : [0 0]\n",
      "302.3700 - 302.7100 : [0 1]\n",
      "302.7100 - 303.0000 : [1 1]\n",
      "303.0000 - 303.1400 : [1 0]\n",
      "303.1400 - 303.7200 : [0 0]\n",
      "303.7200 - 303.9800 : [0 1]\n",
      "303.9800 - 304.1200 : [0 0]\n",
      "304.1200 - 304.3800 : [1 0]\n",
      "304.3800 - 305.1300 : [1 1]\n",
      "305.1300 - 305.8900 : [1 0]\n",
      "305.8900 - 306.7000 : [0 0]\n",
      "306.7000 - 307.2200 : [0 1]\n",
      "307.2200 - 307.5600 : [0 0]\n",
      "307.5600 - 308.1500 : [0 1]\n",
      "308.1500 - 308.3900 : [0 0]\n",
      "308.3900 - 308.8000 : [0 1]\n",
      "308.8000 - 309.5000 : [1 1]\n",
      "309.5000 - 310.1100 : [1 0]\n",
      "310.1100 - 310.5800 : [0 0]\n",
      "310.5800 - 311.8300 : [0 1]\n",
      "311.8300 - 312.0700 : [0 0]\n",
      "312.0700 - 317.2000 : [0 1]\n",
      "317.2000 - 317.2900 : [0 0]\n",
      "317.2900 - 317.7100 : [0 1]\n",
      "317.7100 - 317.8900 : [0 0]\n",
      "317.8900 - 318.6000 : [0 1]\n",
      "318.6000 - 321.9000 : [0 0]\n",
      "321.9000 - 322.4200 : [1 0]\n",
      "322.4200 - 325.9900 : [0 0]\n",
      "325.9900 - 332.0600 : [0 1]\n",
      "332.0600 - 332.2700 : [0 0]\n",
      "332.2700 - 333.9800 : [0 1]\n",
      "333.9800 - 334.8200 : [1 1]\n",
      "334.8200 - 335.9000 : [0 1]\n",
      "335.9000 - 336.2300 : [0 0]\n",
      "336.2300 - 339.1200 : [0 1]\n",
      "339.1200 - 339.7300 : [0 0]\n",
      "339.7300 - 344.2000 : [0 1]\n",
      "344.2000 - 344.5900 : [0 0]\n",
      "344.5900 - 348.5400 : [0 1]\n",
      "348.5400 - 349.0500 : [0 0]\n",
      "349.0500 - 349.4600 : [1 0]\n",
      "349.4600 - 349.5500 : [1 1]\n",
      "349.5500 - 349.8200 : [0 1]\n",
      "349.8200 - 349.9400 : [0 0]\n",
      "349.9400 - 352.2100 : [0 1]\n",
      "352.2100 - 353.7600 : [0 0]\n",
      "353.7600 - 353.8100 : [0 1]\n",
      "353.8100 - 354.1200 : [1 1]\n",
      "354.1200 - 355.8100 : [1 0]\n",
      "355.8100 - 356.0800 : [0 0]\n",
      "356.0800 - 356.7400 : [0 1]\n",
      "356.7400 - 357.2600 : [1 1]\n",
      "357.2600 - 358.8100 : [0 1]\n",
      "358.8100 - 359.5200 : [0 0]\n",
      "359.5200 - 360.0200 : [1 0]\n",
      "360.0200 - 360.4000 : [0 0]\n",
      "360.4000 - 361.1400 : [0 1]\n",
      "361.1400 - 361.4800 : [0 0]\n",
      "361.4800 - 363.2300 : [1 0]\n",
      "363.2300 - 363.3200 : [1 1]\n",
      "363.3200 - 363.6400 : [0 1]\n",
      "363.6400 - 363.8300 : [0 0]\n",
      "363.8300 - 364.9800 : [1 0]\n",
      "364.9800 - 365.0100 : [1 1]\n",
      "365.0100 - 365.2800 : [0 1]\n",
      "365.2800 - 366.1700 : [0 0]\n",
      "366.1700 - 367.6600 : [0 1]\n",
      "367.6600 - 368.1000 : [0 0]\n",
      "368.1000 - 368.9600 : [1 0]\n",
      "368.9600 - 369.1700 : [0 0]\n",
      "369.1700 - 370.2800 : [1 0]\n",
      "370.2800 - 370.5500 : [0 0]\n",
      "370.5500 - 371.3700 : [1 0]\n",
      "371.3700 - 372.5200 : [0 0]\n",
      "372.5200 - 374.1800 : [1 0]\n",
      "374.1800 - 374.5300 : [0 0]\n",
      "374.5300 - 376.6100 : [1 0]\n",
      "376.6100 - 377.0600 : [0 0]\n",
      "377.0600 - 379.8700 : [1 0]\n",
      "379.8700 - 380.5000 : [0 0]\n",
      "380.5000 - 382.2600 : [1 0]\n",
      "382.2600 - 382.3900 : [0 0]\n",
      "382.3900 - 385.5800 : [1 0]\n",
      "385.5800 - 386.3000 : [0 0]\n",
      "386.3000 - 389.8000 : [1 0]\n",
      "389.8000 - 390.7000 : [0 0]\n",
      "390.7000 - 393.8800 : [1 0]\n",
      "393.8800 - 394.7000 : [0 0]\n",
      "394.7000 - 395.6700 : [1 0]\n",
      "395.6700 - 395.9600 : [1 1]\n",
      "395.9600 - 398.1400 : [0 1]\n",
      "398.1400 - 399.1100 : [0 0]\n",
      "399.1100 - 400.8600 : [0 1]\n",
      "400.8600 - 401.4900 : [1 1]\n",
      "401.4900 - 401.8700 : [1 0]\n",
      "401.8700 - 402.2700 : [1 1]\n",
      "402.2700 - 402.6900 : [0 1]\n",
      "402.6900 - 402.9000 : [0 0]\n",
      "402.9000 - 404.2100 : [0 1]\n",
      "404.2100 - 404.5600 : [0 0]\n",
      "404.5600 - 404.8600 : [0 1]\n",
      "404.8600 - 405.2600 : [1 1]\n",
      "405.2600 - 407.3700 : [0 1]\n",
      "407.3700 - 407.8700 : [1 1]\n",
      "407.8700 - 408.9200 : [0 1]\n",
      "408.9200 - 409.1500 : [0 0]\n",
      "409.1500 - 410.0600 : [0 1]\n",
      "410.0600 - 410.2500 : [0 0]\n",
      "410.2500 - 410.9000 : [1 0]\n",
      "410.9000 - 411.0200 : [1 1]\n",
      "411.0200 - 412.1200 : [0 1]\n",
      "412.1200 - 413.4200 : [0 0]\n",
      "413.4200 - 416.2900 : [0 1]\n",
      "416.2900 - 416.7400 : [0 0]\n",
      "416.7400 - 417.7000 : [1 0]\n",
      "417.7000 - 417.9600 : [0 0]\n",
      "417.9600 - 419.2600 : [0 1]\n",
      "419.2600 - 419.7600 : [0 0]\n",
      "419.7600 - 420.4100 : [0 1]\n",
      "420.4100 - 421.0800 : [0 0]\n",
      "421.0800 - 423.1900 : [1 0]\n",
      "423.1900 - 423.2300 : [0 0]\n",
      "423.2300 - 423.9100 : [0 1]\n",
      "423.9100 - 424.0300 : [0 0]\n",
      "424.0300 - 426.9000 : [1 0]\n",
      "426.9000 - 427.6500 : [0 0]\n",
      "427.6500 - 430.7800 : [1 0]\n",
      "430.7800 - 430.8700 : [1 1]\n",
      "430.8700 - 431.2600 : [0 1]\n",
      "431.2600 - 431.7800 : [1 1]\n",
      "431.7800 - 434.8300 : [1 0]\n",
      "434.8300 - 434.9700 : [0 0]\n",
      "434.9700 - 435.5200 : [1 0]\n",
      "435.5200 - 435.8700 : [1 1]\n",
      "435.8700 - 438.0600 : [0 1]\n",
      "438.0600 - 438.9400 : [1 1]\n",
      "438.9400 - 439.1600 : [1 0]\n",
      "439.1600 - 439.4100 : [1 1]\n",
      "439.4100 - 440.5300 : [0 1]\n",
      "440.5300 - 440.8200 : [0 0]\n",
      "440.8200 - 440.8300 : [1 0]\n",
      "440.8300 - 441.4800 : [1 1]\n",
      "441.4800 - 443.0400 : [0 1]\n",
      "443.0400 - 443.1700 : [1 1]\n",
      "443.1700 - 445.0100 : [1 0]\n",
      "445.0100 - 445.7200 : [1 1]\n",
      "445.7200 - 445.8600 : [0 1]\n",
      "445.8600 - 446.1200 : [1 1]\n",
      "446.1200 - 446.8700 : [1 0]\n",
      "446.8700 - 447.0700 : [1 1]\n",
      "447.0700 - 449.3000 : [0 1]\n",
      "449.3000 - 450.0000 : [0 0]\n",
      "450.0000 - 450.4200 : [1 0]\n",
      "450.4200 - 450.6600 : [0 0]\n",
      "450.6600 - 454.3100 : [0 1]\n",
      "454.3100 - 454.4600 : [0 0]\n",
      "454.4600 - 454.8100 : [1 0]\n",
      "454.8100 - 454.9000 : [1 1]\n",
      "454.9000 - 455.2800 : [0 1]\n",
      "455.2800 - 456.6000 : [0 0]\n",
      "456.6000 - 457.7300 : [0 1]\n",
      "457.7300 - 458.1000 : [0 0]\n",
      "458.1000 - 461.1100 : [0 1]\n",
      "461.1100 - 461.1200 : [1 1]\n",
      "461.1200 - 461.5100 : [1 0]\n",
      "461.5100 - 462.2400 : [0 0]\n",
      "462.2400 - 464.2100 : [1 0]\n",
      "464.2100 - 464.2900 : [0 0]\n",
      "464.2900 - 465.2900 : [0 1]\n",
      "465.2900 - 465.7300 : [1 1]\n",
      "465.7300 - 465.9500 : [0 1]\n",
      "465.9500 - 466.0800 : [0 0]\n",
      "466.0800 - 466.5200 : [0 1]\n",
      "466.5200 - 466.9000 : [1 1]\n",
      "466.9000 - 466.9500 : [0 1]\n",
      "466.9500 - 467.1300 : [0 0]\n",
      "467.1300 - 468.1400 : [1 0]\n",
      "468.1400 - 468.2700 : [0 0]\n",
      "468.2700 - 469.8200 : [1 0]\n",
      "469.8200 - 470.1200 : [0 0]\n",
      "470.1200 - 470.9300 : [1 0]\n",
      "470.9300 - 471.0600 : [0 0]\n",
      "471.0600 - 471.1600 : [0 1]\n",
      "471.1600 - 471.5500 : [1 1]\n",
      "471.5500 - 472.0500 : [0 1]\n",
      "472.0500 - 472.3200 : [0 0]\n",
      "472.3200 - 472.8300 : [1 0]\n",
      "472.8300 - 472.9700 : [0 0]\n",
      "472.9700 - 473.3500 : [1 0]\n",
      "473.3500 - 473.5200 : [0 0]\n",
      "473.5200 - 474.3100 : [1 0]\n",
      "474.3100 - 474.7300 : [0 0]\n",
      "474.7300 - 477.9200 : [1 0]\n",
      "477.9200 - 478.4400 : [0 0]\n",
      "478.4400 - 479.5800 : [1 0]\n",
      "479.5800 - 480.6600 : [0 0]\n",
      "480.6600 - 481.3900 : [1 0]\n",
      "481.3900 - 481.5100 : [0 0]\n",
      "481.5100 - 482.9000 : [1 0]\n",
      "482.9000 - 483.1500 : [1 1]\n",
      "483.1500 - 485.4400 : [1 0]\n",
      "485.4400 - 485.8100 : [0 0]\n",
      "485.8100 - 487.9500 : [1 0]\n",
      "487.9500 - 488.0600 : [0 0]\n",
      "488.0600 - 489.8900 : [1 0]\n",
      "489.8900 - 490.0300 : [0 0]\n",
      "490.0300 - 490.4000 : [0 1]\n",
      "490.4000 - 490.4500 : [1 1]\n",
      "490.4500 - 491.2700 : [1 0]\n",
      "491.2700 - 492.8400 : [0 0]\n",
      "492.8400 - 493.6500 : [1 0]\n",
      "493.6500 - 496.3200 : [0 0]\n",
      "496.3200 - 500.5400 : [1 0]\n",
      "500.5400 - 500.6900 : [1 1]\n",
      "500.6900 - 501.3700 : [0 1]\n",
      "501.3700 - 501.7300 : [0 0]\n",
      "501.7300 - 502.5900 : [1 0]\n",
      "502.5900 - 503.3000 : [0 0]\n",
      "503.3000 - 504.9100 : [1 0]\n",
      "504.9100 - 505.9900 : [0 0]\n",
      "505.9900 - 507.3400 : [1 0]\n"
     ]
    }
   ],
   "source": [
    "print(\"Example activespeakers:\\n\")\n",
    "act = activespeakers[0][0]\n",
    "with act.samplerate_as(1.):  # prints start-end times in seconds\n",
    "    print(act)"
   ]
  },
  {
   "cell_type": "markdown",
   "metadata": {
    "collapsed": true,
    "deletable": true,
    "editable": true
   },
   "source": [
    "## Durations analysis\n",
    "\n",
    "> **NOTE**\n",
    ">\n",
    "> All the analysis below is done purely based on the durations annotated.\n",
    ">\n",
    "> This only guarantees a minimum bound on the duration values, since the silences \n",
    "> at the end of the calls are not annotated.\n",
    ">\n",
    "> Nevertheless, all speech and double-speech segment durations should be accurate.\n",
    ">\n",
    "> More accurate duration values should be extracted from the audio files themselves, \n",
    "> especially when the entire dataset is at hand"
   ]
  },
  {
   "cell_type": "code",
   "execution_count": 12,
   "metadata": {
    "ExecuteTime": {
     "end_time": "2017-03-23T13:42:13.490092Z",
     "start_time": "2017-03-23T14:42:13.481738+01:00"
    },
    "collapsed": true
   },
   "outputs": [],
   "source": [
    "def split_seconds(seconds):\n",
    "    m, s = divmod(seconds, 60)\n",
    "    h, m = divmod(m, 60)\n",
    "    return int(h), int(m), round(s, 2)\n",
    "\n",
    "def print_splitsec(duration, name):\n",
    "    print(\"{} : {:10.2f} seconds = {}\".format(\n",
    "        name, duration, \n",
    "        \"{:4} : {:2} : {:5.2f}\".format(*split_seconds(duration))\n",
    "    ))"
   ]
  },
  {
   "cell_type": "markdown",
   "metadata": {},
   "source": [
    "### Total Durations - Over files"
   ]
  },
  {
   "cell_type": "code",
   "execution_count": 13,
   "metadata": {
    "ExecuteTime": {
     "end_time": "2017-03-23T13:42:13.648354Z",
     "start_time": "2017-03-23T14:42:13.492903+01:00"
    },
    "collapsed": false
   },
   "outputs": [],
   "source": [
    "total_durations_grouped = []\n",
    "for actg in activespeakers:\n",
    "    total_durationsg = []\n",
    "    for act in actg:\n",
    "        with act.samplerate_as(100):  # max resolution is 1ms, mostly\n",
    "            total_durationsg.append(int(act.ends[-1]))\n",
    "    total_durations_grouped.append(np.array(total_durationsg) / 100)\n",
    "    \n",
    "file_durations = np.concatenate(total_durations_grouped)"
   ]
  },
  {
   "cell_type": "code",
   "execution_count": 14,
   "metadata": {
    "ExecuteTime": {
     "end_time": "2017-03-23T13:42:13.673734Z",
     "start_time": "2017-03-23T14:42:13.654432+01:00"
    },
    "collapsed": false
   },
   "outputs": [
    {
     "name": "stdout",
     "output_type": "stream",
     "text": [
      "Audio Durations\n",
      "Total    : 3482482.03 seconds =  967 : 21 : 22.03\n",
      "Minimum  :     339.43 seconds =    0 :  5 : 39.43\n",
      "Maximum  :     719.96 seconds =    0 : 11 : 59.96\n",
      "Mean     :     595.30 seconds =    0 :  9 : 55.30\n",
      "Std      :      32.99 seconds =    0 :  0 : 32.99\n"
     ]
    }
   ],
   "source": [
    "print(\"Audio Durations\")\n",
    "print_splitsec(np.sum(file_durations),   \"Total   \")\n",
    "print_splitsec(np.min(file_durations),   \"Minimum \")\n",
    "print_splitsec(np.max(file_durations),   \"Maximum \")\n",
    "print_splitsec(np.mean(file_durations),  \"Mean    \")\n",
    "print_splitsec(np.std(file_durations),   \"Std     \")"
   ]
  },
  {
   "cell_type": "code",
   "execution_count": 15,
   "metadata": {
    "ExecuteTime": {
     "end_time": "2017-03-23T13:42:14.583766Z",
     "start_time": "2017-03-23T14:42:13.678125+01:00"
    },
    "collapsed": false
   },
   "outputs": [
    {
     "data": {
      "text/plain": [
       "<matplotlib.lines.Line2D at 0x117b1eda0>"
      ]
     },
     "execution_count": 15,
     "metadata": {},
     "output_type": "execute_result"
    },
    {
     "data": {
      "image/png": "[encoded data removed]",
      "text/plain": [
       "<matplotlib.figure.Figure at 0x114bacb70>"
      ]
     },
     "metadata": {},
     "output_type": "display_data"
    },
    {
     "data": {
      "image/png": "[encoded data removed]",
      "text/plain": [
       "<matplotlib.figure.Figure at 0x1024f10f0>"
      ]
     },
     "metadata": {},
     "output_type": "display_data"
    }
   ],
   "source": [
    "duration_bins = np.arange(300, 780, 5)  # every 5 seconds, till 13 minutes\n",
    "\n",
    "plt.figure()\n",
    "_ = plt.hist(file_durations, bins=duration_bins,)\n",
    "plt.axvline(file_durations.mean(), c='r')  # MEAN in RED\n",
    "\n",
    "# avoid clipping\n",
    "plt.figure()\n",
    "_ = plt.hist(file_durations, bins=duration_bins,)\n",
    "plt.ylim([0, 100])\n",
    "plt.axvline(file_durations.mean(), c='r')  # MEAN in RED"
   ]
  },
  {
   "cell_type": "markdown",
   "metadata": {},
   "source": [
    "#### Results\n",
    "\n",
    "[ ] TODO"
   ]
  },
  {
   "cell_type": "markdown",
   "metadata": {},
   "source": [
    "### Total Durations - Over Groups"
   ]
  },
  {
   "cell_type": "code",
   "execution_count": 16,
   "metadata": {
    "ExecuteTime": {
     "end_time": "2017-03-23T13:42:14.590546Z",
     "start_time": "2017-03-23T14:42:14.586093+01:00"
    },
    "collapsed": true
   },
   "outputs": [],
   "source": [
    "group_durations = np.array(list(map(sum, total_durations_grouped)))"
   ]
  },
  {
   "cell_type": "code",
   "execution_count": 17,
   "metadata": {
    "ExecuteTime": {
     "end_time": "2017-03-23T13:42:14.602143Z",
     "start_time": "2017-03-23T14:42:14.593255+01:00"
    },
    "collapsed": false
   },
   "outputs": [
    {
     "name": "stdout",
     "output_type": "stream",
     "text": [
      "Group Durations\n",
      "Total    : 3482482.03 seconds =  967 : 21 : 22.03\n",
      "Minimum  :   30434.81 seconds =    8 : 27 : 14.81\n",
      "Maximum  :   63725.15 seconds =   17 : 42 :  5.15\n",
      "Mean     :   59025.12 seconds =   16 : 23 : 45.12\n",
      "Std      :    4013.30 seconds =    1 :  6 : 53.30\n"
     ]
    }
   ],
   "source": [
    "print(\"Group Durations\")\n",
    "print_splitsec(np.sum(group_durations),   \"Total   \")\n",
    "print_splitsec(np.min(group_durations),   \"Minimum \")\n",
    "print_splitsec(np.max(group_durations),   \"Maximum \")\n",
    "print_splitsec(np.mean(group_durations),  \"Mean    \")\n",
    "print_splitsec(np.std(group_durations),   \"Std     \")"
   ]
  },
  {
   "cell_type": "code",
   "execution_count": 18,
   "metadata": {
    "ExecuteTime": {
     "end_time": "2017-03-23T13:42:15.206947Z",
     "start_time": "2017-03-23T14:42:14.605035+01:00"
    },
    "collapsed": false
   },
   "outputs": [
    {
     "data": {
      "text/plain": [
       "<matplotlib.lines.Line2D at 0x117eb6da0>"
      ]
     },
     "execution_count": 18,
     "metadata": {},
     "output_type": "execute_result"
    },
    {
     "data": {
      "image/png": "[encoded data removed]",
      "text/plain": [
       "<matplotlib.figure.Figure at 0x117b24cc0>"
      ]
     },
     "metadata": {},
     "output_type": "display_data"
    },
    {
     "data": {
      "image/png": "[encoded data removed]",
      "text/plain": [
       "<matplotlib.figure.Figure at 0x117e00828>"
      ]
     },
     "metadata": {},
     "output_type": "display_data"
    }
   ],
   "source": [
    "duration_bins = np.arange(8, 18, 15/60)  # every 15 minutes, till 18 hours\n",
    "\n",
    "plt.figure()\n",
    "_ = plt.hist(group_durations/3600, bins=duration_bins,)\n",
    "plt.axvline(group_durations.mean()/3600, c='r')  # MEAN in RED\n",
    "\n",
    "# avoid clipping\n",
    "plt.figure()\n",
    "_ = plt.hist(group_durations/3600, bins=duration_bins,)\n",
    "plt.ylim([0, 100])\n",
    "plt.axvline(group_durations.mean()/3600, c='r')  # MEAN in RED\n"
   ]
  },
  {
   "cell_type": "code",
   "execution_count": 19,
   "metadata": {
    "ExecuteTime": {
     "end_time": "2017-03-23T13:42:15.411509Z",
     "start_time": "2017-03-23T14:42:15.209332+01:00"
    },
    "collapsed": false
   },
   "outputs": [
    {
     "data": {
      "text/plain": [
       "[<matplotlib.lines.Line2D at 0x1180b7cc0>]"
      ]
     },
     "execution_count": 19,
     "metadata": {},
     "output_type": "execute_result"
    },
    {
     "data": {
      "image/png": "[encoded data removed]",
      "text/plain": [
       "<matplotlib.figure.Figure at 0x114bac6a0>"
      ]
     },
     "metadata": {},
     "output_type": "display_data"
    }
   ],
   "source": [
    "plt.figure()\n",
    "plt.plot(group_durations/3600, '-', marker='.')"
   ]
  },
  {
   "cell_type": "markdown",
   "metadata": {},
   "source": [
    "#### Results\n",
    "\n",
    "- The last group (059) is half the length, and has fewer files\n",
    "- All of the groups have similar total durations and 100 files, except the first and last groups which have 99 and 51 files, respectively"
   ]
  },
  {
   "cell_type": "markdown",
   "metadata": {},
   "source": [
    "### Validation, Train and Test Splits based on group durations\n",
    "\n",
    "The idea is that, there is so much data, that splitting based just on groups should be enough.\n",
    "\n",
    "- The variances across the groups are expected to be insignificant, wrt double-talk and it's contributing factors\n",
    "    + even 1% of the data is in actuality 9 hours long, roughly 10x what ka3 has.\n",
    "    + [ ] **Needs to be tested** based on those parameters, eg gender-ratios, dt-durations, dt-occurances, recording-conditions, dialects, etc\n",
    "- It is very easy to assign groups, or even entire discs to a particular split.\n",
    "    + ***IDEALLY*** this whole thing should be randomized\n",
    "- Cross-validation on this dataset, even if arguably will be good, it is definitely impractical\n",
    "    + a 90-10 train-test split seems more than enough, given 10% will be roughly 90 hours\n",
    "    + Again, **Variances should be tested for** beforehand\n",
    "- This subset of the dataset only has disc1, so choosing a constant validation set (probably the entire group `000`) would help with continuity\n",
    "    + The rest of the dataset available will be used for training while on the Mac\n",
    "    + The test set, probably the entire last disc (`disc7`) would be available at unumpu"
   ]
  },
  {
   "cell_type": "code",
   "execution_count": 20,
   "metadata": {
    "ExecuteTime": {
     "end_time": "2017-03-23T13:42:15.426368Z",
     "start_time": "2017-03-23T14:42:15.413655+01:00"
    },
    "collapsed": false
   },
   "outputs": [
    {
     "name": "stdout",
     "output_type": "stream",
     "text": [
      "    VAL with  1 groups and   99 files\n",
      "    TRN with 52 groups and 5200 files\n",
      "    TST with  6 groups and  551 files\n",
      "TRN+VAL with 53 groups and 5299 files\n"
     ]
    }
   ],
   "source": [
    "val_groups = [0]\n",
    "\n",
    "tis = 53\n",
    "tst_groups = list(range(tis, len(group_durations)))\n",
    "\n",
    "trn_groups = list(filter(lambda v: ((v not in val_groups) and \n",
    "                                    (v not in tst_groups)), \n",
    "                         range(len(group_durations))))\n",
    "\n",
    "trn_val_groups = np.concatenate([val_groups, trn_groups])\n",
    "\n",
    "print(\"    VAL with {:2} groups and {:4} files\".format(len(val_groups), sum(map(len, [activespeakers[i] for i in val_groups]))))\n",
    "print(\"    TRN with {:2} groups and {:4} files\".format(len(trn_groups), sum(map(len, [activespeakers[i] for i in trn_groups]))))\n",
    "print(\"    TST with {:2} groups and {:4} files\".format(len(tst_groups), sum(map(len, [activespeakers[i] for i in tst_groups]))))\n",
    "print(\"TRN+VAL with {:2} groups and {:4} files\".format(len(trn_val_groups), sum(map(len, [activespeakers[i] for i in trn_val_groups]))))"
   ]
  },
  {
   "cell_type": "code",
   "execution_count": 21,
   "metadata": {
    "ExecuteTime": {
     "end_time": "2017-03-23T13:42:15.440827Z",
     "start_time": "2017-03-23T14:42:15.429334+01:00"
    },
    "collapsed": false
   },
   "outputs": [
    {
     "name": "stdout",
     "output_type": "stream",
     "text": [
      "Train-Test Split - Groups Durations\n",
      "TRN+VAL: 90.53% : 3152817.45 seconds =  875 : 46 : 57.45\n",
      "TST    :  9.47% :  329664.58 seconds =   91 : 34 : 24.58\n",
      "\n",
      "Train-Val Split - Groups Durations\n",
      "TRN    : 98.03% : 3090555.71 seconds =  858 : 29 : 15.71\n",
      "VAL    :  1.97% :   62261.74 seconds =   17 : 17 : 41.74\n"
     ]
    }
   ],
   "source": [
    "print(\"Train-Test Split - Groups Durations\")\n",
    "print_splitsec(np.sum(group_durations[trn_val_groups]),\n",
    "               \"TRN+VAL: {:5.2f}%\".format(100 * group_durations[trn_val_groups].sum()/group_durations.sum()))\n",
    "print_splitsec(np.sum(group_durations[tst_groups]),\n",
    "               \"TST    : {:5.2f}%\".format(100 * group_durations[tst_groups].sum()/group_durations.sum()))\n",
    "\n",
    "print()\n",
    "print(\"Train-Val Split - Groups Durations\")\n",
    "print_splitsec(np.sum(group_durations[trn_groups]),\n",
    "               \"TRN    : {:5.2f}%\".format(100 * group_durations[trn_groups].sum()/group_durations[trn_val_groups].sum()))\n",
    "print_splitsec(np.sum(group_durations[val_groups]),\n",
    "               \"VAL    : {:5.2f}%\".format(100 * group_durations[val_groups].sum()/group_durations[trn_val_groups].sum()))\n"
   ]
  },
  {
   "cell_type": "code",
   "execution_count": 22,
   "metadata": {
    "ExecuteTime": {
     "end_time": "2017-03-23T13:42:15.469669Z",
     "start_time": "2017-03-23T14:42:15.443306+01:00"
    },
    "collapsed": false
   },
   "outputs": [
    {
     "name": "stdout",
     "output_type": "stream",
     "text": [
      "VAL Discs:\n",
      " disc1 \n",
      "\n",
      "TRN Discs:\n",
      " disc1 disc2 disc3 disc4 disc5 disc6 \n",
      "\n",
      "TST Discs:\n",
      " disc7 \n",
      "\n",
      "TRN+VAL Discs:\n",
      " disc1 disc2 disc3 disc4 disc5 disc6 \n",
      "\n"
     ]
    }
   ],
   "source": [
    "disc_name_for_group = lambda fp: os.path.basename(os.path.dirname(fp))\n",
    "at = lambda l, i: [l[ii] for ii in i]\n",
    "\n",
    "tst_discs = np.unique(list(map(disc_name_for_group, at(label_groups_dirs, tst_groups))))\n",
    "trn_discs = np.unique(list(map(disc_name_for_group, at(label_groups_dirs, trn_groups))))\n",
    "val_discs = np.unique(list(map(disc_name_for_group, at(label_groups_dirs, val_groups))))\n",
    "trn_val_discs = np.unique(list(map(disc_name_for_group, at(label_groups_dirs, trn_val_groups))))\n",
    "\n",
    "print(\"VAL Discs:\\n\", *val_discs, '\\n')\n",
    "print(\"TRN Discs:\\n\", *trn_discs, '\\n')\n",
    "print(\"TST Discs:\\n\", *tst_discs, '\\n')\n",
    "print(\"TRN+VAL Discs:\\n\", *trn_val_discs, '\\n')"
   ]
  },
  {
   "cell_type": "markdown",
   "metadata": {},
   "source": [
    "#### Results\n",
    "\n",
    "- Assigning all groups from `disc7` to test set affords >91 hours of data, around 9.5% of total\n",
    "    + The rest of the dataset is available for training and validation\n",
    "- Assigning group `000` exclusively for validation affords >17 hours of data, around 2% of non-test data\n",
    "    + It is still a lot of data to run validation after every-epoch, but that has to handled separately\n",
    "    + All the train-data groups then have 100 files each, making it easy to predict some things, like size of feature-pickles\n",
    "    + more can be added, either from the train-set itself, or from the test-set as well\n",
    "\n",
    "**NEVERTHELESS**, all this will be for naught if there are glaring variances across the splits"
   ]
  },
  {
   "cell_type": "code",
   "execution_count": null,
   "metadata": {
    "collapsed": true
   },
   "outputs": [],
   "source": []
  },
  {
   "cell_type": "code",
   "execution_count": null,
   "metadata": {
    "collapsed": true
   },
   "outputs": [],
   "source": []
  },
  {
   "cell_type": "code",
   "execution_count": null,
   "metadata": {
    "collapsed": true
   },
   "outputs": [],
   "source": []
  },
  {
   "cell_type": "code",
   "execution_count": null,
   "metadata": {
    "collapsed": true
   },
   "outputs": [],
   "source": []
  },
  {
   "cell_type": "code",
   "execution_count": null,
   "metadata": {
    "collapsed": true
   },
   "outputs": [],
   "source": []
  },
  {
   "cell_type": "code",
   "execution_count": null,
   "metadata": {
    "collapsed": true
   },
   "outputs": [],
   "source": []
  },
  {
   "cell_type": "code",
   "execution_count": null,
   "metadata": {
    "collapsed": true
   },
   "outputs": [],
   "source": []
  },
  {
   "cell_type": "code",
   "execution_count": null,
   "metadata": {
    "collapsed": true
   },
   "outputs": [],
   "source": []
  },
  {
   "cell_type": "code",
   "execution_count": null,
   "metadata": {
    "collapsed": false,
    "deletable": true,
    "editable": true
   },
   "outputs": [],
   "source": []
  },
  {
   "cell_type": "code",
   "execution_count": null,
   "metadata": {
    "collapsed": true
   },
   "outputs": [],
   "source": []
  },
  {
   "cell_type": "code",
   "execution_count": null,
   "metadata": {
    "collapsed": true
   },
   "outputs": [],
   "source": []
  },
  {
   "cell_type": "code",
   "execution_count": null,
   "metadata": {
    "collapsed": true
   },
   "outputs": [],
   "source": []
  },
  {
   "cell_type": "code",
   "execution_count": null,
   "metadata": {
    "collapsed": true
   },
   "outputs": [],
   "source": []
  },
  {
   "cell_type": "code",
   "execution_count": null,
   "metadata": {
    "collapsed": true
   },
   "outputs": [],
   "source": []
  },
  {
   "cell_type": "code",
   "execution_count": null,
   "metadata": {
    "collapsed": true
   },
   "outputs": [],
   "source": []
  },
  {
   "cell_type": "code",
   "execution_count": null,
   "metadata": {
    "collapsed": true
   },
   "outputs": [],
   "source": []
  },
  {
   "cell_type": "code",
   "execution_count": null,
   "metadata": {
    "collapsed": true
   },
   "outputs": [],
   "source": []
  },
  {
   "cell_type": "code",
   "execution_count": null,
   "metadata": {
    "collapsed": true
   },
   "outputs": [],
   "source": []
  },
  {
   "cell_type": "code",
   "execution_count": null,
   "metadata": {
    "collapsed": true
   },
   "outputs": [],
   "source": []
  },
  {
   "cell_type": "code",
   "execution_count": null,
   "metadata": {
    "collapsed": true
   },
   "outputs": [],
   "source": []
  },
  {
   "cell_type": "code",
   "execution_count": null,
   "metadata": {
    "collapsed": true
   },
   "outputs": [],
   "source": []
  },
  {
   "cell_type": "code",
   "execution_count": null,
   "metadata": {
    "collapsed": true
   },
   "outputs": [],
   "source": []
  },
  {
   "cell_type": "code",
   "execution_count": null,
   "metadata": {
    "collapsed": true
   },
   "outputs": [],
   "source": []
  },
  {
   "cell_type": "code",
   "execution_count": null,
   "metadata": {
    "collapsed": true
   },
   "outputs": [],
   "source": []
  }
 ],
 "metadata": {
  "anaconda-cloud": {},
  "hide_input": false,
  "kernelspec": {
   "display_name": "Python [conda env:r3]",
   "language": "python",
   "name": "conda-env-r3-py"
  },
  "language_info": {
   "codemirror_mode": {
    "name": "ipython",
    "version": 3
   },
   "file_extension": ".py",
   "mimetype": "text/x-python",
   "name": "python",
   "nbconvert_exporter": "python",
   "pygments_lexer": "ipython3",
   "version": "3.5.3"
  },
  "latex_envs": {
   "bibliofile": "biblio.bib",
   "cite_by": "apalike",
   "current_citInitial": 1,
   "eqLabelWithNumbers": true,
   "eqNumInitial": 0
  },
  "nav_menu": {},
  "toc": {
   "nav_menu": {
    "height": "182px",
    "width": "400px"
   },
   "navigate_menu": true,
   "number_sections": true,
   "sideBar": true,
   "threshold": 6,
   "toc_cell": false,
   "toc_section_display": "block",
   "toc_window_display": true
  }
 },
 "nbformat": 4,
 "nbformat_minor": 1
}

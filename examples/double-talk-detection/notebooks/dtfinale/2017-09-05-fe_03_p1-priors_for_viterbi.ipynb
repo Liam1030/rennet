{
 "cells": [
  {
   "cell_type": "code",
   "execution_count": 1,
   "metadata": {
    "ExecuteTime": {
     "end_time": "2017-09-05T16:04:31.242008",
     "start_time": "2017-09-05T16:04:31.237202"
    },
    "collapsed": false
   },
   "outputs": [
    {
     "name": "stdout",
     "output_type": "stream",
     "text": [
      "/nm-raid/audio/work/abdullah/nm-rennet/rennet-x/data\n"
     ]
    }
   ],
   "source": [
    "import sys\n",
    "import os\n",
    "\n",
    "sys.path.append(os.environ['RENNET_ROOT'])\n",
    "data_root = os.environ['RENNET_DATA_ROOT']\n",
    "print(data_root)"
   ]
  },
  {
   "cell_type": "code",
   "execution_count": 2,
   "metadata": {
    "ExecuteTime": {
     "end_time": "2017-09-05T16:04:34.886397",
     "start_time": "2017-09-05T16:04:31.471510"
    },
    "collapsed": true
   },
   "outputs": [],
   "source": [
    "import numpy as np\n",
    "import glob\n",
    "from h5py import File as hFile"
   ]
  },
  {
   "cell_type": "code",
   "execution_count": 3,
   "metadata": {
    "ExecuteTime": {
     "end_time": "2017-09-05T16:04:35.393966",
     "start_time": "2017-09-05T16:04:34.887395"
    },
    "collapsed": true
   },
   "outputs": [],
   "source": [
    "import rennet.utils.np_utils as nu\n",
    "import rennet.datasets.fisher as fe"
   ]
  },
  {
   "cell_type": "code",
   "execution_count": 5,
   "metadata": {
    "ExecuteTime": {
     "end_time": "2017-09-05T16:06:49.720165",
     "start_time": "2017-09-05T16:06:49.716824"
    },
    "collapsed": false
   },
   "outputs": [],
   "source": [
    "pickles = glob.glob(os.path.join(data_root, 'working', 'fisher', 'fe_03_p1', 'wav-8k-mono', 'pickles', '*logmel64*'))[0]\n",
    "trn_h5 = os.path.join(pickles, 'trn.h5')\n",
    "val_h5 = os.path.join(pickles, 'val.h5')"
   ]
  },
  {
   "cell_type": "code",
   "execution_count": 6,
   "metadata": {
    "ExecuteTime": {
     "end_time": "2017-09-05T16:08:55.634126",
     "start_time": "2017-09-05T16:08:55.628516"
    },
    "collapsed": true
   },
   "outputs": [],
   "source": [
    "trn_ip = fe.UnnormedFramewiseInputsProvider.for_callids(\n",
    "        trn_h5,\n",
    "        callids='all',\n",
    "        data_context=10,\n",
    "        add_channel_at_end=False,\n",
    "        label_subcontext=0,\n",
    "        steps_per_chunk=1,\n",
    "        classkeyfn=np.argmax,  # for categorical labels\n",
    "        class_subsample_to_ratios=1.,\n",
    "        shuffle_seed=None,  # never shuffled\n",
    "        npasses=1, )\n",
    "\n",
    "val_ip = fe.UnnormedFramewiseInputsProvider.for_callids(\n",
    "        val_h5,\n",
    "        callids='all',\n",
    "        data_context=10,\n",
    "        add_channel_at_end=False,\n",
    "        label_subcontext=0,\n",
    "        steps_per_chunk=1,\n",
    "        classkeyfn=np.argmax,  # for categorical labels\n",
    "        class_subsample_to_ratios=1.,\n",
    "        shuffle_seed=None,  # never shuffled\n",
    "        npasses=1, )"
   ]
  },
  {
   "cell_type": "code",
   "execution_count": 21,
   "metadata": {
    "ExecuteTime": {
     "end_time": "2017-09-05T16:24:14.741122",
     "start_time": "2017-09-05T16:24:14.730286"
    },
    "collapsed": true
   },
   "outputs": [],
   "source": [
    "def priors(inputs_provider):\n",
    "    currn = None\n",
    "\n",
    "    init = None\n",
    "    tran = None\n",
    "    prior = None\n",
    "    for xy, (_, chunking) in inputs_provider.flow(\n",
    "            indefinitely=False,\n",
    "            only_labels=True,\n",
    "            with_chunking=True, ):\n",
    "\n",
    "        true = xy[1].astype(int)\n",
    "        if currn is None:\n",
    "            currn = chunking.labelpath\n",
    "            init = true[0, ...]\n",
    "            prior = true.sum(axis=0)\n",
    "            tran = nu.confusion_matrix_forcategorical(true[:-1], true[1:])\n",
    "            continue\n",
    "        elif chunking.labelpath != currn:\n",
    "            init += true[0, ...]\n",
    "            currn = chunking.labelpath\n",
    "            \n",
    "        \n",
    "        prior += true.sum(axis=0)\n",
    "        tran += nu.confusion_matrix_forcategorical(true[:-1], true[1:])\n",
    "\n",
    "    return init, tran, prior\n"
   ]
  },
  {
   "cell_type": "code",
   "execution_count": 22,
   "metadata": {
    "ExecuteTime": {
     "end_time": "2017-09-05T16:24:17.101441",
     "start_time": "2017-09-05T16:24:16.154517"
    },
    "collapsed": false
   },
   "outputs": [],
   "source": [
    "vinit, vtran, vprior = priors(val_ip)"
   ]
  },
  {
   "cell_type": "code",
   "execution_count": 23,
   "metadata": {
    "ExecuteTime": {
     "end_time": "2017-09-05T16:24:17.801069",
     "start_time": "2017-09-05T16:24:17.795871"
    },
    "collapsed": false
   },
   "outputs": [
    {
     "data": {
      "text/plain": [
       "(array([ 904419, 4234941,  447584]),\n",
       " 5586944,\n",
       " array([ 0.16188081,  0.7580067 ,  0.08011249]))"
      ]
     },
     "execution_count": 23,
     "metadata": {},
     "output_type": "execute_result"
    }
   ],
   "source": [
    "vprior, vprior.sum(), vprior/vprior.sum()"
   ]
  },
  {
   "cell_type": "code",
   "execution_count": 24,
   "metadata": {
    "ExecuteTime": {
     "end_time": "2017-09-05T16:24:18.783179",
     "start_time": "2017-09-05T16:24:18.778802"
    },
    "collapsed": false
   },
   "outputs": [
    {
     "data": {
      "text/plain": [
       "(array([[ 890116,   14211,      26],\n",
       "        [  14251, 4212846,    7599],\n",
       "        [     13,    7599,  439942]]),\n",
       " 5586603,\n",
       " array([ 904353, 4234696,  447554]),\n",
       " array([[  9.84257254e-01,   1.57139966e-02,   2.87498355e-05],\n",
       "        [  3.36529470e-03,   9.94840244e-01,   1.79446175e-03],\n",
       "        [  2.90467742e-05,   1.69789567e-02,   9.82991996e-01]]))"
      ]
     },
     "execution_count": 24,
     "metadata": {},
     "output_type": "execute_result"
    }
   ],
   "source": [
    "vtran, vtran.sum(), vtran.sum(axis=1), nu.normalize_confusion_matrix(vtran)[1]"
   ]
  },
  {
   "cell_type": "code",
   "execution_count": 25,
   "metadata": {
    "ExecuteTime": {
     "end_time": "2017-09-05T16:24:19.661427",
     "start_time": "2017-09-05T16:24:19.657784"
    },
    "collapsed": false
   },
   "outputs": [
    {
     "data": {
      "text/plain": [
       "(array([ 0, 99,  0]), 99, array([ 0.,  1.,  0.]))"
      ]
     },
     "execution_count": 25,
     "metadata": {},
     "output_type": "execute_result"
    }
   ],
   "source": [
    "vinit, vinit.sum(), vinit / vinit.sum()"
   ]
  },
  {
   "cell_type": "code",
   "execution_count": 26,
   "metadata": {
    "ExecuteTime": {
     "end_time": "2017-09-05T16:25:02.799103",
     "start_time": "2017-09-05T16:24:46.266533"
    },
    "collapsed": true
   },
   "outputs": [],
   "source": [
    "tinit, ttran, tprior = priors(trn_ip)"
   ]
  },
  {
   "cell_type": "code",
   "execution_count": 27,
   "metadata": {
    "ExecuteTime": {
     "end_time": "2017-09-05T16:25:08.865154",
     "start_time": "2017-09-05T16:25:08.860931"
    },
    "collapsed": false
   },
   "outputs": [
    {
     "data": {
      "text/plain": [
       "(array([ 8786183, 45852093,  5654844]),\n",
       " 60293120,\n",
       " array([ 0.14572447,  0.76048632,  0.09378921]))"
      ]
     },
     "execution_count": 27,
     "metadata": {},
     "output_type": "execute_result"
    }
   ],
   "source": [
    "tprior, tprior.sum(), tprior/tprior.sum()"
   ]
  },
  {
   "cell_type": "code",
   "execution_count": 28,
   "metadata": {
    "ExecuteTime": {
     "end_time": "2017-09-05T16:25:30.079943",
     "start_time": "2017-09-05T16:25:30.075478"
    },
    "collapsed": false
   },
   "outputs": [
    {
     "data": {
      "text/plain": [
       "(array([[ 8652702,   132681,      235],\n",
       "        [  133020, 45628715,    87602],\n",
       "        [     107,    87585,  5566793]]),\n",
       " 60289440,\n",
       " array([ 8785618, 45849337,  5654485]),\n",
       " array([[  9.84871184e-01,   1.51020679e-02,   2.67482606e-05],\n",
       "        [  2.90124152e-03,   9.95188109e-01,   1.91064922e-03],\n",
       "        [  1.89230319e-05,   1.54894743e-02,   9.84491603e-01]]))"
      ]
     },
     "execution_count": 28,
     "metadata": {},
     "output_type": "execute_result"
    }
   ],
   "source": [
    "ttran, ttran.sum(), ttran.sum(axis=1), nu.normalize_confusion_matrix(ttran)[1]"
   ]
  },
  {
   "cell_type": "code",
   "execution_count": 29,
   "metadata": {
    "ExecuteTime": {
     "end_time": "2017-09-05T16:25:58.472859",
     "start_time": "2017-09-05T16:25:58.467581"
    },
    "collapsed": false
   },
   "outputs": [
    {
     "data": {
      "text/plain": [
       "(array([   0, 1196,    4]),\n",
       " 1200,\n",
       " array([ 0.        ,  0.99666667,  0.00333333]))"
      ]
     },
     "execution_count": 29,
     "metadata": {},
     "output_type": "execute_result"
    }
   ],
   "source": [
    "tinit, tinit.sum(), tinit / tinit.sum()"
   ]
  },
  {
   "cell_type": "code",
   "execution_count": 30,
   "metadata": {
    "ExecuteTime": {
     "end_time": "2017-09-05T16:26:49.534263",
     "start_time": "2017-09-05T16:26:49.531699"
    },
    "collapsed": true
   },
   "outputs": [],
   "source": [
    "init = vinit + tinit\n",
    "tran = vtran + ttran\n",
    "prior = vprior + tprior"
   ]
  },
  {
   "cell_type": "code",
   "execution_count": 31,
   "metadata": {
    "ExecuteTime": {
     "end_time": "2017-09-05T16:28:16.552807",
     "start_time": "2017-09-05T16:28:16.548921"
    },
    "collapsed": false
   },
   "outputs": [
    {
     "data": {
      "text/plain": [
       "(array([ 9690602, 50087034,  6102428]),\n",
       " 65880064,\n",
       " array([ 0.14709461,  0.76027604,  0.09262936]))"
      ]
     },
     "execution_count": 31,
     "metadata": {},
     "output_type": "execute_result"
    }
   ],
   "source": [
    "prior, prior.sum(), prior/prior.sum()"
   ]
  },
  {
   "cell_type": "code",
   "execution_count": 32,
   "metadata": {
    "ExecuteTime": {
     "end_time": "2017-09-05T16:28:37.737225",
     "start_time": "2017-09-05T16:28:37.732583"
    },
    "collapsed": false
   },
   "outputs": [
    {
     "data": {
      "text/plain": [
       "(array([[ 9542818,   146892,      261],\n",
       "        [  147271, 49841561,    95201],\n",
       "        [     120,    95184,  6006735]]),\n",
       " 65876043,\n",
       " array([ 9689971, 50084033,  6102039]),\n",
       " array([[  9.84813886e-01,   1.51591785e-02,   2.69350651e-05],\n",
       "        [  2.94047806e-03,   9.95158697e-01,   1.90082536e-03],\n",
       "        [  1.96655577e-05,   1.55987204e-02,   9.84381614e-01]]))"
      ]
     },
     "execution_count": 32,
     "metadata": {},
     "output_type": "execute_result"
    }
   ],
   "source": [
    "tran, tran.sum(), tran.sum(axis=1), nu.normalize_confusion_matrix(tran)[1]"
   ]
  },
  {
   "cell_type": "code",
   "execution_count": 33,
   "metadata": {
    "ExecuteTime": {
     "end_time": "2017-09-05T16:28:55.264676",
     "start_time": "2017-09-05T16:28:55.260653"
    },
    "collapsed": false
   },
   "outputs": [
    {
     "data": {
      "text/plain": [
       "(array([   0, 1295,    4]),\n",
       " 1299,\n",
       " array([ 0.        ,  0.99692071,  0.00307929]))"
      ]
     },
     "execution_count": 33,
     "metadata": {},
     "output_type": "execute_result"
    }
   ],
   "source": [
    "init, init.sum(), init / init.sum()"
   ]
  },
  {
   "cell_type": "code",
   "execution_count": 34,
   "metadata": {
    "ExecuteTime": {
     "end_time": "2017-09-05T16:30:14.711811",
     "start_time": "2017-09-05T16:30:14.708778"
    },
    "collapsed": false
   },
   "outputs": [
    {
     "data": {
      "text/plain": [
       "'/nm-raid/audio/work/abdullah/nm-rennet/rennet-x/data/../outputs/eval/priors.h5'"
      ]
     },
     "execution_count": 34,
     "metadata": {},
     "output_type": "execute_result"
    }
   ],
   "source": [
    "path = os.path.join(data_root, \"..\", \"outputs\", \"eval\", \"priors.h5\")\n",
    "path"
   ]
  },
  {
   "cell_type": "code",
   "execution_count": 36,
   "metadata": {
    "ExecuteTime": {
     "end_time": "2017-09-05T16:33:02.374632",
     "start_time": "2017-09-05T16:33:02.368022"
    },
    "collapsed": false
   },
   "outputs": [],
   "source": [
    "with hFile(path, 'x') as f:\n",
    "    for d, p in zip((init, tran, prior), ('init', 'tran', 'priors')):\n",
    "        f.create_dataset(p, data=d)\n",
    "        f.flush()"
   ]
  },
  {
   "cell_type": "code",
   "execution_count": 37,
   "metadata": {
    "ExecuteTime": {
     "end_time": "2017-09-05T16:34:05.326179",
     "start_time": "2017-09-05T16:34:05.319741"
    },
    "collapsed": false
   },
   "outputs": [
    {
     "name": "stdout",
     "output_type": "stream",
     "text": [
      "[   0 1295    4]\n",
      "[[ 9542818   146892      261]\n",
      " [  147271 49841561    95201]\n",
      " [     120    95184  6006735]]\n",
      "[ 9690602 50087034  6102428]\n"
     ]
    }
   ],
   "source": [
    "with hFile(path, 'r') as f:\n",
    "    for p in ['init', 'tran', 'priors']:\n",
    "        print(np.array(f[p]))"
   ]
  },
  {
   "cell_type": "code",
   "execution_count": null,
   "metadata": {
    "collapsed": true
   },
   "outputs": [],
   "source": []
  }
 ],
 "metadata": {
  "kernelspec": {
   "display_name": "Python [conda root]",
   "language": "python",
   "name": "conda-root-py"
  },
  "language_info": {
   "codemirror_mode": {
    "name": "ipython",
    "version": 3
   },
   "file_extension": ".py",
   "mimetype": "text/x-python",
   "name": "python",
   "nbconvert_exporter": "python",
   "pygments_lexer": "ipython3",
   "version": "3.5.2"
  },
  "latex_envs": {
   "bibliofile": "biblio.bib",
   "cite_by": "apalike",
   "current_citInitial": 1,
   "eqLabelWithNumbers": true,
   "eqNumInitial": 0
  },
  "nav_menu": {},
  "toc": {
   "navigate_menu": true,
   "number_sections": true,
   "sideBar": true,
   "threshold": 6,
   "toc_cell": false,
   "toc_section_display": "block",
   "toc_window_display": false
  }
 },
 "nbformat": 4,
 "nbformat_minor": 2
}

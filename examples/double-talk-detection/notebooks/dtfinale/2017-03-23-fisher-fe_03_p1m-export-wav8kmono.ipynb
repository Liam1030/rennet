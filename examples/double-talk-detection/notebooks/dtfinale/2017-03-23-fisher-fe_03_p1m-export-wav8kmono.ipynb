{
 "cells": [
  {
   "cell_type": "markdown",
   "metadata": {},
   "source": [
    "# Exporting fe_03_p1m to 8kHz Mono Wav files"
   ]
  },
  {
   "cell_type": "markdown",
   "metadata": {},
   "source": [
    "## Introduction\n",
    "\n",
    "The main goal is to create splits of the dataset for validation, training and testing.\n",
    "Additionally, another goal is to convert all the audio files in all the splits into a standard uniform format.\n",
    "This format is usually wav, with the same samplerate and number of channels.\n",
    "\n",
    "That will entail:\n",
    "\n",
    "- For each split, make individual pairs of audio and labels\n",
    "    - along with audio-export parameters, out-dir (upto group-number)\n",
    "    - Making of such pairs should be based on some goal, perhaps random\n",
    "- Make the necessary folders\n",
    "    - upto group-number for each split, inferred from the pairs made above.\n",
    "- For each split:\n",
    "    - copy the `calldata.tbl` to `<split>/labels/`\n",
    "    - for each pair:\n",
    "        - export the audio with parameters\n",
    "        - copy the label file\n",
    "\n"
   ]
  },
  {
   "cell_type": "markdown",
   "metadata": {},
   "source": [
    "## Imports and finding the filepaths"
   ]
  },
  {
   "cell_type": "markdown",
   "metadata": {},
   "source": [
    "### Imports"
   ]
  },
  {
   "cell_type": "code",
   "execution_count": 1,
   "metadata": {
    "ExecuteTime": {
     "end_time": "2017-03-23T12:54:41.998970Z",
     "start_time": "2017-03-23T13:54:41.888308+01:00"
    },
    "collapsed": true
   },
   "outputs": [],
   "source": [
    "from __future__ import print_function, division\n",
    "\n",
    "import os\n",
    "import sys\n",
    "\n",
    "rennet_root = os.environ['RENNET_ROOT']\n",
    "sys.path.append(rennet_root)\n",
    "\n",
    "%load_ext autoreload\n",
    "%autoreload 1"
   ]
  },
  {
   "cell_type": "code",
   "execution_count": 60,
   "metadata": {
    "ExecuteTime": {
     "end_time": "2017-03-23T22:04:37.170032Z",
     "start_time": "2017-03-23T23:04:37.164235+01:00"
    },
    "collapsed": true
   },
   "outputs": [],
   "source": [
    "import glob\n",
    "import numpy as np\n",
    "from collections import defaultdict\n",
    "import warnings\n",
    "\n",
    "import shutil as sh\n",
    "from tqdm import tqdm_notebook as tqdm\n",
    "import multiprocessing as mp"
   ]
  },
  {
   "cell_type": "code",
   "execution_count": 3,
   "metadata": {
    "ExecuteTime": {
     "end_time": "2017-03-23T12:54:43.762912Z",
     "start_time": "2017-03-23T13:54:43.721129+01:00"
    },
    "collapsed": true
   },
   "outputs": [],
   "source": [
    "# rennet specific imports\n",
    "# autoreload for debugging\n",
    "%aimport rennet.datasets.fisher\n",
    "import rennet.datasets.fisher as fe\n",
    "\n",
    "%aimport rennet.utils.audio_utils\n",
    "import rennet.utils.audio_utils as au"
   ]
  },
  {
   "cell_type": "markdown",
   "metadata": {},
   "source": [
    "### Gather all audio, labels and calldata filepaths\n",
    "\n",
    "> **NOTE**\n",
    ">\n",
    "> If it is not clear by now, we will be, from now on, working exclusively with the working directory we created earlier. Keep that in mind for all the instructions to come.\n",
    "\n",
    "***\n",
    "\n",
    "> **NOTE**\n",
    ">\n",
    "> `fisher/fe_03_p1m` does not have all the audio files.\n",
    "> But all the labels are available for analysis"
   ]
  },
  {
   "cell_type": "code",
   "execution_count": 4,
   "metadata": {
    "ExecuteTime": {
     "end_time": "2017-03-23T12:54:46.310505Z",
     "start_time": "2017-03-23T13:54:46.289164+01:00"
    },
    "collapsed": false
   },
   "outputs": [
    {
     "name": "stdout",
     "output_type": "stream",
     "text": [
      "Audio Groups Query:\n",
      " /Users/abdullah/Delve/iais/rennet/data/working/fisher/fe_03_p1m/raw/audio/data/*/*\n",
      "\n",
      "Labels Groups Query:\n",
      " /Users/abdullah/Delve/iais/rennet/data/working/fisher/fe_03_p1m/raw/labels/data/*/*\n",
      "\n",
      "Calldata Query:\n",
      " /Users/abdullah/Delve/iais/rennet/data/working/fisher/fe_03_p1m/raw/labels/*calldata.tbl\n",
      "\n"
     ]
    }
   ],
   "source": [
    "# Making glob queries for audio, label and calldata files\n",
    "\n",
    "# UPDATE HERE - BEGIN #######################################################\n",
    "\n",
    "rennet_working_dir = os.path.join(rennet_root, 'data', 'working')\n",
    "\n",
    "provider = 'fisher'\n",
    "dataset = 'fe_03_p1m'\n",
    "rennet_working_raw_dir = os.path.join(rennet_working_dir, \n",
    "                                      provider, dataset, 'raw')\n",
    "\n",
    "raw_audio_dir = os.path.join(rennet_working_raw_dir, 'audio', 'data')\n",
    "raw_audio_groups_glob_str = str(os.path.join(raw_audio_dir, \"*\", \"*\"))\n",
    "\n",
    "raw_labels_dir = os.path.join(rennet_working_raw_dir, 'labels', 'data')\n",
    "raw_labels_groups_glob_str = str(os.path.join(raw_labels_dir, \"*\", \"*\"))\n",
    "\n",
    "raw_calldata_glob_str = str(os.path.join(rennet_working_raw_dir, \n",
    "                                         'labels', \"*calldata.tbl\"))\n",
    "\n",
    "expected_audio_groups = 8\n",
    "expected_labels_groups = 59\n",
    "\n",
    "# UPDATE HERE - END #########################################################\n",
    "\n",
    "print(\"Audio Groups Query:\\n\", raw_audio_groups_glob_str)\n",
    "print()\n",
    "print(\"Labels Groups Query:\\n\", raw_labels_groups_glob_str)\n",
    "print()\n",
    "print(\"Calldata Query:\\n\", raw_calldata_glob_str)\n",
    "print()"
   ]
  },
  {
   "cell_type": "code",
   "execution_count": 5,
   "metadata": {
    "ExecuteTime": {
     "end_time": "2017-03-23T12:54:48.741389Z",
     "start_time": "2017-03-23T13:54:48.551871+01:00"
    },
    "collapsed": false
   },
   "outputs": [
    {
     "name": "stdout",
     "output_type": "stream",
     "text": [
      "AUDIO:###########################################################\n",
      "\n",
      " 8 Groups 799 Total Files, as:\n",
      "\n",
      " [99, 100, 100, 100, 100, 100, 100, 100] \n",
      "\n",
      "For Example:\n",
      "\n",
      "/Users/abdullah/Delve/iais/rennet/data/working/fisher/fe_03_p1m/raw/audio/data/disc1/000/fe_03_00001.sph\n",
      "/Users/abdullah/Delve/iais/rennet/data/working/fisher/fe_03_p1m/raw/audio/data/disc1/000/fe_03_00002.sph\n",
      "/Users/abdullah/Delve/iais/rennet/data/working/fisher/fe_03_p1m/raw/audio/data/disc1/000/fe_03_00003.sph\n",
      "/Users/abdullah/Delve/iais/rennet/data/working/fisher/fe_03_p1m/raw/audio/data/disc1/000/fe_03_00004.sph\n",
      "/Users/abdullah/Delve/iais/rennet/data/working/fisher/fe_03_p1m/raw/audio/data/disc1/000/fe_03_00005.sph\n",
      "...\n",
      "\n",
      "LABEL:###########################################################\n",
      "\n",
      " 59 Groups 5850 Total Files, as:\n",
      "\n",
      " [99, 100, 100, 100, 100, 100, 100, 100, 100, 100, 100, 100, 100, 100, 100, 100, 100, 100, 100, 100, 100, 100, 100, 100, 100, 100, 100, 100, 100, 100, 100, 100, 100, 100, 100, 100, 100, 100, 100, 100, 100, 100, 100, 100, 100, 100, 100, 100, 100, 100, 100, 100, 100, 100, 100, 100, 100, 100, 51] \n",
      "\n",
      "For Example:\n",
      "\n",
      "/Users/abdullah/Delve/iais/rennet/data/working/fisher/fe_03_p1m/raw/labels/data/disc1/000/fe_03_00001.txt\n",
      "/Users/abdullah/Delve/iais/rennet/data/working/fisher/fe_03_p1m/raw/labels/data/disc1/000/fe_03_00002.txt\n",
      "/Users/abdullah/Delve/iais/rennet/data/working/fisher/fe_03_p1m/raw/labels/data/disc1/000/fe_03_00003.txt\n",
      "/Users/abdullah/Delve/iais/rennet/data/working/fisher/fe_03_p1m/raw/labels/data/disc1/000/fe_03_00004.txt\n",
      "/Users/abdullah/Delve/iais/rennet/data/working/fisher/fe_03_p1m/raw/labels/data/disc1/000/fe_03_00005.txt\n",
      "...\n",
      "\n"
     ]
    },
    {
     "name": "stderr",
     "output_type": "stream",
     "text": [
      "/Users/abdullah/anaconda3/envs/r3/lib/python3.5/site-packages/ipykernel/__main__.py:37: UserWarning: \n",
      "Mismatch in number of audio and label groups:\n",
      "Audios 8 v/s 59 Labels\n"
     ]
    }
   ],
   "source": [
    "# Finding audio and label files in each group and matching pairs\n",
    "\n",
    "audio_groups_dirs = sorted(glob.glob(raw_audio_groups_glob_str))\n",
    "audio_fps = [sorted(glob.glob(os.path.join(gd, '*.sph'))) for gd in audio_groups_dirs]\n",
    "\n",
    "label_groups_dirs = sorted(glob.glob(raw_labels_groups_glob_str))\n",
    "label_fps = [sorted(glob.glob(os.path.join(gd, '*.txt'))) for gd in label_groups_dirs]\n",
    "\n",
    "print(\"AUDIO:###########################################################\\n\\n\", \n",
    "      \"{} Groups\".format(len(audio_groups_dirs)), \n",
    "      \"{} Total Files, as:\\n\\n\".format(sum(map(len, audio_fps))), list(map(len, audio_fps)),\n",
    "      \"\\n\\nFor Example:\\n\\n{}\\n...\".format(\"\\n\".join(audio_fps[0][:5])))\n",
    "print()\n",
    "\n",
    "if len(audio_groups_dirs) != expected_audio_groups:\n",
    "    warnings.warn(\"\\nNot all audio groups were found\")\n",
    "    \n",
    "print(\"LABEL:###########################################################\\n\\n\", \n",
    "      \"{} Groups\".format(len(label_groups_dirs)), \n",
    "      \"{} Total Files, as:\\n\\n\".format(sum(map(len, label_fps))), list(map(len, label_fps)),\n",
    "      \"\\n\\nFor Example:\\n\\n{}\\n...\".format(\"\\n\".join(label_fps[0][:5])))\n",
    "print()\n",
    "\n",
    "if len(label_groups_dirs) != expected_labels_groups:\n",
    "    warnings.warn(\"\\nNot all label groups were found\")\n",
    "    \n",
    "    \n",
    "def callid_from_fp(fp):\n",
    "    return os.path.basename(fp).split('_')[-1].split('.')[0]\n",
    "\n",
    "\n",
    "# find if there are all groups\n",
    "if len(audio_groups_dirs) != len(label_groups_dirs):\n",
    "    warnings.warn(\"\\nMismatch in number of audio and label groups:\"\n",
    "                  \"\\nAudios {} v/s {} Labels\".format(\n",
    "                      len(audio_groups_dirs), \n",
    "                      len(label_groups_dirs)))\n",
    "\n",
    "# NOTE: The following checks use zip for matching and assume order\n",
    "# if the first n of the total N groups or files are available, there will be no warning\n",
    "# if the n groups or files are from somewhere in the middle, there will be mismatch\n",
    "\n",
    "# find if certain groups mismatch\n",
    "if any(lag != llg for lag, llg in zip(map(len, audio_fps), map(len, label_fps))):\n",
    "    warnings.warn(\"\\nMismatch in number of files in certain groups\")\n",
    "\n",
    "# check if each pair has the same callid\n",
    "audio_callids = [map(callid_from_fp, fps) for fps in audio_fps]\n",
    "label_callids = [map(callid_from_fp, fps) for fps in label_fps]\n",
    "\n",
    "if any(any(ac != lc for ac, lc in zip(gac, glc)) for gac, glc in zip(audio_callids, label_callids)):\n",
    "    warnings.warn(\"\\nMismatch in callids for certain files\")\n",
    "        "
   ]
  },
  {
   "cell_type": "code",
   "execution_count": 6,
   "metadata": {
    "ExecuteTime": {
     "end_time": "2017-03-23T12:54:55.713161Z",
     "start_time": "2017-03-23T13:54:55.704319+01:00"
    },
    "collapsed": false
   },
   "outputs": [
    {
     "name": "stdout",
     "output_type": "stream",
     "text": [
      "CALLDATA filepath:  /Users/abdullah/Delve/iais/rennet/data/working/fisher/fe_03_p1m/raw/labels/fe_03_p1_calldata.tbl\n"
     ]
    }
   ],
   "source": [
    "# Finding the calldata.tbl file\n",
    "\n",
    "calldata_fp = glob.glob(raw_calldata_glob_str)\n",
    "\n",
    "if len(calldata_fp) > 1:\n",
    "    warnings.warn(\"More than one calldata file found\")\n",
    "elif len(calldata_fp) < 1:\n",
    "    warnings.warn(\"Calldata file was not found\")\n",
    "else:\n",
    "    calldata_fp = calldata_fp[0]\n",
    "    print(\"CALLDATA filepath: \", calldata_fp)"
   ]
  },
  {
   "cell_type": "code",
   "execution_count": 8,
   "metadata": {
    "ExecuteTime": {
     "end_time": "2017-03-23T12:56:36.748642Z",
     "start_time": "2017-03-23T13:56:36.742156+01:00"
    },
    "collapsed": false
   },
   "outputs": [
    {
     "name": "stdout",
     "output_type": "stream",
     "text": [
      "GROUP PAIRS: 8\n",
      "[[99, 99], [100, 100], [100, 100], [100, 100], [100, 100], [100, 100], [100, 100], [100, 100]]\n"
     ]
    }
   ],
   "source": [
    "group_pair_fps = list(zip(audio_fps, label_fps))\n",
    "\n",
    "print(\"GROUP PAIRS: {}\".format(len(group_pair_fps)), \n",
    "      list(map(lambda x: list(map(len, x)), group_pair_fps)), sep='\\n')"
   ]
  },
  {
   "cell_type": "markdown",
   "metadata": {},
   "source": [
    "#### Result\n",
    "\n",
    "- `audio_fps` and `labels_fps` have are list of lists, with grouped filepaths to audio and label files respectively\n",
    "    + the checks above also ensure that corresponding pairs are at-least at the same indices, or missing altogether\n",
    "- `calldata_fp` has the filepath to the calldata file\n",
    "- `group_pair_fps` has pairs of audio and label filepaths for which both are present\n",
    "    + for this dataset, only the first 8 audio groups are present, hence only 8 group pairs"
   ]
  },
  {
   "cell_type": "markdown",
   "metadata": {},
   "source": [
    "## Read the calldata and activespeakers\n",
    "\n",
    "Reading activespeakers internally also reads the annotations, so any errors should not go unnoticed.\n",
    "\n",
    "NOTE: the `warn=False` parameter is passed to suppress the internal warnings for duplicate annotations for a speaker for the same time segment. \n",
    "This is ignored since we are only concerned with 'who' is speaking 'when', and not 'what' is being spoken. \n",
    "\n",
    "NOTE: We also read calldata.tbl and pass the relevant instance to the activespeakers so that anything unexpected pops up."
   ]
  },
  {
   "cell_type": "code",
   "execution_count": 9,
   "metadata": {
    "ExecuteTime": {
     "end_time": "2017-03-23T12:56:47.313005Z",
     "start_time": "2017-03-23T13:56:47.231803+01:00"
    },
    "collapsed": false
   },
   "outputs": [
    {
     "name": "stdout",
     "output_type": "stream",
     "text": [
      "CALLDATA read for 5850 callids\n",
      "\n",
      "Example calldata:\n",
      "\n",
      "FisherCallData(callid='00434', topicid='ENG30', signalgrade=4.0, convgrade=4.0, channelspeakers=[FisherChannelSpeaker(id='2872', gender='f', dialect='a', phone_service='2'), FisherChannelSpeaker(id='5019', gender='f', dialect='a', phone_service='2')])\n"
     ]
    }
   ],
   "source": [
    "calldatas = fe.FisherAllCallData.from_file(calldata_fp)\n",
    "\n",
    "print(\"CALLDATA read for {} callids\".format(len(calldatas.allcalldata)))\n",
    "print(\"\\nExample calldata:\\n\")\n",
    "print(calldatas.calldata_for_callid('00434'), sep='\\n')"
   ]
  },
  {
   "cell_type": "code",
   "execution_count": 13,
   "metadata": {
    "ExecuteTime": {
     "end_time": "2017-03-23T13:00:02.615260Z",
     "start_time": "2017-03-23T13:59:58.468195+01:00"
    },
    "collapsed": false
   },
   "outputs": [
    {
     "name": "stdout",
     "output_type": "stream",
     "text": [
      "ACTIVESPEAKERS read for total 799 label files with calldata\n"
     ]
    }
   ],
   "source": [
    "activespeakers = []\n",
    "for _, label_group_fps in group_pair_fps:\n",
    "    activespeakers.append([fe.FisherActiveSpeakers.from_file(lfp, \n",
    "                                                             warn=False, \n",
    "                                                             allcalldata=calldatas)\n",
    "                           for lfp in label_group_fps])\n",
    "    \n",
    "print(\"ACTIVESPEAKERS read for total {} label files with calldata\".format(sum(map(len, activespeakers))))"
   ]
  },
  {
   "cell_type": "markdown",
   "metadata": {
    "deletable": true,
    "editable": true
   },
   "source": [
    "## Exporting"
   ]
  },
  {
   "cell_type": "markdown",
   "metadata": {},
   "source": [
    "### Making Splits for validation, training and testing - based on groups\n",
    "\n",
    "[] TODO: explanation"
   ]
  },
  {
   "cell_type": "markdown",
   "metadata": {},
   "source": [
    "#### Checking parity of durations from audio and labels"
   ]
  },
  {
   "cell_type": "code",
   "execution_count": 17,
   "metadata": {
    "ExecuteTime": {
     "end_time": "2017-03-23T13:14:38.476536Z",
     "start_time": "2017-03-23T14:14:38.138839+01:00"
    },
    "collapsed": true
   },
   "outputs": [],
   "source": [
    "grouped_dur_label = []\n",
    "grouped_dur_audio = []\n",
    "\n",
    "for g, (agfps, _) in enumerate(group_pair_fps):\n",
    "    # durations from labels\n",
    "    dur_label = []\n",
    "    for act in activespeakers[g]:\n",
    "        with act.samplerate_as(100):\n",
    "            dur_label.append(int(act.ends[-1]))\n",
    "    grouped_dur_label.append(np.array(dur_label) / 100)\n",
    "    \n",
    "    # durations from audios\n",
    "    dur_audio = []\n",
    "    for fp in agfps:\n",
    "        audio_meta = au.get_audio_metadata(fp)\n",
    "        dur_audio.append(audio_meta.seconds)\n",
    "    grouped_dur_audio.append(np.array(dur_audio))\n",
    "    \n",
    "    \n",
    "files_dur_label = np.concatenate(grouped_dur_label)\n",
    "files_dur_audio = np.concatenate(grouped_dur_audio)\n",
    "\n",
    "group_dur_label = np.array(list(map(sum, grouped_dur_label)))\n",
    "group_dur_audio = np.array(list(map(sum, grouped_dur_audio)))"
   ]
  },
  {
   "cell_type": "code",
   "execution_count": 15,
   "metadata": {
    "ExecuteTime": {
     "end_time": "2017-03-23T13:09:40.673328Z",
     "start_time": "2017-03-23T14:09:40.667357+01:00"
    },
    "collapsed": true
   },
   "outputs": [],
   "source": [
    "def split_seconds(seconds):\n",
    "    m, s = divmod(seconds, 60)\n",
    "    h, m = divmod(m, 60)\n",
    "    return int(h), int(m), round(s, 2)\n",
    "\n",
    "def print_splitsec(duration, name):\n",
    "    print(\"{} : {:10.2f} seconds = {}\".format(\n",
    "        name, duration, \n",
    "        \"{:4} : {:2} : {:5.2f}\".format(*split_seconds(duration))\n",
    "    ))"
   ]
  },
  {
   "cell_type": "code",
   "execution_count": 18,
   "metadata": {
    "ExecuteTime": {
     "end_time": "2017-03-23T13:14:40.144447Z",
     "start_time": "2017-03-23T14:14:40.131326+01:00"
    },
    "collapsed": false
   },
   "outputs": [
    {
     "name": "stdout",
     "output_type": "stream",
     "text": [
      "Per File Audio Durations\n",
      "Audio Total    :  513546.89 seconds =  142 : 39 :  6.89\n",
      "Label Total    :  473039.12 seconds =  131 : 23 : 59.12\n",
      "Audio Minimum  :     366.79 seconds =    0 :  6 :  6.79\n",
      "Label Minimum  :     365.88 seconds =    0 :  6 :  5.88\n",
      "Audio Maximum  :     719.96 seconds =    0 : 11 : 59.96\n",
      "Label Maximum  :     719.96 seconds =    0 : 11 : 59.96\n",
      "Audio Mean     :     642.74 seconds =    0 : 10 : 42.74\n",
      "Label Mean     :     592.04 seconds =    0 :  9 : 52.04\n",
      "Audio Std      :      73.25 seconds =    0 :  1 : 13.25\n",
      "Label Std      :      76.46 seconds =    0 :  1 : 16.46\n"
     ]
    }
   ],
   "source": [
    "print(\"Per File Audio Durations\")\n",
    "print_splitsec(np.sum(files_dur_audio),   \"Audio Total   \")\n",
    "print_splitsec(np.sum(files_dur_label),   \"Label Total   \")\n",
    "print_splitsec(np.min(files_dur_audio),   \"Audio Minimum \")\n",
    "print_splitsec(np.min(files_dur_label),   \"Label Minimum \")\n",
    "print_splitsec(np.max(files_dur_audio),   \"Audio Maximum \")\n",
    "print_splitsec(np.max(files_dur_label),   \"Label Maximum \")\n",
    "print_splitsec(np.mean(files_dur_audio),  \"Audio Mean    \")\n",
    "print_splitsec(np.mean(files_dur_label),  \"Label Mean    \")\n",
    "print_splitsec(np.std(files_dur_audio),   \"Audio Std     \")\n",
    "print_splitsec(np.std(files_dur_label),   \"Label Std     \")"
   ]
  },
  {
   "cell_type": "code",
   "execution_count": 19,
   "metadata": {
    "ExecuteTime": {
     "end_time": "2017-03-23T13:15:13.711290Z",
     "start_time": "2017-03-23T14:15:13.698139+01:00"
    },
    "collapsed": false
   },
   "outputs": [
    {
     "name": "stdout",
     "output_type": "stream",
     "text": [
      "Per Group Audio Durations\n",
      "Audio Total    :  513546.89 seconds =  142 : 39 :  6.89\n",
      "Label Total    :  473039.12 seconds =  131 : 23 : 59.12\n",
      "Audio Minimum  :   58606.44 seconds =   16 : 16 : 46.44\n",
      "Label Minimum  :   55359.67 seconds =   15 : 22 : 39.67\n",
      "Audio Maximum  :   71337.89 seconds =   19 : 48 : 57.89\n",
      "Label Maximum  :   63725.15 seconds =   17 : 42 :  5.15\n",
      "Audio Mean     :   64193.36 seconds =   17 : 49 : 53.36\n",
      "Label Mean     :   59129.89 seconds =   16 : 25 : 29.89\n",
      "Audio Std      :    5539.14 seconds =    1 : 32 : 19.14\n",
      "Label Std      :    3148.91 seconds =    0 : 52 : 28.91\n"
     ]
    }
   ],
   "source": [
    "print(\"Per Group Audio Durations\")\n",
    "print_splitsec(np.sum(group_dur_audio),   \"Audio Total   \")\n",
    "print_splitsec(np.sum(group_dur_label),   \"Label Total   \")\n",
    "print_splitsec(np.min(group_dur_audio),   \"Audio Minimum \")\n",
    "print_splitsec(np.min(group_dur_label),   \"Label Minimum \")\n",
    "print_splitsec(np.max(group_dur_audio),   \"Audio Maximum \")\n",
    "print_splitsec(np.max(group_dur_label),   \"Label Maximum \")\n",
    "print_splitsec(np.mean(group_dur_audio),  \"Audio Mean    \")\n",
    "print_splitsec(np.mean(group_dur_label),  \"Label Mean    \")\n",
    "print_splitsec(np.std(group_dur_audio),   \"Audio Std     \")\n",
    "print_splitsec(np.std(group_dur_label),   \"Label Std     \")"
   ]
  },
  {
   "cell_type": "code",
   "execution_count": 25,
   "metadata": {
    "ExecuteTime": {
     "end_time": "2017-03-23T13:21:51.869549Z",
     "start_time": "2017-03-23T14:21:51.862354+01:00"
    },
    "collapsed": false
   },
   "outputs": [
    {
     "name": "stdout",
     "output_type": "stream",
     "text": [
      "All audio durations >= label durations? :  False\n",
      "\n",
      "Where the audio durations are <= than label durations\n",
      " [(599.952, 599.97000000000003), (599.952, 599.97000000000003), (599.952, 599.97000000000003)]\n"
     ]
    }
   ],
   "source": [
    "print(\"All audio durations >= label durations? : \", \n",
    "      all(adur >= ldur for adur, ldur in zip(files_dur_audio, files_dur_label)))\n",
    "\n",
    "print()\n",
    "print(\"Where the audio durations are <= than label durations\\n\", \n",
    "      list(filter(lambda durs: durs[0] <= durs[1], zip(files_dur_audio, files_dur_label))))\n"
   ]
  },
  {
   "cell_type": "markdown",
   "metadata": {},
   "source": [
    "##### Results\n",
    "\n",
    "As expected, the audio files are mostly longer than the labels.\n",
    "The exception cases are rare and have a mismatch of less than 20 milliseconds.\n",
    "This is not deemed to be huge issue.\n",
    "\n",
    "We also see how, with so many files, the total disparity can add up to a lot."
   ]
  },
  {
   "cell_type": "markdown",
   "metadata": {},
   "source": [
    "#### Assigning groups to splits"
   ]
  },
  {
   "cell_type": "code",
   "execution_count": 26,
   "metadata": {
    "ExecuteTime": {
     "end_time": "2017-03-23T13:25:57.548471Z",
     "start_time": "2017-03-23T14:25:57.543474+01:00"
    },
    "collapsed": true
   },
   "outputs": [],
   "source": [
    "takeat = lambda l, i: [l[ii] for ii in i]"
   ]
  },
  {
   "cell_type": "code",
   "execution_count": 28,
   "metadata": {
    "ExecuteTime": {
     "end_time": "2017-03-23T13:26:34.065572Z",
     "start_time": "2017-03-23T14:26:34.051382+01:00"
    },
    "collapsed": false
   },
   "outputs": [
    {
     "name": "stdout",
     "output_type": "stream",
     "text": [
      "    VAL with  1 groups and   99 files\n",
      "    TRN with  7 groups and  700 files\n",
      "    TST with  0 groups and    0 files\n",
      "TRN+VAL with  8 groups and  799 files\n"
     ]
    }
   ],
   "source": [
    "val_groups = [0]\n",
    "\n",
    "# tis = 53\n",
    "# tst_groups = list(range(tis, len(group_durations)))\n",
    "tst_groups = []  # NOTE: there is no test for this dataset; dirs will be created though\n",
    "\n",
    "trn_groups = list(filter(lambda v: ((v not in val_groups) and \n",
    "                                    (v not in tst_groups)), \n",
    "                         range(len(group_pair_fps))))\n",
    "\n",
    "trn_val_groups = np.concatenate([val_groups, trn_groups])\n",
    "\n",
    "print(\"    VAL with {:2} groups and {:4} files\".format(len(val_groups), sum(map(len, [activespeakers[i] for i in val_groups]))))\n",
    "print(\"    TRN with {:2} groups and {:4} files\".format(len(trn_groups), sum(map(len, [activespeakers[i] for i in trn_groups]))))\n",
    "print(\"    TST with {:2} groups and {:4} files\".format(len(tst_groups), sum(map(len, [activespeakers[i] for i in tst_groups]))))\n",
    "print(\"TRN+VAL with {:2} groups and {:4} files\".format(len(trn_val_groups), sum(map(len, [activespeakers[i] for i in trn_val_groups]))))"
   ]
  },
  {
   "cell_type": "code",
   "execution_count": 29,
   "metadata": {
    "ExecuteTime": {
     "end_time": "2017-03-23T13:28:22.148072Z",
     "start_time": "2017-03-23T14:28:22.140135+01:00"
    },
    "collapsed": false
   },
   "outputs": [
    {
     "name": "stdout",
     "output_type": "stream",
     "text": [
      "Train-Val Split - Groups Durations\n",
      "TRN    : 86.37% :  443542.45 seconds =  123 : 12 : 22.45\n",
      "VAL    : 13.63% :   70004.44 seconds =   19 : 26 : 44.44\n"
     ]
    }
   ],
   "source": [
    "print(\"Train-Val Split - Groups Durations\")\n",
    "print_splitsec(np.sum(group_dur_audio[trn_groups]),\n",
    "               \"TRN    : {:5.2f}%\".format(100 * group_dur_audio[trn_groups].sum()/group_dur_audio[trn_val_groups].sum()))\n",
    "print_splitsec(np.sum(group_dur_audio[val_groups]),\n",
    "               \"VAL    : {:5.2f}%\".format(100 * group_dur_audio[val_groups].sum()/group_dur_audio[trn_val_groups].sum()))"
   ]
  },
  {
   "cell_type": "markdown",
   "metadata": {},
   "source": [
    "#### Making audio-label filepath pairs for each split"
   ]
  },
  {
   "cell_type": "code",
   "execution_count": 30,
   "metadata": {
    "ExecuteTime": {
     "end_time": "2017-03-23T13:35:35.447696Z",
     "start_time": "2017-03-23T14:35:35.442532+01:00"
    },
    "collapsed": true
   },
   "outputs": [],
   "source": [
    "def _make_pairs(grouped_pair_fps, group_ids):\n",
    "    grouped_pairs = []\n",
    "    for g in group_ids:\n",
    "        audio_fps, label_fps = grouped_pair_fps[g]\n",
    "        grouped_pairs.extend(list(zip(audio_fps, label_fps)))\n",
    "        \n",
    "    return grouped_pairs"
   ]
  },
  {
   "cell_type": "code",
   "execution_count": 38,
   "metadata": {
    "ExecuteTime": {
     "end_time": "2017-03-23T13:40:24.373803Z",
     "start_time": "2017-03-23T14:40:24.357933+01:00"
    },
    "collapsed": false
   },
   "outputs": [
    {
     "name": "stdout",
     "output_type": "stream",
     "text": [
      "This should match the number of files in each split, when the groups were assigned above\n",
      "99 0 700\n",
      "\n",
      "VAL\n",
      "\n",
      "('/Users/abdullah/Delve/iais/rennet/data/working/fisher/fe_03_p1m/raw/audio/data/disc1/000/fe_03_00001.sph', '/Users/abdullah/Delve/iais/rennet/data/working/fisher/fe_03_p1m/raw/labels/data/disc1/000/fe_03_00001.txt')\n",
      "('/Users/abdullah/Delve/iais/rennet/data/working/fisher/fe_03_p1m/raw/audio/data/disc1/000/fe_03_00002.sph', '/Users/abdullah/Delve/iais/rennet/data/working/fisher/fe_03_p1m/raw/labels/data/disc1/000/fe_03_00002.txt')\n",
      "('/Users/abdullah/Delve/iais/rennet/data/working/fisher/fe_03_p1m/raw/audio/data/disc1/000/fe_03_00003.sph', '/Users/abdullah/Delve/iais/rennet/data/working/fisher/fe_03_p1m/raw/labels/data/disc1/000/fe_03_00003.txt')\n",
      "('/Users/abdullah/Delve/iais/rennet/data/working/fisher/fe_03_p1m/raw/audio/data/disc1/000/fe_03_00004.sph', '/Users/abdullah/Delve/iais/rennet/data/working/fisher/fe_03_p1m/raw/labels/data/disc1/000/fe_03_00004.txt')\n",
      "('/Users/abdullah/Delve/iais/rennet/data/working/fisher/fe_03_p1m/raw/audio/data/disc1/000/fe_03_00005.sph', '/Users/abdullah/Delve/iais/rennet/data/working/fisher/fe_03_p1m/raw/labels/data/disc1/000/fe_03_00005.txt')\n",
      "...\n",
      "\n",
      "TST\n",
      "\n",
      "...\n",
      "\n",
      "TRN\n",
      "\n",
      "('/Users/abdullah/Delve/iais/rennet/data/working/fisher/fe_03_p1m/raw/audio/data/disc1/001/fe_03_00100.sph', '/Users/abdullah/Delve/iais/rennet/data/working/fisher/fe_03_p1m/raw/labels/data/disc1/001/fe_03_00100.txt')\n",
      "('/Users/abdullah/Delve/iais/rennet/data/working/fisher/fe_03_p1m/raw/audio/data/disc1/001/fe_03_00101.sph', '/Users/abdullah/Delve/iais/rennet/data/working/fisher/fe_03_p1m/raw/labels/data/disc1/001/fe_03_00101.txt')\n",
      "('/Users/abdullah/Delve/iais/rennet/data/working/fisher/fe_03_p1m/raw/audio/data/disc1/001/fe_03_00102.sph', '/Users/abdullah/Delve/iais/rennet/data/working/fisher/fe_03_p1m/raw/labels/data/disc1/001/fe_03_00102.txt')\n",
      "('/Users/abdullah/Delve/iais/rennet/data/working/fisher/fe_03_p1m/raw/audio/data/disc1/001/fe_03_00103.sph', '/Users/abdullah/Delve/iais/rennet/data/working/fisher/fe_03_p1m/raw/labels/data/disc1/001/fe_03_00103.txt')\n",
      "('/Users/abdullah/Delve/iais/rennet/data/working/fisher/fe_03_p1m/raw/audio/data/disc1/001/fe_03_00104.sph', '/Users/abdullah/Delve/iais/rennet/data/working/fisher/fe_03_p1m/raw/labels/data/disc1/001/fe_03_00104.txt')\n",
      "...\n",
      "\n"
     ]
    }
   ],
   "source": [
    "val_pairs = _make_pairs(group_pair_fps, val_groups)\n",
    "tst_pairs = _make_pairs(group_pair_fps, tst_groups)\n",
    "trn_pairs = _make_pairs(group_pair_fps, trn_groups)\n",
    "\n",
    "print(\"This should match the number of files in each split, when the groups were assigned above\")\n",
    "print(*map(len, [val_pairs, tst_pairs, trn_pairs]))\n",
    "\n",
    "print()\n",
    "print(\"VAL\\n\", *val_pairs[:5], '...\\n', sep='\\n')\n",
    "print(\"TST\\n\", *tst_pairs[:5], '...\\n', sep='\\n')\n",
    "print(\"TRN\\n\", *trn_pairs[:5], '...\\n', sep='\\n')"
   ]
  },
  {
   "cell_type": "code",
   "execution_count": null,
   "metadata": {
    "collapsed": true
   },
   "outputs": [],
   "source": []
  },
  {
   "cell_type": "markdown",
   "metadata": {},
   "source": [
    "### Make the Folders\n",
    "\n",
    "The folder structure expected:\n",
    "\n",
    "```\n",
    "<rennet_data_working>/<provider>/<dataset>/<export_name>/\n",
    "    - test/\n",
    "        - audio/\n",
    "            - data/\n",
    "                - <group-number>/\n",
    "                    - <call>.wav\n",
    "                    - ...\n",
    "         - labels/\n",
    "             - data/\n",
    "                 - <group-number>/\n",
    "                     - <call>.txt\n",
    "                     - ...\n",
    "             - <calldata>.tbl\n",
    "        - pickles/\n",
    "            - <date-stamped-feature-info>/\n",
    "                - <date-stamped-part-xx>.hdf5\n",
    "                - ...\n",
    "     - train/\n",
    "         - < SAME AS TEST >\n",
    "     - val/\n",
    "         - < SAME AS TEST >\n",
    "```"
   ]
  },
  {
   "cell_type": "code",
   "execution_count": 93,
   "metadata": {
    "ExecuteTime": {
     "end_time": "2017-03-23T23:00:42.175759Z",
     "start_time": "2017-03-24T00:00:42.145183+01:00"
    },
    "collapsed": false
   },
   "outputs": [
    {
     "name": "stdout",
     "output_type": "stream",
     "text": [
      "VAL:\n",
      "/Users/abdullah/Delve/iais/rennet/data/working/fisher/fe_03_p1m/wav-8k-mono/val\n",
      "/Users/abdullah/Delve/iais/rennet/data/working/fisher/fe_03_p1m/wav-8k-mono/val/labels/data\n",
      "/Users/abdullah/Delve/iais/rennet/data/working/fisher/fe_03_p1m/wav-8k-mono/val/audios/data\n",
      "/Users/abdullah/Delve/iais/rennet/data/working/fisher/fe_03_p1m/wav-8k-mono/val/pickles\n",
      "\n",
      "TRN:\n",
      "/Users/abdullah/Delve/iais/rennet/data/working/fisher/fe_03_p1m/wav-8k-mono/train\n",
      "/Users/abdullah/Delve/iais/rennet/data/working/fisher/fe_03_p1m/wav-8k-mono/train/labels/data\n",
      "/Users/abdullah/Delve/iais/rennet/data/working/fisher/fe_03_p1m/wav-8k-mono/train/audios/data\n",
      "/Users/abdullah/Delve/iais/rennet/data/working/fisher/fe_03_p1m/wav-8k-mono/train/pickles\n",
      "\n",
      "TST:\n",
      "/Users/abdullah/Delve/iais/rennet/data/working/fisher/fe_03_p1m/wav-8k-mono/test\n",
      "/Users/abdullah/Delve/iais/rennet/data/working/fisher/fe_03_p1m/wav-8k-mono/test/labels/data\n",
      "/Users/abdullah/Delve/iais/rennet/data/working/fisher/fe_03_p1m/wav-8k-mono/test/audios/data\n",
      "/Users/abdullah/Delve/iais/rennet/data/working/fisher/fe_03_p1m/wav-8k-mono/test/pickles\n"
     ]
    }
   ],
   "source": [
    "# UPDATE HERE - BEGIN #######################################################\n",
    "\n",
    "export_name = 'wav-8k-mono'\n",
    "val_dirname = 'val'\n",
    "trn_dirname = 'train'\n",
    "tst_dirname = 'test'\n",
    "\n",
    "out_format = 'wav'\n",
    "out_samplerate = 8000\n",
    "out_channels = 1\n",
    "out_channels_split = False\n",
    "\n",
    "# UPDATE HERE - END #########################################################\n",
    "\n",
    "export_name_dir = os.path.join(rennet_working_dir, provider, dataset, export_name)\n",
    "val_dir = os.path.join(export_name_dir, val_dirname)\n",
    "trn_dir = os.path.join(export_name_dir, trn_dirname)\n",
    "tst_dir = os.path.join(export_name_dir, tst_dirname)\n",
    "\n",
    "val_labeldata_dir = os.path.join(val_dir, 'labels', 'data')\n",
    "trn_labeldata_dir = os.path.join(trn_dir, 'labels', 'data')\n",
    "tst_labeldata_dir = os.path.join(tst_dir, 'labels', 'data')\n",
    "\n",
    "val_audiodata_dir = os.path.join(val_dir, 'audios', 'data')\n",
    "trn_audiodata_dir = os.path.join(trn_dir, 'audios', 'data')\n",
    "tst_audiodata_dir = os.path.join(tst_dir, 'audios', 'data')\n",
    "\n",
    "val_pickledata_dir = os.path.join(val_dir, 'pickles')\n",
    "trn_pickledata_dir = os.path.join(trn_dir, 'pickles')\n",
    "tst_pickledata_dir = os.path.join(tst_dir, 'pickles')\n",
    "\n",
    "print(\"VAL:\", val_dir, val_labeldata_dir, val_audiodata_dir, val_pickledata_dir, sep='\\n')\n",
    "print()\n",
    "print(\"TRN:\", trn_dir, trn_labeldata_dir, trn_audiodata_dir, trn_pickledata_dir, sep='\\n')\n",
    "print()\n",
    "print(\"TST:\", tst_dir, tst_labeldata_dir, tst_audiodata_dir, tst_pickledata_dir, sep='\\n')"
   ]
  },
  {
   "cell_type": "code",
   "execution_count": 94,
   "metadata": {
    "ExecuteTime": {
     "end_time": "2017-03-23T23:00:42.850596Z",
     "start_time": "2017-03-24T00:00:42.839658+01:00"
    },
    "collapsed": false
   },
   "outputs": [],
   "source": [
    "# make the data directories for the splits\n",
    "\n",
    "# these directories shouldn't exist right now\n",
    "\n",
    "# ##### DO NOT RERUN! without changing ddeo to True ######\n",
    "ddeo = False\n",
    "\n",
    "os.makedirs(val_labeldata_dir, exist_ok=ddeo)\n",
    "os.makedirs(val_audiodata_dir, exist_ok=ddeo)\n",
    "os.makedirs(val_pickledata_dir, exist_ok=ddeo)\n",
    "os.makedirs(trn_labeldata_dir, exist_ok=ddeo)\n",
    "os.makedirs(trn_audiodata_dir, exist_ok=ddeo)\n",
    "os.makedirs(trn_pickledata_dir, exist_ok=ddeo)\n",
    "os.makedirs(tst_labeldata_dir, exist_ok=ddeo)\n",
    "os.makedirs(tst_audiodata_dir, exist_ok=ddeo)\n",
    "os.makedirs(tst_pickledata_dir, exist_ok=ddeo)"
   ]
  },
  {
   "cell_type": "code",
   "execution_count": 95,
   "metadata": {
    "ExecuteTime": {
     "end_time": "2017-03-23T23:00:43.893464Z",
     "start_time": "2017-03-24T00:00:43.884086+01:00"
    },
    "collapsed": true
   },
   "outputs": [],
   "source": [
    "# Create group dirs for each split\n",
    "group_dir_for_file = lambda fp: os.path.basename(os.path.dirname(fp))\n",
    "\n",
    "def groups_for_split(split_pairs):\n",
    "    # the group dirs required for labels and audios for each split are assumed to be the same\n",
    "    # But check anyway\n",
    "    \n",
    "    audio_fps = [afp for afp, _ in split_pairs]\n",
    "    label_fps = [lfp for _, lfp in split_pairs]\n",
    "    \n",
    "    audio_groups = set(map(group_dir_for_file, audio_fps))\n",
    "    label_groups = set(map(group_dir_for_file, label_fps))\n",
    "    \n",
    "    assert audio_groups == label_groups\n",
    "    return audio_groups\n"
   ]
  },
  {
   "cell_type": "code",
   "execution_count": 96,
   "metadata": {
    "ExecuteTime": {
     "end_time": "2017-03-23T23:00:44.623661Z",
     "start_time": "2017-03-24T00:00:44.608175+01:00"
    },
    "collapsed": false
   },
   "outputs": [
    {
     "name": "stdout",
     "output_type": "stream",
     "text": [
      "['000']\n",
      "['001', '002', '003', '004', '005', '006', '007']\n",
      "[]\n"
     ]
    }
   ],
   "source": [
    "val_groupdirnames = sorted(list(groups_for_split(val_pairs)))\n",
    "trn_groupdirnames = sorted(list(groups_for_split(trn_pairs)))\n",
    "tst_groupdirnames = sorted(list(groups_for_split(tst_pairs)))\n",
    "\n",
    "print(val_groupdirnames, trn_groupdirnames, tst_groupdirnames, sep='\\n')"
   ]
  },
  {
   "cell_type": "code",
   "execution_count": 97,
   "metadata": {
    "ExecuteTime": {
     "end_time": "2017-03-23T23:00:45.236509Z",
     "start_time": "2017-03-24T00:00:45.217151+01:00"
    },
    "collapsed": false
   },
   "outputs": [
    {
     "name": "stdout",
     "output_type": "stream",
     "text": [
      "VAL:\n",
      "/Users/abdullah/Delve/iais/rennet/data/working/fisher/fe_03_p1m/wav-8k-mono/val/audios/data/000\n",
      "\n",
      "/Users/abdullah/Delve/iais/rennet/data/working/fisher/fe_03_p1m/wav-8k-mono/val/labels/data/000\n",
      "\n",
      "TRN:\n",
      "/Users/abdullah/Delve/iais/rennet/data/working/fisher/fe_03_p1m/wav-8k-mono/train/audios/data/001\n",
      "/Users/abdullah/Delve/iais/rennet/data/working/fisher/fe_03_p1m/wav-8k-mono/train/audios/data/002\n",
      "/Users/abdullah/Delve/iais/rennet/data/working/fisher/fe_03_p1m/wav-8k-mono/train/audios/data/003\n",
      "/Users/abdullah/Delve/iais/rennet/data/working/fisher/fe_03_p1m/wav-8k-mono/train/audios/data/004\n",
      "/Users/abdullah/Delve/iais/rennet/data/working/fisher/fe_03_p1m/wav-8k-mono/train/audios/data/005\n",
      "/Users/abdullah/Delve/iais/rennet/data/working/fisher/fe_03_p1m/wav-8k-mono/train/audios/data/006\n",
      "/Users/abdullah/Delve/iais/rennet/data/working/fisher/fe_03_p1m/wav-8k-mono/train/audios/data/007\n",
      "\n",
      "/Users/abdullah/Delve/iais/rennet/data/working/fisher/fe_03_p1m/wav-8k-mono/train/labels/data/001\n",
      "/Users/abdullah/Delve/iais/rennet/data/working/fisher/fe_03_p1m/wav-8k-mono/train/labels/data/002\n",
      "/Users/abdullah/Delve/iais/rennet/data/working/fisher/fe_03_p1m/wav-8k-mono/train/labels/data/003\n",
      "/Users/abdullah/Delve/iais/rennet/data/working/fisher/fe_03_p1m/wav-8k-mono/train/labels/data/004\n",
      "/Users/abdullah/Delve/iais/rennet/data/working/fisher/fe_03_p1m/wav-8k-mono/train/labels/data/005\n",
      "/Users/abdullah/Delve/iais/rennet/data/working/fisher/fe_03_p1m/wav-8k-mono/train/labels/data/006\n",
      "/Users/abdullah/Delve/iais/rennet/data/working/fisher/fe_03_p1m/wav-8k-mono/train/labels/data/007\n",
      "\n",
      "TST:\n",
      "\n"
     ]
    }
   ],
   "source": [
    "val_audiogroup_dirs = [os.path.join(val_audiodata_dir, g) for g in val_groupdirnames]\n",
    "val_labelgroup_dirs = [os.path.join(val_labeldata_dir, g) for g in val_groupdirnames]\n",
    "trn_audiogroup_dirs = [os.path.join(trn_audiodata_dir, g) for g in trn_groupdirnames]\n",
    "trn_labelgroup_dirs = [os.path.join(trn_labeldata_dir, g) for g in trn_groupdirnames]\n",
    "tst_audiogroup_dirs = [os.path.join(tst_audiodata_dir, g) for g in tst_groupdirnames]\n",
    "tst_labelgroup_dirs = [os.path.join(tst_labeldata_dir, g) for g in tst_groupdirnames]\n",
    "\n",
    "print(\"VAL:\", *val_audiogroup_dirs, '', *val_labelgroup_dirs, sep='\\n')\n",
    "print()\n",
    "print(\"TRN:\", *trn_audiogroup_dirs, '', *trn_labelgroup_dirs, sep='\\n')\n",
    "print()\n",
    "print(\"TST:\", *tst_audiogroup_dirs, '', *tst_labelgroup_dirs, sep='\\n')"
   ]
  },
  {
   "cell_type": "code",
   "execution_count": 98,
   "metadata": {
    "ExecuteTime": {
     "end_time": "2017-03-23T23:00:45.872384Z",
     "start_time": "2017-03-24T00:00:45.862168+01:00"
    },
    "collapsed": true
   },
   "outputs": [],
   "source": [
    "exist_ok = False\n",
    "for agd, lgd in zip(val_audiogroup_dirs, val_labelgroup_dirs):\n",
    "    os.makedirs(agd, exist_ok=exist_ok)\n",
    "    os.makedirs(lgd, exist_ok=exist_ok)\n",
    "    \n",
    "for agd, lgd in zip(trn_audiogroup_dirs, trn_labelgroup_dirs):\n",
    "    os.makedirs(agd, exist_ok=exist_ok)\n",
    "    os.makedirs(lgd, exist_ok=exist_ok)\n",
    "    \n",
    "for agd, lgd in zip(tst_audiogroup_dirs, tst_labelgroup_dirs):\n",
    "    os.makedirs(agd, exist_ok=exist_ok)\n",
    "    os.makedirs(lgd, exist_ok=exist_ok)"
   ]
  },
  {
   "cell_type": "markdown",
   "metadata": {},
   "source": [
    "### Copy the calldata.tbl files to the labels dirs of each split"
   ]
  },
  {
   "cell_type": "code",
   "execution_count": 99,
   "metadata": {
    "ExecuteTime": {
     "end_time": "2017-03-23T23:00:46.708393Z",
     "start_time": "2017-03-24T00:00:46.702410+01:00"
    },
    "collapsed": false
   },
   "outputs": [
    {
     "name": "stdout",
     "output_type": "stream",
     "text": [
      "labels dirs where calldata will be copied\n",
      "/Users/abdullah/Delve/iais/rennet/data/working/fisher/fe_03_p1m/wav-8k-mono/val/labels\n",
      "/Users/abdullah/Delve/iais/rennet/data/working/fisher/fe_03_p1m/wav-8k-mono/train/labels\n",
      "/Users/abdullah/Delve/iais/rennet/data/working/fisher/fe_03_p1m/wav-8k-mono/test/labels\n"
     ]
    }
   ],
   "source": [
    "val_labeldir = os.path.dirname(val_labeldata_dir)\n",
    "trn_labeldir = os.path.dirname(trn_labeldata_dir)\n",
    "tst_labeldir = os.path.dirname(tst_labeldata_dir)\n",
    "\n",
    "print(\"labels dirs where calldata will be copied\", val_labeldir, trn_labeldir, tst_labeldir, sep='\\n')"
   ]
  },
  {
   "cell_type": "code",
   "execution_count": 100,
   "metadata": {
    "ExecuteTime": {
     "end_time": "2017-03-23T23:00:47.191145Z",
     "start_time": "2017-03-24T00:00:47.151801+01:00"
    },
    "collapsed": false
   },
   "outputs": [
    {
     "name": "stdout",
     "output_type": "stream",
     "text": [
      "/Users/abdullah/Delve/iais/rennet/data/working/fisher/fe_03_p1m/wav-8k-mono/val/labels/fe_03_p1_calldata.tbl\n",
      "/Users/abdullah/Delve/iais/rennet/data/working/fisher/fe_03_p1m/wav-8k-mono/train/labels/fe_03_p1_calldata.tbl\n",
      "/Users/abdullah/Delve/iais/rennet/data/working/fisher/fe_03_p1m/wav-8k-mono/test/labels/fe_03_p1_calldata.tbl\n"
     ]
    }
   ],
   "source": [
    "print(sh.copy(calldata_fp, val_labeldir, follow_symlinks=True))\n",
    "print(sh.copy(calldata_fp, trn_labeldir, follow_symlinks=True))\n",
    "print(sh.copy(calldata_fp, tst_labeldir, follow_symlinks=True))"
   ]
  },
  {
   "cell_type": "markdown",
   "metadata": {},
   "source": [
    "### Copy all the label files to appropriate groups"
   ]
  },
  {
   "cell_type": "code",
   "execution_count": 101,
   "metadata": {
    "ExecuteTime": {
     "end_time": "2017-03-23T23:00:48.023427Z",
     "start_time": "2017-03-24T00:00:48.018642+01:00"
    },
    "collapsed": true
   },
   "outputs": [],
   "source": [
    "def copy_labelfile_split(labelfile_splitlabeldatadir):\n",
    "    labelfile, split_labeldatadir = labelfile_splitlabeldatadir\n",
    "    groupname = group_dir_for_file(labelfile)\n",
    "    todir = os.path.join(split_labeldatadir, groupname)\n",
    "    return os.path.basename(sh.copy(labelfile, todir, follow_symlinks=True))"
   ]
  },
  {
   "cell_type": "code",
   "execution_count": 102,
   "metadata": {
    "ExecuteTime": {
     "end_time": "2017-03-23T23:00:48.558320Z",
     "start_time": "2017-03-24T00:00:48.499716+01:00"
    },
    "collapsed": true
   },
   "outputs": [],
   "source": [
    "p = mp.Pool(mp.cpu_count())"
   ]
  },
  {
   "cell_type": "code",
   "execution_count": 103,
   "metadata": {
    "ExecuteTime": {
     "end_time": "2017-03-23T23:00:50.159738Z",
     "start_time": "2017-03-24T00:00:49.601801+01:00"
    },
    "collapsed": false
   },
   "outputs": [
    {
     "data": {
      "application/vnd.jupyter.widget-view+json": {
       "model_id": "b958143bc29044659e0ddb8873a1da9a"
      }
     },
     "metadata": {},
     "output_type": "display_data"
    },
    {
     "name": "stdout",
     "output_type": "stream",
     "text": [
      "\n"
     ]
    },
    {
     "data": {
      "application/vnd.jupyter.widget-view+json": {
       "model_id": "343bad2ba3cf4a98a178fd6690ad1237"
      }
     },
     "metadata": {},
     "output_type": "display_data"
    },
    {
     "data": {
      "application/vnd.jupyter.widget-view+json": {
       "model_id": "0ab0e1873be4433d93f0e2c3e05d5398"
      }
     },
     "metadata": {},
     "output_type": "display_data"
    },
    {
     "data": {
      "application/vnd.jupyter.widget-view+json": {
       "model_id": "7dc68e3d9c48498cbbd25c237f21a537"
      }
     },
     "metadata": {},
     "output_type": "display_data"
    }
   ],
   "source": [
    "splits_pbar = tqdm(zip([val_pairs, trn_pairs, tst_pairs],\n",
    "                       [val_labeldata_dir, trn_labeldata_dir, tst_labeldata_dir],\n",
    "                       ['val', 'trn', 'tst']))\n",
    "\n",
    "for splitpairs, splitlabeldatadir, name in splits_pbar:\n",
    "    params = [(lfp, splitlabeldatadir) for _, lfp in splitpairs]\n",
    "    files_pbar = tqdm(total=len(params))\n",
    "    for fn in p.imap_unordered(copy_labelfile_split, params):\n",
    "        files_pbar.update()\n",
    "        files_pbar.set_description(fn)\n",
    "    splits.set_description(name)"
   ]
  },
  {
   "cell_type": "code",
   "execution_count": 104,
   "metadata": {
    "ExecuteTime": {
     "end_time": "2017-03-23T23:00:51.703042Z",
     "start_time": "2017-03-24T00:00:51.697123+01:00"
    },
    "collapsed": false
   },
   "outputs": [],
   "source": [
    "splits_pbar.close()\n",
    "files_pbar.close()"
   ]
  },
  {
   "cell_type": "markdown",
   "metadata": {},
   "source": [
    "### Export audio files"
   ]
  },
  {
   "cell_type": "code",
   "execution_count": 105,
   "metadata": {
    "ExecuteTime": {
     "end_time": "2017-03-23T23:00:53.968689Z",
     "start_time": "2017-03-24T00:00:53.956642+01:00"
    },
    "collapsed": true
   },
   "outputs": [],
   "source": [
    "def export_audiofile_split(audiofile_splitaudiodatadir_tofmt_tosr_tonchannels_issplit):\n",
    "    audiofile, splitaudiodatadir = audiofile_splitaudiodatadir_tofmt_tosr_tonchannels_issplit[:2]\n",
    "    tofmt, tosr, tonchannels, issplit = audiofile_splitaudiodatadir_tofmt_tosr_tonchannels_issplit[2:]\n",
    "    \n",
    "    groupname = os.path.basename(os.path.dirname(audiofile))\n",
    "    todir = os.path.join(splitaudiodatadir, groupname)\n",
    "    \n",
    "    if issplit:\n",
    "        tofns = au.convert_to_standard_split(audiofile, todir, tofmt, tosr)\n",
    "    else:\n",
    "        tofns = au.convert_to_standard(audiofile, todir, tofmt, tosr, tonchannels)\n",
    "        \n",
    "    return os.path.basename(tofns[0])"
   ]
  },
  {
   "cell_type": "code",
   "execution_count": 106,
   "metadata": {
    "ExecuteTime": {
     "end_time": "2017-03-23T23:05:16.600277Z",
     "start_time": "2017-03-24T00:00:55.674159+01:00"
    },
    "collapsed": false
   },
   "outputs": [
    {
     "data": {
      "application/vnd.jupyter.widget-view+json": {
       "model_id": "7653f1a37c4f47f6b5a480803aca3a06"
      }
     },
     "metadata": {},
     "output_type": "display_data"
    },
    {
     "data": {
      "application/vnd.jupyter.widget-view+json": {
       "model_id": "c2f6f63337114596801419e7a590f37c"
      }
     },
     "metadata": {},
     "output_type": "display_data"
    },
    {
     "name": "stdout",
     "output_type": "stream",
     "text": [
      "\n"
     ]
    },
    {
     "data": {
      "application/vnd.jupyter.widget-view+json": {
       "model_id": "48b7711514fb478ab4c3f56c1855753a"
      }
     },
     "metadata": {},
     "output_type": "display_data"
    },
    {
     "data": {
      "application/vnd.jupyter.widget-view+json": {
       "model_id": "ab2f3eae50ef49ce83cacaaf4991f038"
      }
     },
     "metadata": {},
     "output_type": "display_data"
    },
    {
     "name": "stdout",
     "output_type": "stream",
     "text": [
      "\n"
     ]
    }
   ],
   "source": [
    "splits_pbar = tqdm(zip([val_pairs, trn_pairs, tst_pairs],\n",
    "                       [val_audiodata_dir, trn_audiodata_dir, tst_audiodata_dir],\n",
    "                       ['val', 'trn', 'tst']))\n",
    "\n",
    "for splitpairs, splitaudiodatadir, name in splits_pbar:\n",
    "    params = [(afp, splitaudiodatadir, \n",
    "               out_format, out_samplerate, \n",
    "               out_channels, out_channels_split) \n",
    "              for afp, _ in splitpairs]\n",
    "    files_pbar = tqdm(total=len(params))\n",
    "    for fn in p.imap_unordered(export_audiofile_split, params):\n",
    "        files_pbar.update()\n",
    "        files_pbar.set_description(fn)\n",
    "    files_pbar.close()\n",
    "    splits.set_description(name)\n",
    "    \n",
    "splits_pbar.close()"
   ]
  },
  {
   "cell_type": "code",
   "execution_count": 107,
   "metadata": {
    "ExecuteTime": {
     "end_time": "2017-03-23T23:05:28.659027Z",
     "start_time": "2017-03-24T00:05:28.655352+01:00"
    },
    "collapsed": true
   },
   "outputs": [],
   "source": [
    "p = None"
   ]
  },
  {
   "cell_type": "markdown",
   "metadata": {},
   "source": [
    "## Confirm all files in the splits are as expected"
   ]
  },
  {
   "cell_type": "code",
   "execution_count": 113,
   "metadata": {
    "ExecuteTime": {
     "end_time": "2017-03-23T23:30:27.635282Z",
     "start_time": "2017-03-24T00:30:27.597408+01:00"
    },
    "collapsed": false
   },
   "outputs": [],
   "source": [
    "# val split\n",
    "\n",
    "val_afns = sorted([os.path.basename(afp).split('.')[0] for afp, _ in val_pairs])\n",
    "val_lfns = sorted([os.path.basename(lfp).split('.')[0] for _, lfp in val_pairs])\n",
    "\n",
    "val_xafps = glob.glob(os.path.join(val_audiodata_dir, \"**\", \"*.{}\".format(out_format)))\n",
    "val_xlfps = glob.glob(os.path.join(val_labeldata_dir, \"**\", \"*.txt\"))\n",
    "\n",
    "val_xafns = sorted([os.path.basename(xafp).split('.')[0] for xafp in val_xafps])\n",
    "val_xlfns = sorted([os.path.basename(xlfp).split('.')[0] for xlfp in val_xlfps])\n",
    "\n",
    "# check all calls were exported / copied\n",
    "assert len(val_afns) == len(val_xafns), \"Mismatched number of audio files\"\n",
    "assert len(val_lfns) == len(val_xlfns), \"Mismatched number of label files\"\n",
    "\n",
    "assert set(val_afns) == set(val_xafns), \"Mismatched in sets of audio files\"\n",
    "assert set(val_lfns) == set(val_xlfns), \"Mismatched in sets of label files\"\n",
    "\n",
    "# check all exported audios have the correct formatting\n",
    "\n",
    "val_audiometa = list(map(au.get_audio_metadata, val_xafps))\n",
    "\n",
    "assert all(map(lambda m: m.format == out_format, \n",
    "               val_audiometa)), \"exported audio format is not {} for all\".format(out_format)\n",
    "assert all(map(lambda m: m.samplerate == out_samplerate, \n",
    "               val_audiometa)), \"exported audio samplerate is not {} for all\".format(out_samplerate)\n",
    "assert all(map(lambda m: m.nchannels == out_channels, \n",
    "               val_audiometa)), \"exported audio nchannels is not {} for all\".format(out_channels)\n",
    "\n",
    "# ALL OKAY IF NO ASSERTION ERRORS"
   ]
  },
  {
   "cell_type": "code",
   "execution_count": 114,
   "metadata": {
    "ExecuteTime": {
     "end_time": "2017-03-23T23:30:44.534015Z",
     "start_time": "2017-03-24T00:30:44.236568+01:00"
    },
    "collapsed": true
   },
   "outputs": [],
   "source": [
    "# trn split\n",
    "\n",
    "trn_afns = sorted([os.path.basename(afp).split('.')[0] for afp, _ in trn_pairs])\n",
    "trn_lfns = sorted([os.path.basename(lfp).split('.')[0] for _, lfp in trn_pairs])\n",
    "\n",
    "trn_xafps = glob.glob(os.path.join(trn_audiodata_dir, \"**\", \"*.{}\".format(out_format)))\n",
    "trn_xlfps = glob.glob(os.path.join(trn_labeldata_dir, \"**\", \"*.txt\"))\n",
    "\n",
    "trn_xafns = sorted([os.path.basename(xafp).split('.')[0] for xafp in trn_xafps])\n",
    "trn_xlfns = sorted([os.path.basename(xlfp).split('.')[0] for xlfp in trn_xlfps])\n",
    "\n",
    "# check all calls were exported / copied\n",
    "assert len(trn_afns) == len(trn_xafns), \"Mismatched number of audio files\"\n",
    "assert len(trn_lfns) == len(trn_xlfns), \"Mismatched number of label files\"\n",
    "\n",
    "assert set(trn_afns) == set(trn_xafns), \"Mismatched in sets of audio files\"\n",
    "assert set(trn_lfns) == set(trn_xlfns), \"Mismatched in sets of label files\"\n",
    "\n",
    "# check all exported audios have the correct formatting\n",
    "\n",
    "trn_audiometa = list(map(au.get_audio_metadata, trn_xafps))\n",
    "\n",
    "assert all(map(lambda m: m.format == out_format, \n",
    "               trn_audiometa)), \"exported audio format is not {} for all\".format(out_format)\n",
    "assert all(map(lambda m: m.samplerate == out_samplerate, \n",
    "               trn_audiometa)), \"exported audio samplerate is not {} for all\".format(out_samplerate)\n",
    "assert all(map(lambda m: m.nchannels == out_channels, \n",
    "               trn_audiometa)), \"exported audio nchannels is not {} for all\".format(out_channels)\n",
    "\n",
    "# ALL OKAY IF NO ASSERTION ERRORS\n"
   ]
  },
  {
   "cell_type": "code",
   "execution_count": 115,
   "metadata": {
    "ExecuteTime": {
     "end_time": "2017-03-23T23:30:57.818142Z",
     "start_time": "2017-03-24T00:30:57.787240+01:00"
    },
    "collapsed": true
   },
   "outputs": [],
   "source": [
    "# tst split\n",
    "\n",
    "tst_afns = sorted([os.path.basename(afp).split('.')[0] for afp, _ in tst_pairs])\n",
    "tst_lfns = sorted([os.path.basename(lfp).split('.')[0] for _, lfp in tst_pairs])\n",
    "\n",
    "tst_xafps = glob.glob(os.path.join(tst_audiodata_dir, \"**\", \"*.{}\".format(out_format)))\n",
    "tst_xlfps = glob.glob(os.path.join(tst_labeldata_dir, \"**\", \"*.txt\"))\n",
    "\n",
    "tst_xafns = sorted([os.path.basename(xafp).split('.')[0] for xafp in tst_xafps])\n",
    "tst_xlfns = sorted([os.path.basename(xlfp).split('.')[0] for xlfp in tst_xlfps])\n",
    "\n",
    "# check all calls were exported / copied\n",
    "assert len(tst_afns) == len(tst_xafns), \"Mismatched number of audio files\"\n",
    "assert len(tst_lfns) == len(tst_xlfns), \"Mismatched number of label files\"\n",
    "\n",
    "assert set(tst_afns) == set(tst_xafns), \"Mismatched in sets of audio files\"\n",
    "assert set(tst_lfns) == set(tst_xlfns), \"Mismatched in sets of label files\"\n",
    "\n",
    "# check all exported audios have the correct formatting\n",
    "\n",
    "tst_audiometa = list(map(au.get_audio_metadata, tst_xafps))\n",
    "\n",
    "assert all(map(lambda m: m.format == out_format, \n",
    "               tst_audiometa)), \"exported audio format is not {} for all\".format(out_format)\n",
    "assert all(map(lambda m: m.samplerate == out_samplerate, \n",
    "               tst_audiometa)), \"exported audio samplerate is not {} for all\".format(out_samplerate)\n",
    "assert all(map(lambda m: m.nchannels == out_channels, \n",
    "               tst_audiometa)), \"exported audio nchannels is not {} for all\".format(out_channels)\n",
    "\n",
    "# ALL OKAY IF NO ASSERTION ERRORS\n"
   ]
  },
  {
   "cell_type": "markdown",
   "metadata": {},
   "source": [
    "### Results\n",
    "\n",
    "- All labels were copied\n",
    "- All audio files were converted to 8kHz wav files with 1 channel formed on merging the two channels in original"
   ]
  },
  {
   "cell_type": "code",
   "execution_count": null,
   "metadata": {
    "collapsed": true
   },
   "outputs": [],
   "source": []
  }
 ],
 "metadata": {
  "hide_input": false,
  "kernelspec": {
   "display_name": "Python [conda env:r3]",
   "language": "python",
   "name": "conda-env-r3-py"
  },
  "language_info": {
   "codemirror_mode": {
    "name": "ipython",
    "version": 3
   },
   "file_extension": ".py",
   "mimetype": "text/x-python",
   "name": "python",
   "nbconvert_exporter": "python",
   "pygments_lexer": "ipython3",
   "version": "3.5.3"
  },
  "toc": {
   "nav_menu": {
    "height": "336px",
    "width": "252px"
   },
   "navigate_menu": true,
   "number_sections": true,
   "sideBar": true,
   "threshold": 4,
   "toc_cell": false,
   "toc_position": {
    "height": "952px",
    "left": "0px",
    "right": "1064px",
    "top": "32px",
    "width": "410px"
   },
   "toc_section_display": "block",
   "toc_window_display": false
  }
 },
 "nbformat": 4,
 "nbformat_minor": 2
}

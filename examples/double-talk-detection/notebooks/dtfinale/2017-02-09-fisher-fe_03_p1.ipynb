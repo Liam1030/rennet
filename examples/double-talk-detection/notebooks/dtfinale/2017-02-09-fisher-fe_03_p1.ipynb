{
 "cells": [
  {
   "cell_type": "markdown",
   "metadata": {},
   "source": [
    "# Analysis of raw dataset fisher/fe_03_p1"
   ]
  },
  {
   "cell_type": "markdown",
   "metadata": {},
   "source": [
    "## Where does the data come from?\n",
    "\n",
    "The corpus is the first half of a collection of conversational telephone speech (CTS) created at LDC during 2003.\n",
    "\n",
    "It contains **5850** audio files, each with one full conversation of **upto 10 minutes** between **2 participants**.\n",
    "\n",
    "**Origin Location on disk**\n",
    "\n",
    "- AUDIO\n",
    "    + `/nm-raid/audio/data/corpora/LDC/fisher_eng_tr_sp_LDC2004S13/fisher_eng_tr_sp_LDC2004S13.zip`\n",
    "- LABELS\n",
    "    + `/nm-raid/audio/data/corpora/LDC/Other/LDC2004T19.tgz`\n",
    "    \n",
    "The raw files were copied into `$RENNET_ROOT/data/raw/fisher/fe_03_p1/`\n",
    "\n",
    "The audio files are NIST Sphere files (.sph), with two channels, one per speaker, (0: A, 1: B). \n",
    "The files are grouped into directories of a 100 files each, while the groups are available on 7 different discs.\n",
    "The `filetable.txt` has complete listing of all the files in this part of the dataset, including the gender of the speakers.\n",
    "\n",
    "The labels come in two forms: One that was extracted in an automated way marking speech parts, in `data/bbn_orig/`.\n",
    "The relevant transcription is in `data/trans/`, which are txt files in groups of 100 files as above.\n",
    "The labels are however not divided based on discs.\n",
    "The `doc` folder has useful readmes and metadata for the recordings, with more information about the conversation and the speakers involved."
   ]
  },
  {
   "cell_type": "markdown",
   "metadata": {},
   "source": [
    "## Copying files to `working` folder\n",
    "\n",
    "The copy was done **manually**, to `$RENNET_ROOT/data/working/fisher/fe_03_p1/raw` with the following modifications.\n",
    "\n",
    "- `audio`\n",
    "    + has the readme file, and the `filetable.txt` with list of all audio files, and corresponding speaker genders\n",
    "    + `data/disc1` to `data/disc7` with grouped audio sph files, each group having roughly a hundred of them.\n",
    "        * the groups are named based on the first 3 digits of the conversation IDs of the files in them.\n",
    "- `labels`\n",
    "    + has readmes and doc files with more info about the transcriptions and the metadata in the same folder\n",
    "        * `fe_03_p1_calldata.tbl` has most of the relevant speaker and annotation metadata\n",
    "        * `fe_03_pindata.tbl` has deeper information about the speaker themselves.\n",
    "        * `fe_03_topics.sgm` is an xml like file with the information about the topics of conversation, referred in the `calldata` file\n",
    "    + Same as above, `data/disc1` to `data/disc7` with grouped transcription txt files, each group having roughly a hundred of them.\n",
    "        * the groups are named based on the first 3 digits of the conversation IDs of the files in them."
   ]
  },
  {
   "cell_type": "code",
   "execution_count": 1,
   "metadata": {
    "ExecuteTime": {
     "end_time": "2017-02-09T18:01:39.085335",
     "start_time": "2017-02-09T18:01:39.070391"
    },
    "collapsed": true
   },
   "outputs": [],
   "source": [
    "from __future__ import print_function, division\n",
    "\n",
    "import os\n",
    "import sys\n",
    "\n",
    "rennet_root = os.environ['RENNET_ROOT']\n",
    "sys.path.append(rennet_root)\n",
    "\n",
    "%load_ext autoreload\n",
    "%autoreload 1"
   ]
  },
  {
   "cell_type": "markdown",
   "metadata": {},
   "source": [
    "## Gather all media filepaths and labels\n",
    "\n",
    "> **NOTE:**\n",
    ">\n",
    "> If it is not clear by now, we will be, from now on, working exclusively with the working directory we created earlier. Keep that in mind for all the instructions to come.\n",
    "\n"
   ]
  },
  {
   "cell_type": "code",
   "execution_count": 10,
   "metadata": {
    "ExecuteTime": {
     "end_time": "2017-02-09T18:11:07.829741",
     "start_time": "2017-02-09T18:11:07.735875"
    },
    "collapsed": false
   },
   "outputs": [
    {
     "name": "stdout",
     "output_type": "stream",
     "text": [
      "Query:  /home/aabdullah/delve/rennet/data/working/fisher/fe_03_p1/raw/audio/data/**/*.*\n",
      "Found audio files: 5850\n",
      "/home/aabdullah/delve/rennet/data/working/fisher/fe_03_p1/raw/audio/data/disc1/000/fe_03_00001.sph\n",
      "/home/aabdullah/delve/rennet/data/working/fisher/fe_03_p1/raw/audio/data/disc1/000/fe_03_00002.sph\n",
      "/home/aabdullah/delve/rennet/data/working/fisher/fe_03_p1/raw/audio/data/disc1/000/fe_03_00003.sph\n",
      "/home/aabdullah/delve/rennet/data/working/fisher/fe_03_p1/raw/audio/data/disc1/000/fe_03_00004.sph\n",
      "/home/aabdullah/delve/rennet/data/working/fisher/fe_03_p1/raw/audio/data/disc1/000/fe_03_00005.sph\n",
      "/home/aabdullah/delve/rennet/data/working/fisher/fe_03_p1/raw/audio/data/disc1/000/fe_03_00006.sph\n",
      "/home/aabdullah/delve/rennet/data/working/fisher/fe_03_p1/raw/audio/data/disc1/000/fe_03_00007.sph\n",
      "/home/aabdullah/delve/rennet/data/working/fisher/fe_03_p1/raw/audio/data/disc1/000/fe_03_00008.sph\n",
      "/home/aabdullah/delve/rennet/data/working/fisher/fe_03_p1/raw/audio/data/disc1/000/fe_03_00009.sph\n",
      "/home/aabdullah/delve/rennet/data/working/fisher/fe_03_p1/raw/audio/data/disc1/000/fe_03_00010.sph\n",
      "...\n"
     ]
    }
   ],
   "source": [
    "# Finding audio files\n",
    "import glob\n",
    "\n",
    "# UPDATE HERE ###############################################################\n",
    "\n",
    "rennet_workingdir = os.path.join(rennet_root, 'data', 'working')\n",
    "\n",
    "provider = 'fisher'\n",
    "dataset = 'fe_03_p1'\n",
    "working_rawaudio_dir = os.path.join(rennet_workingdir, provider, dataset, \n",
    "                                    'raw', 'audio', 'data')\n",
    "\n",
    "glob_str = str(os.path.join(working_rawaudio_dir, \"**\", \"*.*\"))\n",
    "\n",
    "# ###########################################################################\n",
    "\n",
    "print(\"Query: \", glob_str)\n",
    "audio_fp = sorted(list(glob.iglob(glob_str, recursive=True)))\n",
    "\n",
    "print(\"Found audio files: {}\".format(len(audio_fp)), *audio_fp[:10], \"...\", sep=\"\\n\")"
   ]
  },
  {
   "cell_type": "code",
   "execution_count": 13,
   "metadata": {
    "ExecuteTime": {
     "end_time": "2017-02-09T18:12:58.694303",
     "start_time": "2017-02-09T18:12:58.599689"
    },
    "collapsed": false
   },
   "outputs": [
    {
     "name": "stdout",
     "output_type": "stream",
     "text": [
      "Query:  /home/aabdullah/delve/rennet/data/working/fisher/fe_03_p1/raw/labels/data/**/*.*\n",
      "Found transcription files: 5850\n",
      "/home/aabdullah/delve/rennet/data/working/fisher/fe_03_p1/raw/labels/data/disc1/000/fe_03_00001.txt\n",
      "/home/aabdullah/delve/rennet/data/working/fisher/fe_03_p1/raw/labels/data/disc1/000/fe_03_00002.txt\n",
      "/home/aabdullah/delve/rennet/data/working/fisher/fe_03_p1/raw/labels/data/disc1/000/fe_03_00003.txt\n",
      "/home/aabdullah/delve/rennet/data/working/fisher/fe_03_p1/raw/labels/data/disc1/000/fe_03_00004.txt\n",
      "/home/aabdullah/delve/rennet/data/working/fisher/fe_03_p1/raw/labels/data/disc1/000/fe_03_00005.txt\n",
      "/home/aabdullah/delve/rennet/data/working/fisher/fe_03_p1/raw/labels/data/disc1/000/fe_03_00006.txt\n",
      "/home/aabdullah/delve/rennet/data/working/fisher/fe_03_p1/raw/labels/data/disc1/000/fe_03_00007.txt\n",
      "/home/aabdullah/delve/rennet/data/working/fisher/fe_03_p1/raw/labels/data/disc1/000/fe_03_00008.txt\n",
      "/home/aabdullah/delve/rennet/data/working/fisher/fe_03_p1/raw/labels/data/disc1/000/fe_03_00009.txt\n",
      "/home/aabdullah/delve/rennet/data/working/fisher/fe_03_p1/raw/labels/data/disc1/000/fe_03_00010.txt\n",
      "...\n"
     ]
    }
   ],
   "source": [
    "# Finding label files\n",
    "\n",
    "# UPDATE HERE ###############################################################\n",
    "\n",
    "working_rawlabel_dir = os.path.join(rennet_workingdir, provider, dataset, \n",
    "                                    'raw', 'labels', 'data')\n",
    "\n",
    "glob_str = str(os.path.join(working_rawlabel_dir, \"**\", \"*.*\"))\n",
    "\n",
    "# ###########################################################################\n",
    "\n",
    "print(\"Query: \", glob_str)\n",
    "label_fp = sorted(list(glob.iglob(glob_str, recursive=True)))\n",
    "\n",
    "print(\"Found transcription files: {}\".format(len(label_fp)), *label_fp[:10], \"...\", sep=\"\\n\")"
   ]
  },
  {
   "cell_type": "code",
   "execution_count": null,
   "metadata": {
    "collapsed": true
   },
   "outputs": [],
   "source": [
    "# Reading the calldata.tbl file for metadata"
   ]
  },
  {
   "cell_type": "code",
   "execution_count": null,
   "metadata": {
    "collapsed": true
   },
   "outputs": [],
   "source": []
  },
  {
   "cell_type": "code",
   "execution_count": null,
   "metadata": {
    "collapsed": true
   },
   "outputs": [],
   "source": []
  },
  {
   "cell_type": "code",
   "execution_count": null,
   "metadata": {
    "collapsed": true
   },
   "outputs": [],
   "source": []
  },
  {
   "cell_type": "code",
   "execution_count": null,
   "metadata": {
    "collapsed": true
   },
   "outputs": [],
   "source": []
  }
 ],
 "metadata": {
  "anaconda-cloud": {},
  "kernelspec": {
   "display_name": "Python [conda root]",
   "language": "python",
   "name": "conda-root-py"
  },
  "language_info": {
   "codemirror_mode": {
    "name": "ipython",
    "version": 3
   },
   "file_extension": ".py",
   "mimetype": "text/x-python",
   "name": "python",
   "nbconvert_exporter": "python",
   "pygments_lexer": "ipython3",
   "version": "3.5.2"
  },
  "latex_envs": {
   "bibliofile": "biblio.bib",
   "cite_by": "apalike",
   "current_citInitial": 1,
   "eqLabelWithNumbers": true,
   "eqNumInitial": 0
  },
  "nav_menu": {},
  "toc": {
   "navigate_menu": true,
   "number_sections": true,
   "sideBar": true,
   "threshold": 6,
   "toc_cell": false,
   "toc_section_display": "block",
   "toc_window_display": false
  }
 },
 "nbformat": 4,
 "nbformat_minor": 1
}
